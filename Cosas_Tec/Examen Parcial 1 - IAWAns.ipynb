{
 "cells": [
  {
   "attachments": {
    "imagen.png": {
     "image/png": "[encoded data removed]"
    }
   },
   "cell_type": "markdown",
   "metadata": {},
   "source": [
    "![imagen.png](attachment:imagen.png)"
   ]
  },
  {
   "cell_type": "markdown",
   "metadata": {},
   "source": [
    "<h1><center>Campus Ciudad de México, \n",
    "Escuela Ingeniería y Ciencias, \n",
    "Computación</center></h1>\n",
    "\n",
    "<h3><center>Course: TC2010.500 (Intelligent Systems)</center>\n",
    "<center>Professor: Mauricio Rosales Rivera</center>\n",
    "<center>First Partial Evaluation</center></h3>\n",
    "    \n",
    "<h3><center>Date: September 11, 2020</center></h3>\n",
    "\n",
    "---\n",
    "\n",
    "<h3>Grade: </h3>\n",
    "\n",
    "---\n",
    "<h4><center>Student's information</center></h4>\n",
    "<h4>Name:</h4>\n",
    "<h4>Student ID:</h4>"
   ]
  },
  {
   "cell_type": "markdown",
   "metadata": {},
   "source": [
    "$$Apegándome al Código de Ética de los Estudiantes del Tecnológico de Monterrey, me comprometo a que mi actuación en este examen esté regida por la honestidad académica. En congruencia con el compromiso adquirido al firmar dicho código, realizaré este examen de forma honesta y personal, para reflejar, a través de él, mi conocimiento y aceptar, posteriormente, la evaluación obtenida.$$"
   ]
  },
  {
   "cell_type": "markdown",
   "metadata": {},
   "source": [
    "# Examen Parcial 1 - Inteligencia Artificial\n",
    "\n",
    "---\n",
    "\n",
    "Inidicaciones: El examen consta de preguntas y ejercicios, las cuales abordan los temas vistos en los Módulos 1 y 2.\n",
    "\n",
    "En la parte teórica, se evaluará la correcta descripción de los términos.\n",
    "Nota: las siguientes preguntas, algunas serán de opción múltiple, otras de Cierto o Falso (y complementando la respuesta) y algunas serán abiertas. En caso de pedir seleccionar la respuesta, marque con ' ** ** ' para hacer negrilla la respuesta(s) seleccionada(s).\n",
    "\n",
    "En la parte práctica, se evalua que el código funcione y se logren los objetivos\n",
    "\n",
    "Fecha de liberación del examen: Viernes 11 de septiembre a partir de medio día.\n",
    "Fecha límite de entrega: Viernes 18 de septiembre hasta las 23:59 hrs\n",
    "\n",
    "Esta notebook deberá contener el nombre completo, matrícula y el link correspondiente al GitHub de cada integrante.\n",
    "\n",
    "En caso de no tener la información aquí solicitada, no se evaluará el examen."
   ]
  },
  {
   "cell_type": "markdown",
   "metadata": {},
   "source": [
    "---\n",
    "# Sección 1\n",
    "\n",
    "### (10 puntos)\n",
    "\n",
    "---"
   ]
  },
  {
   "cell_type": "markdown",
   "metadata": {},
   "source": [
    "#### P1.- El campo de la inteligencia artificial solamente trata de entender las entidades inteligentes ¿Cierto o Falso?  ¿Porqué?\n",
    "(Valor: 1 Punto)"
   ]
  },
  {
   "cell_type": "markdown",
   "metadata": {},
   "source": [
    "Falso, la inteligencia artificial no solamente trata de entender, sino que trata de construir entidades inteligentes"
   ]
  },
  {
   "cell_type": "markdown",
   "metadata": {},
   "source": [
    "#### P2.- ¿Qué es la inteligencia artificial?\n",
    "(Valor: 1 Punto)"
   ]
  },
  {
   "cell_type": "markdown",
   "metadata": {},
   "source": [
    "A) Aquella que hace posible que los agentes aprendan, ajustando sus actuarios para que caminen como humanos\n",
    "\n",
    "B) Aquella que hace posible que las máquinas tomen decisiones y desempeñen ejercicios como humanos\n",
    "\n",
    "C) Aquella que hace posible que las máquinas aprendan de la inexperiencia y se ajusten al ambiente\n",
    "\n",
    "**D) Aquella que hace posible que las máquinas aprendan de la experiencia, se ajusten y puedan desempeñar tareas como humanos**"
   ]
  },
  {
   "cell_type": "markdown",
   "metadata": {},
   "source": [
    "#### P3.- ¿Las máquinas ajustan sus respuestas basadas en sus entradas actuales? ¿Cierto o Falso? ¿Porqué?\n",
    "(Valor: 1 Punto)"
   ]
  },
  {
   "cell_type": "markdown",
   "metadata": {},
   "source": [
    "Falso, porque las máquinas ajustan sus respuetas basadas en nuevas entradas para desempeñar tareas como los humanos al procesar grandes cantidades de datos y reconocer patrones a partir de ellos."
   ]
  },
  {
   "cell_type": "markdown",
   "metadata": {},
   "source": [
    "#### P4.- La inteligencia artificial se puede clasificar en 4 categorías, selecciona la respuesta correcta:\n",
    "\n",
    "(Valor: 1 Punto)"
   ]
  },
  {
   "cell_type": "markdown",
   "metadata": {},
   "source": [
    "A) Pensar de forma humana, Pensar racionalmente, Actuar racionalmente y Actuar de forma homúncula.\n",
    "\n",
    "B) Pensar de forma humuna, Pensar racionalmente, Actuar racionalmente y Actuar de forma humana.\n",
    "\n",
    "**C) Pensar de forma humana, Pensar racionalmente, Actuar racionalmente y Actuar de forma humana.**\n",
    "\n",
    "D) Pensar de forma humana, Pensar irracionalmente, Actuar racionalmente y Actuar de forma homúncula."
   ]
  },
  {
   "cell_type": "markdown",
   "metadata": {},
   "source": [
    "#### P5.- ¿Cómo es que el humano piensa?\n",
    "\n",
    "(Valor: 1 Punto)"
   ]
  },
  {
   "cell_type": "markdown",
   "metadata": {},
   "source": [
    "A través de la introspeccion, experimentos psicológicos y la imaginación del cerebro."
   ]
  },
  {
   "cell_type": "markdown",
   "metadata": {},
   "source": [
    "#### P6.- En el pensamiento racional, ¿qué son los silogismos?\n",
    "\n",
    "(Valor: 1 Punto)"
   ]
  },
  {
   "cell_type": "markdown",
   "metadata": {},
   "source": [
    "Los silogismos proporcionan patrones para estructuras argumentativas que siempre llevan a conclusiones correctas cuando se dan premisas correctas."
   ]
  },
  {
   "cell_type": "markdown",
   "metadata": {},
   "source": [
    "#### P7.- Procesamiento de lenguaje natural, representación del conocimiento, razonamiento automático... son ejemplos de ?\n",
    "\n",
    "(Valor: 1 Punto)"
   ]
  },
  {
   "cell_type": "markdown",
   "metadata": {},
   "source": [
    "Del actuar del ser humano"
   ]
  },
  {
   "cell_type": "markdown",
   "metadata": {},
   "source": [
    "#### P8.- De la acción racional, que se espera que los agentes computacionales realicen?\n",
    "\n",
    "(Valor: 1 Punto)"
   ]
  },
  {
   "cell_type": "markdown",
   "metadata": {},
   "source": [
    "Que puedan operar de forma autonoma, percibir su ambiente, persistir sobre un periodo de tiempo prolongado, adaptarse al cambio y crear y perseguir objetivos."
   ]
  },
  {
   "cell_type": "markdown",
   "metadata": {},
   "source": [
    "#### P9.- El aprendizaje no supervisado se puede dividir en 2 categorías de problemas: Agrupamiento y Asociación. ¿Cúal es la diferencia entre ellas?\n",
    "\n",
    "(Valor: 1 Punto)"
   ]
  },
  {
   "cell_type": "markdown",
   "metadata": {},
   "source": [
    "Los primeros se trata de descubrir los grupos inherentes en los datos, tal como grupos de compradores para una mercancia. Mientras que el de asociación se trata de descubrir reglas que describan los datos"
   ]
  },
  {
   "cell_type": "markdown",
   "metadata": {},
   "source": [
    "#### P10.- ¿Diferencia entre Inteligencia Artificial y Aprendizaje Máquina?\n",
    "\n",
    "(Valor: 1 Punto)"
   ]
  },
  {
   "cell_type": "markdown",
   "metadata": {},
   "source": [
    "AI es un concepto más grande para crear máquinas inteligentes que puedan mimetizar el comportamiento del ser humano, mientras que ML es una aplicación o subconjunto de AI que usa métodos estadísticos para habilitar a las máquinas la posibilidad de mejorar con la experiencia."
   ]
  },
  {
   "cell_type": "markdown",
   "metadata": {},
   "source": [
    "---\n",
    "---\n",
    "\n",
    "# Sección 2\n",
    "\n",
    "### (21 puntos)\n",
    "\n",
    "---"
   ]
  },
  {
   "cell_type": "markdown",
   "metadata": {},
   "source": [
    "#### P1.- ¿Qué es un agente?\n",
    "\n",
    "(Valor: 1 Punto)"
   ]
  },
  {
   "cell_type": "markdown",
   "metadata": {},
   "source": [
    "Un agente es cualquier cosa que pueda verse como que percibe su entorno a través de sensores y actúa sobre ese entorno a través de actuadores."
   ]
  },
  {
   "cell_type": "markdown",
   "metadata": {},
   "source": [
    "#### P2.- ¿Diferencia entre agente humano, robótico y de software?\n",
    "\n",
    "(Valor: 1 Punto)"
   ]
  },
  {
   "cell_type": "markdown",
   "metadata": {},
   "source": [
    "Un agente humano tiene ojos, oídos y otros organos como sensores y manos, piernas, tracto vocal, etc como actuarios.\n",
    "\n",
    "Un agente robótico puede tener cámaras y sensores infrarojos como sensores y varios motores como actuarios.\n",
    "\n",
    "Un agente de software recibe información como entradas a sus \"sensores\" y actua en el ambiente al desplegar en el monitor, escribir archivos y enviar paquetes en la red."
   ]
  },
  {
   "cell_type": "markdown",
   "metadata": {},
   "source": [
    "#### P3.- Menciona que significa PEAS. Proporciona al menos 3 ejemplos de agentes y sus PEAS correspondientes.\n",
    "\n",
    "(Valor: 1 Puntos)"
   ]
  },
  {
   "cell_type": "markdown",
   "metadata": {},
   "source": [
    "PEAS = Performance Measuer, Environment, Actuators, Sensors\n",
    "\n",
    "Ejemplos: \n",
    "    \n",
    "* Sistema de diagnostico médico: Paciente sano, paciente, pruebas, respuestas de paciente\n",
    "\n",
    "* Control de refinería: Pureza, Refinería, Válvulas, Temperatura\n",
    "\n",
    "* Tutor de inglés interactivo: Calificación estudiante, estudiantes, Ejercicios, Entradas de teclado"
   ]
  },
  {
   "cell_type": "markdown",
   "metadata": {},
   "source": [
    "#### P4.- Menciona las diferencias entre los ambientes completamente y parcialmente observables.\n",
    "\n",
    "(Valor: 1 Punto)"
   ]
  },
  {
   "cell_type": "markdown",
   "metadata": {},
   "source": [
    "El ambiente completamente observable es donde los sensores del agente detectan todas las opciones relevantes para realizar una acción.\n",
    "\n",
    "El ambiente parcialmente observable es donde parte de los estados faltan del sensor de datos."
   ]
  },
  {
   "cell_type": "markdown",
   "metadata": {},
   "source": [
    "#### P5.- Proporciona 4 ejemplos de tareas en los diferentes tipos de ambientes ambientes (recordemos que hay 10 aproximadamente: Estocástico, Determinista, Secuencial, etc...), considerando lo siguiente:\n",
    "\n",
    "##### Observable, Tipo de Agente (Sencillo o Múltiple), Tipo de ambiente\n",
    "(Valor: 1 Punto)"
   ]
  },
  {
   "cell_type": "markdown",
   "metadata": {},
   "source": [
    "* Crucigrama - Completo, Sencillo, Determinista, Secuencial, Estático, Discreto\n",
    "* Poker - Parcial, Multi, Stochastic, Secuencial, Estático, Discreto\n",
    "* Taxi driving - Parcial, Multi, Stochasteic, Secuencial, Dinámico, Continuo\n",
    "* Análisis de Imagen - Completo, Sencillo, Determinista, Episódico, Semi, Continuo"
   ]
  },
  {
   "cell_type": "markdown",
   "metadata": {},
   "source": [
    "#### P6.- ¿Cuáles son las arquitecturas de los agentes?\n",
    "(Valor: 1 Punto)\n"
   ]
  },
  {
   "cell_type": "markdown",
   "metadata": {},
   "source": [
    "A) Agente de reflejo simple, basado en modelos, basado en obgetivos, basado en utilidad.\n",
    "\n",
    "B) Agente de reflejo multiple, basado en modelos, basado en objetivos, basado en utilidad.\n",
    "\n",
    "**C) Agente de reflejo simple, basado en modelos, basado en objetivos, basado en utilidad.**\n",
    "\n",
    "D) Agente de reflejo simple, basado en modelos, basado en objetivos, basado en utilida."
   ]
  },
  {
   "cell_type": "markdown",
   "metadata": {},
   "source": [
    "#### P7.- Menciona las diferencias entre los 4 agentes anteriores\n",
    "(Valor: 2 Puntos)"
   ]
  },
  {
   "cell_type": "markdown",
   "metadata": {},
   "source": [
    "* El agente de reflejo simple actúa encontrando una regla cuya condición coincida con la situación actual (definida por la percepción) y efectuando la acción que corresponda a tal regla.\n",
    "\n",
    "* El agente de reflejo basado en modelos es similar al comportamiento del Agente de Reflejo Simple, pero en este tipo de agentes se establece de mejor forma la información para tomar mejores decisiones al momento de actuar.\n",
    "\n",
    "* El agente basado en objetivos para decidir que hay que hacer, además de una descripción del estado prevaleciente, también requiere información sobre su meta, información que detalla las situaciones deseables. La búsqueda y la planificación, son los subcampos de la inteligencia artificial que se ocupa de encontrar las secuencias de acciones que permiten alcanzar las metas de un agente.\n",
    "\n",
    "* Y el agente basado en utilidad correlaciona un estado y un número real que corresponde al grado de satisfacción. La utilidad permite la toma de decisiones racionales cuando la meta tiene problemas. "
   ]
  },
  {
   "cell_type": "markdown",
   "metadata": {},
   "source": [
    "#### P8.- ¿Qué son los algoritmos de búsqueda?, ¿cuáles son los elementos que la comprenden?\n",
    "(Valor: 2 Puntos)"
   ]
  },
  {
   "cell_type": "markdown",
   "metadata": {},
   "source": [
    "Las técnicas de búsqueda son una serie de esquemas de representación del conocimiento, que mediante diversos algoritmos nos permite resolver ciertos problemas desde el punto de vista de la I.A.\n",
    "\n",
    "#### Elementos de la busqueda.\n",
    "\n",
    "    • Conjunto de estados: todas las configuraciones posibles en el dominio.\n",
    "    • Estados iniciales: estados desde los que partimos.\n",
    "    • Estados finales: las soluciones del problema.\n",
    "    • Operadores: se aplican para pasar de un estado a otro."
   ]
  },
  {
   "cell_type": "markdown",
   "metadata": {},
   "source": [
    "#### P9.- Menciona las diferencias entre búsqueda no informada e informada\n",
    "(Valor: 2 Puntos)"
   ]
  },
  {
   "cell_type": "markdown",
   "metadata": {},
   "source": [
    "La búsqueda no informada sólo utiliza información acerca de si un estado es o no objetivo para guiar su proceso de búsqueda. No cuentan con ningún conocimiento sobre cómo llegar al objetivo!\n",
    "\n",
    "La búsqueda informada utiliza el coste de los caminos explorados para saber qué nodos merecen la pena explorar antes que otros. De esta manera, perderemos la sistematicidad de los algoritmos de búsqueda no informada, y el orden de visita de los estados no vendrá determinado por su posición en el grafo de búsqueda, sino por su coste respecto del problema real que intentan resolver."
   ]
  },
  {
   "cell_type": "markdown",
   "metadata": {},
   "source": [
    "#### P10.- Describe el algoritmo de Hill Climbing y cómo funciona  de forma general\n",
    "(Valor: 3 Puntos)"
   ]
  },
  {
   "cell_type": "markdown",
   "metadata": {},
   "source": [
    "Hill Climbing es una busqueda heurística utilizada para problemas de optimización. Dado un gran conjunto de entradas y una buena heurística, trata de encontrar una solución lo suficientemente buena para el problema. Esta solución puede ser o no ser un óptimo global.\n",
    "\n",
    "![img](https://2.bp.blogspot.com/-e8I9DIhPol4/Vaw0iUSHAUI/AAAAAAAABpY/72nIZSqPSXY/w1200-h630-p-k-no-nu/h3.PNG)\n",
    "\n",
    "Regresando al buen algoritmo de Hill Climbing, funciona de la siguiente manera:\n",
    "\n",
    "- Evaluamos el estado inicial. \n",
    "- Si es igual al estado final, terminamos...\n",
    "    - Encontremos los estados vecinos (con alguna heurística similar al estado actual)\n",
    "    - Evaluamos este estado. Si está más cerca del estado final que antes, reemplazamos el estado inicial con este estado y repetimos los pasos."
   ]
  },
  {
   "cell_type": "markdown",
   "metadata": {},
   "source": [
    "#### P11.- Describe el algoritmo de Recocido Simulado (Simulated Annealing) y cómo funciona  de forma general\n",
    "(Valor: 3 Puntos)"
   ]
  },
  {
   "cell_type": "markdown",
   "metadata": {},
   "source": [
    "El recocido simulado es similar a este algoritmo, pero en lugar de elegir \"el mejor movimiento\" en cada iteración, selecciona uno al azar. Si este movimiento aleatorio nos acerca al óptimo global, será aceptado, caso contrario, el algoritmo puede aceptar o rechazar el movimiento basado en la probabilidad dictada por la `temperatura`.\n",
    "\n",
    "Cuando la temperatura es alta, el algoritmo básicamente acepta el movimiento aleatorio, aún cuando no sea bueno.\n",
    "\n",
    "A bajas temperaturas, sólo buenos movimientos son aceptados, con alguna que otra excepción. Esto permite la exploración del espacio de estados y previene que el algoritmo se quede atorado en un óptimo local."
   ]
  },
  {
   "cell_type": "markdown",
   "metadata": {},
   "source": [
    "#### P12.- Describe los algoritmos genéticos y cómo funcionan de forma general\n",
    "(Valor: 3 Puntos)"
   ]
  },
  {
   "cell_type": "markdown",
   "metadata": {},
   "source": [
    "Estos algoritmos están inspirados en la evoluación natural y son particularmente útiles en optimización y en problemas de búsqueda con una gran cantidad de estados en el espacio.\n",
    "\n",
    "---\n",
    "\n",
    "Dado un problema, los algoritmos en el dominio hacen uso de una `población de soluciones` (llamados estados...), donde cada solución/estado representa una solución factible.\n",
    "\n",
    "En cada iteración (**generación**), la población se actualiza utilizando métodos inspirados en la biología y la evolución (crossover, mutation, natural selection).\n",
    "\n",
    "---\n",
    "\n",
    "Antes de continuar, veamos la terminología básica.\n",
    "\n",
    "* Individual/State: A list of elements (called *genes*) that represent possible solutions.\n",
    "\n",
    "* Population: The list of all the individuals/states.\n",
    "\n",
    "* Gene pool: The alphabet of possible values for an individual's genes.\n",
    "\n",
    "* Generation/Iteration: The number of times the population will be updated.\n",
    "\n",
    "* Fitness: An individual's score, calculated by a function specific to the problem."
   ]
  },
  {
   "cell_type": "markdown",
   "metadata": {},
   "source": [
    "---\n",
    "---\n",
    "\n",
    "# Sección 3 - Práctico\n",
    "\n",
    "### (70 puntos)\n",
    "\n",
    "---"
   ]
  },
  {
   "cell_type": "markdown",
   "metadata": {},
   "source": [
    "En esta sección se presentan varios códigos donde ustedes deberán completar las línea de código faltantes para que puedan llegar al resultado. \n",
    "\n",
    "----\n",
    "### P1.- Resolución de un **Sudoku**\n",
    "\n",
    "(Valor: 15 Puntos)"
   ]
  },
  {
   "cell_type": "markdown",
   "metadata": {},
   "source": [
    "Definimos dos posibles tableros para la ejecución de los siguientes códigos, donde se aplican algunos de los algoritmos de búqueda visto en clase."
   ]
  },
  {
   "cell_type": "code",
   "execution_count": 1,
   "metadata": {},
   "outputs": [],
   "source": [
    "# Tablero de prueba\n",
    "board1 = [\n",
    "    [1,0,0,0,0,0,0,0,0],\n",
    "    [0,0,0,0,0,0,0,0,0],\n",
    "    [0,0,0,0,0,0,0,0,0],\n",
    "    [0,0,0,1,0,0,0,0,0],\n",
    "    [0,0,0,0,0,0,0,0,0],\n",
    "    [0,0,0,0,0,0,0,0,0],\n",
    "    [0,0,0,0,0,0,1,0,0],\n",
    "    [0,0,0,0,0,0,0,0,0],\n",
    "    [0,0,0,0,0,0,0,0,0]\n",
    "]"
   ]
  },
  {
   "cell_type": "code",
   "execution_count": 2,
   "metadata": {},
   "outputs": [],
   "source": [
    "board2 = [\n",
    "    [7,8,0,4,0,0,1,2,0],\n",
    "    [6,0,0,0,7,5,0,0,9],\n",
    "    [0,0,0,6,0,1,0,7,8],\n",
    "    [0,0,7,0,4,0,2,6,0],\n",
    "    [0,0,1,0,5,0,9,3,0],\n",
    "    [9,0,4,0,6,0,0,0,5],\n",
    "    [0,7,0,3,0,0,0,1,2],\n",
    "    [1,2,0,0,0,7,4,0,0],\n",
    "    [0,4,9,2,0,6,0,0,7]\n",
    "]"
   ]
  },
  {
   "cell_type": "markdown",
   "metadata": {},
   "source": [
    "A partir de las siguientes secciones, deberás completar las líneas faltantes para poder llegar al resultado esperado."
   ]
  },
  {
   "cell_type": "code",
   "execution_count": 3,
   "metadata": {},
   "outputs": [],
   "source": [
    "#Necesitamos definir nuestra función de impresión\n",
    "def print_Table(sudoku):\n",
    "    for i in range(len(sudoku)):\n",
    "        if i % 3 == 0 and i != 0:\n",
    "            print(\"- - - - - - - - - - - - - \")\n",
    "        for j in range(len(sudoku[0])):\n",
    "            if j % 3 == 0 and j != 0:\n",
    "                print(\" | \", end=\"\")\n",
    "            if j == 8:\n",
    "                print(sudoku[i][j])\n",
    "            else:\n",
    "                print(str(sudoku[i][j]) + \" \", end=\"\")"
   ]
  },
  {
   "cell_type": "markdown",
   "metadata": {},
   "source": [
    "De primera instancia, debe existir una función para corroborar que el dato actual sea un 0 para tomar una decisión"
   ]
  },
  {
   "cell_type": "code",
   "execution_count": 4,
   "metadata": {},
   "outputs": [],
   "source": [
    "#Así como el código correspondiente para buscar los 0's definidos\n",
    "def empty_Check(sudoku):\n",
    "    for i in range(len(sudoku)):\n",
    "        for j in range(len(sudoku[0])):\n",
    "            if sudoku[i][j] == 0:\n",
    "                return (i, j)  # row, col\n",
    "    return None"
   ]
  },
  {
   "cell_type": "markdown",
   "metadata": {},
   "source": [
    "#### P2.- Describe el funcionamiento de **Algorithm**.\n",
    "\n",
    "(Valor: 10 puntos extra)"
   ]
  },
  {
   "cell_type": "code",
   "execution_count": 5,
   "metadata": {},
   "outputs": [],
   "source": [
    "def solving(sudoku):\n",
    "    check = empty_Check(sudoku)\n",
    "    if not check:\n",
    "        return True\n",
    "    else:\n",
    "        row, col = check\n",
    "\n",
    "    for i in range(1,10):\n",
    "        if algorithm(sudoku, i, (row, col)):\n",
    "            sudoku[row][col] = i\n",
    "            if solving(sudoku):\n",
    "                return True\n",
    "\n",
    "            sudoku[row][col] = 0\n",
    "\n",
    "    return False"
   ]
  },
  {
   "cell_type": "code",
   "execution_count": 6,
   "metadata": {},
   "outputs": [],
   "source": [
    "def algorithm(sudoku, num, pos):\n",
    "    for i in range(len(sudoku[0])):\n",
    "        if sudoku[pos[0]][i] == num and pos[1] != i:\n",
    "            return False\n",
    "\n",
    "    for i in range(len(sudoku)):\n",
    "        if sudoku[i][pos[1]] == num and pos[0] != i:\n",
    "            return False\n",
    "\n",
    "    # Check box\n",
    "    box_x = pos[1] // 3\n",
    "    box_y = pos[0] // 3\n",
    "\n",
    "    for i in range(box_y*3, box_y*3 + 3):\n",
    "        for j in range(box_x * 3, box_x*3 + 3):\n",
    "            if sudoku[i][j] == num and (i,j) != pos:\n",
    "                return False\n",
    "    return True"
   ]
  },
  {
   "cell_type": "markdown",
   "metadata": {},
   "source": [
    "A continuación, deberás imprimir el tablero inicial, llavar el método correspondiente y de la misma forma, imprimir el resultado."
   ]
  },
  {
   "cell_type": "code",
   "execution_count": 8,
   "metadata": {
    "scrolled": false
   },
   "outputs": [
    {
     "name": "stdout",
     "output_type": "stream",
     "text": [
      "1 2 3  | 4 5 6  | 7 8 9\n",
      "4 5 6  | 7 8 9  | 2 1 3\n",
      "7 8 9  | 2 1 3  | 4 5 6\n",
      "- - - - - - - - - - - - - \n",
      "2 3 4  | 1 6 5  | 8 9 7\n",
      "5 1 7  | 8 9 2  | 3 6 4\n",
      "6 9 8  | 3 4 7  | 5 2 1\n",
      "- - - - - - - - - - - - - \n",
      "3 6 2  | 9 7 8  | 1 4 5\n",
      "8 4 5  | 6 3 1  | 9 7 2\n",
      "9 7 1  | 5 2 4  | 6 3 8\n",
      "___________________\n",
      "___________________\n",
      "___________________\n",
      "___________________\n",
      "1 2 3  | 4 5 6  | 7 8 9\n",
      "4 5 6  | 7 8 9  | 2 1 3\n",
      "7 8 9  | 2 1 3  | 4 5 6\n",
      "- - - - - - - - - - - - - \n",
      "2 3 4  | 1 6 5  | 8 9 7\n",
      "5 1 7  | 8 9 2  | 3 6 4\n",
      "6 9 8  | 3 4 7  | 5 2 1\n",
      "- - - - - - - - - - - - - \n",
      "3 6 2  | 9 7 8  | 1 4 5\n",
      "8 4 5  | 6 3 1  | 9 7 2\n",
      "9 7 1  | 5 2 4  | 6 3 8\n"
     ]
    }
   ],
   "source": [
    "print_Table(board1)\n",
    "solving(board1)\n",
    "print(\"___________________\")\n",
    "print(\"___________________\")\n",
    "print(\"___________________\")\n",
    "print(\"___________________\")\n",
    "print_Table(board1)"
   ]
  },
  {
   "cell_type": "markdown",
   "metadata": {},
   "source": [
    "---\n",
    "En este apartado retomaremos la idea de los agentes inteligentes con las clásicas definiciones de `Nodo`, `Problema` y dos métodos de búsqueda: `BFS`y `DFS`"
   ]
  },
  {
   "cell_type": "markdown",
   "metadata": {},
   "source": [
    "### P3.- Completa los espacios vacios en los códigos\n",
    "\n",
    "(Valor: 10 puntos)"
   ]
  },
  {
   "cell_type": "code",
   "execution_count": 9,
   "metadata": {},
   "outputs": [],
   "source": [
    "class Node:\n",
    "\n",
    "    def __init__(self, state, action=None):\n",
    "        self.state = state\n",
    "        self.action = action\n",
    "\n",
    "    # Use each action to create a new board state\n",
    "    def expand(self, problem):\n",
    "        return [self.child_node(problem, action)\n",
    "                for action in problem.actions(self.state)]\n",
    "\n",
    "    # Return node with new board state\n",
    "    def child_node(self, problem, action):\n",
    "        next = problem.result(self.state, action)\n",
    "        return Node(next, action)"
   ]
  },
  {
   "cell_type": "code",
   "execution_count": 10,
   "metadata": {},
   "outputs": [],
   "source": [
    "from queue import Queue\n",
    "import copy\n",
    "import time\n",
    "\n",
    "class Problem(object):\n",
    "\n",
    "    def __init__(self, initial):\n",
    "        self.initial = initial\n",
    "        self.type = len(initial) # Defines board type, either 6x6 or 9x9\n",
    "        self.height = int(self.type/3) # Defines height of quadrant (2 for 6x6, 3 for 9x9)\n",
    "\n",
    "    # Return set of valid numbers from values that do not appear in used\n",
    "    def filter_values(self, values, used):\n",
    "        return [number for number in values if number not in used]\n",
    "\n",
    "    # Return first empty spot on grid (marked with 0)\n",
    "    def get_spot(self, board, state):\n",
    "        for row in range(board):\n",
    "            for column in range(board):\n",
    "                if state[row][column] == 0:\n",
    "                    return row, column   \n",
    "\n",
    "    def actions(self, state):\n",
    "        number_set = range(1, self.type+1) # Defines set of valid numbers that can be placed on board\n",
    "        in_column = [] # List of valid values in spot's column\n",
    "        in_block = [] # List of valid values in spot's quadrant\n",
    "\n",
    "        row,column = self.get_spot(self.type, state) # Get first empty spot on board\n",
    "\n",
    "        # Filter valid values based on row\n",
    "        in_row = [number for number in state[row] if (number != 0)]\n",
    "        options = self.filter_values(number_set, in_row)\n",
    "\n",
    "        # Filter valid values based on column\n",
    "        for column_index in range(self.type):\n",
    "            if state[column_index][column] != 0:\n",
    "                in_column.append(state[column_index][column])\n",
    "        options = self.filter_values(options, in_column)\n",
    "\n",
    "        # Filter with valid values based on quadrant\n",
    "        row_start = int(row/self.height)*self.height\n",
    "        column_start = int(column/3)*3\n",
    "        \n",
    "        for block_row in range(0, self.height):\n",
    "            for block_column in range(0,3):\n",
    "                in_block.append(state[row_start + block_row][column_start + block_column])\n",
    "        options = self.filter_values(options, in_block)\n",
    "\n",
    "        for number in options:\n",
    "            yield number, row, column      \n",
    "\n",
    "    # Returns updated board after adding new valid value\n",
    "    def result(self, state, action):\n",
    "\n",
    "        play = action[0]\n",
    "        row = action[1]\n",
    "        column = action[2]\n",
    "\n",
    "        # Add new valid value to board\n",
    "        new_state = copy.deepcopy(state)\n",
    "        new_state[row][column] = play\n",
    "\n",
    "        return new_state\n",
    "\n",
    "    # Use sums of each row, column and quadrant to determine validity of board state\n",
    "    def goal_test(self, state):\n",
    "\n",
    "        # Expected sum of each row, column or quadrant.\n",
    "        total = sum(range(1, self.type+1))\n",
    "\n",
    "        # Check rows and columns and return false if total is invalid\n",
    "        for row in range(self.type):\n",
    "            if (len(state[row]) != self.type) or (sum(state[row]) != total):\n",
    "                return False\n",
    "\n",
    "            column_total = 0\n",
    "            for column in range(self.type):\n",
    "                column_total += state[column][row]\n",
    "\n",
    "            if (column_total != total):\n",
    "                return False\n",
    "\n",
    "        # Check quadrants and return false if total is invalid\n",
    "        for column in range(0,self.type,3):\n",
    "            for row in range(0,self.type,self.height):\n",
    "\n",
    "                block_total = 0\n",
    "                for block_row in range(0,self.height):\n",
    "                    for block_column in range(0,3):\n",
    "                        block_total += state[row + block_row][column + block_column]\n",
    "\n",
    "                if (block_total != total):\n",
    "                    return False\n",
    "\n",
    "        return True"
   ]
  },
  {
   "cell_type": "code",
   "execution_count": 11,
   "metadata": {},
   "outputs": [],
   "source": [
    "def BFS(problem):\n",
    "    start = Node(problem.initial)\n",
    "    if problem.goal_test(start.state):\n",
    "        return start\n",
    "    frontier = Queue()\n",
    "    frontier.put(start)\n",
    "    while (frontier.qsize() != 0):\n",
    "        node = frontier.get()\n",
    "        for child in node.expand(problem):\n",
    "            if problem.goal_test(child.state):\n",
    "                return child\n",
    "            frontier.put(child)\n",
    "    return None"
   ]
  },
  {
   "cell_type": "code",
   "execution_count": 14,
   "metadata": {},
   "outputs": [],
   "source": [
    "def DFS(problem):\n",
    "    start = Node(problem.initial)\n",
    "    if problem.goal_test(start.state):\n",
    "        return start.state\n",
    "    stack = []\n",
    "    stack.append(start)\n",
    "    while stack:\n",
    "        node = stack.pop()\n",
    "        if problem.goal_test(node.state):\n",
    "            return node\n",
    "        stack.extend(node.expand(problem))\n",
    "    return None"
   ]
  },
  {
   "cell_type": "markdown",
   "metadata": {},
   "source": [
    "### Imprime los resultados y el tiempo de ejecución de BFS y DFS"
   ]
  },
  {
   "cell_type": "code",
   "execution_count": 15,
   "metadata": {},
   "outputs": [
    {
     "name": "stdout",
     "output_type": "stream",
     "text": [
      "Problem:\n",
      "[7, 8, 0, 4, 0, 0, 1, 2, 0]\n",
      "[6, 0, 0, 0, 7, 5, 0, 0, 9]\n",
      "[0, 0, 0, 6, 0, 1, 0, 7, 8]\n",
      "[0, 0, 7, 0, 4, 0, 2, 6, 0]\n",
      "[0, 0, 1, 0, 5, 0, 9, 3, 0]\n",
      "[9, 0, 4, 0, 6, 0, 0, 0, 5]\n",
      "[0, 7, 0, 3, 0, 0, 0, 1, 2]\n",
      "[1, 2, 0, 0, 0, 7, 4, 0, 0]\n",
      "[0, 4, 9, 2, 0, 6, 0, 0, 7]\n",
      "\n",
      "Solving with BFS...\n",
      "Found solution\n",
      "[7, 8, 5, 4, 3, 9, 1, 2, 6]\n",
      "[6, 1, 2, 8, 7, 5, 3, 4, 9]\n",
      "[4, 9, 3, 6, 2, 1, 5, 7, 8]\n",
      "[8, 5, 7, 9, 4, 3, 2, 6, 1]\n",
      "[2, 6, 1, 7, 5, 8, 9, 3, 4]\n",
      "[9, 3, 4, 1, 6, 2, 7, 8, 5]\n",
      "[5, 7, 8, 3, 9, 4, 6, 1, 2]\n",
      "[1, 2, 6, 5, 8, 7, 4, 9, 3]\n",
      "[3, 4, 9, 2, 1, 6, 8, 5, 7]\n",
      "Elapsed time: 0.02203679084777832\n"
     ]
    }
   ],
   "source": [
    "print (\"Problem:\")\n",
    "for row in board2:\n",
    "      print (row)\n",
    "\n",
    "print (\"\\nSolving with BFS...\")\n",
    "start_time = time.time()\n",
    "problem = Problem(board2)\n",
    "solution = BFS(problem)\n",
    "elapsed_time = time.time() - start_time\n",
    "if solution:\n",
    "    print (\"Found solution\")\n",
    "    for row in solution.state:\n",
    "        print (row)\n",
    "else:\n",
    "    print (\"No possible solutions\")\n",
    "print (\"Elapsed time: \" + str(elapsed_time))"
   ]
  },
  {
   "cell_type": "code",
   "execution_count": 16,
   "metadata": {},
   "outputs": [
    {
     "name": "stdout",
     "output_type": "stream",
     "text": [
      "Problem:\n",
      "[7, 8, 0, 4, 0, 0, 1, 2, 0]\n",
      "[6, 0, 0, 0, 7, 5, 0, 0, 9]\n",
      "[0, 0, 0, 6, 0, 1, 0, 7, 8]\n",
      "[0, 0, 7, 0, 4, 0, 2, 6, 0]\n",
      "[0, 0, 1, 0, 5, 0, 9, 3, 0]\n",
      "[9, 0, 4, 0, 6, 0, 0, 0, 5]\n",
      "[0, 7, 0, 3, 0, 0, 0, 1, 2]\n",
      "[1, 2, 0, 0, 0, 7, 4, 0, 0]\n",
      "[0, 4, 9, 2, 0, 6, 0, 0, 7]\n",
      "\n",
      "Solving with DFS...\n",
      "Found solution\n",
      "[7, 8, 5, 4, 3, 9, 1, 2, 6]\n",
      "[6, 1, 2, 8, 7, 5, 3, 4, 9]\n",
      "[4, 9, 3, 6, 2, 1, 5, 7, 8]\n",
      "[8, 5, 7, 9, 4, 3, 2, 6, 1]\n",
      "[2, 6, 1, 7, 5, 8, 9, 3, 4]\n",
      "[9, 3, 4, 1, 6, 2, 7, 8, 5]\n",
      "[5, 7, 8, 3, 9, 4, 6, 1, 2]\n",
      "[1, 2, 6, 5, 8, 7, 4, 9, 3]\n",
      "[3, 4, 9, 2, 1, 6, 8, 5, 7]\n",
      "Elapsed time: 0.011002302169799805\n"
     ]
    }
   ],
   "source": [
    "print (\"Problem:\")\n",
    "for row in board2:\n",
    "      print (row)\n",
    "\n",
    "print (\"\\nSolving with DFS...\")\n",
    "start_time = time.time()\n",
    "problem = Problem(board2)\n",
    "solution = DFS(problem)\n",
    "elapsed_time = time.time() - start_time\n",
    "if solution:\n",
    "    print (\"Found solution\")\n",
    "    for row in solution.state:\n",
    "        print (row)\n",
    "else:\n",
    "    print (\"No possible solutions\")\n",
    "print (\"Elapsed time: \" + str(elapsed_time))"
   ]
  },
  {
   "cell_type": "markdown",
   "metadata": {},
   "source": [
    "### P4.- El siguiente algoritmo es un ejemplo de la implementación de `Hill Climbing` y `Simulated Annealing `, deberás completar las líneas faltantes\n",
    "\n",
    "(Valor: 30 puntos)"
   ]
  },
  {
   "cell_type": "code",
   "execution_count": 2,
   "metadata": {
    "scrolled": true
   },
   "outputs": [
    {
     "name": "stdout",
     "output_type": "stream",
     "text": [
      "False\n",
      "4 7 8 |4 5 6 |3 4 2 \n",
      "3 5 9 |2 7 1 |9 6 5 \n",
      "2 6 1 |9 3 8 |1 8 7 \n",
      "------+------+------\n",
      "8 4 5 |6 1 7 |6 3 1 \n",
      "7 2 3 |5 8 4 |7 9 2 \n",
      "1 9 6 |2 9 3 |8 5 4 \n",
      "------+------+------\n",
      "9 7 4 |3 2 5 |8 9 6 \n",
      "5 8 3 |6 7 9 |4 1 2 \n",
      "1 6 2 |8 4 1 |5 7 3 \n",
      "\n",
      "\n",
      "True\n",
      "7 9 8 |2 4 3 |1 6 5 \n",
      "2 5 6 |7 1 8 |4 9 3 \n",
      "3 1 4 |5 9 6 |7 2 8 \n",
      "------+------+------\n",
      "5 4 9 |8 7 1 |2 3 6 \n",
      "8 3 1 |6 5 2 |9 4 7 \n",
      "6 2 7 |4 3 9 |8 5 1 \n",
      "------+------+------\n",
      "1 7 5 |3 2 4 |6 8 9 \n",
      "9 8 2 |1 6 5 |3 7 4 \n",
      "4 6 3 |9 8 7 |5 1 2 \n",
      "\n",
      "\n"
     ]
    }
   ],
   "source": [
    "## Throughout this program we have:\n",
    "##   r is a row,    e.g. 'A'\n",
    "##   c is a column, e.g. '3'\n",
    "##   s is a square, e.g. 'A3'\n",
    "##   d is a digit,  e.g. '9'\n",
    "##   u is a unit,   e.g. ['A1','B1','C1','D1','E1','F1','G1','H1','I1']\n",
    "##   grid is a grid,e.g. 81 non-blank chars, e.g. starting with '.18...7...\n",
    "##   values is a dict of possible values, e.g. {'A1':'12349', 'A2':'8', ...}\n",
    "\n",
    "from random import randrange\n",
    "import math\n",
    "import itertools\n",
    "\n",
    "def cross(A, B):\n",
    "    \"Cross product of elements in A and elements in B.\"\n",
    "    return [a+b for a in A for b in B]\n",
    "\n",
    "digits   = '123456789'\n",
    "rows     = 'ABCDEFGHI'\n",
    "cols     = digits\n",
    "squares  = cross(rows, cols)\n",
    "unitlist = ([cross(rows, c) for c in cols] +\n",
    "            [cross(r, cols) for r in rows] +\n",
    "            [cross(rs, cs) for rs in ('ABC','DEF','GHI') for cs in ('123','456','789')])\n",
    "units = dict((s, [u for u in unitlist if s in u])\n",
    "             for s in squares)\n",
    "peers = dict((s, set(sum(units[s],[]))-set([s]))\n",
    "             for s in squares)\n",
    "\n",
    "columns = [cross(rows, c) for c in cols]\n",
    "lines = [cross(r, cols) for r in rows]\n",
    "boxes = dict((s, set(sum([units[s][2]],[]))-set([s])) for s in squares)\n",
    "\n",
    "#compteur du nombre d'essaie\n",
    "try_counter = 0\n",
    "\n",
    "################ Parse a Grid ################\n",
    "def parse_grid(grid):\n",
    "    \"\"\"Convert grid to a dict of possible values, {square: digits}, or\n",
    "    return False if a contradiction is detected.\"\"\"\n",
    "    ## To start, every square can be any digit; then assign values from the grid.\n",
    "    values = dict((s, digits) for s in squares)\n",
    "    for s,d in grid_values(grid).items():\n",
    "        if d in digits and not assign(values, s, d):\n",
    "            return False ## (Fail if we can't assign d to square s.)\n",
    "    return values\n",
    "\n",
    "def grid_values(grid):\n",
    "    \"Convert grid into a dict of {square: char} with '0' or '.' for empties.\"\n",
    "    chars = [c for c in grid if c in digits or c in '0.']\n",
    "    assert len(chars) == 81\n",
    "    return dict(zip(squares, chars))\n",
    "\n",
    "################ Constraint Propagation ################\n",
    "def assign(values, s, d):\n",
    "    \"\"\"Eliminate all the other values (except d) from values[s] and propagate.\n",
    "    Return values, except return False if a contradiction is detected.\"\"\"\n",
    "    global try_counter\n",
    "    try_counter += 1\n",
    "    other_values = values[s].replace(d, '')\n",
    "    if all(eliminate(values, s, d2) for d2 in other_values):\n",
    "        return values\n",
    "    else:\n",
    "        return False\n",
    "\n",
    "def eliminate(values, s, d):\n",
    "    \"\"\"Eliminate d from values[s]; propagate when values or places <= 2.\n",
    "    Return values, except return False if a contradiction is detected.\"\"\"\n",
    "    if d not in values[s]:\n",
    "        return values ## Already eliminated\n",
    "    values[s] = values[s].replace(d,'')\n",
    "    ## (1) If a square s is reduced to one value d2, then eliminate d2 from the peers.\n",
    "    if len(values[s]) == 0:\n",
    "        return False ## Contradiction: removed last value\n",
    "    elif len(values[s]) == 1:\n",
    "        d2 = values[s]\n",
    "        if not all(eliminate(values, s2, d2) for s2 in peers[s]):\n",
    "            return False\n",
    "    ## (2) If a unit u is reduced to only one place for a value d, then put it there.\n",
    "    for u in units[s]:\n",
    "        dplaces = [s for s in u if d in values[s]]\n",
    "        if len(dplaces) == 0:\n",
    "            return False ## Contradiction: no place for this value\n",
    "        elif len(dplaces) == 1:\n",
    "            # d can only be in one place in unit; assign it there\n",
    "            if not assign(values, dplaces[0], d):\n",
    "                return False\n",
    "    return values\n",
    "\n",
    "\n",
    "############### Constraint propagation (in the boxes) for initialization of Hill Climbing ########################\n",
    "def assign_HC(values, s, d):\n",
    "    \"\"\"Eliminate all the other values (except d) from values[s] and propagate in the box.\n",
    "    Return values, except return False if a contradiction is detected in the box.\"\"\"\n",
    "    other_values = values[s].replace(d, '')\n",
    "    if all(eliminate_HC(values, s, d2) for d2 in other_values):\n",
    "        return values\n",
    "    else:\n",
    "        return False\n",
    "\n",
    "def eliminate_HC(values, s, d):\n",
    "    \"\"\"Eliminate d from values[s]; propagate when values or places <= 2.\n",
    "    Return values, except return False if a contradiction is detected.\"\"\"\n",
    "    if d not in values[s]:\n",
    "        return values ## Already eliminated\n",
    "    values[s] = values[s].replace(d,'')\n",
    "    ## (1) If a square s is reduced to one value d2, then eliminate d2 from the box.\n",
    "    if len(values[s]) == 0:\n",
    "        return False ## Contradiction: removed last value\n",
    "    elif len(values[s]) == 1:\n",
    "        d2 = values[s]\n",
    "        if not all(eliminate_HC(values, s2, d2) for s2 in boxes[s]):\n",
    "            return False\n",
    "    ## (2) If a unit u is reduced to only one place for a value d, then put it there.\n",
    "    for u in [units[s][2]]:\n",
    "        dplaces = [s for s in u if d in values[s]]\n",
    "        if len(dplaces) == 0:\n",
    "            return False ## Contradiction: no place for this value\n",
    "        elif len(dplaces) == 1:\n",
    "            # d can only be in one place in unit; assign it there\n",
    "            if not assign_HC(values, dplaces[0], d):\n",
    "                return False\n",
    "    return values\n",
    "\n",
    "################ Display as 2-D grid ################\n",
    "def display(values):\n",
    "    \"Display these values as a 2-D grid.\"\n",
    "    width = 1+max(len(values[s]) for s in squares)\n",
    "    line = '+'.join(['-'*(width*3)]*3)\n",
    "    for r in rows:\n",
    "        print(''.join(values[r + c].center(width) + ('|' if c in '36' else '')\n",
    "                      for c in cols))\n",
    "        if r in 'CF': print(line)\n",
    "    print()\n",
    "\n",
    "################ Search ################\n",
    "def solve(grid):\n",
    "    #met le compteur a zero a chaque nouvelle grille de sudoku\n",
    "    global try_counter\n",
    "    try_counter = 0\n",
    "    return search(parse_grid(grid))\n",
    "\n",
    "def search(values):\n",
    "    \"Using depth-first search and propagation, try all possible values.\"\n",
    "    if values is False:\n",
    "        return False ## Failed earlier\n",
    "    if all(len(values[s]) == 1 for s in squares):\n",
    "        return values ## Solved!\n",
    "    ## Chose the unfilled square s with the fewest possibilities\n",
    "    n,s = min((len(values[s]), s) for s in squares if len(values[s]) > 1)\n",
    "    return some(search(assign(values.copy(), s, d))\n",
    "                for d in values[s])\n",
    "\n",
    "\n",
    "########################### Hill Climbing ##################################333333\n",
    "def solve_hill_climbing(grid):\n",
    "    #met le compteur a zero a chaque nouvelle grille de sudoku\n",
    "    global try_counter\n",
    "    try_counter = 0\n",
    "    values = parse_grid(grid)\n",
    "    return hill_climbing(initialize_hill_climbing(values))\n",
    "\n",
    "def initialize_hill_climbing(values):\n",
    "    \"En tenant compte seulement des boites, remplit chaque carre, avec au hasard, un des chiffre possibles\"\n",
    "    new_values = values.copy()\n",
    "    #tant quil y a un carre vide\n",
    "    while max(len(new_values[s]) for s in squares) > 1:\n",
    "        ## Chose the unfilled square s with the fewest possibilities\n",
    "        n, s = min((len(new_values[s]), s) for s in squares if len(new_values[s]) > 1)\n",
    "        random_index = randrange(0, len(new_values[s]))\n",
    "        d = new_values[s][random_index]\n",
    "        assign_HC(new_values, s, d)\n",
    "    return new_values\n",
    "\n",
    "def hill_climbing(values):\n",
    "    \"Using Hill-Climbing, try to find a solution\"\n",
    "    currentNode = values\n",
    "    while(True):\n",
    "        L = neighbors(currentNode)\n",
    "        nextEval = float(\"-inf\")\n",
    "        nextNode = None\n",
    "        for x in L:\n",
    "            if (evaluation(x) > nextEval):\n",
    "                nextNode = x\n",
    "                nextEval = evaluation(x)\n",
    "        if nextEval <= evaluation(currentNode):\n",
    "            #Return current node since no better neighbors exist\n",
    "            return currentNode\n",
    "        #print(evaluation(nextNode))\n",
    "        currentNode = nextNode\n",
    "\n",
    "        global try_counter\n",
    "        try_counter += 1\n",
    "\n",
    "def neighbors(currentNode):\n",
    "    \"\"\"retourne une liste des voisins du noeuds\n",
    "    les voisins sont les noeuds obtenus en echangeant les chiffres de deux carres appartenant a la meme boite (36 possibilites par boite)\"\"\"\n",
    "    neighbors = []\n",
    "    done = []\n",
    "    for s in squares:\n",
    "        newNode = currentNode.copy()\n",
    "        box = boxes[s] - set(done)\n",
    "        for s2 in box:\n",
    "            newNode[s], newNode[s2] = newNode[s2], newNode[s]\n",
    "            neighbors.append(newNode)\n",
    "        done.append(s)\n",
    "    return neighbors\n",
    "\n",
    "def evaluation(values):\n",
    "    # l'evaluation est egal a: 0 - nb de conflit sur les lignes et colonnes\n",
    "    conflicts = 0\n",
    "    for line in lines:\n",
    "        l = []\n",
    "        for s in line:\n",
    "            l.append(values[s])\n",
    "        conflicts += len(set(l)) - 9\n",
    "    for column in columns:\n",
    "        c = []\n",
    "        for s in column:\n",
    "            c.append(values[s])\n",
    "        conflicts += len(set(c)) - 9\n",
    "    return conflicts\n",
    "\n",
    "\n",
    "############### Simulated annealing ##############\n",
    "def solve_simulated_annealing(grid):\n",
    "    #met le compteur a zero a chaque nouvelle grille de sudoku\n",
    "    global try_counter\n",
    "    try_counter = 0\n",
    "    values = parse_grid(grid)\n",
    "    return simulated_annealing(initialize_hill_climbing(values))\n",
    "\n",
    "def simulated_annealing(values):\n",
    "    global try_counter\n",
    "    current = values\n",
    "    t = 1\n",
    "    alpha = 0.99\n",
    "    for i in range(10000):\n",
    "        t = alpha * t\n",
    "        if t == 0:\n",
    "            return current\n",
    "        if solved(current):\n",
    "            return current\n",
    "        next = random_neighbor(current)\n",
    "        deltaE = evaluation(next) - evaluation(current)\n",
    "        if deltaE > 0:\n",
    "            current = next\n",
    "            try_counter += 1\n",
    "        elif jump(probability=math.exp(deltaE / t)):\n",
    "            current = next\n",
    "            try_counter += 1\n",
    "    return values #return current values if not solved after trying 10k neighbors\n",
    "\n",
    "def random_neighbor(current):\n",
    "    newNode = current.copy()\n",
    "    s = random.choice(squares)\n",
    "    s2 = random.sample(boxes[s],1)[0]\n",
    "    newNode[s], newNode[s2] = newNode[s2], newNode[s]\n",
    "    return newNode\n",
    "\n",
    "def jump(probability):\n",
    "    return random.random() < probability\n",
    "\n",
    "################ Utilities ################\n",
    "def some(seq):\n",
    "    \"Return some element of seq that is true.\"\n",
    "    for e in seq:\n",
    "        if e: return e\n",
    "    return False\n",
    "\n",
    "def from_file(filename, sep='\\n'):\n",
    "    \"Parse a file into a list of strings, separated by sep.\"\n",
    "    return open(filename).read().strip().split(sep)\n",
    "\n",
    "def shuffled(seq):\n",
    "    \"Return a randomly shuffled copy of the input sequence.\"\n",
    "    seq = list(seq)\n",
    "    random.shuffle(seq)\n",
    "    return seq\n",
    "\n",
    "################ System test ################\n",
    "import time, random, numpy\n",
    "def solve_all(grids, name='', showif=0.0):\n",
    "    def time_solve(grid):\n",
    "        start_time = time.time()\n",
    "        if name == 'hc':\n",
    "            values = solve_hill_climbing(grid)\n",
    "        elif name == 'sa':\n",
    "            values = solve_simulated_annealing(grid)\n",
    "\n",
    "        t = time.time() - start_time\n",
    "        global try_counter\n",
    "        ## Display puzzles that take long enough\n",
    "        if showif is not None and t > showif:\n",
    "            display(grid_values(grid))\n",
    "            if values: display(values)\n",
    "            print('(%.2f seconds)\\n' % t)\n",
    "        return (t, solved(values), try_counter)\n",
    "    times, results, visited_nodes = zip(*[time_solve(grid) for grid in grids])\n",
    "    N = len(grids)\n",
    "    if N >= 1:\n",
    "        if N == 100:\n",
    "            print(\"%s \\n Solved: %.2f%s \\n Times (min: %.2f, avg: %.2f, max: %.2f, std dev.: %.4f) \\n Visited nodes (min: %d, avg: %.2f, max: %d, std dev.: %.4f)\" % (\n",
    "                name, sum(results), '%', min(times), sum(times)/N, max(times), numpy.std(times,ddof=1), min(visited_nodes), sum(visited_nodes)/N, max(visited_nodes), numpy.std(visited_nodes,ddof=1)))\n",
    "        else:\n",
    "            print(\"%s \\n Solved: %d/%d \\n Times (min: %.2f, avg: %.2f, max: %.2f, std dev.: %.4f) \\n Visited nodes (min: %d, avg: %.2f, max: %d, std dev.: %.4f)\" % (\n",
    "                name, sum(results), N, min(times), sum(times) / N, max(times), numpy.std(times, ddof=1),\n",
    "                min(visited_nodes), sum(visited_nodes) / N, max(visited_nodes), numpy.std(visited_nodes, ddof=1)))\n",
    "\n",
    "\n",
    "def solved(values):\n",
    "    \"A puzzle is solved if each unit is a permutation of the digits 1 to 9.\"\n",
    "    def unitsolved(unit): return set(values[s] for s in unit) == set(digits)\n",
    "    return values is not False and all(unitsolved(unit) for unit in unitlist)\n",
    "\n",
    "grid1  = '003020600900305001001806400008102900700000008006708200002609500800203009005010300'\n",
    "grid2  = '4.....8.5.3..........7......2.....6.....8.4......1.......6.3.7.5..2.....1.4......'\n",
    "hard1  = '.....6....59.....82....8....45........3........6..3.54...325..6..................'\n",
    "    \n",
    "if __name__ == '__main__':\n",
    "    #Hill Climbing\n",
    "    solution_hc = solve_hill_climbing(hard1)\n",
    "    print(solved(solution_hc))\n",
    "    display(solution_hc)\n",
    "    #solve_all(from_file(\"1000sudoku.txt\"), \"hc\", None)\n",
    "    print()\n",
    "\n",
    "    #Simulated annealing\n",
    "    solution_sa = solve_simulated_annealing(hard1)\n",
    "    print(solved(solution_sa))\n",
    "    display(solution_sa)\n",
    "    #solve_all(from_file(\"1000sudoku.txt\"), \"sa\", None)\n",
    "    print()"
   ]
  },
  {
   "cell_type": "markdown",
   "metadata": {},
   "source": [
    "Usando el código anterior, deberás crear un `main` para poder ejecutar y mostrar con cual de los siguientes ejemplos funcionan los algoritmos de HC y SA"
   ]
  },
  {
   "cell_type": "code",
   "execution_count": 3,
   "metadata": {},
   "outputs": [],
   "source": [
    "#Utiliza estos grdis de prueba\n",
    "grid1  = '003020600900305001001806400008102900700000008006708200002609500800203009005010300'\n",
    "grid2  = '4.....8.5.3..........7......2.....6.....8.4......1.......6.3.7.5..2.....1.4......'\n",
    "hard1  = '.....6....59.....82....8....45........3........6..3.54...325..6..................'"
   ]
  },
  {
   "cell_type": "markdown",
   "metadata": {},
   "source": [
    "Menciona cuál y porqué uno de los ejemplos no tuvo solución en el algoritmo HC"
   ]
  },
  {
   "cell_type": "markdown",
   "metadata": {},
   "source": [
    "Posteriormente, deberás ejecutar el archivo de `1000sudoku.txt` y mostrar los resultados obtenidos de ambos algoritmos. \n",
    "Para la comparación, podrías obtener los resultados para 10, 100 y 1000 de ambos algoritmos."
   ]
  },
  {
   "cell_type": "code",
   "execution_count": 4,
   "metadata": {
    "scrolled": true
   },
   "outputs": [
    {
     "ename": "KeyboardInterrupt",
     "evalue": "",
     "output_type": "error",
     "traceback": [
      "\u001b[1;31m---------------------------------------------------------------------------\u001b[0m",
      "\u001b[1;31mKeyboardInterrupt\u001b[0m                         Traceback (most recent call last)",
      "\u001b[1;32m<ipython-input-4-3f4c58f19164>\u001b[0m in \u001b[0;36m<module>\u001b[1;34m\u001b[0m\n\u001b[0;32m      1\u001b[0m \u001b[1;32mif\u001b[0m \u001b[0m__name__\u001b[0m \u001b[1;33m==\u001b[0m \u001b[1;34m'__main__'\u001b[0m\u001b[1;33m:\u001b[0m\u001b[1;33m\u001b[0m\u001b[1;33m\u001b[0m\u001b[0m\n\u001b[1;32m----> 2\u001b[1;33m     \u001b[0msolve_all\u001b[0m\u001b[1;33m(\u001b[0m\u001b[0mfrom_file\u001b[0m\u001b[1;33m(\u001b[0m\u001b[1;34m\"1000sudoku.txt\"\u001b[0m\u001b[1;33m)\u001b[0m\u001b[1;33m,\u001b[0m \u001b[1;34m\"hc\"\u001b[0m\u001b[1;33m,\u001b[0m \u001b[1;32mNone\u001b[0m\u001b[1;33m)\u001b[0m\u001b[1;33m\u001b[0m\u001b[1;33m\u001b[0m\u001b[0m\n\u001b[0m\u001b[0;32m      3\u001b[0m     \u001b[0msolve_all\u001b[0m\u001b[1;33m(\u001b[0m\u001b[0mfrom_file\u001b[0m\u001b[1;33m(\u001b[0m\u001b[1;34m\"1000sudoku.txt\"\u001b[0m\u001b[1;33m)\u001b[0m\u001b[1;33m,\u001b[0m \u001b[1;34m\"sa\"\u001b[0m\u001b[1;33m,\u001b[0m \u001b[1;32mNone\u001b[0m\u001b[1;33m)\u001b[0m\u001b[1;33m\u001b[0m\u001b[1;33m\u001b[0m\u001b[0m\n\u001b[0;32m      4\u001b[0m     \u001b[0mprint\u001b[0m\u001b[1;33m(\u001b[0m\u001b[1;33m)\u001b[0m\u001b[1;33m\u001b[0m\u001b[1;33m\u001b[0m\u001b[0m\n",
      "\u001b[1;32m<ipython-input-2-b762a9ae1454>\u001b[0m in \u001b[0;36msolve_all\u001b[1;34m(grids, name, showif)\u001b[0m\n\u001b[0;32m    297\u001b[0m             \u001b[0mprint\u001b[0m\u001b[1;33m(\u001b[0m\u001b[1;34m'(%.2f seconds)\\n'\u001b[0m \u001b[1;33m%\u001b[0m \u001b[0mt\u001b[0m\u001b[1;33m)\u001b[0m\u001b[1;33m\u001b[0m\u001b[1;33m\u001b[0m\u001b[0m\n\u001b[0;32m    298\u001b[0m         \u001b[1;32mreturn\u001b[0m \u001b[1;33m(\u001b[0m\u001b[0mt\u001b[0m\u001b[1;33m,\u001b[0m \u001b[0msolved\u001b[0m\u001b[1;33m(\u001b[0m\u001b[0mvalues\u001b[0m\u001b[1;33m)\u001b[0m\u001b[1;33m,\u001b[0m \u001b[0mtry_counter\u001b[0m\u001b[1;33m)\u001b[0m\u001b[1;33m\u001b[0m\u001b[1;33m\u001b[0m\u001b[0m\n\u001b[1;32m--> 299\u001b[1;33m     \u001b[0mtimes\u001b[0m\u001b[1;33m,\u001b[0m \u001b[0mresults\u001b[0m\u001b[1;33m,\u001b[0m \u001b[0mvisited_nodes\u001b[0m \u001b[1;33m=\u001b[0m \u001b[0mzip\u001b[0m\u001b[1;33m(\u001b[0m\u001b[1;33m*\u001b[0m\u001b[1;33m[\u001b[0m\u001b[0mtime_solve\u001b[0m\u001b[1;33m(\u001b[0m\u001b[0mgrid\u001b[0m\u001b[1;33m)\u001b[0m \u001b[1;32mfor\u001b[0m \u001b[0mgrid\u001b[0m \u001b[1;32min\u001b[0m \u001b[0mgrids\u001b[0m\u001b[1;33m]\u001b[0m\u001b[1;33m)\u001b[0m\u001b[1;33m\u001b[0m\u001b[1;33m\u001b[0m\u001b[0m\n\u001b[0m\u001b[0;32m    300\u001b[0m     \u001b[0mN\u001b[0m \u001b[1;33m=\u001b[0m \u001b[0mlen\u001b[0m\u001b[1;33m(\u001b[0m\u001b[0mgrids\u001b[0m\u001b[1;33m)\u001b[0m\u001b[1;33m\u001b[0m\u001b[1;33m\u001b[0m\u001b[0m\n\u001b[0;32m    301\u001b[0m     \u001b[1;32mif\u001b[0m \u001b[0mN\u001b[0m \u001b[1;33m>=\u001b[0m \u001b[1;36m1\u001b[0m\u001b[1;33m:\u001b[0m\u001b[1;33m\u001b[0m\u001b[1;33m\u001b[0m\u001b[0m\n",
      "\u001b[1;32m<ipython-input-2-b762a9ae1454>\u001b[0m in \u001b[0;36m<listcomp>\u001b[1;34m(.0)\u001b[0m\n\u001b[0;32m    297\u001b[0m             \u001b[0mprint\u001b[0m\u001b[1;33m(\u001b[0m\u001b[1;34m'(%.2f seconds)\\n'\u001b[0m \u001b[1;33m%\u001b[0m \u001b[0mt\u001b[0m\u001b[1;33m)\u001b[0m\u001b[1;33m\u001b[0m\u001b[1;33m\u001b[0m\u001b[0m\n\u001b[0;32m    298\u001b[0m         \u001b[1;32mreturn\u001b[0m \u001b[1;33m(\u001b[0m\u001b[0mt\u001b[0m\u001b[1;33m,\u001b[0m \u001b[0msolved\u001b[0m\u001b[1;33m(\u001b[0m\u001b[0mvalues\u001b[0m\u001b[1;33m)\u001b[0m\u001b[1;33m,\u001b[0m \u001b[0mtry_counter\u001b[0m\u001b[1;33m)\u001b[0m\u001b[1;33m\u001b[0m\u001b[1;33m\u001b[0m\u001b[0m\n\u001b[1;32m--> 299\u001b[1;33m     \u001b[0mtimes\u001b[0m\u001b[1;33m,\u001b[0m \u001b[0mresults\u001b[0m\u001b[1;33m,\u001b[0m \u001b[0mvisited_nodes\u001b[0m \u001b[1;33m=\u001b[0m \u001b[0mzip\u001b[0m\u001b[1;33m(\u001b[0m\u001b[1;33m*\u001b[0m\u001b[1;33m[\u001b[0m\u001b[0mtime_solve\u001b[0m\u001b[1;33m(\u001b[0m\u001b[0mgrid\u001b[0m\u001b[1;33m)\u001b[0m \u001b[1;32mfor\u001b[0m \u001b[0mgrid\u001b[0m \u001b[1;32min\u001b[0m \u001b[0mgrids\u001b[0m\u001b[1;33m]\u001b[0m\u001b[1;33m)\u001b[0m\u001b[1;33m\u001b[0m\u001b[1;33m\u001b[0m\u001b[0m\n\u001b[0m\u001b[0;32m    300\u001b[0m     \u001b[0mN\u001b[0m \u001b[1;33m=\u001b[0m \u001b[0mlen\u001b[0m\u001b[1;33m(\u001b[0m\u001b[0mgrids\u001b[0m\u001b[1;33m)\u001b[0m\u001b[1;33m\u001b[0m\u001b[1;33m\u001b[0m\u001b[0m\n\u001b[0;32m    301\u001b[0m     \u001b[1;32mif\u001b[0m \u001b[0mN\u001b[0m \u001b[1;33m>=\u001b[0m \u001b[1;36m1\u001b[0m\u001b[1;33m:\u001b[0m\u001b[1;33m\u001b[0m\u001b[1;33m\u001b[0m\u001b[0m\n",
      "\u001b[1;32m<ipython-input-2-b762a9ae1454>\u001b[0m in \u001b[0;36mtime_solve\u001b[1;34m(grid)\u001b[0m\n\u001b[0;32m    285\u001b[0m         \u001b[0mstart_time\u001b[0m \u001b[1;33m=\u001b[0m \u001b[0mtime\u001b[0m\u001b[1;33m.\u001b[0m\u001b[0mtime\u001b[0m\u001b[1;33m(\u001b[0m\u001b[1;33m)\u001b[0m\u001b[1;33m\u001b[0m\u001b[1;33m\u001b[0m\u001b[0m\n\u001b[0;32m    286\u001b[0m         \u001b[1;32mif\u001b[0m \u001b[0mname\u001b[0m \u001b[1;33m==\u001b[0m \u001b[1;34m'hc'\u001b[0m\u001b[1;33m:\u001b[0m\u001b[1;33m\u001b[0m\u001b[1;33m\u001b[0m\u001b[0m\n\u001b[1;32m--> 287\u001b[1;33m             \u001b[0mvalues\u001b[0m \u001b[1;33m=\u001b[0m \u001b[0msolve_hill_climbing\u001b[0m\u001b[1;33m(\u001b[0m\u001b[0mgrid\u001b[0m\u001b[1;33m)\u001b[0m\u001b[1;33m\u001b[0m\u001b[1;33m\u001b[0m\u001b[0m\n\u001b[0m\u001b[0;32m    288\u001b[0m         \u001b[1;32melif\u001b[0m \u001b[0mname\u001b[0m \u001b[1;33m==\u001b[0m \u001b[1;34m'sa'\u001b[0m\u001b[1;33m:\u001b[0m\u001b[1;33m\u001b[0m\u001b[1;33m\u001b[0m\u001b[0m\n\u001b[0;32m    289\u001b[0m             \u001b[0mvalues\u001b[0m \u001b[1;33m=\u001b[0m \u001b[0msolve_simulated_annealing\u001b[0m\u001b[1;33m(\u001b[0m\u001b[0mgrid\u001b[0m\u001b[1;33m)\u001b[0m\u001b[1;33m\u001b[0m\u001b[1;33m\u001b[0m\u001b[0m\n",
      "\u001b[1;32m<ipython-input-2-b762a9ae1454>\u001b[0m in \u001b[0;36msolve_hill_climbing\u001b[1;34m(grid)\u001b[0m\n\u001b[0;32m    159\u001b[0m     \u001b[0mtry_counter\u001b[0m \u001b[1;33m=\u001b[0m \u001b[1;36m0\u001b[0m\u001b[1;33m\u001b[0m\u001b[1;33m\u001b[0m\u001b[0m\n\u001b[0;32m    160\u001b[0m     \u001b[0mvalues\u001b[0m \u001b[1;33m=\u001b[0m \u001b[0mparse_grid\u001b[0m\u001b[1;33m(\u001b[0m\u001b[0mgrid\u001b[0m\u001b[1;33m)\u001b[0m\u001b[1;33m\u001b[0m\u001b[1;33m\u001b[0m\u001b[0m\n\u001b[1;32m--> 161\u001b[1;33m     \u001b[1;32mreturn\u001b[0m \u001b[0mhill_climbing\u001b[0m\u001b[1;33m(\u001b[0m\u001b[0minitialize_hill_climbing\u001b[0m\u001b[1;33m(\u001b[0m\u001b[0mvalues\u001b[0m\u001b[1;33m)\u001b[0m\u001b[1;33m)\u001b[0m\u001b[1;33m\u001b[0m\u001b[1;33m\u001b[0m\u001b[0m\n\u001b[0m\u001b[0;32m    162\u001b[0m \u001b[1;33m\u001b[0m\u001b[0m\n\u001b[0;32m    163\u001b[0m \u001b[1;32mdef\u001b[0m \u001b[0minitialize_hill_climbing\u001b[0m\u001b[1;33m(\u001b[0m\u001b[0mvalues\u001b[0m\u001b[1;33m)\u001b[0m\u001b[1;33m:\u001b[0m\u001b[1;33m\u001b[0m\u001b[1;33m\u001b[0m\u001b[0m\n",
      "\u001b[1;32m<ipython-input-2-b762a9ae1454>\u001b[0m in \u001b[0;36mhill_climbing\u001b[1;34m(values)\u001b[0m\n\u001b[0;32m    181\u001b[0m         \u001b[0mnextNode\u001b[0m \u001b[1;33m=\u001b[0m \u001b[1;32mNone\u001b[0m\u001b[1;33m\u001b[0m\u001b[1;33m\u001b[0m\u001b[0m\n\u001b[0;32m    182\u001b[0m         \u001b[1;32mfor\u001b[0m \u001b[0mx\u001b[0m \u001b[1;32min\u001b[0m \u001b[0mL\u001b[0m\u001b[1;33m:\u001b[0m\u001b[1;33m\u001b[0m\u001b[1;33m\u001b[0m\u001b[0m\n\u001b[1;32m--> 183\u001b[1;33m             \u001b[1;32mif\u001b[0m \u001b[1;33m(\u001b[0m\u001b[0mevaluation\u001b[0m\u001b[1;33m(\u001b[0m\u001b[0mx\u001b[0m\u001b[1;33m)\u001b[0m \u001b[1;33m>\u001b[0m \u001b[0mnextEval\u001b[0m\u001b[1;33m)\u001b[0m\u001b[1;33m:\u001b[0m\u001b[1;33m\u001b[0m\u001b[1;33m\u001b[0m\u001b[0m\n\u001b[0m\u001b[0;32m    184\u001b[0m                 \u001b[0mnextNode\u001b[0m \u001b[1;33m=\u001b[0m \u001b[0mx\u001b[0m\u001b[1;33m\u001b[0m\u001b[1;33m\u001b[0m\u001b[0m\n\u001b[0;32m    185\u001b[0m                 \u001b[0mnextEval\u001b[0m \u001b[1;33m=\u001b[0m \u001b[0mevaluation\u001b[0m\u001b[1;33m(\u001b[0m\u001b[0mx\u001b[0m\u001b[1;33m)\u001b[0m\u001b[1;33m\u001b[0m\u001b[1;33m\u001b[0m\u001b[0m\n",
      "\u001b[1;32m<ipython-input-2-b762a9ae1454>\u001b[0m in \u001b[0;36mevaluation\u001b[1;34m(values)\u001b[0m\n\u001b[0;32m    213\u001b[0m         \u001b[0ml\u001b[0m \u001b[1;33m=\u001b[0m \u001b[1;33m[\u001b[0m\u001b[1;33m]\u001b[0m\u001b[1;33m\u001b[0m\u001b[1;33m\u001b[0m\u001b[0m\n\u001b[0;32m    214\u001b[0m         \u001b[1;32mfor\u001b[0m \u001b[0ms\u001b[0m \u001b[1;32min\u001b[0m \u001b[0mline\u001b[0m\u001b[1;33m:\u001b[0m\u001b[1;33m\u001b[0m\u001b[1;33m\u001b[0m\u001b[0m\n\u001b[1;32m--> 215\u001b[1;33m             \u001b[0ml\u001b[0m\u001b[1;33m.\u001b[0m\u001b[0mappend\u001b[0m\u001b[1;33m(\u001b[0m\u001b[0mvalues\u001b[0m\u001b[1;33m[\u001b[0m\u001b[0ms\u001b[0m\u001b[1;33m]\u001b[0m\u001b[1;33m)\u001b[0m\u001b[1;33m\u001b[0m\u001b[1;33m\u001b[0m\u001b[0m\n\u001b[0m\u001b[0;32m    216\u001b[0m         \u001b[0mconflicts\u001b[0m \u001b[1;33m+=\u001b[0m \u001b[0mlen\u001b[0m\u001b[1;33m(\u001b[0m\u001b[0mset\u001b[0m\u001b[1;33m(\u001b[0m\u001b[0ml\u001b[0m\u001b[1;33m)\u001b[0m\u001b[1;33m)\u001b[0m \u001b[1;33m-\u001b[0m \u001b[1;36m9\u001b[0m\u001b[1;33m\u001b[0m\u001b[1;33m\u001b[0m\u001b[0m\n\u001b[0;32m    217\u001b[0m     \u001b[1;32mfor\u001b[0m \u001b[0mcolumn\u001b[0m \u001b[1;32min\u001b[0m \u001b[0mcolumns\u001b[0m\u001b[1;33m:\u001b[0m\u001b[1;33m\u001b[0m\u001b[1;33m\u001b[0m\u001b[0m\n",
      "\u001b[1;31mKeyboardInterrupt\u001b[0m: "
     ]
    }
   ],
   "source": [
    "if __name__ == '__main__':\n",
    "    solve_all(from_file(\"1000sudoku.txt\"), \"hc\", None)\n",
    "    solve_all(from_file(\"1000sudoku.txt\"), \"sa\", None)\n",
    "    print()"
   ]
  },
  {
   "cell_type": "markdown",
   "metadata": {},
   "source": [
    "#### Finalmente, describe cómo es que trabajan los algoritmos implementados de HC y SA (código anterior) para la resolución del sudoku"
   ]
  },
  {
   "cell_type": "markdown",
   "metadata": {},
   "source": [
    "---\n",
    "---\n",
    "\n",
    "# Sección 4\n",
    "\n",
    "(Valor: 20)\n",
    "\n",
    "---"
   ]
  },
  {
   "cell_type": "markdown",
   "metadata": {},
   "source": [
    "Para la implementación del algoritmo genético, deberán completar los códigos a continuación"
   ]
  },
  {
   "cell_type": "code",
   "execution_count": 20,
   "metadata": {},
   "outputs": [],
   "source": [
    "def genetic_search(problem, ngen=1000, pmut=0.1, n=20):\n",
    "    \"\"\"Call genetic_algorithm on the appropriate parts of a problem.\n",
    "    This requires the problem to have states that can mate and mutate,\n",
    "    plus a value method that scores states.\"\"\"\n",
    "\n",
    "    # NOTE: This is not tested and might not work.\n",
    "    # TODO: Use this function to make Problems work with genetic_algorithm.\n",
    "\n",
    "    s = problem.initial_state\n",
    "    states = [problem.result(s, a) for a in problem.actions(s)]\n",
    "    random.shuffle(states)\n",
    "    return genetic_algorithm(states[:n], problem.value, ngen, pmut)\n",
    "\n",
    "\n",
    "def genetic_algorithm(population, fitness_fn, gene_pool=[0, 1], f_thres=None, ngen=1000, pmut=0.1):\n",
    "    \"\"\"[Figure 4.8]\"\"\"\n",
    "    for i in range(ngen):\n",
    "        population = [mutate(recombine(*select(2, population, fitness_fn)), gene_pool, pmut)\n",
    "                      for i in range(len(population))]\n",
    "\n",
    "        fittest_individual = fitness_threshold(fitness_fn, f_thres, population)\n",
    "        if fittest_individual:\n",
    "            return fittest_individual\n",
    "\n",
    "    return max(population, key=fitness_fn)\n",
    "\n",
    "\n",
    "def fitness_threshold(fitness_fn, f_thres, population):\n",
    "    if not f_thres:\n",
    "        return None\n",
    "\n",
    "    fittest_individual = max(population, key=fitness_fn)\n",
    "    if fitness_fn(fittest_individual) >= f_thres:\n",
    "        return fittest_individual\n",
    "\n",
    "    return None\n",
    "\n",
    "\n",
    "def init_population(pop_number, gene_pool, state_length):\n",
    "    \"\"\"Initializes population for genetic algorithm\n",
    "    pop_number  :  Number of individuals in population\n",
    "    gene_pool   :  List of possible values for individuals\n",
    "    state_length:  The length of each individual\"\"\"\n",
    "    g = len(gene_pool)\n",
    "    population = []\n",
    "    for i in range(pop_number):\n",
    "        new_individual = [gene_pool[random.randrange(0, g)] for j in range(state_length)]\n",
    "        population.append(new_individual)\n",
    "\n",
    "    return population\n",
    "\n",
    "\n",
    "def select(r, population, fitness_fn):\n",
    "    fitnesses = map(fitness_fn, population)\n",
    "    sampler = weighted_sampler(population, fitnesses)\n",
    "    return [sampler() for i in range(r)]\n",
    "\n",
    "\n",
    "def recombine(x, y):\n",
    "    n = len(x)\n",
    "    c = random.randrange(0, n)\n",
    "    return x[:c] + y[c:]\n",
    "\n",
    "\n",
    "def recombine_uniform(x, y):\n",
    "    n = len(x)\n",
    "    result = [0] * n\n",
    "    indexes = random.sample(range(n), n)\n",
    "    for i in range(n):\n",
    "        ix = indexes[i]\n",
    "        result[ix] = x[ix] if i < n / 2 else y[ix]\n",
    "\n",
    "    return ''.join(str(r) for r in result)\n",
    "\n",
    "\n",
    "def mutate(x, gene_pool, pmut):\n",
    "    if random.uniform(0, 1) >= pmut:\n",
    "        return x\n",
    "\n",
    "    n = len(x)\n",
    "    g = len(gene_pool)\n",
    "    c = random.randrange(0, n)\n",
    "    r = random.randrange(0, g)\n",
    "\n",
    "    new_gene = gene_pool[r]\n",
    "    return x[:c] + [new_gene] + x[c + 1:]"
   ]
  },
  {
   "cell_type": "code",
   "execution_count": 21,
   "metadata": {},
   "outputs": [],
   "source": [
    "import bisect\n",
    "def weighted_sampler(seq, weights):\n",
    "    \"\"\"Return a random-sample function that picks from seq weighted by weights.\"\"\"\n",
    "    totals = []\n",
    "    for w in weights:\n",
    "        totals.append(w + totals[-1] if totals else w)\n",
    "    return lambda: seq[bisect.bisect(totals, random.uniform(0, totals[-1]))]"
   ]
  },
  {
   "cell_type": "markdown",
   "metadata": {},
   "source": [
    "### ¿Cuántas generaciones serán necesarias para obtener la siguiente frase?"
   ]
  },
  {
   "cell_type": "code",
   "execution_count": 31,
   "metadata": {},
   "outputs": [],
   "source": [
    "target = 'Yo no los estoy choreando'"
   ]
  },
  {
   "cell_type": "code",
   "execution_count": 32,
   "metadata": {},
   "outputs": [],
   "source": [
    "u_case = [chr(x) for x in range(65, 91)]\n",
    "l_case = [chr(x) for x in range(97, 123)]\n",
    "\n",
    "gene_pool = []\n",
    "gene_pool.extend(u_case) # adds the uppercase list to the gene pool\n",
    "gene_pool.extend(l_case) # adds the lowercase list to the gene pool\n",
    "gene_pool.append(' ')    # adds the space character to the gene pool"
   ]
  },
  {
   "cell_type": "code",
   "execution_count": 25,
   "metadata": {},
   "outputs": [],
   "source": [
    "def fitness_fn(sample):\n",
    "    # initialize fitness to 0\n",
    "    fitness = 0\n",
    "    for i in range(len(sample)):\n",
    "        # increment fitness by 1 for every matching character\n",
    "        if sample[i] == target[i]:\n",
    "            fitness += 1\n",
    "    return fitness"
   ]
  },
  {
   "cell_type": "code",
   "execution_count": 26,
   "metadata": {},
   "outputs": [],
   "source": [
    "max_population = 100"
   ]
  },
  {
   "cell_type": "code",
   "execution_count": 27,
   "metadata": {},
   "outputs": [],
   "source": [
    "mutation_rate = 0.07 # 7%"
   ]
  },
  {
   "cell_type": "code",
   "execution_count": 28,
   "metadata": {},
   "outputs": [],
   "source": [
    "ngen = 3000 # maximum number of generations\n",
    "f_thres = len(target)"
   ]
  },
  {
   "cell_type": "code",
   "execution_count": 29,
   "metadata": {},
   "outputs": [],
   "source": [
    "def genetic_algorithm_stepwise(population, fitness_fn, gene_pool=[0, 1], f_thres=None, ngen=1200, pmut=0.1):\n",
    "    for generation in range(ngen):\n",
    "        population = [mutate(recombine(*select(2, population, fitness_fn)), gene_pool, pmut) for i in range(len(population))]\n",
    "        # stores the individual genome with the highest fitness in the current population\n",
    "        current_best = ''.join(max(population, key=fitness_fn))\n",
    "        print(f'Current best: {current_best}\\t\\tGeneration: {str(generation)}\\t\\tFitness: {fitness_fn(current_best)}\\r', end='')\n",
    "        \n",
    "        # compare the fitness of the current best individual to f_thres\n",
    "        fittest_individual = fitness_threshold(fitness_fn, f_thres, population)\n",
    "        \n",
    "        # if fitness is greater than or equal to f_thres, we terminate the algorithm\n",
    "        if fittest_individual:\n",
    "            return fittest_individual, generation\n",
    "    return max(population, key=fitness_fn) , generation "
   ]
  },
  {
   "cell_type": "code",
   "execution_count": 33,
   "metadata": {},
   "outputs": [
    {
     "name": "stdout",
     "output_type": "stream",
     "text": [
      "Current best: Yo nK losgCstoy TNorRJado\t\tGeneration: 753\t\tFitness: 17\r"
     ]
    }
   ],
   "source": [
    "population = init_population(max_population, gene_pool, len(target))\n",
    "solution, generations = genetic_algorithm_stepwise(population, fitness_fn, gene_pool, f_thres, ngen, mutation_rate)"
   ]
  },
  {
   "cell_type": "markdown",
   "metadata": {},
   "source": [
    "--------\n",
    "--------\n",
    "### Ejemplo EXTRA\n",
    "\n",
    "##### Pequeño ejercicio detección de máscaras faciales. \n",
    "\n",
    "(Valor: 15 puntos extras)"
   ]
  },
  {
   "cell_type": "markdown",
   "metadata": {},
   "source": [
    "En la siguiente sección cargamos los paths para las imagenes que se usarán en el modelo de entrenamiento, su objetivo será ejecutar satisfactoriamente el siguiente código y mostrar ejemplos de su funcionamiento.\n",
    "\n",
    "En la carpeta de ejemplos vienen unas pruebas de imágenes de gente con y sin mascara. Deberán cargar otros ejemplos y ver si el algoritmo falla. \n",
    "\n",
    "En la última sección, deberán mostrar que pudieron habilitar el código para ejecutarlo con la cámara de su computadora."
   ]
  },
  {
   "cell_type": "markdown",
   "metadata": {},
   "source": [
    "---\n",
    "En este apartado se codifican las imágenes para crear nuestro modelo de detección de rostros con y sin máscara.\n",
    "\n",
    "Posiblemente se tarde 20-40 minutos si ejecutan este código en sus computadoras, a menos que trabajen con la GPU... Entrenen su modelo y traten de analizar lo que está sucediendo..."
   ]
  },
  {
   "cell_type": "code",
   "execution_count": 1,
   "metadata": {},
   "outputs": [],
   "source": [
    "from tensorflow.keras.preprocessing.image import ImageDataGenerator\n",
    "from tensorflow.keras.applications import MobileNetV2\n",
    "from tensorflow.keras.layers import AveragePooling2D\n",
    "from tensorflow.keras.layers import Dropout\n",
    "from tensorflow.keras.layers import Flatten\n",
    "from tensorflow.keras.layers import Dense\n",
    "from tensorflow.keras.layers import Input\n",
    "from tensorflow.keras.models import Model\n",
    "from tensorflow.keras.optimizers import Adam\n",
    "from tensorflow.keras.applications.mobilenet_v2 import preprocess_input\n",
    "from tensorflow.keras.preprocessing.image import img_to_array\n",
    "from tensorflow.keras.preprocessing.image import load_img\n",
    "from tensorflow.keras.utils import to_categorical\n",
    "from sklearn.preprocessing import LabelBinarizer\n",
    "from sklearn.model_selection import train_test_split\n",
    "from sklearn.metrics import classification_report\n",
    "from imutils import paths\n",
    "import matplotlib.pyplot as plt\n",
    "import numpy as np\n",
    "import argparse\n",
    "import os"
   ]
  },
  {
   "cell_type": "code",
   "execution_count": null,
   "metadata": {},
   "outputs": [],
   "source": [
    "from tensorflow.keras.preprocessing.image import ImageDataGenerator\n",
    "from tensorflow.keras.applications import MobileNetV2\n",
    "from tensorflow.keras.layers import AveragePooling2D\n",
    "from tensorflow.keras.layers import Dropout\n",
    "from tensorflow.keras.layers import Flatten\n",
    "from tensorflow.keras.layers import Dense\n",
    "from tensorflow.keras.layers import Input\n",
    "from tensorflow.keras.models import Model\n",
    "from tensorflow.keras.optimizers import Adam\n",
    "from tensorflow.keras.applications.mobilenet_v2 import preprocess_input\n",
    "from tensorflow.keras.preprocessing.image import img_to_array\n",
    "from tensorflow.keras.preprocessing.image import load_img\n",
    "from tensorflow.keras.utils import to_categorical\n",
    "from sklearn.preprocessing import LabelBinarizer\n",
    "from sklearn.model_selection import train_test_split\n",
    "from sklearn.metrics import classification_report\n",
    "from imutils import paths\n",
    "import matplotlib.pyplot as plt\n",
    "import numpy as np\n",
    "import argparse\n",
    "import os\n",
    "\n",
    "# initialize the initial learning rate, number of epochs to train for,\n",
    "# and batch size\n",
    "INIT_LR = 1e-4\n",
    "EPOCHS = 20\n",
    "BS = 32\n",
    "\n",
    "# grab the list of images in our dataset directory, then initialize\n",
    "# the list of data (i.e., images) and class images\n",
    "print(\"[INFO] loading images...\")\n",
    "imagePaths = list(paths.list_images(\"dataset\"))\n",
    "data = []\n",
    "labels = []\n",
    "\n",
    "# loop over the image paths\n",
    "for imagePath in imagePaths:\n",
    "\t# extract the class label from the filename\n",
    "\tlabel = imagePath.split(os.path.sep)[-2]\n",
    "\n",
    "\t# load the input image (224x224) and preprocess it\n",
    "\timage = load_img(imagePath, target_size=(224, 224))\n",
    "\timage = img_to_array(image)\n",
    "\timage = preprocess_input(image)\n",
    "\n",
    "\t# update the data and labels lists, respectively\n",
    "\tdata.append(image)\n",
    "\tlabels.append(label)\n",
    "\n",
    "# convert the data and labels to NumPy arrays\n",
    "data = np.array(data, dtype=\"float32\")\n",
    "labels = np.array(labels)\n",
    "\n",
    "# perform one-hot encoding on the labels\n",
    "lb = LabelBinarizer()\n",
    "labels = lb.fit_transform(labels)\n",
    "labels = to_categorical(labels)\n",
    "\n",
    "# partition the data into training and testing splits using 75% of\n",
    "# the data for training and the remaining 25% for testing\n",
    "(trainX, testX, trainY, testY) = train_test_split(data, labels,\n",
    "\ttest_size=0.20, stratify=labels, random_state=42)\n",
    "\n",
    "# construct the training image generator for data augmentation\n",
    "aug = ImageDataGenerator(\n",
    "\trotation_range=20,\n",
    "\tzoom_range=0.15,\n",
    "\twidth_shift_range=0.2,\n",
    "\theight_shift_range=0.2,\n",
    "\tshear_range=0.15,\n",
    "\thorizontal_flip=True,\n",
    "\tfill_mode=\"nearest\")\n",
    "\n",
    "# load the MobileNetV2 network, ensuring the head FC layer sets are\n",
    "# left off\n",
    "baseModel = MobileNetV2(weights=\"imagenet\", include_top=False,\n",
    "\tinput_tensor=Input(shape=(224, 224, 3)))\n",
    "\n",
    "# construct the head of the model that will be placed on top of the\n",
    "# the base model\n",
    "headModel = baseModel.output\n",
    "headModel = AveragePooling2D(pool_size=(7, 7))(headModel)\n",
    "headModel = Flatten(name=\"flatten\")(headModel)\n",
    "headModel = Dense(128, activation=\"relu\")(headModel)\n",
    "headModel = Dropout(0.5)(headModel)\n",
    "headModel = Dense(2, activation=\"softmax\")(headModel)\n",
    "\n",
    "# place the head FC model on top of the base model (this will become\n",
    "# the actual model we will train)\n",
    "model = Model(inputs=baseModel.input, outputs=headModel)\n",
    "\n",
    "# loop over all layers in the base model and freeze them so they will\n",
    "# *not* be updated during the first training process\n",
    "for layer in baseModel.layers:\n",
    "\tlayer.trainable = False\n",
    "\n",
    "# compile our model\n",
    "print(\"[INFO] compiling model...\")\n",
    "opt = Adam(lr=INIT_LR, decay=INIT_LR / EPOCHS)\n",
    "model.compile(loss=\"binary_crossentropy\", optimizer=opt,\n",
    "\tmetrics=[\"accuracy\"])\n",
    "\n",
    "# train the head of the network\n",
    "print(\"[INFO] training head...\")\n",
    "H = model.fit(\n",
    "\taug.flow(trainX, trainY, batch_size=BS),\n",
    "\tsteps_per_epoch=len(trainX) // BS,\n",
    "\tvalidation_data=(testX, testY),\n",
    "\tvalidation_steps=len(testX) // BS,\n",
    "\tepochs=EPOCHS)\n",
    "\n",
    "# make predictions on the testing set\n",
    "print(\"[INFO] evaluating network...\")\n",
    "predIdxs = model.predict(testX, batch_size=BS)\n",
    "\n",
    "# for each image in the testing set we need to find the index of the\n",
    "# label with corresponding largest predicted probability\n",
    "predIdxs = np.argmax(predIdxs, axis=1)\n",
    "\n",
    "# show a nicely formatted classification report\n",
    "print(classification_report(testY.argmax(axis=1), predIdxs,\n",
    "\ttarget_names=lb.classes_))\n",
    "\n",
    "# serialize the model to disk\n",
    "print(\"[INFO] saving mask detector model...\")\n",
    "model.save(\"maskDetectorTest.model\", save_format=\"h5\")\n",
    "\n",
    "# plot the training loss and accuracy\n",
    "N = EPOCHS\n",
    "plt.style.use(\"ggplot\")\n",
    "plt.figure()\n",
    "plt.plot(np.arange(0, N), H.history[\"loss\"], label=\"train_loss\")\n",
    "plt.plot(np.arange(0, N), H.history[\"val_loss\"], label=\"val_loss\")\n",
    "plt.plot(np.arange(0, N), H.history[\"accuracy\"], label=\"train_acc\")\n",
    "plt.plot(np.arange(0, N), H.history[\"val_accuracy\"], label=\"val_acc\")\n",
    "plt.title(\"Training Loss and Accuracy\")\n",
    "plt.xlabel(\"Epoch #\")\n",
    "plt.ylabel(\"Loss/Accuracy\")\n",
    "plt.legend(loc=\"lower left\")\n",
    "plt.savefig(\"plot.png\")"
   ]
  },
  {
   "cell_type": "markdown",
   "metadata": {},
   "source": [
    "En esta sección, deberán mostrar ejemplos satisfactorios y fallidos del modelo de máscaras"
   ]
  },
  {
   "cell_type": "code",
   "execution_count": null,
   "metadata": {},
   "outputs": [
    {
     "name": "stdout",
     "output_type": "stream",
     "text": [
      "Found existing installation: tensorflow 1.14.0\n",
      "Uninstalling tensorflow-1.14.0:\n",
      "  Successfully uninstalled tensorflow-1.14.0\n"
     ]
    }
   ],
   "source": [
    "!pip uninstall -y tensorflow\n",
    "!pip install tensorflow"
   ]
  },
  {
   "cell_type": "code",
   "execution_count": 6,
   "metadata": {},
   "outputs": [
    {
     "name": "stdout",
     "output_type": "stream",
     "text": [
      "Requirement already satisfied: keras in c:\\anaconda3\\lib\\site-packages (2.4.3)\n",
      "Requirement already satisfied: scipy>=0.14 in c:\\anaconda3\\lib\\site-packages (from keras) (1.4.1)\n",
      "Requirement already satisfied: h5py in c:\\anaconda3\\lib\\site-packages (from keras) (2.10.0)\n",
      "Requirement already satisfied: pyyaml in c:\\anaconda3\\lib\\site-packages (from keras) (5.3)\n",
      "Requirement already satisfied: numpy>=1.9.1 in c:\\anaconda3\\lib\\site-packages (from keras) (1.18.5)\n",
      "Requirement already satisfied: six in c:\\anaconda3\\lib\\site-packages (from h5py->keras) (1.14.0)\n"
     ]
    }
   ],
   "source": [
    "!pip install keras"
   ]
  },
  {
   "cell_type": "code",
   "execution_count": null,
   "metadata": {},
   "outputs": [],
   "source": [
    "from tensorflow.keras.applications.mobilenet_v2 import preprocess_input"
   ]
  },
  {
   "cell_type": "code",
   "execution_count": 3,
   "metadata": {},
   "outputs": [
    {
     "name": "stdout",
     "output_type": "stream",
     "text": [
      "[INFO] loading face detector model...\n",
      "[INFO] loading face mask detector model...\n",
      "[INFO] computing face detections...\n"
     ]
    },
    {
     "data": {
      "text/plain": [
       "113"
      ]
     },
     "execution_count": 3,
     "metadata": {},
     "output_type": "execute_result"
    }
   ],
   "source": [
    "# import the necessary packages\n",
    "from tensorflow.keras.applications.mobilenet_v2 import preprocess_input\n",
    "from tensorflow.keras.preprocessing.image import img_to_array\n",
    "from tensorflow.keras.models import load_model\n",
    "import numpy as np\n",
    "import argparse\n",
    "import cv2\n",
    "import os\n",
    "\n",
    "print(\"[INFO] loading face detector model...\")\n",
    "net = cv2.dnn.readNet(\"face_detector/deploy.prototxt\", \"face_detector/res10_300x300_ssd_iter_140000.caffemodel\")\n",
    "\n",
    "# load the face mask detector model from disk\n",
    "print(\"[INFO] loading face mask detector model...\")\n",
    "model = load_model(\"mask_detector.model\")\n",
    "\n",
    "# load the input image from disk, clone it, and grab the image spatial\n",
    "# dimensions\n",
    "image = cv2.imread(\"examples/example_03.png\")\n",
    "orig = image.copy()\n",
    "(h, w) = image.shape[:2]\n",
    "\n",
    "# construct a blob from the image\n",
    "blob = cv2.dnn.blobFromImage(image, 1.0, (300, 300),\n",
    "\t(104.0, 177.0, 123.0))\n",
    "\n",
    "# pass the blob through the network and obtain the face detections\n",
    "print(\"[INFO] computing face detections...\")\n",
    "net.setInput(blob)\n",
    "detections = net.forward()\n",
    "\n",
    "# loop over the detections\n",
    "for i in range(0, detections.shape[2]):\n",
    "\t# extract the confidence (i.e., probability) associated with\n",
    "\t# the detection\n",
    "\tconfidence = detections[0, 0, i, 2]\n",
    "\n",
    "\t# filter out weak detections by ensuring the confidence is\n",
    "\t# greater than the minimum confidence\n",
    "\tif confidence > 0.5:\n",
    "\t\t# compute the (x, y)-coordinates of the bounding box for\n",
    "\t\t# the object\n",
    "\t\tbox = detections[0, 0, i, 3:7] * np.array([w, h, w, h])\n",
    "\t\t(startX, startY, endX, endY) = box.astype(\"int\")\n",
    "\n",
    "\t\t# ensure the bounding boxes fall within the dimensions of\n",
    "\t\t# the frame\n",
    "\t\t(startX, startY) = (max(0, startX), max(0, startY))\n",
    "\t\t(endX, endY) = (min(w - 1, endX), min(h - 1, endY))\n",
    "\n",
    "\t\t# extract the face ROI, convert it from BGR to RGB channel\n",
    "\t\t# ordering, resize it to 224x224, and preprocess it\n",
    "\t\tface = image[startY:endY, startX:endX]\n",
    "\t\tface = cv2.cvtColor(face, cv2.COLOR_BGR2RGB)\n",
    "\t\tface = cv2.resize(face, (224, 224))\n",
    "\t\tface = img_to_array(face)\n",
    "\t\tface = preprocess_input(face)\n",
    "\t\tface = np.expand_dims(face, axis=0)\n",
    "\n",
    "\t\t# pass the face through the model to determine if the face\n",
    "\t\t# has a mask or not\n",
    "\t\t(mask, withoutMask) = model.predict(face)[0]\n",
    "\n",
    "\t\t# determine the class label and color we'll use to draw\n",
    "\t\t# the bounding box and text\n",
    "\t\tlabel = \"Mask\" if mask > withoutMask else \"No Mask\"\n",
    "\t\tcolor = (0, 255, 0) if label == \"Mask\" else (0, 0, 255)\n",
    "\n",
    "\t\t# include the probability in the label\n",
    "\t\tlabel = \"{}: {:.2f}%\".format(label, max(mask, withoutMask) * 100)\n",
    "\n",
    "\t\t# display the label and bounding box rectangle on the output\n",
    "\t\t# frame\n",
    "\t\tcv2.putText(image, label, (startX, startY - 10),\n",
    "\t\t\tcv2.FONT_HERSHEY_SIMPLEX, 0.45, color, 2)\n",
    "\t\tcv2.rectangle(image, (startX, startY), (endX, endY), color, 2)\n",
    "\n",
    "# show the output image\n",
    "cv2.imshow(\"Output\", image)\n",
    "cv2.waitKey(0)"
   ]
  },
  {
   "cell_type": "markdown",
   "metadata": {},
   "source": [
    "Completa algunas líneas para que funcione con la cámara..."
   ]
  },
  {
   "cell_type": "code",
   "execution_count": 1,
   "metadata": {},
   "outputs": [
    {
     "name": "stdout",
     "output_type": "stream",
     "text": [
      "[INFO] loading face detector model...\n",
      "[INFO] loading face mask detector model...\n",
      "[INFO] starting video stream...\n"
     ]
    }
   ],
   "source": [
    "# import the necessary packages\n",
    "from tensorflow.keras.applications.mobilenet_v2 import preprocess_input\n",
    "from tensorflow.keras.preprocessing.image import img_to_array\n",
    "from tensorflow.keras.models import load_model\n",
    "from imutils.video import VideoStream\n",
    "import numpy as np\n",
    "import argparse\n",
    "import imutils\n",
    "import time\n",
    "import cv2\n",
    "import os\n",
    "\n",
    "def detect_and_predict_mask(frame, faceNet, maskNet):\n",
    "\t# grab the dimensions of the frame and then construct a blob\n",
    "\t# from it\n",
    "\t(h, w) = frame.shape[:2]\n",
    "\tblob = cv2.dnn.blobFromImage(frame, 1.0, (300, 300),(104.0, 177.0, 123.0))\n",
    "\n",
    "\t# pass the blob through the network and obtain the face detections\n",
    "\tfaceNet.setInput(blob)\n",
    "\tdetections = faceNet.forward()\n",
    "\n",
    "\t# initialize our list of faces, their corresponding locations,\n",
    "\t# and the list of predictions from our face mask network\n",
    "\tfaces = []\n",
    "\tlocs = []\n",
    "\tpreds = []\n",
    "\n",
    "\t# loop over the detections\n",
    "\tfor i in range(0, detections.shape[2]):\n",
    "\t\t# extract the confidence (i.e., probability) associated with\n",
    "\t\t# the detection\n",
    "\t\tconfidence = detections[0, 0, i, 2]\n",
    "\n",
    "\t\t# filter out weak detections by ensuring the confidence is\n",
    "\t\t# greater than the minimum confidence\n",
    "\t\tif confidence > 0.5:\n",
    "\t\t\t# compute the (x, y)-coordinates of the bounding box for\n",
    "\t\t\t# the object\n",
    "\t\t\tbox = detections[0, 0, i, 3:7] * np.array([w, h, w, h])\n",
    "\t\t\t(startX, startY, endX, endY) = box.astype(\"int\")\n",
    "\n",
    "\t\t\t# ensure the bounding boxes fall within the dimensions of\n",
    "\t\t\t# the frame\n",
    "\t\t\t(startX, startY) = (max(0, startX), max(0, startY))\n",
    "\t\t\t(endX, endY) = (min(w - 1, endX), min(h - 1, endY))\n",
    "\n",
    "\t\t\t# extract the face ROI, convert it from BGR to RGB channel\n",
    "\t\t\t# ordering, resize it to 224x224, and preprocess it\n",
    "\t\t\tface = frame[startY:endY, startX:endX]\n",
    "\t\t\tface = cv2.cvtColor(face, cv2.COLOR_BGR2RGB)\n",
    "\t\t\tface = cv2.resize(face, (224, 224))\n",
    "\t\t\tface = img_to_array(face)\n",
    "\t\t\tface = preprocess_input(face)\n",
    "\t\t\tface = np.expand_dims(face, axis=0)\n",
    "\n",
    "\t\t\t# add the face and bounding boxes to their respective\n",
    "\t\t\t# lists\n",
    "\t\t\tfaces.append(face)\n",
    "\t\t\tlocs.append((startX, startY, endX, endY))\n",
    "\n",
    "\t# only make a predictions if at least one face was detected\n",
    "\tif len(faces) > 0:\n",
    "\t\t# for faster inference we'll make batch predictions on *all*\n",
    "\t\t# faces at the same time rather than one-by-one predictions\n",
    "\t\t# in the above `for` loop\n",
    "\t\tpreds = maskNet.predict(faces)\n",
    "\n",
    "\t# return a 2-tuple of the face locations and their corresponding\n",
    "\t# locations\n",
    "\treturn (locs, preds)\n",
    "\n",
    "# load our serialized face detector model from disk\n",
    "print(\"[INFO] loading face detector model...\")\n",
    "faceNet = cv2.dnn.readNet(\"face_detector/deploy.prototxt\", \"face_detector/res10_300x300_ssd_iter_140000.caffemodel\")\n",
    "\n",
    "# load the face mask detector model from disk\n",
    "print(\"[INFO] loading face mask detector model...\")\n",
    "maskNet = load_model(\"mask_detector.model\")\n",
    "\n",
    "# initialize the video stream and allow the camera sensor to warm up\n",
    "print(\"[INFO] starting video stream...\")\n",
    "vs = VideoStream(src=1).start()\n",
    "time.sleep(2.0)\n",
    "\n",
    "# loop over the frames from the video stream\n",
    "while True:\n",
    "\t# grab the frame from the threaded video stream and resize it\n",
    "\t# to have a maximum width of 400 pixels\n",
    "\tframe = vs.read()\n",
    "\tframe = imutils.resize(frame, width=400)\n",
    "\n",
    "\t# detect faces in the frame and determine if they are wearing a\n",
    "\t# face mask or not\n",
    "\t(locs, preds) = detect_and_predict_mask(frame, faceNet, maskNet)\n",
    "\n",
    "\t# loop over the detected face locations and their corresponding\n",
    "\t# locations\n",
    "\tfor (box, pred) in zip(locs, preds):\n",
    "\t\t# unpack the bounding box and predictions\n",
    "\t\t(startX, startY, endX, endY) = box\n",
    "\t\t(mask, withoutMask) = pred\n",
    "\n",
    "\t\t# determine the class label and color we'll use to draw\n",
    "\t\t# the bounding box and text\n",
    "\t\tlabel = \"Mask\" if mask > withoutMask else \"No Mask\"\n",
    "\t\tcolor = (0, 255, 0) if label == \"Mask\" else (0, 0, 255)\n",
    "\n",
    "\t\t# include the probability in the label\n",
    "\t\tlabel = \"{}: {:.2f}%\".format(label, max(mask, withoutMask) * 100)\n",
    "\n",
    "\t\t# display the label and bounding box rectangle on the output\n",
    "\t\t# frame\n",
    "\t\tcv2.putText(frame, label, (startX, startY - 10),\n",
    "\t\t\tcv2.FONT_HERSHEY_SIMPLEX, 0.45, color, 2)\n",
    "\t\tcv2.rectangle(frame, (startX, startY), (endX, endY), color, 2)\n",
    "\n",
    "\t# show the output frame\n",
    "\tcv2.imshow(\"Frame\", frame)\n",
    "\tkey = cv2.waitKey(1) & 0xFF\n",
    "\n",
    "\t# if the `q` key was pressed, break from the loop\n",
    "\tif key == ord(\"q\"):\n",
    "\t\tbreak\n",
    "\n",
    "# do a bit of cleanup\n",
    "cv2.destroyAllWindows()\n",
    "vs.stop()"
   ]
  },
  {
   "cell_type": "code",
   "execution_count": null,
   "metadata": {},
   "outputs": [],
   "source": []
  }
 ],
 "metadata": {
  "kernelspec": {
   "display_name": "Python 3",
   "language": "python",
   "name": "python3"
  },
  "language_info": {
   "codemirror_mode": {
    "name": "ipython",
    "version": 3
   },
   "file_extension": ".py",
   "mimetype": "text/x-python",
   "name": "python",
   "nbconvert_exporter": "python",
   "pygments_lexer": "ipython3",
   "version": "3.7.6"
  }
 },
 "nbformat": 4,
 "nbformat_minor": 4
}
