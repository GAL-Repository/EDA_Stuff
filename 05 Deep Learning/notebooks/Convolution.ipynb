{
  "nbformat": 4,
  "nbformat_minor": 0,
  "metadata": {
    "colab": {
      "name": "Convolution.ipynb",
      "provenance": [],
      "toc_visible": true
    },
    "kernelspec": {
      "name": "python3",
      "display_name": "Python 3"
    },
    "language_info": {
      "name": "python"
    }
  },
  "cells": [
    {
      "cell_type": "markdown",
      "source": [
        "<a href=\"https://colab.research.google.com/github/DCDPUAEM/DCDP_2022/blob/main/05%20Deep%20Learning/notebooks/Convolution.ipynb\" target=\"_parent\"><img src=\"https://colab.research.google.com/assets/colab-badge.svg\" alt=\"Open In Colab\"/></a>"
      ],
      "metadata": {
        "id": "IbADsN34mcwb"
      }
    },
    {
      "cell_type": "markdown",
      "source": [
        "# Convolución en imágenes\n",
        "\n",
        "El objetivo de esta notebook es mostrar ejemplos de como funciona la convolución en imágenes. "
      ],
      "metadata": {
        "id": "ewX_ctsSkvp9"
      }
    },
    {
      "cell_type": "code",
      "source": [
        "#@title Funciones para la convolución matricial\n",
        "import numbers\n",
        "from numpy.lib.stride_tricks import as_strided\n",
        "import numpy as np\n",
        "\n",
        "def extract_patches(arr, patch_shape=8, extraction_step=1):\n",
        "    \"\"\"Extracts patches of any n-dimensional array in place using strides.\n",
        "    Given an n-dimensional array it will return a 2n-dimensional array with\n",
        "    the first n dimensions indexing patch position and the last n indexing\n",
        "    the patch content. This operation is immediate (O(1)). A reshape\n",
        "    performed on the first n dimensions will cause numpy to copy data, leading\n",
        "    to a list of extracted patches.\n",
        "    Read more in the :ref:`User Guide <image_feature_extraction>`.\n",
        "    Parameters\n",
        "    ----------\n",
        "    arr : ndarray\n",
        "        n-dimensional array of which patches are to be extracted\n",
        "    patch_shape : int or tuple of length arr.ndim.default=8\n",
        "        Indicates the shape of the patches to be extracted. If an\n",
        "        integer is given, the shape will be a hypercube of\n",
        "        sidelength given by its value.\n",
        "    extraction_step : int or tuple of length arr.ndim, default=1\n",
        "        Indicates step size at which extraction shall be performed.\n",
        "        If integer is given, then the step is uniform in all dimensions.\n",
        "    Returns\n",
        "    -------\n",
        "    patches : strided ndarray\n",
        "        2n-dimensional array indexing patches on first n dimensions and\n",
        "        containing patches on the last n dimensions. These dimensions\n",
        "        are fake, but this way no data is copied. A simple reshape invokes\n",
        "        a copying operation to obtain a list of patches:\n",
        "        result.reshape([-1] + list(patch_shape))\n",
        "    \"\"\"\n",
        "\n",
        "    arr_ndim = arr.ndim\n",
        "\n",
        "    if isinstance(patch_shape, numbers.Number):\n",
        "        patch_shape = tuple([patch_shape] * arr_ndim)\n",
        "    if isinstance(extraction_step, numbers.Number):\n",
        "        extraction_step = tuple([extraction_step] * arr_ndim)\n",
        "\n",
        "    patch_strides = arr.strides\n",
        "\n",
        "    slices = tuple(slice(None, None, st) for st in extraction_step)\n",
        "    indexing_strides = arr[slices].strides\n",
        "\n",
        "    patch_indices_shape = (\n",
        "        (np.array(arr.shape) - np.array(patch_shape)) // np.array(extraction_step)\n",
        "    ) + 1\n",
        "\n",
        "    shape = tuple(list(patch_indices_shape) + list(patch_shape))\n",
        "    strides = tuple(list(indexing_strides) + list(patch_strides))\n",
        "\n",
        "    patches = as_strided(arr, shape=shape, strides=strides)\n",
        "    return patches\n",
        "\n",
        "def conv2d(img, krn):\n",
        "    '''\n",
        "    Función que realiza la convolución en una posición de la imágen\n",
        "    '''\n",
        "    is0, is1, ks0, ks1 = *img.shape, *krn.shape\n",
        "    rs0, rs1 = is0 - ks0 + 1, is1 - ks1 + 1\n",
        "    res = np.zeros((rs0, rs1), dtype = krn.dtype)\n",
        "    \n",
        "    for i in range(rs0):\n",
        "        for j in range(rs1):\n",
        "            res[i, j] = (krn * img[i : i + ks0, j : j + ks1]).sum()\n",
        "            \n",
        "    return res\n",
        "\n",
        "def convolution(I,K):\n",
        "    '''\n",
        "    Función que recorre toda la imágen I realizando la convolución en cada posición\n",
        "    '''\n",
        "    C = np.zeros_like(I)\n",
        "    EI = np.pad(I, [(1,1), (1,1)], mode='constant', constant_values=0)\n",
        "    submatrices = extract_patches(EI,(3,3))\n",
        "    for i,row in enumerate(submatrices):\n",
        "        for j,x in enumerate(row):\n",
        "            C[i,j] = conv2d_slow(x,K)[0,0]\n",
        "    return C"
      ],
      "metadata": {
        "cellView": "form",
        "id": "JqpvjkxSZpre"
      },
      "execution_count": 100,
      "outputs": []
    },
    {
      "cell_type": "markdown",
      "source": [
        "## Kernels\n",
        "\n",
        "Definimos explícitamente algunos kernels de $3\\times 3$"
      ],
      "metadata": {
        "id": "NQ6CPqRphLiq"
      }
    },
    {
      "cell_type": "code",
      "source": [
        "K_shift_left = np.array([[0,0,0],[0,0,1],[0,0,0]])\n",
        "print(K_shift_left)"
      ],
      "metadata": {
        "colab": {
          "base_uri": "https://localhost:8080/"
        },
        "id": "mVcWTTvjS1uf",
        "outputId": "79c45a3c-6e60-4631-cdf5-a4d2e0f15c8d"
      },
      "execution_count": 51,
      "outputs": [
        {
          "output_type": "stream",
          "name": "stdout",
          "text": [
            "[[0 0 0]\n",
            " [0 0 1]\n",
            " [0 0 0]]\n"
          ]
        }
      ]
    },
    {
      "cell_type": "code",
      "source": [
        "x = 1/9\n",
        "K_blur = np.array([x for j in range(9)]).reshape(3,3)\n",
        "print(K_blur)"
      ],
      "metadata": {
        "colab": {
          "base_uri": "https://localhost:8080/"
        },
        "id": "yDp6EEm4ejW2",
        "outputId": "3efd0616-c219-4f9f-a0a8-ce0897a800c0"
      },
      "execution_count": 50,
      "outputs": [
        {
          "output_type": "stream",
          "name": "stdout",
          "text": [
            "[[0.11111111 0.11111111 0.11111111]\n",
            " [0.11111111 0.11111111 0.11111111]\n",
            " [0.11111111 0.11111111 0.11111111]]\n"
          ]
        }
      ]
    },
    {
      "cell_type": "code",
      "source": [
        "K_gaussian_blur = (1/16)*np.array([[1,2,1],[2,4,2],[1,2,1]])\n",
        "print(K_gaussian_blur)"
      ],
      "metadata": {
        "colab": {
          "base_uri": "https://localhost:8080/"
        },
        "id": "gSBeZCdWhOfX",
        "outputId": "4690aa42-43fb-4b6d-bac0-ebca6cec53ac"
      },
      "execution_count": 68,
      "outputs": [
        {
          "output_type": "stream",
          "name": "stdout",
          "text": [
            "[[0.0625 0.125  0.0625]\n",
            " [0.125  0.25   0.125 ]\n",
            " [0.0625 0.125  0.0625]]\n"
          ]
        }
      ]
    },
    {
      "cell_type": "code",
      "source": [
        "K_sharpen = np.array([[0,-1,0],[-1,5,-1],[0,-1,0]])\n",
        "print(K_sharpen)"
      ],
      "metadata": {
        "colab": {
          "base_uri": "https://localhost:8080/"
        },
        "id": "2e_UjNf-i54o",
        "outputId": "72107e71-a9d3-4763-98f9-4b79a13beb19"
      },
      "execution_count": 83,
      "outputs": [
        {
          "output_type": "stream",
          "name": "stdout",
          "text": [
            "[[ 0 -1  0]\n",
            " [-1  5 -1]\n",
            " [ 0 -1  0]]\n"
          ]
        }
      ]
    },
    {
      "cell_type": "code",
      "source": [
        "K_edge = np.array([[-1,-1,-1],[-1,8,-1],[-1,-1,-1]])\n",
        "print(K_edge)"
      ],
      "metadata": {
        "colab": {
          "base_uri": "https://localhost:8080/"
        },
        "id": "qrVi3RN7jjs5",
        "outputId": "2d7ae2ac-e9f1-4817-f86c-512d2906d068"
      },
      "execution_count": 87,
      "outputs": [
        {
          "output_type": "stream",
          "name": "stdout",
          "text": [
            "[[-1 -1 -1]\n",
            " [-1  8 -1]\n",
            " [-1 -1 -1]]\n"
          ]
        }
      ]
    },
    {
      "cell_type": "code",
      "source": [
        "K_sobel_edge = np.array([[-1,-2,-1],[0,0,0],[1,2,1]])\n",
        "print(K_sobel_edge)"
      ],
      "metadata": {
        "colab": {
          "base_uri": "https://localhost:8080/"
        },
        "id": "s0xE8DY9kPWI",
        "outputId": "c044fab7-b101-49b0-c7ba-3c640ef1f7dc"
      },
      "execution_count": 97,
      "outputs": [
        {
          "output_type": "stream",
          "name": "stdout",
          "text": [
            "[[-1 -2 -1]\n",
            " [ 0  0  0]\n",
            " [ 1  2  1]]\n"
          ]
        }
      ]
    },
    {
      "cell_type": "markdown",
      "source": [
        "## Toy examples\n",
        "\n",
        "Aplicamos la convolución a ejemplos pequeños para observar el efecto en las matrices"
      ],
      "metadata": {
        "id": "nys6_0NshDn3"
      }
    },
    {
      "cell_type": "markdown",
      "source": [
        "Definimos una matriz arbitraria"
      ],
      "metadata": {
        "id": "k4UCOh8vlJbU"
      }
    },
    {
      "cell_type": "code",
      "execution_count": 102,
      "metadata": {
        "colab": {
          "base_uri": "https://localhost:8080/"
        },
        "id": "dNiqOj7RSslb",
        "outputId": "ae7a2dc7-4f77-4088-cbdf-7ee2fb53bd66"
      },
      "outputs": [
        {
          "output_type": "stream",
          "name": "stdout",
          "text": [
            "[[ 1  2  3  4  5]\n",
            " [ 6  7  8  9 10]\n",
            " [11 12 13 14 15]\n",
            " [16 17 18 19 20]]\n"
          ]
        }
      ],
      "source": [
        "I1 = np.array(range(1,21)).reshape(4,5)\n",
        "print(I1)"
      ]
    },
    {
      "cell_type": "markdown",
      "source": [
        "Padding"
      ],
      "metadata": {
        "id": "CHEBrnTqexRM"
      }
    },
    {
      "cell_type": "code",
      "source": [
        "EI = np.pad(I1, [(1,1), (1,1)], mode='constant', constant_values=0)\n",
        "EI"
      ],
      "metadata": {
        "colab": {
          "base_uri": "https://localhost:8080/"
        },
        "id": "5XH6Ob8_W7jB",
        "outputId": "cfb1529f-6123-4058-da0d-1f447a96f4dc"
      },
      "execution_count": 104,
      "outputs": [
        {
          "output_type": "execute_result",
          "data": {
            "text/plain": [
              "array([[ 0,  0,  0,  0,  0,  0,  0],\n",
              "       [ 0,  1,  2,  3,  4,  5,  0],\n",
              "       [ 0,  6,  7,  8,  9, 10,  0],\n",
              "       [ 0, 11, 12, 13, 14, 15,  0],\n",
              "       [ 0, 16, 17, 18, 19, 20,  0],\n",
              "       [ 0,  0,  0,  0,  0,  0,  0]])"
            ]
          },
          "metadata": {},
          "execution_count": 104
        }
      ]
    },
    {
      "cell_type": "markdown",
      "source": [
        "Realizamos la convolución de shift a la izquierda"
      ],
      "metadata": {
        "id": "_MK2ur7GlNcW"
      }
    },
    {
      "cell_type": "code",
      "source": [
        "print(\"Imagen original:\\n\",I1)\n",
        "print(\"Imagen transformada:\\n\",convolution(I1,K_shift_left))"
      ],
      "metadata": {
        "colab": {
          "base_uri": "https://localhost:8080/"
        },
        "id": "EeZZdgbfcqH-",
        "outputId": "91c16174-bb1c-4753-db26-e54e15ab4af9"
      },
      "execution_count": 105,
      "outputs": [
        {
          "output_type": "stream",
          "name": "stdout",
          "text": [
            "Imagen original:\n",
            " [[ 1  2  3  4  5]\n",
            " [ 6  7  8  9 10]\n",
            " [11 12 13 14 15]\n",
            " [16 17 18 19 20]]\n",
            "Imagen transformada:\n",
            " [[ 2  3  4  5  0]\n",
            " [ 7  8  9 10  0]\n",
            " [12 13 14 15  0]\n",
            " [17 18 19 20  0]]\n"
          ]
        }
      ]
    },
    {
      "cell_type": "markdown",
      "source": [
        "Realizamos la convolución con un filtro de desenfoque"
      ],
      "metadata": {
        "id": "fO4Ek8TslaB7"
      }
    },
    {
      "cell_type": "code",
      "source": [
        "print(\"Imagen original:\\n\",I1)\n",
        "print(\"Imagen transformada:\\n\",convolution(I1,K_blur))"
      ],
      "metadata": {
        "colab": {
          "base_uri": "https://localhost:8080/"
        },
        "id": "Wp_OsV3Ac20e",
        "outputId": "7fa6858c-3408-4705-cb5a-7496e41cfb90"
      },
      "execution_count": 106,
      "outputs": [
        {
          "output_type": "stream",
          "name": "stdout",
          "text": [
            "Imagen original:\n",
            " [[ 1  2  3  4  5]\n",
            " [ 6  7  8  9 10]\n",
            " [11 12 13 14 15]\n",
            " [16 17 18 19 20]]\n",
            "Imagen transformada:\n",
            " [[ 1  2  3  4  3]\n",
            " [ 4  6  7  9  6]\n",
            " [ 7 12 13 14  9]\n",
            " [ 6  9 10 11  7]]\n"
          ]
        }
      ]
    },
    {
      "cell_type": "markdown",
      "source": [
        "## Ejemplos con Imágenes\n",
        "\n",
        "Ahora, aplicamos los filtros de convolución anteriores a imágenes reales. Usamos imágenes del dataset MNIST."
      ],
      "metadata": {
        "id": "FwkkyBOHfG78"
      }
    },
    {
      "cell_type": "markdown",
      "source": [
        "Funciones para graficar matrices como imágenes"
      ],
      "metadata": {
        "id": "D5UO_F-0ix1C"
      }
    },
    {
      "cell_type": "code",
      "source": [
        "import matplotlib.pyplot as plt\n",
        "\n",
        "def show_img(X):\n",
        "    plt.figure()\n",
        "    plt.imshow(X, cmap='gray')\n",
        "    plt.axis(\"Off\")\n",
        "    plt.show()\n",
        "\n",
        "def show_imgs(X,Z):\n",
        "    plt.subplot(1, 2, 1)\n",
        "    plt.imshow(X, cmap='gray')\n",
        "    plt.title('Before')\n",
        "    plt.axis(\"Off\")\n",
        "    plt.subplot(1, 2, 2)\n",
        "    plt.imshow(Z, cmap='gray')\n",
        "    plt.title('After')\n",
        "    plt.axis(\"Off\")\n",
        "    plt.show()"
      ],
      "metadata": {
        "id": "WGxr96Tbgh4d"
      },
      "execution_count": 78,
      "outputs": []
    },
    {
      "cell_type": "code",
      "source": [
        "from tensorflow.keras.datasets import mnist\n",
        "\n",
        "(X_train, _), (X_test, _) = mnist.load_data()"
      ],
      "metadata": {
        "id": "wpIO4L18aKNe"
      },
      "execution_count": 58,
      "outputs": []
    },
    {
      "cell_type": "markdown",
      "source": [
        "Escogemos una imagen del dataset MNIST"
      ],
      "metadata": {
        "id": "uiIC8118fhld"
      }
    },
    {
      "cell_type": "code",
      "source": [
        "import matplotlib.pyplot as plt\n",
        "\n",
        "idx = 100\n",
        "I = X_train[idx]\n",
        "show_img(I)"
      ],
      "metadata": {
        "colab": {
          "base_uri": "https://localhost:8080/",
          "height": 248
        },
        "id": "PNzltUVCfY0o",
        "outputId": "08a2767b-aebf-4d6b-8914-56cbcf8a5ee6"
      },
      "execution_count": 90,
      "outputs": [
        {
          "output_type": "display_data",
          "data": {
            "text/plain": [
              "<Figure size 432x288 with 1 Axes>"
            ],
            "image/png": "[encoded data removed]"
          },
          "metadata": {
            "needs_background": "light"
          }
        }
      ]
    },
    {
      "cell_type": "markdown",
      "source": [
        "**Box Blur**"
      ],
      "metadata": {
        "id": "g3_IDrtNi17y"
      }
    },
    {
      "cell_type": "code",
      "source": [
        "It = convolution(I,K_blur)\n",
        "show_imgs(I,It)\n",
        "print(K_blur)"
      ],
      "metadata": {
        "colab": {
          "base_uri": "https://localhost:8080/",
          "height": 251
        },
        "id": "vd_hgqdwff9h",
        "outputId": "1139f65f-3bf9-4ed3-a2e4-5279bfad1ca3"
      },
      "execution_count": 91,
      "outputs": [
        {
          "output_type": "display_data",
          "data": {
            "text/plain": [
              "<Figure size 432x288 with 2 Axes>"
            ],
            "image/png": "[encoded data removed]"
          },
          "metadata": {
            "needs_background": "light"
          }
        },
        {
          "output_type": "stream",
          "name": "stdout",
          "text": [
            "[[0.11111111 0.11111111 0.11111111]\n",
            " [0.11111111 0.11111111 0.11111111]\n",
            " [0.11111111 0.11111111 0.11111111]]\n"
          ]
        }
      ]
    },
    {
      "cell_type": "markdown",
      "source": [
        "**Gaussian Blur**"
      ],
      "metadata": {
        "id": "CZTsQuRYhiqm"
      }
    },
    {
      "cell_type": "code",
      "source": [
        "It = convolution(I,K_gaussian_blur)\n",
        "show_imgs(I,It)\n",
        "print(K_gaussian_blur)"
      ],
      "metadata": {
        "colab": {
          "base_uri": "https://localhost:8080/",
          "height": 251
        },
        "id": "R13sP7syg3aA",
        "outputId": "71ec23df-c6cc-4cea-b09d-b24d2b2426ff"
      },
      "execution_count": 92,
      "outputs": [
        {
          "output_type": "display_data",
          "data": {
            "text/plain": [
              "<Figure size 432x288 with 2 Axes>"
            ],
            "image/png": "[encoded data removed]"
          },
          "metadata": {
            "needs_background": "light"
          }
        },
        {
          "output_type": "stream",
          "name": "stdout",
          "text": [
            "[[0.0625 0.125  0.0625]\n",
            " [0.125  0.25   0.125 ]\n",
            " [0.0625 0.125  0.0625]]\n"
          ]
        }
      ]
    },
    {
      "cell_type": "markdown",
      "source": [
        "**Sharpen**"
      ],
      "metadata": {
        "id": "iIdACJIplxt9"
      }
    },
    {
      "cell_type": "code",
      "source": [
        "It = convolution(I,K_sharpen)\n",
        "show_imgs(I,It)\n",
        "print(K_sharpen)"
      ],
      "metadata": {
        "colab": {
          "base_uri": "https://localhost:8080/",
          "height": 251
        },
        "id": "jY6GEuMihnHu",
        "outputId": "a4502a10-598e-4960-f084-8c868ea9c82c"
      },
      "execution_count": 93,
      "outputs": [
        {
          "output_type": "display_data",
          "data": {
            "text/plain": [
              "<Figure size 432x288 with 2 Axes>"
            ],
            "image/png": "[encoded data removed]"
          },
          "metadata": {
            "needs_background": "light"
          }
        },
        {
          "output_type": "stream",
          "name": "stdout",
          "text": [
            "[[ 0 -1  0]\n",
            " [-1  5 -1]\n",
            " [ 0 -1  0]]\n"
          ]
        }
      ]
    },
    {
      "cell_type": "markdown",
      "source": [
        "**Edge dectection**"
      ],
      "metadata": {
        "id": "bvjlYu8rl0ES"
      }
    },
    {
      "cell_type": "code",
      "source": [
        "It = convolution(I,K_edge)\n",
        "show_imgs(I,It)\n",
        "print(K_edge)"
      ],
      "metadata": {
        "colab": {
          "base_uri": "https://localhost:8080/",
          "height": 251
        },
        "id": "Jbu4bqK-jN4W",
        "outputId": "a5138a40-874c-4c81-f5f8-5a0e26b7cf45"
      },
      "execution_count": 94,
      "outputs": [
        {
          "output_type": "display_data",
          "data": {
            "text/plain": [
              "<Figure size 432x288 with 2 Axes>"
            ],
            "image/png": "[encoded data removed]"
          },
          "metadata": {
            "needs_background": "light"
          }
        },
        {
          "output_type": "stream",
          "name": "stdout",
          "text": [
            "[[-1 -1 -1]\n",
            " [-1  8 -1]\n",
            " [-1 -1 -1]]\n"
          ]
        }
      ]
    },
    {
      "cell_type": "markdown",
      "source": [
        "**Edge dectection**"
      ],
      "metadata": {
        "id": "sOClxT_il2hh"
      }
    },
    {
      "cell_type": "code",
      "source": [
        "It = convolution(I,K_shift_left)\n",
        "show_imgs(I,It)\n",
        "print(K_shift_left)"
      ],
      "metadata": {
        "colab": {
          "base_uri": "https://localhost:8080/",
          "height": 251
        },
        "id": "97XnMbOxjwqr",
        "outputId": "4024912b-dd29-464e-a2fe-ee0b62fb960f"
      },
      "execution_count": 95,
      "outputs": [
        {
          "output_type": "display_data",
          "data": {
            "text/plain": [
              "<Figure size 432x288 with 2 Axes>"
            ],
            "image/png": "[encoded data removed]"
          },
          "metadata": {
            "needs_background": "light"
          }
        },
        {
          "output_type": "stream",
          "name": "stdout",
          "text": [
            "[[0 0 0]\n",
            " [0 0 1]\n",
            " [0 0 0]]\n"
          ]
        }
      ]
    },
    {
      "cell_type": "markdown",
      "source": [
        "**Shift**"
      ],
      "metadata": {
        "id": "NH01BuOOl3yC"
      }
    },
    {
      "cell_type": "code",
      "source": [
        "It = convolution(I,np.transpose(K_sobel_edge))\n",
        "show_imgs(I,It)\n",
        "print(K_sobel_edge)"
      ],
      "metadata": {
        "colab": {
          "base_uri": "https://localhost:8080/",
          "height": 251
        },
        "id": "7J3zR5Jnj-Kw",
        "outputId": "2104e027-9965-4e02-bb6b-a4301c020a46"
      },
      "execution_count": 99,
      "outputs": [
        {
          "output_type": "display_data",
          "data": {
            "text/plain": [
              "<Figure size 432x288 with 2 Axes>"
            ],
            "image/png": "[encoded data removed]"
          },
          "metadata": {
            "needs_background": "light"
          }
        },
        {
          "output_type": "stream",
          "name": "stdout",
          "text": [
            "[[-1 -2 -1]\n",
            " [ 0  0  0]\n",
            " [ 1  2  1]]\n"
          ]
        }
      ]
    }
  ]
}