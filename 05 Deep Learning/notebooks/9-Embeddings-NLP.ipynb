{
  "cells": [
    {
      "cell_type": "markdown",
      "source": [
        "<a href=\"https://colab.research.google.com/github/DCDPUAEM/DCDP_2022/blob/main/05%20Deep%20Learning/notebooks/9-Embeddings-NLP.ipynb\" target=\"_parent\"><img src=\"https://colab.research.google.com/assets/colab-badge.svg\" alt=\"Open In Colab\"/></a>"
      ],
      "metadata": {
        "id": "A28P3OxuKsYw"
      }
    },
    {
      "cell_type": "markdown",
      "metadata": {
        "id": "0vfQ3ENQ5dY5"
      },
      "source": [
        "<h1>Embeddings para NLP</h1>\n",
        "\n",
        "En esta notebook exploraremos los embeddings de palabras o documentos, también analizaremos algunos de sus aplicaciones.\n",
        "\n",
        "Nos concentraremos en uno de los principales métodos de embeddings *word2vec*."
      ]
    },
    {
      "cell_type": "markdown",
      "metadata": {
        "id": "dPKGT8w3PO68"
      },
      "source": [
        "#Introducción\n",
        "\n",
        "![w2v-cbow.png](data:image/png;base64,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)"
      ]
    },
    {
      "cell_type": "markdown",
      "metadata": {
        "id": "wuILubEBpcN_"
      },
      "source": [
        "Word2vec es un modelo que asocia representaciones vectoriales a cada palabra en un corpus. Esta asociación se hace entrenando una red neuronal superficial en la tarea de predecir una palabra dado un contexto. La matriz de pesos resultante del entrenamiento contiene representaciones vectoriales aprendidas por la red, es decir, es la codificación que la red ha hecho de cada palabra. **Este es el principio general de los embeddings, son representaciones vectoriales densas de las features vistas por la red durante el entrenamiento.**\n",
        "\n",
        "Como resultado de este entrenamiento, palabras ocurriendo en contextos similares tienen vectores cercanos. Que dos palabras ocurran en contextos similares se ilustra en este ejemplo:\n",
        "\n",
        "* La niña juega con la **pelota**\n",
        "* La niña juega con la **patineta**\n",
        "\n",
        "En este caso, las palabras *pelota* y *patineta* ocurren en contextos similares y por lo tanto, tendrán vectores similares. Esto es equivalente a la hipótesis de la semántica distributiva, que también puede enunciarse como *se le conoce a una palabra por la compañía que mantiene*.\n",
        "\n",
        "Se ha demostrado empíricamente que los patrones semánticos y sintácticos pueden reproducirse utilizando la aritmética vectorial. Patrones como *Hombre es a Mujer como Hermano es a Hermana* pueden ser generados a través de operaciones algebraicas en las representaciones vectoriales de estas palabras de tal manera que el vector \n",
        "\n",
        "$$v_\\text{Hermano} - v_\\text{Hombre} + v_\\text{Mujer}$$\n",
        "\n",
        "es el más cercano a la representación vectorial de \"Hermana\" en el modelo.\n",
        "\n",
        "Frecuentemente, los embeddings tienen regularidades geométricas representando fenómenos propios del problema que se esta modelando."
      ]
    },
    {
      "cell_type": "markdown",
      "source": [
        "# Modelos pre-entrenados"
      ],
      "metadata": {
        "id": "v2Sbg88UA96J"
      }
    },
    {
      "cell_type": "markdown",
      "source": [
        "Se pueden descargar modelos pre-entrenados en corpus muy grandes. Una manera de hacerlo es usando los modelos de `gensim`. La manera de hacerlo es la siguiente:"
      ],
      "metadata": {
        "id": "lNOQxMtIBB0m"
      }
    },
    {
      "cell_type": "code",
      "execution_count": null,
      "metadata": {
        "id": "bkhqsopxJ-8t"
      },
      "outputs": [],
      "source": [
        "import gensim.downloader"
      ]
    },
    {
      "cell_type": "code",
      "execution_count": null,
      "metadata": {
        "colab": {
          "base_uri": "https://localhost:8080/"
        },
        "id": "1OWE4WMFKB7r",
        "outputId": "35cfab61-5e90-471c-82a4-8fbff59a54ae"
      },
      "outputs": [
        {
          "name": "stdout",
          "output_type": "stream",
          "text": [
            "fasttext-wiki-news-subwords-300\n",
            "conceptnet-numberbatch-17-06-300\n",
            "word2vec-ruscorpora-300\n",
            "word2vec-google-news-300\n",
            "glove-wiki-gigaword-50\n",
            "glove-wiki-gigaword-100\n",
            "glove-wiki-gigaword-200\n",
            "glove-wiki-gigaword-300\n",
            "glove-twitter-25\n",
            "glove-twitter-50\n",
            "glove-twitter-100\n",
            "glove-twitter-200\n",
            "__testing_word2vec-matrix-synopsis\n"
          ]
        }
      ],
      "source": [
        "for x in gensim.downloader.info()['models'].keys():\n",
        "    print(x)"
      ]
    },
    {
      "cell_type": "code",
      "execution_count": null,
      "metadata": {
        "colab": {
          "base_uri": "https://localhost:8080/"
        },
        "id": "E2iK6AyJKTrh",
        "outputId": "7f381cf5-ff42-4a72-ca73-e48654e35ae2"
      },
      "outputs": [
        {
          "name": "stdout",
          "output_type": "stream",
          "text": [
            "[==================================================] 100.0% 1662.8/1662.8MB downloaded\n"
          ]
        }
      ],
      "source": [
        "# w2v = gensim.downloader.load('word2vec-google-news-300')"
      ]
    },
    {
      "cell_type": "code",
      "execution_count": null,
      "metadata": {
        "colab": {
          "base_uri": "https://localhost:8080/"
        },
        "id": "G-Ug-y7PWtzg",
        "outputId": "3d43bf9c-16ef-4ad4-a949-34fa1f971638"
      },
      "outputs": [
        {
          "name": "stdout",
          "output_type": "stream",
          "text": [
            "[==================================================] 100.0% 387.1/387.1MB downloaded\n"
          ]
        }
      ],
      "source": [
        "kv = gensim.downloader.load('glove-twitter-100')"
      ]
    },
    {
      "cell_type": "markdown",
      "source": [
        "También podemos buscar estos modelos en diversos sitios, por ejemplo: \n",
        "\n",
        "* https://github.com/RaRe-Technologies/gensim-data"
      ],
      "metadata": {
        "id": "FQbh9C8VIiwC"
      }
    },
    {
      "cell_type": "markdown",
      "metadata": {
        "id": "8sp4Hj58PMXK"
      },
      "source": [
        "## Algunas tareas que se pueden hacer"
      ]
    },
    {
      "cell_type": "markdown",
      "metadata": {
        "id": "-YFupm3cPDJU"
      },
      "source": [
        "Podemos encontrar las palabras semánticamente más similares a una palabra dada."
      ]
    },
    {
      "cell_type": "code",
      "execution_count": null,
      "metadata": {
        "colab": {
          "base_uri": "https://localhost:8080/"
        },
        "id": "8UYe4RvGO1D2",
        "outputId": "779079f0-23f6-4b1e-d334-31fe5d987af9"
      },
      "outputs": [
        {
          "data": {
            "text/plain": [
              "[('great', 0.8995508551597595),\n",
              " ('well', 0.8844852447509766),\n",
              " ('better', 0.8784541487693787),\n",
              " ('nice', 0.8719304800033569),\n",
              " ('too', 0.8506093621253967),\n",
              " ('night', 0.8455639481544495),\n",
              " ('way', 0.8432667255401611),\n",
              " ('but', 0.842514157295227),\n",
              " ('it', 0.8408531546592712),\n",
              " ('morning', 0.8380196690559387)]"
            ]
          },
          "execution_count": 13,
          "metadata": {},
          "output_type": "execute_result"
        }
      ],
      "source": [
        "kv.most_similar('good')"
      ]
    },
    {
      "cell_type": "markdown",
      "source": [
        "Podemos obtener el embedding de una palabra concreta"
      ],
      "metadata": {
        "id": "CeoDkUDHBn6r"
      }
    },
    {
      "cell_type": "code",
      "execution_count": null,
      "metadata": {
        "colab": {
          "base_uri": "https://localhost:8080/"
        },
        "id": "D72DUCBGOBDp",
        "outputId": "2cba77d5-58e7-43ca-c9ea-a42b01633403"
      },
      "outputs": [
        {
          "data": {
            "text/plain": [
              "array([ 0.44699  , -0.10846  , -0.3797   ,  0.091906 , -0.49038  ,\n",
              "        0.60179  ,  0.0056179,  0.74629  ,  0.66478  ,  0.065319 ,\n",
              "        0.16921  ,  0.58992  , -4.2407   , -0.0271   ,  0.40518  ,\n",
              "       -0.0076202,  0.92023  , -0.45819  , -0.034881 , -0.30659  ,\n",
              "        0.05422  ,  0.74396  ,  0.25329  ,  0.078992 , -0.2678   ,\n",
              "       -0.82182  , -0.26234  , -0.31675  , -1.3842   , -0.80196  ,\n",
              "        0.021631 ,  0.42501  , -0.24073  , -0.29752  ,  0.81814  ,\n",
              "        0.69792  , -0.080286 ,  0.19901  , -0.3429   , -0.15615  ,\n",
              "       -1.9456   ,  0.39166  , -0.17509  ,  0.18322  ,  0.072098 ,\n",
              "       -0.0052181,  0.30362  ,  0.98273  ,  0.13574  ,  0.47985  ,\n",
              "       -0.71209  ,  0.41966  ,  0.41384  ,  0.1137   , -0.534    ,\n",
              "       -0.57089  , -0.13469  ,  0.43792  , -0.86947  ,  0.21999  ,\n",
              "       -0.22048  , -0.12789  ,  0.10097  , -0.38393  ,  0.018573 ,\n",
              "       -0.17419  ,  0.30518  ,  0.17857  , -0.64789  ,  0.25267  ,\n",
              "        0.11857  , -0.47142  ,  0.74626  ,  0.066337 ,  0.47627  ,\n",
              "       -0.41704  ,  0.38155  , -0.043148 ,  0.22724  ,  0.042533 ,\n",
              "        0.96685  ,  0.017194 , -0.11862  ,  0.10472  ,  0.16261  ,\n",
              "       -0.17161  , -0.022091 ,  0.025545 , -0.871    , -0.09779  ,\n",
              "        0.068414 , -0.42388  , -0.3693   ,  0.29748  , -0.041508 ,\n",
              "        0.15398  ,  0.7291   ,  0.16547  ,  0.59715  , -0.18262  ],\n",
              "      dtype=float32)"
            ]
          },
          "execution_count": 8,
          "metadata": {},
          "output_type": "execute_result"
        }
      ],
      "source": [
        "kv.get_vector('man')"
      ]
    },
    {
      "cell_type": "markdown",
      "source": [
        "Veamos algunas palabras del vocabulario"
      ],
      "metadata": {
        "id": "IB70coDSBrbt"
      }
    },
    {
      "cell_type": "code",
      "execution_count": null,
      "metadata": {
        "colab": {
          "base_uri": "https://localhost:8080/"
        },
        "id": "00rdqa53Pj6b",
        "outputId": "b6c824bc-75e6-4c5e-af66-7edf2b225ca5"
      },
      "outputs": [
        {
          "name": "stdout",
          "output_type": "stream",
          "text": [
            "Longitud del vocabulario: 1193514\n",
            "Algunas palabras:\n",
            "['قم', 'الخيـر', 'scintillating', 'كلااام', 'świąteczną', 'أستاذتي', 'vise', 'فسوق', 'fijarte', '째', 'ingiustamente', 'chofis', 'إبداعاً', '기도와', 'ذهنياً']\n"
          ]
        }
      ],
      "source": [
        "import numpy as np\n",
        "\n",
        "vocab = list(kv.vocab.keys())\n",
        "n_words = len(vocab)\n",
        "\n",
        "idxs = np.random.choice(n_words,size=15,replace=False)\n",
        "print(f\"Longitud del vocabulario: {n_words}\")\n",
        "print(f\"Algunas palabras:\\n{[vocab[j] for j in idxs]}\")"
      ]
    },
    {
      "cell_type": "markdown",
      "metadata": {
        "id": "IFTtjbJEPe5a"
      },
      "source": [
        "# Entrenar un módelo *from scratch*\n",
        "\n",
        "En esta sección entrenaremos un modelo de `word2vec` a partir de un corpus y realizaremos varias tareas con este modelo, desde la exploración hasta el análisis de sentimientos.\n",
        "\n",
        "⭕ ¿Qué diferencias puede tener usar un módelo pre-entrenado contra uno entrenado por nosotros?\n",
        "\n",
        "Para el entrenamiento, usaremos el corpus de IMDB que usamos la sesión pasada."
      ]
    },
    {
      "cell_type": "code",
      "execution_count": 1,
      "metadata": {
        "cellView": "form",
        "colab": {
          "base_uri": "https://localhost:8080/"
        },
        "id": "p1DFLCxGcEVf",
        "outputId": "aca1af32-9699-49a7-d5ae-532c17fffc34"
      },
      "outputs": [
        {
          "output_type": "stream",
          "name": "stdout",
          "text": [
            "Downloading...\n",
            "From: https://drive.google.com/uc?id=1TewLD3BbgqV1t2I905Al3vm_VqUzoPzg\n",
            "To: /content/IMDB Dataset.csv\n",
            "100% 66.2M/66.2M [00:02<00:00, 31.5MB/s]\n"
          ]
        }
      ],
      "source": [
        "#@title Bajamos el corpus de Drive\n",
        "!pip install -q gdown\n",
        "\n",
        "!gdown 1TewLD3BbgqV1t2I905Al3vm_VqUzoPzg"
      ]
    },
    {
      "cell_type": "markdown",
      "metadata": {
        "id": "8PM2JsxB4WaQ"
      },
      "source": [
        "Cada review se considera un documento. El corpus consiste de 50,000 docuemtnos.  Necesitamos limpiar los documentos quitando stopwords, símbolos, etc."
      ]
    },
    {
      "cell_type": "code",
      "execution_count": 2,
      "metadata": {
        "cellView": "form",
        "colab": {
          "base_uri": "https://localhost:8080/"
        },
        "id": "3r8JMlZycMau",
        "outputId": "47427d2b-b518-4a05-d204-d3fa4f15c342"
      },
      "outputs": [
        {
          "output_type": "stream",
          "name": "stderr",
          "text": [
            "[nltk_data] Downloading package stopwords to /root/nltk_data...\n",
            "[nltk_data]   Unzipping corpora/stopwords.zip.\n",
            "[nltk_data] Downloading package punkt to /root/nltk_data...\n",
            "[nltk_data]   Unzipping tokenizers/punkt.zip.\n",
            "[nltk_data] Downloading package wordnet to /root/nltk_data...\n",
            "[nltk_data]   Unzipping corpora/wordnet.zip.\n",
            "[nltk_data] Downloading package omw-1.4 to /root/nltk_data...\n",
            "[nltk_data]   Unzipping corpora/omw-1.4.zip.\n"
          ]
        },
        {
          "output_type": "execute_result",
          "data": {
            "text/plain": [
              "True"
            ]
          },
          "metadata": {},
          "execution_count": 2
        }
      ],
      "source": [
        "#@title Bajamos los datos de nltk \n",
        "import nltk\n",
        "\n",
        "nltk.download('stopwords')\n",
        "nltk.download('punkt')\n",
        "nltk.download('wordnet')\n",
        "nltk.download('omw-1.4')"
      ]
    },
    {
      "cell_type": "code",
      "execution_count": null,
      "metadata": {
        "cellView": "form",
        "id": "3HwbM-RDcRSJ"
      },
      "outputs": [],
      "source": [
        "#@title Función para limpiar el texto\n",
        "import nltk\n",
        "from nltk.corpus import stopwords\n",
        "from nltk.tokenize import word_tokenize\n",
        "import re\n",
        "\n",
        "CLEANR = re.compile('<.*?>|&([a-z0-9]+|#[0-9]{1,6}|#x[0-9a-f]{1,6});')\n",
        "\n",
        "w_tokenizer = nltk.tokenize.WhitespaceTokenizer()\n",
        "lemmatizer = nltk.stem.WordNetLemmatizer()\n",
        "\n",
        "def clean(text):\n",
        "    clean_text = re.sub(CLEANR, '', text.lower()) # Quitamos etiquetas HTML\n",
        "    clean_text = re.sub(r'[^\\w\\s]', '', clean_text.lower()) # Quitamos signos de puntuación y símbolos\n",
        "    clean_text = re.sub('[0-9]', '', clean_text.lower())  # Quitamos números\n",
        "    SW = stopwords.words('english') # Leemos la lista de stopwords del inglés\n",
        "    tokens_no_sw = [word for word in word_tokenize(clean_text) if not word in SW] # Quitamos stopwords\n",
        "    stems = []\n",
        "    for w in tokens_no_sw:\n",
        "        stems.append(lemmatizer.lemmatize(w))\n",
        "    return stems"
      ]
    },
    {
      "cell_type": "code",
      "execution_count": null,
      "metadata": {
        "colab": {
          "base_uri": "https://localhost:8080/",
          "height": 206
        },
        "id": "r57eNbtfcIY-",
        "outputId": "6c8d2fc3-855c-4b7a-85fa-942e76d6c21f"
      },
      "outputs": [
        {
          "data": {
            "text/html": [
              "\n",
              "  <div id=\"df-63c3e4a5-e2ce-4d23-a5c5-03cbdded5988\">\n",
              "    <div class=\"colab-df-container\">\n",
              "      <div>\n",
              "<style scoped>\n",
              "    .dataframe tbody tr th:only-of-type {\n",
              "        vertical-align: middle;\n",
              "    }\n",
              "\n",
              "    .dataframe tbody tr th {\n",
              "        vertical-align: top;\n",
              "    }\n",
              "\n",
              "    .dataframe thead th {\n",
              "        text-align: right;\n",
              "    }\n",
              "</style>\n",
              "<table border=\"1\" class=\"dataframe\">\n",
              "  <thead>\n",
              "    <tr style=\"text-align: right;\">\n",
              "      <th></th>\n",
              "      <th>review</th>\n",
              "      <th>sentiment</th>\n",
              "    </tr>\n",
              "  </thead>\n",
              "  <tbody>\n",
              "    <tr>\n",
              "      <th>47521</th>\n",
              "      <td>There has never been anything like it, that's ...</td>\n",
              "      <td>positive</td>\n",
              "    </tr>\n",
              "    <tr>\n",
              "      <th>10512</th>\n",
              "      <td>I was very concerned about this film, it was s...</td>\n",
              "      <td>negative</td>\n",
              "    </tr>\n",
              "    <tr>\n",
              "      <th>8918</th>\n",
              "      <td>Christian Duguay directed this tidy little esp...</td>\n",
              "      <td>positive</td>\n",
              "    </tr>\n",
              "    <tr>\n",
              "      <th>42036</th>\n",
              "      <td>I've known about Bettie Page for many a year n...</td>\n",
              "      <td>positive</td>\n",
              "    </tr>\n",
              "    <tr>\n",
              "      <th>49460</th>\n",
              "      <td>I would like to comment on the movie April Lov...</td>\n",
              "      <td>positive</td>\n",
              "    </tr>\n",
              "  </tbody>\n",
              "</table>\n",
              "</div>\n",
              "      <button class=\"colab-df-convert\" onclick=\"convertToInteractive('df-63c3e4a5-e2ce-4d23-a5c5-03cbdded5988')\"\n",
              "              title=\"Convert this dataframe to an interactive table.\"\n",
              "              style=\"display:none;\">\n",
              "        \n",
              "  <svg xmlns=\"http://www.w3.org/2000/svg\" height=\"24px\"viewBox=\"0 0 24 24\"\n",
              "       width=\"24px\">\n",
              "    <path d=\"M0 0h24v24H0V0z\" fill=\"none\"/>\n",
              "    <path d=\"M18.56 5.44l.94 2.06.94-2.06 2.06-.94-2.06-.94-.94-2.06-.94 2.06-2.06.94zm-11 1L8.5 8.5l.94-2.06 2.06-.94-2.06-.94L8.5 2.5l-.94 2.06-2.06.94zm10 10l.94 2.06.94-2.06 2.06-.94-2.06-.94-.94-2.06-.94 2.06-2.06.94z\"/><path d=\"M17.41 7.96l-1.37-1.37c-.4-.4-.92-.59-1.43-.59-.52 0-1.04.2-1.43.59L10.3 9.45l-7.72 7.72c-.78.78-.78 2.05 0 2.83L4 21.41c.39.39.9.59 1.41.59.51 0 1.02-.2 1.41-.59l7.78-7.78 2.81-2.81c.8-.78.8-2.07 0-2.86zM5.41 20L4 18.59l7.72-7.72 1.47 1.35L5.41 20z\"/>\n",
              "  </svg>\n",
              "      </button>\n",
              "      \n",
              "  <style>\n",
              "    .colab-df-container {\n",
              "      display:flex;\n",
              "      flex-wrap:wrap;\n",
              "      gap: 12px;\n",
              "    }\n",
              "\n",
              "    .colab-df-convert {\n",
              "      background-color: #E8F0FE;\n",
              "      border: none;\n",
              "      border-radius: 50%;\n",
              "      cursor: pointer;\n",
              "      display: none;\n",
              "      fill: #1967D2;\n",
              "      height: 32px;\n",
              "      padding: 0 0 0 0;\n",
              "      width: 32px;\n",
              "    }\n",
              "\n",
              "    .colab-df-convert:hover {\n",
              "      background-color: #E2EBFA;\n",
              "      box-shadow: 0px 1px 2px rgba(60, 64, 67, 0.3), 0px 1px 3px 1px rgba(60, 64, 67, 0.15);\n",
              "      fill: #174EA6;\n",
              "    }\n",
              "\n",
              "    [theme=dark] .colab-df-convert {\n",
              "      background-color: #3B4455;\n",
              "      fill: #D2E3FC;\n",
              "    }\n",
              "\n",
              "    [theme=dark] .colab-df-convert:hover {\n",
              "      background-color: #434B5C;\n",
              "      box-shadow: 0px 1px 3px 1px rgba(0, 0, 0, 0.15);\n",
              "      filter: drop-shadow(0px 1px 2px rgba(0, 0, 0, 0.3));\n",
              "      fill: #FFFFFF;\n",
              "    }\n",
              "  </style>\n",
              "\n",
              "      <script>\n",
              "        const buttonEl =\n",
              "          document.querySelector('#df-63c3e4a5-e2ce-4d23-a5c5-03cbdded5988 button.colab-df-convert');\n",
              "        buttonEl.style.display =\n",
              "          google.colab.kernel.accessAllowed ? 'block' : 'none';\n",
              "\n",
              "        async function convertToInteractive(key) {\n",
              "          const element = document.querySelector('#df-63c3e4a5-e2ce-4d23-a5c5-03cbdded5988');\n",
              "          const dataTable =\n",
              "            await google.colab.kernel.invokeFunction('convertToInteractive',\n",
              "                                                     [key], {});\n",
              "          if (!dataTable) return;\n",
              "\n",
              "          const docLinkHtml = 'Like what you see? Visit the ' +\n",
              "            '<a target=\"_blank\" href=https://colab.research.google.com/notebooks/data_table.ipynb>data table notebook</a>'\n",
              "            + ' to learn more about interactive tables.';\n",
              "          element.innerHTML = '';\n",
              "          dataTable['output_type'] = 'display_data';\n",
              "          await google.colab.output.renderOutput(dataTable, element);\n",
              "          const docLink = document.createElement('div');\n",
              "          docLink.innerHTML = docLinkHtml;\n",
              "          element.appendChild(docLink);\n",
              "        }\n",
              "      </script>\n",
              "    </div>\n",
              "  </div>\n",
              "  "
            ],
            "text/plain": [
              "                                                  review sentiment\n",
              "47521  There has never been anything like it, that's ...  positive\n",
              "10512  I was very concerned about this film, it was s...  negative\n",
              "8918   Christian Duguay directed this tidy little esp...  positive\n",
              "42036  I've known about Bettie Page for many a year n...  positive\n",
              "49460  I would like to comment on the movie April Lov...  positive"
            ]
          },
          "metadata": {},
          "output_type": "display_data"
        }
      ],
      "source": [
        "import pandas as pd\n",
        "\n",
        "df = pd.read_csv('/content/IMDB Dataset.csv')\n",
        "display(df.sample(5))"
      ]
    },
    {
      "cell_type": "code",
      "execution_count": null,
      "metadata": {
        "colab": {
          "base_uri": "https://localhost:8080/",
          "height": 206
        },
        "id": "pK9O6Yv40uIE",
        "outputId": "d7b3ea97-0b67-4095-9bdd-4a4c8e69667a"
      },
      "outputs": [
        {
          "data": {
            "text/html": [
              "\n",
              "  <div id=\"df-b6030e78-b329-4c13-8d86-1cdb862fca93\">\n",
              "    <div class=\"colab-df-container\">\n",
              "      <div>\n",
              "<style scoped>\n",
              "    .dataframe tbody tr th:only-of-type {\n",
              "        vertical-align: middle;\n",
              "    }\n",
              "\n",
              "    .dataframe tbody tr th {\n",
              "        vertical-align: top;\n",
              "    }\n",
              "\n",
              "    .dataframe thead th {\n",
              "        text-align: right;\n",
              "    }\n",
              "</style>\n",
              "<table border=\"1\" class=\"dataframe\">\n",
              "  <thead>\n",
              "    <tr style=\"text-align: right;\">\n",
              "      <th></th>\n",
              "      <th>review</th>\n",
              "      <th>sentiment</th>\n",
              "      <th>clean</th>\n",
              "    </tr>\n",
              "  </thead>\n",
              "  <tbody>\n",
              "    <tr>\n",
              "      <th>4608</th>\n",
              "      <td>I have seen this movie and in all honestly was...</td>\n",
              "      <td>negative</td>\n",
              "      <td>[seen, movie, honestly, quite, disappointed, o...</td>\n",
              "    </tr>\n",
              "    <tr>\n",
              "      <th>46000</th>\n",
              "      <td>Surviving Christmas is a surprisingly funny mo...</td>\n",
              "      <td>positive</td>\n",
              "      <td>[surviving, christmas, surprisingly, funny, mo...</td>\n",
              "    </tr>\n",
              "    <tr>\n",
              "      <th>42679</th>\n",
              "      <td>Narratives  whether written, visual or poetic...</td>\n",
              "      <td>positive</td>\n",
              "      <td>[narrative, whether, written, visual, poetic, ...</td>\n",
              "    </tr>\n",
              "    <tr>\n",
              "      <th>48021</th>\n",
              "      <td>I really don't know much about the Marquis de ...</td>\n",
              "      <td>negative</td>\n",
              "      <td>[really, dont, know, much, marquis, de, sade, ...</td>\n",
              "    </tr>\n",
              "    <tr>\n",
              "      <th>44095</th>\n",
              "      <td>In 1914, Charlie Chaplin began making pictures...</td>\n",
              "      <td>negative</td>\n",
              "      <td>[charlie, chaplin, began, making, picture, mad...</td>\n",
              "    </tr>\n",
              "  </tbody>\n",
              "</table>\n",
              "</div>\n",
              "      <button class=\"colab-df-convert\" onclick=\"convertToInteractive('df-b6030e78-b329-4c13-8d86-1cdb862fca93')\"\n",
              "              title=\"Convert this dataframe to an interactive table.\"\n",
              "              style=\"display:none;\">\n",
              "        \n",
              "  <svg xmlns=\"http://www.w3.org/2000/svg\" height=\"24px\"viewBox=\"0 0 24 24\"\n",
              "       width=\"24px\">\n",
              "    <path d=\"M0 0h24v24H0V0z\" fill=\"none\"/>\n",
              "    <path d=\"M18.56 5.44l.94 2.06.94-2.06 2.06-.94-2.06-.94-.94-2.06-.94 2.06-2.06.94zm-11 1L8.5 8.5l.94-2.06 2.06-.94-2.06-.94L8.5 2.5l-.94 2.06-2.06.94zm10 10l.94 2.06.94-2.06 2.06-.94-2.06-.94-.94-2.06-.94 2.06-2.06.94z\"/><path d=\"M17.41 7.96l-1.37-1.37c-.4-.4-.92-.59-1.43-.59-.52 0-1.04.2-1.43.59L10.3 9.45l-7.72 7.72c-.78.78-.78 2.05 0 2.83L4 21.41c.39.39.9.59 1.41.59.51 0 1.02-.2 1.41-.59l7.78-7.78 2.81-2.81c.8-.78.8-2.07 0-2.86zM5.41 20L4 18.59l7.72-7.72 1.47 1.35L5.41 20z\"/>\n",
              "  </svg>\n",
              "      </button>\n",
              "      \n",
              "  <style>\n",
              "    .colab-df-container {\n",
              "      display:flex;\n",
              "      flex-wrap:wrap;\n",
              "      gap: 12px;\n",
              "    }\n",
              "\n",
              "    .colab-df-convert {\n",
              "      background-color: #E8F0FE;\n",
              "      border: none;\n",
              "      border-radius: 50%;\n",
              "      cursor: pointer;\n",
              "      display: none;\n",
              "      fill: #1967D2;\n",
              "      height: 32px;\n",
              "      padding: 0 0 0 0;\n",
              "      width: 32px;\n",
              "    }\n",
              "\n",
              "    .colab-df-convert:hover {\n",
              "      background-color: #E2EBFA;\n",
              "      box-shadow: 0px 1px 2px rgba(60, 64, 67, 0.3), 0px 1px 3px 1px rgba(60, 64, 67, 0.15);\n",
              "      fill: #174EA6;\n",
              "    }\n",
              "\n",
              "    [theme=dark] .colab-df-convert {\n",
              "      background-color: #3B4455;\n",
              "      fill: #D2E3FC;\n",
              "    }\n",
              "\n",
              "    [theme=dark] .colab-df-convert:hover {\n",
              "      background-color: #434B5C;\n",
              "      box-shadow: 0px 1px 3px 1px rgba(0, 0, 0, 0.15);\n",
              "      filter: drop-shadow(0px 1px 2px rgba(0, 0, 0, 0.3));\n",
              "      fill: #FFFFFF;\n",
              "    }\n",
              "  </style>\n",
              "\n",
              "      <script>\n",
              "        const buttonEl =\n",
              "          document.querySelector('#df-b6030e78-b329-4c13-8d86-1cdb862fca93 button.colab-df-convert');\n",
              "        buttonEl.style.display =\n",
              "          google.colab.kernel.accessAllowed ? 'block' : 'none';\n",
              "\n",
              "        async function convertToInteractive(key) {\n",
              "          const element = document.querySelector('#df-b6030e78-b329-4c13-8d86-1cdb862fca93');\n",
              "          const dataTable =\n",
              "            await google.colab.kernel.invokeFunction('convertToInteractive',\n",
              "                                                     [key], {});\n",
              "          if (!dataTable) return;\n",
              "\n",
              "          const docLinkHtml = 'Like what you see? Visit the ' +\n",
              "            '<a target=\"_blank\" href=https://colab.research.google.com/notebooks/data_table.ipynb>data table notebook</a>'\n",
              "            + ' to learn more about interactive tables.';\n",
              "          element.innerHTML = '';\n",
              "          dataTable['output_type'] = 'display_data';\n",
              "          await google.colab.output.renderOutput(dataTable, element);\n",
              "          const docLink = document.createElement('div');\n",
              "          docLink.innerHTML = docLinkHtml;\n",
              "          element.appendChild(docLink);\n",
              "        }\n",
              "      </script>\n",
              "    </div>\n",
              "  </div>\n",
              "  "
            ],
            "text/plain": [
              "                                                  review sentiment  \\\n",
              "4608   I have seen this movie and in all honestly was...  negative   \n",
              "46000  Surviving Christmas is a surprisingly funny mo...  positive   \n",
              "42679  Narratives  whether written, visual or poetic...  positive   \n",
              "48021  I really don't know much about the Marquis de ...  negative   \n",
              "44095  In 1914, Charlie Chaplin began making pictures...  negative   \n",
              "\n",
              "                                                   clean  \n",
              "4608   [seen, movie, honestly, quite, disappointed, o...  \n",
              "46000  [surviving, christmas, surprisingly, funny, mo...  \n",
              "42679  [narrative, whether, written, visual, poetic, ...  \n",
              "48021  [really, dont, know, much, marquis, de, sade, ...  \n",
              "44095  [charlie, chaplin, began, making, picture, mad...  "
            ]
          },
          "execution_count": 5,
          "metadata": {},
          "output_type": "execute_result"
        }
      ],
      "source": [
        "df['clean'] = df['review'].apply(clean)\n",
        "df.sample(5)"
      ]
    },
    {
      "cell_type": "markdown",
      "metadata": {
        "id": "HsgXqRFzqte7"
      },
      "source": [
        "Guardemos el modelo para no volver a limpiarlo"
      ]
    },
    {
      "cell_type": "code",
      "execution_count": null,
      "metadata": {
        "id": "Q3jP2Y8Iqs9A"
      },
      "outputs": [],
      "source": [
        "df.to_pickle('IMDB-reviews-procesado.pickle')"
      ]
    },
    {
      "cell_type": "code",
      "execution_count": 3,
      "metadata": {
        "cellView": "form",
        "colab": {
          "base_uri": "https://localhost:8080/"
        },
        "id": "eiMpEQzBroMc",
        "outputId": "dd28a9f2-fc20-4b7e-9340-1a38c6ac71b7"
      },
      "outputs": [
        {
          "output_type": "stream",
          "name": "stdout",
          "text": [
            "Downloading...\n",
            "From: https://drive.google.com/uc?id=1Q8ZYKy0PGQSEGFmPHvj04IaHHYRhRoTb\n",
            "To: /content/IMDB-reviews-procesado.pickle\n",
            "100% 119M/119M [00:02<00:00, 50.7MB/s]\n"
          ]
        }
      ],
      "source": [
        "#@title Si ya lo hemos guardado previamente, podemos volver a cargarlo\n",
        "!gdown 1Q8ZYKy0PGQSEGFmPHvj04IaHHYRhRoTb"
      ]
    },
    {
      "cell_type": "code",
      "execution_count": 4,
      "metadata": {
        "id": "3rQ859WYq1iP"
      },
      "outputs": [],
      "source": [
        "import pandas as pd\n",
        "\n",
        "df = pd.read_pickle('IMDB-reviews-procesado.pickle')"
      ]
    },
    {
      "cell_type": "markdown",
      "metadata": {
        "id": "OBMK3TM92LuE"
      },
      "source": [
        "Entrenamos el modelo de word2vec, usando la implementación de word2vec de `gensim` ([documentación](https://radimrehurek.com/gensim/models/word2vec.html)). Algunos de los parámetros del modelo son:\n",
        "\n",
        "* `size`: es el tamaño de los embeddings.\n",
        "* `sentences`: es la lista de tokens de cada documento. Es una lista de listas.\n",
        "* `window`: es el tamaño de la ventana sobre la cual se buscan las co-ocurrencias y se realiza la predicción.\n",
        "* `min_count`: es la frecuencia mínima de un token para que tenga un embedding."
      ]
    },
    {
      "cell_type": "code",
      "execution_count": 5,
      "metadata": {
        "id": "mAWqNNz8RjsF"
      },
      "outputs": [],
      "source": [
        "from gensim.models import Word2Vec\n",
        "\n",
        "tokens = df['clean'].values\n",
        "\n",
        "embedding_dim = 150\n",
        "\n",
        "w2v = Word2Vec(sentences=tokens,\n",
        "               size=embedding_dim,\n",
        "               min_count=3,\n",
        "               window=5)"
      ]
    },
    {
      "cell_type": "markdown",
      "metadata": {
        "id": "yc5nZJdr2y8x"
      },
      "source": [
        "El modelo entrenado completo puede ser guardado y se puede reanudar el entrenamiento con nuevos documentos. Si ya no continuaremos con el entrenamiento, podemos quedarnos solamente con la instancia que contiene la información sobre palabras y embeddings. Esto son los `keyed vectors`."
      ]
    },
    {
      "cell_type": "code",
      "execution_count": 6,
      "metadata": {
        "id": "ZQld5HBT3Ikm"
      },
      "outputs": [],
      "source": [
        "modelo = w2v\n",
        "keyed_vectors = w2v.wv"
      ]
    },
    {
      "cell_type": "markdown",
      "metadata": {
        "id": "ou1i6rBUhIZK"
      },
      "source": [
        "Obtengamos el vocabulario"
      ]
    },
    {
      "cell_type": "code",
      "execution_count": 7,
      "metadata": {
        "colab": {
          "base_uri": "https://localhost:8080/"
        },
        "id": "CAeUfp-7hHqC",
        "outputId": "0c72bee2-ddf3-4d4b-d6e5-ddfc30df81f3"
      },
      "outputs": [
        {
          "output_type": "stream",
          "name": "stdout",
          "text": [
            "Longitud del vocabulario: 53363\n",
            "Algunas palabras:\n",
            "['released', 'leni', 'fonzie', 'graphic', 'bigelow', 'charley', 'collaborating', 'grohl', 'jacking', 'megha', 'chaotic', 'setter', 'shaloub', 'hooch', 'grenier']\n"
          ]
        }
      ],
      "source": [
        "import numpy as np\n",
        "\n",
        "vocab = list(keyed_vectors.vocab.keys())\n",
        "n_words = len(vocab)\n",
        "\n",
        "idxs = np.random.choice(n_words,size=15,replace=False)\n",
        "print(f\"Longitud del vocabulario: {n_words}\")\n",
        "print(f\"Algunas palabras:\\n{[vocab[j] for j in idxs]}\")"
      ]
    },
    {
      "cell_type": "markdown",
      "metadata": {
        "id": "1ceckF2p3NSk"
      },
      "source": [
        "Veamos el vector de alguna palabra (tiene que estar presente en el corpus y aparecer al menos `min_count` veces)."
      ]
    },
    {
      "cell_type": "code",
      "execution_count": null,
      "metadata": {
        "colab": {
          "base_uri": "https://localhost:8080/"
        },
        "id": "1xQFLzOX2osl",
        "outputId": "22da559c-e64f-411a-8a60-785cfa3d4855"
      },
      "outputs": [
        {
          "name": "stdout",
          "output_type": "stream",
          "text": [
            "(150,)\n",
            "[ 1.2049291e+00  1.7037090e+00 -5.2482480e-01 -6.0880870e-01\n",
            "  6.8985805e-02  2.9391965e-01  1.2731798e-01 -1.3838665e+00\n",
            "  2.9440567e-01  6.9866598e-01 -2.2422680e-01 -2.2414895e-02\n",
            "  8.1883825e-02  4.2785403e-01  3.2816884e-01  7.3917842e-01\n",
            " -1.7247618e+00 -9.8069751e-01  1.0735947e+00 -4.7892436e-01\n",
            " -1.9527113e-01 -1.6545942e-01  9.6754128e-01  8.3697176e-01\n",
            " -1.2169160e+00 -8.5017246e-01 -4.7551293e-02  1.4007331e+00\n",
            " -4.5826536e-01 -3.5185449e-02 -1.6938780e-01 -3.8077551e-01\n",
            " -1.1479564e+00  1.4034276e-01 -3.6507320e-01  3.5767594e-01\n",
            " -2.2702552e-01 -6.6468380e-02  5.1388091e-01 -1.0875301e-01\n",
            "  8.9862919e-01  6.6423345e-01  7.9911506e-01 -1.0553110e+00\n",
            "  2.2953951e-01  8.4372157e-01 -1.3386165e+00  8.5448658e-01\n",
            "  1.5124058e+00 -6.7794330e-02  6.1388880e-01  5.4090542e-01\n",
            " -4.1206136e-01  4.7455159e-01  1.8400842e-01  2.1264248e+00\n",
            " -1.3562810e+00  1.0699825e+00  1.1573958e+00  1.7545691e-01\n",
            "  2.1727879e-01 -1.1551498e+00  6.8958122e-03 -1.1696365e+00\n",
            " -3.7814635e-01 -7.1645461e-02  1.2846007e+00  6.5189976e-01\n",
            " -7.2489306e-02 -2.5369590e-03 -9.2558106e-03  1.0630784e+00\n",
            "  2.3071934e-01 -8.5730100e-01  1.5949290e+00  9.2096472e-01\n",
            " -2.1268106e+00  1.0647746e+00 -1.0710334e+00 -5.1927716e-01\n",
            " -3.5601330e-01 -1.7172037e+00 -8.8288474e-01 -1.5228547e+00\n",
            " -1.2679775e-01  1.1610874e+00  2.4046887e-01  4.8033667e-01\n",
            " -1.1854537e-03 -2.3957450e+00 -3.4067988e-01 -1.1588496e+00\n",
            " -1.3363936e+00  4.6823335e-01 -7.7198988e-01  6.1951643e-01\n",
            " -8.8111776e-01 -5.9129465e-01  5.7581979e-01  4.7862014e-01\n",
            " -5.5311966e-01 -6.1254966e-01  5.4864722e-01  2.4174206e-01\n",
            " -8.7131095e-01 -8.2660019e-01  9.7950035e-01 -8.5373127e-01\n",
            "  7.6609808e-01 -8.4005892e-01 -1.9617333e+00  5.5295992e-01\n",
            " -4.1517112e-01  1.3326792e+00  4.2103365e-01  1.6981275e+00\n",
            " -5.6973779e-01  8.8466233e-01  4.9815446e-01 -1.3055879e+00\n",
            "  1.8890339e+00  7.4041897e-01  1.5194960e+00  4.0085602e-01\n",
            "  6.7677391e-01  2.3327155e+00  1.0057316e+00  1.1565987e+00\n",
            "  1.9021640e+00 -6.7900640e-01  1.4407498e+00 -2.7526457e-02\n",
            " -1.7337258e-01  1.4697033e+00  1.5518361e+00  4.0519160e-01\n",
            " -5.2875239e-01  4.5684898e-01  7.6134717e-01  1.4676533e+00\n",
            " -1.1238980e+00  1.9780946e-01  1.3741295e+00 -1.7745094e+00\n",
            "  3.9623931e-01  5.7834196e-01 -6.7616612e-02  5.2757734e-01\n",
            " -8.9670438e-01 -9.7435832e-02]\n"
          ]
        }
      ],
      "source": [
        "v = w2v.wv['movie']\n",
        "\n",
        "print(v.shape)\n",
        "print(v)"
      ]
    },
    {
      "cell_type": "markdown",
      "metadata": {
        "id": "yBs1jCyxhS76"
      },
      "source": [
        "Encontremos las palabras más similares a alguna palabra dada"
      ]
    },
    {
      "cell_type": "code",
      "execution_count": null,
      "metadata": {
        "colab": {
          "base_uri": "https://localhost:8080/"
        },
        "id": "dcpa01dJg6u-",
        "outputId": "305c0f2e-a493-4c2d-e0ba-9c531530e54c"
      },
      "outputs": [
        {
          "name": "stderr",
          "output_type": "stream",
          "text": [
            "/usr/local/lib/python3.7/dist-packages/ipykernel_launcher.py:1: DeprecationWarning: Call to deprecated `most_similar` (Method will be removed in 4.0.0, use self.wv.most_similar() instead).\n",
            "  \"\"\"Entry point for launching an IPython kernel.\n"
          ]
        },
        {
          "data": {
            "text/plain": [
              "[('film', 0.7858948111534119),\n",
              " ('moviei', 0.6520390510559082),\n",
              " ('flick', 0.6301530599594116),\n",
              " ('moviethe', 0.5535494089126587),\n",
              " ('movieit', 0.5188403129577637),\n",
              " ('filmit', 0.4981246888637543),\n",
              " ('sequel', 0.4911119341850281),\n",
              " ('movieand', 0.4897482991218567),\n",
              " ('bmovies', 0.4891901910305023),\n",
              " ('iti', 0.48257291316986084)]"
            ]
          },
          "execution_count": 7,
          "metadata": {},
          "output_type": "execute_result"
        }
      ],
      "source": [
        "w2v.most_similar('movie')"
      ]
    },
    {
      "cell_type": "markdown",
      "metadata": {
        "id": "ihhiPMOEqDo_"
      },
      "source": [
        "Podemos resolver la analogía:\n",
        "\n",
        "father:man :: mother:woman"
      ]
    },
    {
      "cell_type": "code",
      "execution_count": null,
      "metadata": {
        "colab": {
          "base_uri": "https://localhost:8080/"
        },
        "id": "u9spfwNBp43r",
        "outputId": "27a6a76d-7558-4467-ca38-fe6c7253234c"
      },
      "outputs": [
        {
          "name": "stderr",
          "output_type": "stream",
          "text": [
            "/usr/local/lib/python3.7/dist-packages/ipykernel_launcher.py:1: DeprecationWarning: Call to deprecated `most_similar` (Method will be removed in 4.0.0, use self.wv.most_similar() instead).\n",
            "  \"\"\"Entry point for launching an IPython kernel.\n"
          ]
        },
        {
          "data": {
            "text/plain": [
              "[('mother', 0.7106002569198608)]"
            ]
          },
          "execution_count": 28,
          "metadata": {},
          "output_type": "execute_result"
        }
      ],
      "source": [
        "w2v.most_similar(positive=['woman', 'father'], negative=['man'], topn=1)"
      ]
    },
    {
      "cell_type": "code",
      "source": [
        "from sklearn.decomposition import PCA\n",
        "import matplotlib.pyplot as plt\n",
        "\n",
        "X = w2v.wv.vectors\n",
        "\n",
        "pca = PCA(n_components=2)\n",
        "X_pca = pca.fit_transform(X)\n",
        "\n",
        "plt.figure()\n",
        "plt.scatter(X_pca[:,0],X_pca[:,1])\n",
        "plt.show()"
      ],
      "metadata": {
        "colab": {
          "base_uri": "https://localhost:8080/",
          "height": 265
        },
        "id": "RtKxAjVALXda",
        "outputId": "b5e3e120-6894-4e81-80c4-30b248e47301"
      },
      "execution_count": 39,
      "outputs": [
        {
          "output_type": "display_data",
          "data": {
            "text/plain": [
              "<Figure size 432x288 with 1 Axes>"
            ],
            "image/png": "[encoded data removed]"
          },
          "metadata": {
            "needs_background": "light"
          }
        }
      ]
    },
    {
      "cell_type": "markdown",
      "metadata": {
        "id": "PKfFv07hhXSJ"
      },
      "source": [
        "## Clasificación (Análisis de Sentimientos)"
      ]
    },
    {
      "cell_type": "markdown",
      "source": [
        "En esta parte de la notebook resolveremos el problema de clasificación del dataset IMDB. Usaremos tres tipos de redes basadas en los embeddings que hemos obtenido."
      ],
      "metadata": {
        "id": "N23nVDeLGbjk"
      }
    },
    {
      "cell_type": "code",
      "execution_count": 8,
      "metadata": {
        "id": "wQVh6vOWmJxH"
      },
      "outputs": [],
      "source": [
        "from sklearn.preprocessing import LabelEncoder\n",
        "\n",
        "labels = df['sentiment'].values\n",
        "encoder = LabelEncoder()\n",
        "y = encoder.fit_transform(labels)"
      ]
    },
    {
      "cell_type": "markdown",
      "metadata": {
        "id": "NC2kRvpohhJ0"
      },
      "source": [
        "### MLP"
      ]
    },
    {
      "cell_type": "markdown",
      "metadata": {
        "id": "0AvIKRfShmKr"
      },
      "source": [
        "Podemos representar cada review por medio del promedio de las representaciones vectoriales de las palabras que lo componen. De esta forma, cada review tendrá una representación vectorial, la cual puede entrar a una red *fully connected*."
      ]
    },
    {
      "cell_type": "markdown",
      "metadata": {
        "id": "SFODsQhniHG5"
      },
      "source": [
        "Preparamos la matriz de representaciones vectoriales de los reviews. Dado que son 50,000 reviews, este proceso es largo. Lo leeremos desde un archivo previamente calculado."
      ]
    },
    {
      "cell_type": "code",
      "execution_count": 9,
      "metadata": {
        "cellView": "form",
        "colab": {
          "base_uri": "https://localhost:8080/"
        },
        "id": "l74utv7HpUUY",
        "outputId": "65e1f74b-7a98-465f-99dd-1214a11fb6cb"
      },
      "outputs": [
        {
          "output_type": "stream",
          "name": "stdout",
          "text": [
            "Downloading...\n",
            "From: https://drive.google.com/uc?id=1KS256xsU6UALxBuebcnGkW3vW04s2Kn5\n",
            "To: /content/IMDB-w2v-promedio-150.npy\n",
            "100% 60.0M/60.0M [00:01<00:00, 50.3MB/s]\n"
          ]
        }
      ],
      "source": [
        "#@title Lo cargamos desde Drive\n",
        "!gdown 1KS256xsU6UALxBuebcnGkW3vW04s2Kn5"
      ]
    },
    {
      "cell_type": "code",
      "execution_count": 10,
      "metadata": {
        "id": "pZMFAQX2odl9"
      },
      "outputs": [],
      "source": [
        "X_reviews = np.load(\"/content/IMDB-w2v-promedio-150.npy\")"
      ]
    },
    {
      "cell_type": "code",
      "execution_count": null,
      "metadata": {
        "colab": {
          "base_uri": "https://localhost:8080/"
        },
        "id": "vllEbO46hkeU",
        "outputId": "140f6656-ee49-4d82-d75b-0fc90a27b065"
      },
      "outputs": [
        {
          "data": {
            "text/plain": [
              "array([[-0.01135908, -0.28651544, -0.26752472, -0.27828136,  0.29836777,\n",
              "        -0.35342136, -0.0273396 ],\n",
              "       [ 0.15858729, -0.06076187,  0.14151183, -0.20918693,  0.03250474,\n",
              "        -0.33213162, -0.04717645],\n",
              "       [ 0.1279992 , -0.10260819, -0.12765704, -0.17845087,  0.28615457,\n",
              "        -0.49007937, -0.25541919],\n",
              "       [ 0.35521829, -0.37629816, -0.28780127, -0.05470578,  0.4666265 ,\n",
              "        -0.53013045,  0.03431054],\n",
              "       [ 0.10452268, -0.07606044,  0.02798988, -0.66061223,  0.04428174,\n",
              "        -0.29104981, -0.12487245]])"
            ]
          },
          "execution_count": 17,
          "metadata": {},
          "output_type": "execute_result"
        }
      ],
      "source": [
        "X_reviews = np.zeros((df.shape[0],embedding_dim))\n",
        "\n",
        "for j,x in enumerate(tokens):\n",
        "    X_r = np.array([w2v.wv[word] for word in x if word in vocab])\n",
        "    X_r = np.mean(X_r,axis=0)\n",
        "    X_reviews[j,:] = X_r\n",
        "\n",
        "X_reviews[:5,:7]"
      ]
    },
    {
      "cell_type": "code",
      "execution_count": null,
      "metadata": {
        "id": "3i0T_OKDjmpu"
      },
      "outputs": [],
      "source": [
        "np.save(\"IMDB-w2v-promedio-150.npy\",X_reviews)"
      ]
    },
    {
      "cell_type": "code",
      "execution_count": 11,
      "metadata": {
        "colab": {
          "base_uri": "https://localhost:8080/"
        },
        "id": "Nm-nv39Fk6Pd",
        "outputId": "cc64cdf9-73d4-412f-93c7-1707ae454bd2"
      },
      "outputs": [
        {
          "output_type": "stream",
          "name": "stdout",
          "text": [
            "Shape of X_train: (40000, 150)\n",
            "Shape of X_test: (10000, 150)\n"
          ]
        }
      ],
      "source": [
        "from sklearn.model_selection import train_test_split\n",
        "\n",
        "X_train, X_test, y_train, y_test = train_test_split(X_reviews, y, random_state=64, train_size=0.8)\n",
        "\n",
        "print(f\"Shape of X_train: {X_train.shape}\")\n",
        "print(f\"Shape of X_test: {X_test.shape}\")"
      ]
    },
    {
      "cell_type": "markdown",
      "metadata": {
        "id": "x2-4KbTImUeg"
      },
      "source": [
        "Definimos el modelo"
      ]
    },
    {
      "cell_type": "code",
      "execution_count": 12,
      "metadata": {
        "colab": {
          "base_uri": "https://localhost:8080/"
        },
        "id": "y4IAbLDBmRGS",
        "outputId": "f1c5012d-141b-4164-8c94-836fd574c4a6"
      },
      "outputs": [
        {
          "output_type": "stream",
          "name": "stdout",
          "text": [
            "Model: \"sequential\"\n",
            "_________________________________________________________________\n",
            " Layer (type)                Output Shape              Param #   \n",
            "=================================================================\n",
            " dense (Dense)               (None, 32)                4832      \n",
            "                                                                 \n",
            " dense_1 (Dense)             (None, 64)                2112      \n",
            "                                                                 \n",
            " dense_2 (Dense)             (None, 1)                 65        \n",
            "                                                                 \n",
            "=================================================================\n",
            "Total params: 7,009\n",
            "Trainable params: 7,009\n",
            "Non-trainable params: 0\n",
            "_________________________________________________________________\n"
          ]
        }
      ],
      "source": [
        "from keras.models import Sequential\n",
        "from keras.layers import Dense, Dropout\n",
        "\n",
        "model = Sequential()\n",
        "\n",
        "model.add(Dense(32,input_shape=(embedding_dim,),activation='relu'))\n",
        "model.add(Dense(64,activation='relu'))\n",
        "model.add(Dense(1,activation='sigmoid'))\n",
        "\n",
        "model.compile(optimizer='adam',loss='binary_crossentropy',metrics=['accuracy'])\n",
        "\n",
        "model.summary()"
      ]
    },
    {
      "cell_type": "code",
      "execution_count": 13,
      "metadata": {
        "colab": {
          "base_uri": "https://localhost:8080/"
        },
        "id": "f47aMhr8nHBr",
        "outputId": "b5a77b92-8905-42df-fadc-6a61bf5e3447"
      },
      "outputs": [
        {
          "output_type": "stream",
          "name": "stdout",
          "text": [
            "Epoch 1/15\n",
            "1125/1125 [==============================] - 6s 2ms/step - loss: 0.3646 - accuracy: 0.8401 - val_loss: 0.3282 - val_accuracy: 0.8643\n",
            "Epoch 2/15\n",
            "1125/1125 [==============================] - 3s 2ms/step - loss: 0.3292 - accuracy: 0.8581 - val_loss: 0.3190 - val_accuracy: 0.8695\n",
            "Epoch 3/15\n",
            "1125/1125 [==============================] - 3s 2ms/step - loss: 0.3217 - accuracy: 0.8620 - val_loss: 0.3241 - val_accuracy: 0.8687\n",
            "Epoch 4/15\n",
            "1125/1125 [==============================] - 3s 2ms/step - loss: 0.3159 - accuracy: 0.8644 - val_loss: 0.3287 - val_accuracy: 0.8648\n",
            "Epoch 5/15\n",
            "1125/1125 [==============================] - 3s 2ms/step - loss: 0.3116 - accuracy: 0.8673 - val_loss: 0.3158 - val_accuracy: 0.8712\n",
            "Epoch 6/15\n",
            "1125/1125 [==============================] - 3s 2ms/step - loss: 0.3087 - accuracy: 0.8700 - val_loss: 0.3116 - val_accuracy: 0.8755\n",
            "Epoch 7/15\n",
            "1125/1125 [==============================] - 3s 2ms/step - loss: 0.3049 - accuracy: 0.8700 - val_loss: 0.3110 - val_accuracy: 0.8735\n",
            "Epoch 8/15\n",
            "1125/1125 [==============================] - 3s 2ms/step - loss: 0.3026 - accuracy: 0.8716 - val_loss: 0.3161 - val_accuracy: 0.8742\n",
            "Epoch 9/15\n",
            "1125/1125 [==============================] - 3s 2ms/step - loss: 0.2998 - accuracy: 0.8739 - val_loss: 0.3233 - val_accuracy: 0.8645\n",
            "Epoch 10/15\n",
            "1125/1125 [==============================] - 3s 2ms/step - loss: 0.2956 - accuracy: 0.8741 - val_loss: 0.3267 - val_accuracy: 0.8637\n",
            "Epoch 11/15\n",
            "1125/1125 [==============================] - 3s 2ms/step - loss: 0.2927 - accuracy: 0.8762 - val_loss: 0.3167 - val_accuracy: 0.8710\n",
            "Epoch 12/15\n",
            "1125/1125 [==============================] - 3s 2ms/step - loss: 0.2914 - accuracy: 0.8760 - val_loss: 0.3153 - val_accuracy: 0.8710\n",
            "Epoch 13/15\n",
            "1125/1125 [==============================] - 3s 2ms/step - loss: 0.2889 - accuracy: 0.8779 - val_loss: 0.3226 - val_accuracy: 0.8652\n",
            "Epoch 14/15\n",
            "1125/1125 [==============================] - 3s 2ms/step - loss: 0.2850 - accuracy: 0.8806 - val_loss: 0.3153 - val_accuracy: 0.8698\n",
            "Epoch 15/15\n",
            "1125/1125 [==============================] - 3s 2ms/step - loss: 0.2843 - accuracy: 0.8804 - val_loss: 0.3160 - val_accuracy: 0.8685\n"
          ]
        }
      ],
      "source": [
        "history = model.fit(X_train,y_train,validation_split=0.1,epochs=15)"
      ]
    },
    {
      "cell_type": "code",
      "execution_count": 14,
      "metadata": {
        "colab": {
          "base_uri": "https://localhost:8080/",
          "height": 422
        },
        "id": "Jc8OffwCsfs5",
        "outputId": "a492fc96-2135-42dd-90c0-207529309a48"
      },
      "outputs": [
        {
          "output_type": "display_data",
          "data": {
            "text/plain": [
              "<Figure size 1200x400 with 2 Axes>"
            ],
            "image/png": "[encoded data removed]"
          },
          "metadata": {
            "needs_background": "light"
          }
        }
      ],
      "source": [
        "import matplotlib.pyplot as plt\n",
        "\n",
        "plt.figure(figsize=(12, 4),dpi=100)\n",
        "plt.suptitle(\"Training Curves\",fontsize=16)\n",
        "plt.subplot(1, 2, 1)\n",
        "plt.suptitle(\"Validation and Training Loss\",fontsize=14)\n",
        "plt.plot(history.history['loss'], label='train')\n",
        "plt.plot(history.history['val_loss'], label='validation')\n",
        "plt.ylabel(\"Loss\")\n",
        "plt.xlabel(\"Epochs\")\n",
        "plt.legend()\n",
        "plt.subplot(1, 2, 2)\n",
        "plt.suptitle(\"Validation and Training Accuracy\",fontsize=14)\n",
        "plt.plot(history.history['accuracy'], label='train')\n",
        "plt.plot(history.history['val_accuracy'], label='validation')\n",
        "plt.legend()\n",
        "plt.xlabel(\"Epochs\")\n",
        "plt.ylabel(\"Accuracy\")\n",
        "plt.show()"
      ]
    },
    {
      "cell_type": "code",
      "execution_count": 15,
      "metadata": {
        "colab": {
          "base_uri": "https://localhost:8080/"
        },
        "id": "vz1C8P7MsgYE",
        "outputId": "e65d899d-4bdd-498d-f159-e6d86d063d87"
      },
      "outputs": [
        {
          "output_type": "stream",
          "name": "stdout",
          "text": [
            "Test Accuracy: 0.865\n",
            "Test Recall: 0.873\n",
            "\n",
            "Confusion Matrix:\n",
            " [[4242  709]\n",
            " [ 640 4409]]\n"
          ]
        }
      ],
      "source": [
        "from sklearn.metrics import accuracy_score, recall_score, confusion_matrix\n",
        "\n",
        "predictions = model.predict(X_test)\n",
        "\n",
        "pred_labels = []\n",
        "\n",
        "for x in predictions:\n",
        "    if x >= 0.5:\n",
        "        pred_labels.append(1)\n",
        "    else:\n",
        "        pred_labels.append(0)\n",
        "\n",
        "test_accuracy = accuracy_score(y_test,pred_labels)\n",
        "test_recall = recall_score(y_test,pred_labels)\n",
        "print(f\"Test Accuracy: {round(test_accuracy,3)}\")\n",
        "print(f\"Test Recall: {round(test_recall,3)}\")\n",
        "\n",
        "print(\"\\nConfusion Matrix:\\n\",confusion_matrix(y_test,pred_labels))"
      ]
    },
    {
      "cell_type": "markdown",
      "metadata": {
        "id": "9VWl2u5RheLu"
      },
      "source": [
        "### CNN"
      ]
    },
    {
      "cell_type": "markdown",
      "metadata": {
        "id": "tCQP7VhOtR6u"
      },
      "source": [
        "Ahora, representemos cada review por un número fijo de embeddings de las palabras que lo componen. De esta manera, cada review estará representado por una matriz. \n",
        "\n",
        "⭕ ¿Qué estrategia podríamos usar para escoger cuales palabras representarán al review?\n",
        "\n",
        "Dado que tenemos muchos documentos y construiremos un tensor, sólo nos quedaremos con una muestra de los documentos para poder manejar los datos en un tiempo razonable."
      ]
    },
    {
      "cell_type": "code",
      "source": [
        "sample_idxs = np.random.choice(df.shape[0],size=10000,replace=False)\n",
        "\n",
        "sample_tokens = [tokens[j] for j in sample_idxs]\n",
        "sample_y = y[sample_idxs]"
      ],
      "metadata": {
        "id": "2ewlIlXlw2yn"
      },
      "execution_count": 17,
      "outputs": []
    },
    {
      "cell_type": "code",
      "execution_count": 18,
      "metadata": {
        "id": "8ihMEXjmhhyc"
      },
      "outputs": [],
      "source": [
        "width = 5\n",
        "\n",
        "X_tensor_reviews = np.zeros((len(sample_tokens),embedding_dim,width))\n",
        "\n",
        "for j,x in enumerate(sample_tokens):\n",
        "    X_r = np.array([w2v.wv[word] for word in x if word in vocab])\n",
        "    X_r = np.transpose(X_r)[:,:width]\n",
        "    X_tensor_reviews[j,:,:] = X_r"
      ]
    },
    {
      "cell_type": "markdown",
      "source": [
        "Guardamos el tensor"
      ],
      "metadata": {
        "id": "hFt-4mKuIMk1"
      }
    },
    {
      "cell_type": "code",
      "source": [
        "np.save(\"/content/IMDB-w2v-tensor-150-5.npy\",X_tensor_reviews)"
      ],
      "metadata": {
        "id": "qKudLDtDyw_I"
      },
      "execution_count": 19,
      "outputs": []
    },
    {
      "cell_type": "markdown",
      "source": [
        "Leemos el tensor"
      ],
      "metadata": {
        "id": "QI_ArP6JIOKq"
      }
    },
    {
      "cell_type": "code",
      "source": [
        "!gdown 1px17yZbmr4HW0jrDBEYwKFLzAfwpd2-F"
      ],
      "metadata": {
        "colab": {
          "base_uri": "https://localhost:8080/"
        },
        "id": "Qr-OxqqgIXCS",
        "outputId": "a982c3ff-2168-44e5-e36f-bfa47e1f9394"
      },
      "execution_count": 20,
      "outputs": [
        {
          "output_type": "stream",
          "name": "stdout",
          "text": [
            "Downloading...\n",
            "From: https://drive.google.com/uc?id=1px17yZbmr4HW0jrDBEYwKFLzAfwpd2-F\n",
            "To: /content/IMDB-w2v-tensor-150-5.npy\n",
            "100% 60.0M/60.0M [00:01<00:00, 34.0MB/s]\n"
          ]
        }
      ]
    },
    {
      "cell_type": "code",
      "source": [
        "X_tensor_reviews = np.load(\"/content/IMDB-w2v-tensor-150-5.npy\")"
      ],
      "metadata": {
        "id": "qO-49v-owzHb"
      },
      "execution_count": 21,
      "outputs": []
    },
    {
      "cell_type": "markdown",
      "source": [
        "Revisamos que las dimensiones sean correctas"
      ],
      "metadata": {
        "id": "f4LIwURSJi-s"
      }
    },
    {
      "cell_type": "code",
      "source": [
        "print(X_tensor_reviews.shape)\n",
        "print(sample_y.shape)"
      ],
      "metadata": {
        "colab": {
          "base_uri": "https://localhost:8080/"
        },
        "id": "P3TUNW4kzq6h",
        "outputId": "72c8f471-e7f7-45f2-926a-d165bc8e77e8"
      },
      "execution_count": 22,
      "outputs": [
        {
          "output_type": "stream",
          "name": "stdout",
          "text": [
            "(10000, 150, 5)\n",
            "(10000,)\n"
          ]
        }
      ]
    },
    {
      "cell_type": "markdown",
      "source": [
        "Dividimos en entrenamiento y prueba"
      ],
      "metadata": {
        "id": "anT5hGyhJlB-"
      }
    },
    {
      "cell_type": "code",
      "source": [
        "from sklearn.model_selection import train_test_split\n",
        "\n",
        "X_train, X_test, y_train, y_test = train_test_split(X_tensor_reviews, sample_y, random_state=64, train_size=0.8)\n",
        "\n",
        "print(f\"Shape of X_train: {X_train.shape}\")\n",
        "print(f\"Shape of X_test: {X_test.shape}\")"
      ],
      "metadata": {
        "colab": {
          "base_uri": "https://localhost:8080/"
        },
        "id": "Df89G6lDzWrX",
        "outputId": "a80bb7fc-6901-40d6-b234-6b3c0fe5cc61"
      },
      "execution_count": 23,
      "outputs": [
        {
          "output_type": "stream",
          "name": "stdout",
          "text": [
            "Shape of X_train: (8000, 150, 5)\n",
            "Shape of X_test: (2000, 150, 5)\n"
          ]
        }
      ]
    },
    {
      "cell_type": "code",
      "source": [
        "X_train = X_train.reshape(X_train.shape[0], X_train.shape[1], X_train.shape[2], 1)\n",
        "X_test = X_test.reshape(X_test.shape[0], X_test.shape[1], X_test.shape[2], 1)\n",
        "\n",
        "m, n = X_train.shape[1], X_train.shape[2]"
      ],
      "metadata": {
        "id": "JfmVCN5gzQB4"
      },
      "execution_count": 24,
      "outputs": []
    },
    {
      "cell_type": "code",
      "source": [
        "from keras.models import Sequential\n",
        "from keras.layers import Dense, Dropout, Conv2D, MaxPool2D, Flatten\n",
        "\n",
        "model = Sequential()\n",
        "model.add(Conv2D(25, kernel_size=(3,3), strides=(1,1), activation='relu', input_shape=(m,n,1)))\n",
        "model.add(MaxPool2D(pool_size=(2,2)))\n",
        "model.add(Flatten())\n",
        "model.add(Dense(100, activation='relu'))\n",
        "model.add(Dense(1, activation='sigmoid'))\n",
        "\n",
        "model.compile(loss='binary_crossentropy', metrics=['accuracy'], optimizer='adam')\n",
        "\n",
        "model.summary()"
      ],
      "metadata": {
        "colab": {
          "base_uri": "https://localhost:8080/"
        },
        "id": "2BCzEGRH06H-",
        "outputId": "24010cb0-af6b-41c4-8c37-fd9caeafd34c"
      },
      "execution_count": 25,
      "outputs": [
        {
          "output_type": "stream",
          "name": "stdout",
          "text": [
            "Model: \"sequential_1\"\n",
            "_________________________________________________________________\n",
            " Layer (type)                Output Shape              Param #   \n",
            "=================================================================\n",
            " conv2d (Conv2D)             (None, 148, 3, 25)        250       \n",
            "                                                                 \n",
            " max_pooling2d (MaxPooling2D  (None, 74, 1, 25)        0         \n",
            " )                                                               \n",
            "                                                                 \n",
            " flatten (Flatten)           (None, 1850)              0         \n",
            "                                                                 \n",
            " dense_3 (Dense)             (None, 100)               185100    \n",
            "                                                                 \n",
            " dense_4 (Dense)             (None, 1)                 101       \n",
            "                                                                 \n",
            "=================================================================\n",
            "Total params: 185,451\n",
            "Trainable params: 185,451\n",
            "Non-trainable params: 0\n",
            "_________________________________________________________________\n"
          ]
        }
      ]
    },
    {
      "cell_type": "code",
      "source": [
        "from tensorflow.keras.callbacks import EarlyStopping\n",
        "\n",
        "es = EarlyStopping(monitor='val_loss',patience=2)\n",
        "\n",
        "history = model.fit(X_train, y_train, batch_size=32, epochs=25, validation_split=0.1,\n",
        "            callbacks=[es])"
      ],
      "metadata": {
        "colab": {
          "base_uri": "https://localhost:8080/"
        },
        "id": "WHnD1Xlc073K",
        "outputId": "153071f2-d86b-45a5-d560-792af4a9f8b9"
      },
      "execution_count": 26,
      "outputs": [
        {
          "output_type": "stream",
          "name": "stdout",
          "text": [
            "Epoch 1/25\n",
            "225/225 [==============================] - 11s 4ms/step - loss: 0.6436 - accuracy: 0.6240 - val_loss: 0.6203 - val_accuracy: 0.6612\n",
            "Epoch 2/25\n",
            "225/225 [==============================] - 1s 3ms/step - loss: 0.6057 - accuracy: 0.6671 - val_loss: 0.6370 - val_accuracy: 0.6425\n",
            "Epoch 3/25\n",
            "225/225 [==============================] - 1s 3ms/step - loss: 0.5900 - accuracy: 0.6749 - val_loss: 0.6196 - val_accuracy: 0.6687\n",
            "Epoch 4/25\n",
            "225/225 [==============================] - 1s 3ms/step - loss: 0.5759 - accuracy: 0.6851 - val_loss: 0.6225 - val_accuracy: 0.6612\n",
            "Epoch 5/25\n",
            "225/225 [==============================] - 1s 3ms/step - loss: 0.5666 - accuracy: 0.6915 - val_loss: 0.6321 - val_accuracy: 0.6562\n"
          ]
        }
      ]
    },
    {
      "cell_type": "code",
      "source": [
        "import matplotlib.pyplot as plt\n",
        "\n",
        "plt.figure(figsize=(12, 4),dpi=100)\n",
        "plt.suptitle(\"Training Curves\",fontsize=16)\n",
        "plt.subplot(1, 2, 1)\n",
        "plt.suptitle(\"Validation and Training Loss\",fontsize=14)\n",
        "plt.plot(history.history['loss'], label='train')\n",
        "plt.plot(history.history['val_loss'], label='validation')\n",
        "plt.ylabel(\"Loss\")\n",
        "plt.xlabel(\"Epochs\")\n",
        "plt.legend()\n",
        "plt.subplot(1, 2, 2)\n",
        "plt.suptitle(\"Validation and Training Accuracy\",fontsize=14)\n",
        "plt.plot(history.history['accuracy'], label='train')\n",
        "plt.plot(history.history['val_accuracy'], label='validation')\n",
        "plt.legend()\n",
        "plt.xlabel(\"Epochs\")\n",
        "plt.ylabel(\"Accuracy\")\n",
        "plt.show()"
      ],
      "metadata": {
        "colab": {
          "base_uri": "https://localhost:8080/",
          "height": 422
        },
        "id": "7vZzXbk21sPO",
        "outputId": "8b417e03-2177-4b75-e6f5-479750d50525"
      },
      "execution_count": 27,
      "outputs": [
        {
          "output_type": "display_data",
          "data": {
            "text/plain": [
              "<Figure size 1200x400 with 2 Axes>"
            ],
            "image/png": "[encoded data removed]"
          },
          "metadata": {
            "needs_background": "light"
          }
        }
      ]
    },
    {
      "cell_type": "code",
      "source": [
        "from sklearn.metrics import accuracy_score, recall_score, confusion_matrix\n",
        "\n",
        "predictions = model.predict(X_test)\n",
        "\n",
        "pred_labels = []\n",
        "\n",
        "for x in predictions:\n",
        "    if x >= 0.5:\n",
        "        pred_labels.append(1)\n",
        "    else:\n",
        "        pred_labels.append(0)\n",
        "\n",
        "test_accuracy = accuracy_score(y_test,pred_labels)\n",
        "test_recall = recall_score(y_test,pred_labels)\n",
        "print(f\"Test Accuracy: {round(test_accuracy,3)}\")\n",
        "print(f\"Test Recall: {round(test_recall,3)}\")\n",
        "\n",
        "print(\"\\nConfusion Matrix:\\n\",confusion_matrix(y_test,pred_labels))"
      ],
      "metadata": {
        "colab": {
          "base_uri": "https://localhost:8080/"
        },
        "id": "Y1fCHI0q1zqB",
        "outputId": "2c83407d-5369-46b0-a910-294183b49219"
      },
      "execution_count": 28,
      "outputs": [
        {
          "output_type": "stream",
          "name": "stdout",
          "text": [
            "Test Accuracy: 0.632\n",
            "Test Recall: 0.591\n",
            "\n",
            "Confusion Matrix:\n",
            " [[683 333]\n",
            " [402 582]]\n"
          ]
        }
      ]
    },
    {
      "cell_type": "markdown",
      "metadata": {
        "id": "0Am6F4SZhcK0"
      },
      "source": [
        "### LSTM\n",
        "\n",
        "Ahora, realizaremos la clasificación usando una red con una capa LSTM. Repetiremos la estrategia de la sesión pasada, pero ahora incorporaremos los embeddings que acabamos de calcular"
      ]
    },
    {
      "cell_type": "markdown",
      "source": [
        "Obtenemos los conjuntos $X$ y $y$"
      ],
      "metadata": {
        "id": "qsgI4_unKGfn"
      }
    },
    {
      "cell_type": "code",
      "source": [
        "from sklearn.preprocessing import LabelEncoder\n",
        "\n",
        "labels = df['sentiment'].values\n",
        "encoder = LabelEncoder()\n",
        "y = encoder.fit_transform(labels)"
      ],
      "metadata": {
        "id": "kx4OvFJGJw8s"
      },
      "execution_count": 30,
      "outputs": []
    },
    {
      "cell_type": "code",
      "source": [
        "from sklearn.model_selection import train_test_split\n",
        "\n",
        "reviews = df['clean'].values\n",
        "\n",
        "train_reviews, test_reviews, y_train, y_test = train_test_split(reviews, y, train_size=0.8, random_state=74)\n",
        "\n",
        "print(f\"Shape of X_train: {train_reviews.shape}\")\n",
        "print(f\"Shape of X_test: {test_reviews.shape}\")"
      ],
      "metadata": {
        "colab": {
          "base_uri": "https://localhost:8080/"
        },
        "id": "1UqSiVVg3mIS",
        "outputId": "7b6a3e41-3d53-4159-c739-4ac3cf107392"
      },
      "execution_count": 31,
      "outputs": [
        {
          "output_type": "stream",
          "name": "stdout",
          "text": [
            "Shape of X_train: (40000,)\n",
            "Shape of X_test: (10000,)\n"
          ]
        }
      ]
    },
    {
      "cell_type": "markdown",
      "source": [
        "Tokenizamos los documentos para obtener las secuencias de índices"
      ],
      "metadata": {
        "id": "4-eKQYFNKKrK"
      }
    },
    {
      "cell_type": "code",
      "source": [
        "from tensorflow.keras.preprocessing.text import Tokenizer\n",
        "from tensorflow.keras.preprocessing.sequence import pad_sequences\n",
        "\n",
        "# ----- Hiperparámetros para este preprocesamiento\n",
        "vocab_size = 3000   # Nos limitaremos a ese número de palabras del vocabulario\n",
        "oov_tok = ''        # Las palabras fuera del vocabulario se reemplazarán con este string\n",
        "max_length = 200    # La longitud común deseada para las secuencias al hacer el padding\n",
        "\n",
        "#  ----- Entrenamos el tokenizador \n",
        "tokenizer = Tokenizer(num_words = vocab_size, oov_token=oov_tok)\n",
        "tokenizer.fit_on_texts(train_reviews)\n",
        "\n",
        "#  ----- Creamos las secuencias de entrenamiento y hacemos el padding\n",
        "train_sequences = tokenizer.texts_to_sequences(train_reviews)\n",
        "train_padded = pad_sequences(train_sequences, padding='post', maxlen=max_length)\n",
        "\n",
        "#  ----- Creamos las secuencias de prueba y hacemos el padding\n",
        "test_sequences = tokenizer.texts_to_sequences(test_reviews)\n",
        "test_padded = pad_sequences(test_sequences, padding='post', maxlen=max_length)"
      ],
      "metadata": {
        "id": "N0X04xeL5XQK"
      },
      "execution_count": 32,
      "outputs": []
    },
    {
      "cell_type": "markdown",
      "source": [
        "Preparamos la capa Embedding, ahora en lugar de generar embeddings, sólo los recuperará de nuestro embeddings entrenados"
      ],
      "metadata": {
        "id": "MdBrCQWeKO_6"
      }
    },
    {
      "cell_type": "code",
      "source": [
        "from keras.layers import Embedding\n",
        "\n",
        "vocab_len = len(vocab)\n",
        "\n",
        "embedding_matrix = np.zeros((vocab_len, embedding_dim))\n",
        "\n",
        "for word, index in tokenizer.word_index.items():\n",
        "    try:\n",
        "        embedding_vector = w2v.wv.get_vector(word)\n",
        "        if embedding_vector is not None:\n",
        "            embedding_matrix[index, :] = embedding_vector\n",
        "    except:\n",
        "        pass\n",
        "\n",
        "embedding_layer = Embedding(input_dim=vocab_len, output_dim=embedding_dim, input_length=max_length, \n",
        "                            weights = [embedding_matrix], trainable=False)"
      ],
      "metadata": {
        "id": "My7TseVl3FMs"
      },
      "execution_count": 33,
      "outputs": []
    },
    {
      "cell_type": "markdown",
      "source": [
        "Esta capa de embeddings se incorpora a la arquitectura de la red"
      ],
      "metadata": {
        "id": "_qtiXSd1KZlx"
      }
    },
    {
      "cell_type": "code",
      "source": [
        "from keras.models import Sequential\n",
        "from keras.layers import Dense\n",
        "from keras.layers import LSTM\n",
        "\n",
        "# ----- model initialization\n",
        "model = Sequential([\n",
        "    embedding_layer,\n",
        "    LSTM(64, dropout=0.2),\n",
        "    Dense(32, activation='relu'),\n",
        "    Dense(1, activation='sigmoid')\n",
        "])\n",
        "\n",
        "# ----- compile model\n",
        "model.compile(loss='binary_crossentropy',\n",
        "              optimizer='adam',\n",
        "              metrics=['accuracy'])\n",
        "\n",
        "model.summary()"
      ],
      "metadata": {
        "colab": {
          "base_uri": "https://localhost:8080/"
        },
        "id": "YjxIp8RV6WwR",
        "outputId": "ad088aab-4654-40f8-fb88-77371011462b"
      },
      "execution_count": 34,
      "outputs": [
        {
          "output_type": "stream",
          "name": "stdout",
          "text": [
            "Model: \"sequential_2\"\n",
            "_________________________________________________________________\n",
            " Layer (type)                Output Shape              Param #   \n",
            "=================================================================\n",
            " embedding (Embedding)       (None, 200, 150)          8004450   \n",
            "                                                                 \n",
            " lstm (LSTM)                 (None, 64)                55040     \n",
            "                                                                 \n",
            " dense_5 (Dense)             (None, 32)                2080      \n",
            "                                                                 \n",
            " dense_6 (Dense)             (None, 1)                 33        \n",
            "                                                                 \n",
            "=================================================================\n",
            "Total params: 8,061,603\n",
            "Trainable params: 57,153\n",
            "Non-trainable params: 8,004,450\n",
            "_________________________________________________________________\n"
          ]
        }
      ]
    },
    {
      "cell_type": "code",
      "source": [
        "from tensorflow.keras.callbacks import EarlyStopping\n",
        "\n",
        "es = EarlyStopping(monitor='val_loss',patience=3)\n",
        "\n",
        "num_epochs = 25\n",
        "\n",
        "history = model.fit(train_padded, y_train, \n",
        "                    epochs=num_epochs, verbose=1, \n",
        "                    validation_split=0.1,\n",
        "                    callbacks=[es])"
      ],
      "metadata": {
        "colab": {
          "base_uri": "https://localhost:8080/"
        },
        "id": "sON6pTln13Cx",
        "outputId": "6603f1b7-1ebf-43f5-ee3b-d257b8b41658"
      },
      "execution_count": 35,
      "outputs": [
        {
          "output_type": "stream",
          "name": "stdout",
          "text": [
            "Epoch 1/25\n",
            "1125/1125 [==============================] - 14s 10ms/step - loss: 0.6736 - accuracy: 0.5524 - val_loss: 0.6858 - val_accuracy: 0.5383\n",
            "Epoch 2/25\n",
            "1125/1125 [==============================] - 11s 9ms/step - loss: 0.6667 - accuracy: 0.5614 - val_loss: 0.6905 - val_accuracy: 0.5002\n",
            "Epoch 3/25\n",
            "1125/1125 [==============================] - 11s 10ms/step - loss: 0.6855 - accuracy: 0.5256 - val_loss: 0.6894 - val_accuracy: 0.5002\n",
            "Epoch 4/25\n",
            "1125/1125 [==============================] - 11s 9ms/step - loss: 0.6882 - accuracy: 0.5230 - val_loss: 0.6846 - val_accuracy: 0.5080\n",
            "Epoch 5/25\n",
            "1125/1125 [==============================] - 15s 13ms/step - loss: 0.4725 - accuracy: 0.7635 - val_loss: 0.3377 - val_accuracy: 0.8540\n",
            "Epoch 6/25\n",
            "1125/1125 [==============================] - 14s 12ms/step - loss: 0.3459 - accuracy: 0.8549 - val_loss: 0.3121 - val_accuracy: 0.8730\n",
            "Epoch 7/25\n",
            "1125/1125 [==============================] - 12s 10ms/step - loss: 0.3224 - accuracy: 0.8647 - val_loss: 0.2980 - val_accuracy: 0.8785\n",
            "Epoch 8/25\n",
            "1125/1125 [==============================] - 12s 11ms/step - loss: 0.3091 - accuracy: 0.8696 - val_loss: 0.2878 - val_accuracy: 0.8798\n",
            "Epoch 9/25\n",
            "1125/1125 [==============================] - 11s 10ms/step - loss: 0.2983 - accuracy: 0.8742 - val_loss: 0.2863 - val_accuracy: 0.8798\n",
            "Epoch 10/25\n",
            "1125/1125 [==============================] - 11s 10ms/step - loss: 0.2901 - accuracy: 0.8781 - val_loss: 0.2842 - val_accuracy: 0.8835\n",
            "Epoch 11/25\n",
            "1125/1125 [==============================] - 13s 11ms/step - loss: 0.2810 - accuracy: 0.8812 - val_loss: 0.2891 - val_accuracy: 0.8790\n",
            "Epoch 12/25\n",
            "1125/1125 [==============================] - 11s 10ms/step - loss: 0.2724 - accuracy: 0.8866 - val_loss: 0.2910 - val_accuracy: 0.8773\n",
            "Epoch 13/25\n",
            "1125/1125 [==============================] - 11s 10ms/step - loss: 0.2661 - accuracy: 0.8900 - val_loss: 0.2885 - val_accuracy: 0.8850\n"
          ]
        }
      ]
    },
    {
      "cell_type": "code",
      "source": [
        "plt.figure(figsize=(12, 4),dpi=100)\n",
        "plt.suptitle(\"Training Curves\",fontsize=16)\n",
        "plt.subplot(1, 2, 1)\n",
        "plt.suptitle(\"Validation and Training Loss\",fontsize=14)\n",
        "plt.plot(history.history['loss'], label='train')\n",
        "plt.plot(history.history['val_loss'], label='validation')\n",
        "plt.ylabel(\"Loss\")\n",
        "plt.xlabel(\"Epochs\")\n",
        "plt.legend()\n",
        "plt.subplot(1, 2, 2)\n",
        "plt.suptitle(\"Validation and Training Accuracy\",fontsize=14)\n",
        "plt.plot(history.history['accuracy'], label='train')\n",
        "plt.plot(history.history['val_accuracy'], label='validation')\n",
        "plt.legend()\n",
        "plt.xlabel(\"Epochs\")\n",
        "plt.ylabel(\"Accuracy\")\n",
        "plt.show()"
      ],
      "metadata": {
        "colab": {
          "base_uri": "https://localhost:8080/",
          "height": 422
        },
        "id": "VecnbrJ2172T",
        "outputId": "c57e25ba-5626-4d58-e588-3b90c2f9da00"
      },
      "execution_count": 36,
      "outputs": [
        {
          "output_type": "display_data",
          "data": {
            "text/plain": [
              "<Figure size 1200x400 with 2 Axes>"
            ],
            "image/png": "[encoded data removed]"
          },
          "metadata": {
            "needs_background": "light"
          }
        }
      ]
    },
    {
      "cell_type": "code",
      "source": [
        "from sklearn.metrics import accuracy_score, recall_score, confusion_matrix\n",
        "\n",
        "predictions = model.predict(test_padded)\n",
        "\n",
        "pred_labels = []\n",
        "\n",
        "for x in predictions:\n",
        "    if x >= 0.5:\n",
        "        pred_labels.append(1)\n",
        "    else:\n",
        "        pred_labels.append(0)\n",
        "\n",
        "test_accuracy = accuracy_score(y_test,pred_labels)\n",
        "test_recall = recall_score(y_test,pred_labels)\n",
        "print(f\"Test Accuracy: {round(test_accuracy,3)}\")\n",
        "print(f\"Test Recall: {round(test_recall,3)}\")\n",
        "\n",
        "print(\"\\nConfusion Matrix:\\n\",confusion_matrix(y_test,pred_labels))"
      ],
      "metadata": {
        "colab": {
          "base_uri": "https://localhost:8080/"
        },
        "id": "HVT1hV4X7lwK",
        "outputId": "b0dd024c-66f8-4599-84f7-8dc1bade30a9"
      },
      "execution_count": 37,
      "outputs": [
        {
          "output_type": "stream",
          "name": "stdout",
          "text": [
            "Test Accuracy: 0.877\n",
            "Test Recall: 0.912\n",
            "\n",
            "Confusion Matrix:\n",
            " [[4223  794]\n",
            " [ 438 4545]]\n"
          ]
        }
      ]
    },
    {
      "cell_type": "code",
      "source": [
        ""
      ],
      "metadata": {
        "id": "B8JiPvh47m1e"
      },
      "execution_count": null,
      "outputs": []
    }
  ],
  "metadata": {
    "accelerator": "GPU",
    "colab": {
      "collapsed_sections": [],
      "name": "9-Embeddings-NLP.ipynb",
      "provenance": [],
      "toc_visible": true
    },
    "gpuClass": "standard",
    "kernelspec": {
      "display_name": "Python 3",
      "name": "python3"
    },
    "language_info": {
      "name": "python"
    }
  },
  "nbformat": 4,
  "nbformat_minor": 0
}