{
  "nbformat": 4,
  "nbformat_minor": 0,
  "metadata": {
    "kernelspec": {
      "display_name": "Python 3",
      "language": "python",
      "name": "python3"
    },
    "language_info": {
      "codemirror_mode": {
        "name": "ipython",
        "version": 3
      },
      "file_extension": ".py",
      "mimetype": "text/x-python",
      "name": "python",
      "nbconvert_exporter": "python",
      "pygments_lexer": "ipython3",
      "version": "3.7.6"
    },
    "colab": {
      "name": "3-MLP_Regression.ipynb",
      "provenance": [],
      "collapsed_sections": [],
      "toc_visible": true
    },
    "accelerator": "GPU",
    "gpuClass": "standard"
  },
  "cells": [
    {
      "cell_type": "markdown",
      "metadata": {
        "id": "view-in-github"
      },
      "source": [
        "<a href=\"https://colab.research.google.com/github/DCDPUAEM/DCDP_2022/blob/main/05%20Deep%20Learning/notebooks/3-MLP_Regression.ipynb\" target=\"_parent\"><img src=\"https://colab.research.google.com/assets/colab-badge.svg\" alt=\"Open In Colab\"/></a>\n"
      ]
    },
    {
      "cell_type": "markdown",
      "source": [
        "<h4>Redes neuronales en tareas de Regresión</h4>\n",
        "\n",
        "En esta notebook se presentan dos ejemplos que ilustran cómo usar redes neuronales MLP como herramientas para tareas de regresión."
      ],
      "metadata": {
        "id": "FERSs4GM9pZA"
      }
    },
    {
      "cell_type": "code",
      "metadata": {
        "id": "DhmUvXATbWLr"
      },
      "source": [
        "import numpy as np\n",
        "import matplotlib.pyplot as plt"
      ],
      "execution_count": null,
      "outputs": []
    },
    {
      "cell_type": "markdown",
      "source": [
        "#1. Ejemplo 1: IRIS Dataset"
      ],
      "metadata": {
        "id": "m8yn9beX97zv"
      }
    },
    {
      "cell_type": "markdown",
      "source": [
        "El conjunto de datos de flores de Iris o conjunto de datos de Iris de Fisher es un conjunto de datos introducido por el estadístico y biólogo británico Ronald Fisher en su artículo de 1936 *The use of multiple measurements in taxonomic problems as an example of linear discriminant analysis*. A veces se denomina conjunto de datos de Iris de Anderson porque Edgar Anderson recopiló los datos para cuantificar la variación morfológica de las flores de Iris de tres especies relacionadas. Dos de las tres especies se recogieron en la península de Gaspé \"todas en el mismo pasto, y se recogieron el mismo día y se midieron al mismo tiempo por la misma persona con el mismo aparato\".\n",
        "\n",
        "El conjunto de datos consta de 50 muestras de cada una de las tres especies de Iris (Iris setosa, Iris virginica e Iris versicolor). Se midieron cuatro características de cada muestra: la longitud y la anchura de los sépalos y los pétalos, en centímetros.\n",
        "\n",
        "La versión original del dataset puede encontrarse [aquí](https://archive.ics.uci.edu/ml/datasets/iris).\n",
        "\n",
        "<img align=\"left\" width=\"50%\" src=\"../img/Iris-dataset.png\"/> "
      ],
      "metadata": {
        "id": "nQlzLDgvAzr8"
      }
    },
    {
      "cell_type": "markdown",
      "source": [
        "**El objetivo de este ejemplo es usar la longitud y ancho de los pétalos para predecir la longitud y ancho de los sépalos.**"
      ],
      "metadata": {
        "id": "gkr1lSamCH7Q"
      }
    },
    {
      "cell_type": "markdown",
      "source": [
        "## El conjunto de datos"
      ],
      "metadata": {
        "id": "i2xuSg-igvAG"
      }
    },
    {
      "cell_type": "code",
      "source": [
        "from sklearn.datasets import load_iris\n",
        "iris = load_iris()\n",
        "\n",
        "print(f\"Data shape: {iris.data.shape}\")"
      ],
      "metadata": {
        "colab": {
          "base_uri": "https://localhost:8080/"
        },
        "id": "biPlgX0gFVjA",
        "outputId": "40adf9e3-e92f-4414-c25d-bf73e64d4ad7"
      },
      "execution_count": null,
      "outputs": [
        {
          "output_type": "stream",
          "name": "stdout",
          "text": [
            "Data shape: (150, 4)\n"
          ]
        }
      ]
    },
    {
      "cell_type": "markdown",
      "source": [
        "Observemos el conjunto de datos completo"
      ],
      "metadata": {
        "id": "7Pv3BF6RCB3Z"
      }
    },
    {
      "cell_type": "code",
      "source": [
        "import pandas as pd\n",
        "\n",
        "data = np.hstack((iris.data,iris.target.reshape(-1,1)))\n",
        "pd.DataFrame(data,columns=['petal length','petal width','sepal length','sepal width','species'])"
      ],
      "metadata": {
        "colab": {
          "base_uri": "https://localhost:8080/",
          "height": 424
        },
        "id": "rkpVkrW4KKm5",
        "outputId": "8882db7e-fdc4-44aa-cd96-e375bd720055"
      },
      "execution_count": null,
      "outputs": [
        {
          "output_type": "execute_result",
          "data": {
            "text/plain": [
              "     petal length  petal width  sepal length  sepal width  species\n",
              "0             5.1          3.5           1.4          0.2      0.0\n",
              "1             4.9          3.0           1.4          0.2      0.0\n",
              "2             4.7          3.2           1.3          0.2      0.0\n",
              "3             4.6          3.1           1.5          0.2      0.0\n",
              "4             5.0          3.6           1.4          0.2      0.0\n",
              "..            ...          ...           ...          ...      ...\n",
              "145           6.7          3.0           5.2          2.3      2.0\n",
              "146           6.3          2.5           5.0          1.9      2.0\n",
              "147           6.5          3.0           5.2          2.0      2.0\n",
              "148           6.2          3.4           5.4          2.3      2.0\n",
              "149           5.9          3.0           5.1          1.8      2.0\n",
              "\n",
              "[150 rows x 5 columns]"
            ],
            "text/html": [
              "\n",
              "  <div id=\"df-a752e51b-47a8-46de-a28d-72d78c651927\">\n",
              "    <div class=\"colab-df-container\">\n",
              "      <div>\n",
              "<style scoped>\n",
              "    .dataframe tbody tr th:only-of-type {\n",
              "        vertical-align: middle;\n",
              "    }\n",
              "\n",
              "    .dataframe tbody tr th {\n",
              "        vertical-align: top;\n",
              "    }\n",
              "\n",
              "    .dataframe thead th {\n",
              "        text-align: right;\n",
              "    }\n",
              "</style>\n",
              "<table border=\"1\" class=\"dataframe\">\n",
              "  <thead>\n",
              "    <tr style=\"text-align: right;\">\n",
              "      <th></th>\n",
              "      <th>petal length</th>\n",
              "      <th>petal width</th>\n",
              "      <th>sepal length</th>\n",
              "      <th>sepal width</th>\n",
              "      <th>species</th>\n",
              "    </tr>\n",
              "  </thead>\n",
              "  <tbody>\n",
              "    <tr>\n",
              "      <th>0</th>\n",
              "      <td>5.1</td>\n",
              "      <td>3.5</td>\n",
              "      <td>1.4</td>\n",
              "      <td>0.2</td>\n",
              "      <td>0.0</td>\n",
              "    </tr>\n",
              "    <tr>\n",
              "      <th>1</th>\n",
              "      <td>4.9</td>\n",
              "      <td>3.0</td>\n",
              "      <td>1.4</td>\n",
              "      <td>0.2</td>\n",
              "      <td>0.0</td>\n",
              "    </tr>\n",
              "    <tr>\n",
              "      <th>2</th>\n",
              "      <td>4.7</td>\n",
              "      <td>3.2</td>\n",
              "      <td>1.3</td>\n",
              "      <td>0.2</td>\n",
              "      <td>0.0</td>\n",
              "    </tr>\n",
              "    <tr>\n",
              "      <th>3</th>\n",
              "      <td>4.6</td>\n",
              "      <td>3.1</td>\n",
              "      <td>1.5</td>\n",
              "      <td>0.2</td>\n",
              "      <td>0.0</td>\n",
              "    </tr>\n",
              "    <tr>\n",
              "      <th>4</th>\n",
              "      <td>5.0</td>\n",
              "      <td>3.6</td>\n",
              "      <td>1.4</td>\n",
              "      <td>0.2</td>\n",
              "      <td>0.0</td>\n",
              "    </tr>\n",
              "    <tr>\n",
              "      <th>...</th>\n",
              "      <td>...</td>\n",
              "      <td>...</td>\n",
              "      <td>...</td>\n",
              "      <td>...</td>\n",
              "      <td>...</td>\n",
              "    </tr>\n",
              "    <tr>\n",
              "      <th>145</th>\n",
              "      <td>6.7</td>\n",
              "      <td>3.0</td>\n",
              "      <td>5.2</td>\n",
              "      <td>2.3</td>\n",
              "      <td>2.0</td>\n",
              "    </tr>\n",
              "    <tr>\n",
              "      <th>146</th>\n",
              "      <td>6.3</td>\n",
              "      <td>2.5</td>\n",
              "      <td>5.0</td>\n",
              "      <td>1.9</td>\n",
              "      <td>2.0</td>\n",
              "    </tr>\n",
              "    <tr>\n",
              "      <th>147</th>\n",
              "      <td>6.5</td>\n",
              "      <td>3.0</td>\n",
              "      <td>5.2</td>\n",
              "      <td>2.0</td>\n",
              "      <td>2.0</td>\n",
              "    </tr>\n",
              "    <tr>\n",
              "      <th>148</th>\n",
              "      <td>6.2</td>\n",
              "      <td>3.4</td>\n",
              "      <td>5.4</td>\n",
              "      <td>2.3</td>\n",
              "      <td>2.0</td>\n",
              "    </tr>\n",
              "    <tr>\n",
              "      <th>149</th>\n",
              "      <td>5.9</td>\n",
              "      <td>3.0</td>\n",
              "      <td>5.1</td>\n",
              "      <td>1.8</td>\n",
              "      <td>2.0</td>\n",
              "    </tr>\n",
              "  </tbody>\n",
              "</table>\n",
              "<p>150 rows × 5 columns</p>\n",
              "</div>\n",
              "      <button class=\"colab-df-convert\" onclick=\"convertToInteractive('df-a752e51b-47a8-46de-a28d-72d78c651927')\"\n",
              "              title=\"Convert this dataframe to an interactive table.\"\n",
              "              style=\"display:none;\">\n",
              "        \n",
              "  <svg xmlns=\"http://www.w3.org/2000/svg\" height=\"24px\"viewBox=\"0 0 24 24\"\n",
              "       width=\"24px\">\n",
              "    <path d=\"M0 0h24v24H0V0z\" fill=\"none\"/>\n",
              "    <path d=\"M18.56 5.44l.94 2.06.94-2.06 2.06-.94-2.06-.94-.94-2.06-.94 2.06-2.06.94zm-11 1L8.5 8.5l.94-2.06 2.06-.94-2.06-.94L8.5 2.5l-.94 2.06-2.06.94zm10 10l.94 2.06.94-2.06 2.06-.94-2.06-.94-.94-2.06-.94 2.06-2.06.94z\"/><path d=\"M17.41 7.96l-1.37-1.37c-.4-.4-.92-.59-1.43-.59-.52 0-1.04.2-1.43.59L10.3 9.45l-7.72 7.72c-.78.78-.78 2.05 0 2.83L4 21.41c.39.39.9.59 1.41.59.51 0 1.02-.2 1.41-.59l7.78-7.78 2.81-2.81c.8-.78.8-2.07 0-2.86zM5.41 20L4 18.59l7.72-7.72 1.47 1.35L5.41 20z\"/>\n",
              "  </svg>\n",
              "      </button>\n",
              "      \n",
              "  <style>\n",
              "    .colab-df-container {\n",
              "      display:flex;\n",
              "      flex-wrap:wrap;\n",
              "      gap: 12px;\n",
              "    }\n",
              "\n",
              "    .colab-df-convert {\n",
              "      background-color: #E8F0FE;\n",
              "      border: none;\n",
              "      border-radius: 50%;\n",
              "      cursor: pointer;\n",
              "      display: none;\n",
              "      fill: #1967D2;\n",
              "      height: 32px;\n",
              "      padding: 0 0 0 0;\n",
              "      width: 32px;\n",
              "    }\n",
              "\n",
              "    .colab-df-convert:hover {\n",
              "      background-color: #E2EBFA;\n",
              "      box-shadow: 0px 1px 2px rgba(60, 64, 67, 0.3), 0px 1px 3px 1px rgba(60, 64, 67, 0.15);\n",
              "      fill: #174EA6;\n",
              "    }\n",
              "\n",
              "    [theme=dark] .colab-df-convert {\n",
              "      background-color: #3B4455;\n",
              "      fill: #D2E3FC;\n",
              "    }\n",
              "\n",
              "    [theme=dark] .colab-df-convert:hover {\n",
              "      background-color: #434B5C;\n",
              "      box-shadow: 0px 1px 3px 1px rgba(0, 0, 0, 0.15);\n",
              "      filter: drop-shadow(0px 1px 2px rgba(0, 0, 0, 0.3));\n",
              "      fill: #FFFFFF;\n",
              "    }\n",
              "  </style>\n",
              "\n",
              "      <script>\n",
              "        const buttonEl =\n",
              "          document.querySelector('#df-a752e51b-47a8-46de-a28d-72d78c651927 button.colab-df-convert');\n",
              "        buttonEl.style.display =\n",
              "          google.colab.kernel.accessAllowed ? 'block' : 'none';\n",
              "\n",
              "        async function convertToInteractive(key) {\n",
              "          const element = document.querySelector('#df-a752e51b-47a8-46de-a28d-72d78c651927');\n",
              "          const dataTable =\n",
              "            await google.colab.kernel.invokeFunction('convertToInteractive',\n",
              "                                                     [key], {});\n",
              "          if (!dataTable) return;\n",
              "\n",
              "          const docLinkHtml = 'Like what you see? Visit the ' +\n",
              "            '<a target=\"_blank\" href=https://colab.research.google.com/notebooks/data_table.ipynb>data table notebook</a>'\n",
              "            + ' to learn more about interactive tables.';\n",
              "          element.innerHTML = '';\n",
              "          dataTable['output_type'] = 'display_data';\n",
              "          await google.colab.output.renderOutput(dataTable, element);\n",
              "          const docLink = document.createElement('div');\n",
              "          docLink.innerHTML = docLinkHtml;\n",
              "          element.appendChild(docLink);\n",
              "        }\n",
              "      </script>\n",
              "    </div>\n",
              "  </div>\n",
              "  "
            ]
          },
          "metadata": {},
          "execution_count": 126
        }
      ]
    },
    {
      "cell_type": "code",
      "metadata": {
        "id": "Pr8pwJ5ebWL0",
        "colab": {
          "base_uri": "https://localhost:8080/",
          "height": 350
        },
        "outputId": "8a131330-65f3-409c-c6bf-6457dc85429b"
      },
      "source": [
        "# We also keep the labels in a vector L\n",
        "X = iris.data[:, :2]    # Dimensiones de los pétalos\n",
        "Y = iris.data[:, 2:]    # Dimensiones de los sépalos\n",
        "L = iris.target         # Etiquetas de la especie\n",
        "\n",
        "print(\"X data:\", X.shape)\n",
        "print(\"Y data:\", Y.shape)\n",
        "print(\"L data:\", L.shape)\n",
        "\n",
        "# ----- Graficamos -----\n",
        "plt.figure(figsize=(12, 4))\n",
        "plt.subplot(1, 2, 1)\n",
        "plt.scatter(X[L==0, 0], X[L==0, 1], c='b', label='setosa')\n",
        "plt.scatter(X[L==1, 0], X[L==1, 1], c='r', label='versicolor')\n",
        "plt.scatter(X[L==2, 0], X[L==2, 1], c='g', label='virginica')\n",
        "plt.legend()\n",
        "plt.grid(True)\n",
        "plt.xlabel('petal length')\n",
        "plt.ylabel('petal width')\n",
        "plt.title('Input variables X')\n",
        "plt.subplot(1, 2, 2)\n",
        "plt.scatter(Y[L==0, 0], Y[L==0, 1], c='b', label='setosa')\n",
        "plt.scatter(Y[L==1, 0], Y[L==1, 1], c='r', label='versicolor')\n",
        "plt.scatter(Y[L==2, 0], Y[L==2, 1], c='g', label='virginica')\n",
        "plt.legend()\n",
        "plt.grid(True)\n",
        "plt.xlabel('sepal length')\n",
        "plt.ylabel('sepal width')\n",
        "plt.title('Output variables Y')\n",
        "plt.show()"
      ],
      "execution_count": null,
      "outputs": [
        {
          "output_type": "stream",
          "name": "stdout",
          "text": [
            "X data: (150, 2)\n",
            "Y data: (150, 2)\n",
            "L data: (150,)\n"
          ]
        },
        {
          "output_type": "display_data",
          "data": {
            "text/plain": [
              "<Figure size 864x288 with 2 Axes>"
            ],
            "image/png": "[encoded data removed]"
          },
          "metadata": {
            "needs_background": "light"
          }
        }
      ]
    },
    {
      "cell_type": "code",
      "metadata": {
        "id": "16xfdF2xbWL8",
        "colab": {
          "base_uri": "https://localhost:8080/"
        },
        "outputId": "949fac53-e4da-4f6a-f0e9-a9ebe61975b5"
      },
      "source": [
        "# Split it into training and test sets\n",
        "from sklearn.model_selection import train_test_split\n",
        "\n",
        "x_train, x_test, y_train, y_test, l_train, l_test = train_test_split(X, Y, L, test_size=0.1)\n",
        "\n",
        "print(\"Training + validation inputs X:\", x_train.shape)\n",
        "print(\"Test inputs X:\", x_test.shape)\n",
        "print(\"Training + validation outputs Y:\", y_train.shape)\n",
        "print(\"Test outputs Y:\", y_test.shape)\n",
        "print(\"Training + validation labels l:\", l_train.shape)\n",
        "print(\"Test labels l:\", l_test.shape)"
      ],
      "execution_count": null,
      "outputs": [
        {
          "output_type": "stream",
          "name": "stdout",
          "text": [
            "Training + validation inputs X: (135, 2)\n",
            "Test inputs X: (15, 2)\n",
            "Training + validation outputs Y: (135, 2)\n",
            "Test outputs Y: (15, 2)\n",
            "Training + validation labels l: (135,)\n",
            "Test labels l: (15,)\n"
          ]
        }
      ]
    },
    {
      "cell_type": "markdown",
      "source": [
        "## Creamos la red"
      ],
      "metadata": {
        "id": "TBynqKsZgyEY"
      }
    },
    {
      "cell_type": "code",
      "metadata": {
        "id": "jwGu_37rbWMC"
      },
      "source": [
        "# import tensorflow as tf\n",
        "from tensorflow.keras.models import Model, Sequential\n",
        "from tensorflow.keras.layers import Input, Dense"
      ],
      "execution_count": null,
      "outputs": []
    },
    {
      "cell_type": "code",
      "metadata": {
        "id": "OfZ2xl7XbWMI",
        "colab": {
          "base_uri": "https://localhost:8080/"
        },
        "outputId": "c76e319c-415b-44a6-b306-c1e0a744256d"
      },
      "source": [
        "# Create an MLP of two inputs x=[x1, x2], and two outputs y=[y1, y2]\n",
        "i = Input(shape=(2,), name='input')\n",
        "o = Dense(units=2, activation=None, name='output')(i)\n",
        "\n",
        "MLP = Model(inputs=i, outputs=o)\n",
        "MLP.summary()"
      ],
      "execution_count": null,
      "outputs": [
        {
          "output_type": "stream",
          "name": "stdout",
          "text": [
            "Model: \"model_6\"\n",
            "_________________________________________________________________\n",
            " Layer (type)                Output Shape              Param #   \n",
            "=================================================================\n",
            " input (InputLayer)          [(None, 2)]               0         \n",
            "                                                                 \n",
            " output (Dense)              (None, 2)                 6         \n",
            "                                                                 \n",
            "=================================================================\n",
            "Total params: 6\n",
            "Trainable params: 6\n",
            "Non-trainable params: 0\n",
            "_________________________________________________________________\n"
          ]
        }
      ]
    },
    {
      "cell_type": "code",
      "metadata": {
        "id": "YiR10FbJbWMN",
        "colab": {
          "base_uri": "https://localhost:8080/"
        },
        "outputId": "019af5fd-dbd7-4748-ed32-5b693bfef8cc"
      },
      "source": [
        "# Obtain weights and biases of the hidden layer\n",
        "w1, b1 = MLP.layers[1].get_weights()\n",
        "print(\"Initial weights:\", w1.shape)\n",
        "print(w1)\n",
        "print(\"Initial biases\", b1.shape)\n",
        "print(b1)"
      ],
      "execution_count": null,
      "outputs": [
        {
          "output_type": "stream",
          "name": "stdout",
          "text": [
            "Initial weights: (2, 2)\n",
            "[[ 0.53404784 -0.7829732 ]\n",
            " [-0.26474208  0.18040693]]\n",
            "Initial biases (2,)\n",
            "[0. 0.]\n"
          ]
        }
      ]
    },
    {
      "cell_type": "code",
      "metadata": {
        "id": "yf20TvnAbWMR",
        "colab": {
          "base_uri": "https://localhost:8080/",
          "height": 140
        },
        "outputId": "4b4e258a-c168-44d7-c2aa-d1b3dc9f4e7e"
      },
      "source": [
        "from tensorflow.keras.utils import plot_model\n",
        "\n",
        "plot_model(MLP, to_file='MLP.png', show_shapes=True, show_layer_names=True, rankdir='TB', expand_nested=True, dpi=64)"
      ],
      "execution_count": null,
      "outputs": [
        {
          "output_type": "execute_result",
          "data": {
            "text/plain": [
              "<IPython.core.display.Image object>"
            ],
            "image/png": "[encoded data removed]"
          },
          "metadata": {},
          "execution_count": 134
        }
      ]
    },
    {
      "cell_type": "code",
      "metadata": {
        "id": "CJ0ZRpsibWMY"
      },
      "source": [
        "MLP.compile(optimizer='sgd', loss='mse')"
      ],
      "execution_count": null,
      "outputs": []
    },
    {
      "cell_type": "markdown",
      "source": [
        "## Entrenamos la red"
      ],
      "metadata": {
        "id": "wEkbO_2Ug1_k"
      }
    },
    {
      "cell_type": "code",
      "metadata": {
        "id": "Hzez7n_xbWMc"
      },
      "source": [
        "n_epocas = 100\n",
        "\n",
        "HISTORY = MLP.fit(x=x_train, y=y_train, batch_size=4, epochs=n_epocas, validation_split=0.1)"
      ],
      "execution_count": null,
      "outputs": []
    },
    {
      "cell_type": "markdown",
      "source": [
        "Aquí se muestra una segunda forma de graficar la perdida durante el entrenamiento. De esta forma no hay que especificar manualmente la cantidad de épocas."
      ],
      "metadata": {
        "id": "uRcx0MU7FG_V"
      }
    },
    {
      "cell_type": "code",
      "metadata": {
        "id": "x7I-BOSFbgX-",
        "colab": {
          "base_uri": "https://localhost:8080/",
          "height": 374
        },
        "outputId": "8a133984-fea3-42e6-e7cf-88cf163959ae"
      },
      "source": [
        "plt.figure(figsize=(12, 5))\n",
        "plt.suptitle(\"Training and Validation Losses\", fontsize=15)\n",
        "plt.plot(MLP.history.history['loss'], label='Training', linewidth=2)\n",
        "plt.plot(MLP.history.history['val_loss'], label='Validation', linewidth=2)\n",
        "plt.legend()\n",
        "plt.xlabel('Epoch', fontsize=14)\n",
        "plt.ylabel('Loss (MSE)', fontsize=14)\n",
        "plt.grid(True)\n",
        "plt.show()"
      ],
      "execution_count": null,
      "outputs": [
        {
          "output_type": "display_data",
          "data": {
            "text/plain": [
              "<Figure size 864x360 with 1 Axes>"
            ],
            "image/png": "[encoded data removed]"
          },
          "metadata": {
            "needs_background": "light"
          }
        }
      ]
    },
    {
      "cell_type": "code",
      "metadata": {
        "id": "rtHqcSQg2aQR",
        "colab": {
          "base_uri": "https://localhost:8080/"
        },
        "outputId": "48114beb-b409-434b-c45f-a05775a02162"
      },
      "source": [
        "# Obtain weights and biases of the hidden layer after training\n",
        "w1, b1 = MLP.layers[1].get_weights()\n",
        "print(\"Initial weights:\", w1.shape)\n",
        "print(w1)\n",
        "print(\"Initial biases\", b1.shape)\n",
        "print(b1)"
      ],
      "execution_count": null,
      "outputs": [
        {
          "output_type": "stream",
          "name": "stdout",
          "text": [
            "Initial weights: (2, 2)\n",
            "[[ 1.6457497   0.6364732 ]\n",
            " [-1.7829107  -0.72696346]]\n",
            "Initial biases (2,)\n",
            "[-0.7580318 -0.4121375]\n"
          ]
        }
      ]
    },
    {
      "cell_type": "markdown",
      "source": [
        "## Resultados y Evaluación"
      ],
      "metadata": {
        "id": "O69mEJAjg4w-"
      }
    },
    {
      "cell_type": "markdown",
      "source": [
        "Use the trained model to compute the average test loss"
      ],
      "metadata": {
        "id": "nDruX69hHLba"
      }
    },
    {
      "cell_type": "code",
      "metadata": {
        "id": "M99b2NpEbWMi",
        "colab": {
          "base_uri": "https://localhost:8080/"
        },
        "outputId": "0fa14d4e-62fa-4e34-cbc8-a171984f3589"
      },
      "source": [
        "MLP.evaluate(x=x_test, y=y_test, verbose=False)"
      ],
      "execution_count": null,
      "outputs": [
        {
          "output_type": "execute_result",
          "data": {
            "text/plain": [
              "0.4066779315471649"
            ]
          },
          "metadata": {},
          "execution_count": 139
        }
      ]
    },
    {
      "cell_type": "code",
      "metadata": {
        "id": "-vkDhVD3bWMo",
        "colab": {
          "base_uri": "https://localhost:8080/"
        },
        "outputId": "465e6567-7d33-4d87-9de5-b4e0182ce8be"
      },
      "source": [
        "# Now generate the predictions on the test set\n",
        "y_test_hat = MLP.predict(x=x_test)\n",
        "print(y_test_hat.shape)"
      ],
      "execution_count": null,
      "outputs": [
        {
          "output_type": "stream",
          "name": "stdout",
          "text": [
            "WARNING:tensorflow:5 out of the last 10 calls to <function Model.make_predict_function.<locals>.predict_function at 0x7fb5cd014e60> triggered tf.function retracing. Tracing is expensive and the excessive number of tracings could be due to (1) creating @tf.function repeatedly in a loop, (2) passing tensors with different shapes, (3) passing Python objects instead of tensors. For (1), please define your @tf.function outside of the loop. For (2), @tf.function has experimental_relax_shapes=True option that relaxes argument shapes that can avoid unnecessary retracing. For (3), please refer to https://www.tensorflow.org/guide/function#controlling_retracing and https://www.tensorflow.org/api_docs/python/tf/function for  more details.\n",
            "(15, 2)\n"
          ]
        }
      ]
    },
    {
      "cell_type": "code",
      "metadata": {
        "id": "hh43w3bRbWMs",
        "colab": {
          "base_uri": "https://localhost:8080/",
          "height": 404
        },
        "outputId": "18654e3b-240a-49ba-bd26-2dfd6f508346"
      },
      "source": [
        "plt.figure(figsize=(9,6))\n",
        "\n",
        "plt.scatter(y_test[l_test==0, 0], y_test[l_test==0, 1], c='b', label='set true')\n",
        "plt.scatter(y_test[l_test==1, 0], y_test[l_test==1, 1], c='r', label='ver true')\n",
        "plt.scatter(y_test[l_test==2, 0], y_test[l_test==2, 1], c='g', label='vir true')\n",
        "\n",
        "plt.scatter(y_test_hat[l_test==0, 0], y_test_hat[l_test==0, 1], c='b', marker='+', label='set pred')\n",
        "plt.scatter(y_test_hat[l_test==1, 0], y_test_hat[l_test==1, 1], c='r', marker='+', label='ver pred')\n",
        "plt.scatter(y_test_hat[l_test==2, 0], y_test_hat[l_test==2, 1], c='g', marker='+', label='vir pred')\n",
        "\n",
        "plt.legend(fontsize=14)\n",
        "plt.grid(True)\n",
        "plt.xlabel('sepal length')\n",
        "plt.ylabel('sepal width')\n",
        "plt.title('Test set and its prediction')\n",
        "plt.show()"
      ],
      "execution_count": null,
      "outputs": [
        {
          "output_type": "display_data",
          "data": {
            "text/plain": [
              "<Figure size 648x432 with 1 Axes>"
            ],
            "image/png": "[encoded data removed]"
          },
          "metadata": {
            "needs_background": "light"
          }
        }
      ]
    },
    {
      "cell_type": "markdown",
      "source": [
        "## Podemos definir la red, de manera alterna, usando la clase `Sequential`."
      ],
      "metadata": {
        "id": "2Qfpc0k9gleW"
      }
    },
    {
      "cell_type": "markdown",
      "source": [
        "There are two ways to define a model in `keras`:\n",
        "\n",
        "* Sequential class: Sequential groups a linear stack of layers into a tf. keras.Model.\n",
        "* Model class: Model group's layers into an object with training and inference features.\n",
        "\n",
        "An Sequential model is the simplest type of model, a linear stack of layers. But there are some flaws as we can't build complex networks such as multi-input or multi-output networks using this API.\n",
        "\n",
        "On the other hand, using the Model class, we can create arbitrary graphs of layers. From this, we can get more flexibility and easily define models where each layer can connect not just with the previous and next layers but also share feature information with other layers in the model."
      ],
      "metadata": {
        "id": "NHMQVBNEhSNt"
      }
    },
    {
      "cell_type": "code",
      "source": [
        "MLP = Sequential()\n",
        "\n",
        "MLP.add(Input(shape=(2,), name='input'))\n",
        "MLP.add(Dense(units=2, activation=None, name='output'))\n",
        "\n",
        "MLP.summary()\n",
        "\n",
        "MLP.compile(optimizer='sgd', loss='mse')"
      ],
      "metadata": {
        "colab": {
          "base_uri": "https://localhost:8080/"
        },
        "id": "FRQiOcfbMTuY",
        "outputId": "871c5bd6-845d-42e6-b0a3-efcd393d0e69"
      },
      "execution_count": null,
      "outputs": [
        {
          "output_type": "stream",
          "name": "stdout",
          "text": [
            "Model: \"sequential_3\"\n",
            "_________________________________________________________________\n",
            " Layer (type)                Output Shape              Param #   \n",
            "=================================================================\n",
            " output (Dense)              (None, 2)                 6         \n",
            "                                                                 \n",
            "=================================================================\n",
            "Total params: 6\n",
            "Trainable params: 6\n",
            "Non-trainable params: 0\n",
            "_________________________________________________________________\n"
          ]
        }
      ]
    },
    {
      "cell_type": "code",
      "source": [
        "HISTORY = MLP.fit(x=x_train, y=y_train, batch_size=4, epochs=100, validation_split=0.1)"
      ],
      "metadata": {
        "id": "iG1gjg_GgNCT"
      },
      "execution_count": null,
      "outputs": []
    },
    {
      "cell_type": "code",
      "source": [
        "MLP.evaluate(x=x_test, y=y_test, verbose=False)"
      ],
      "metadata": {
        "colab": {
          "base_uri": "https://localhost:8080/"
        },
        "id": "BnsGNGO4gVBE",
        "outputId": "afe9ac58-a62e-4dea-f611-cd09f1226d92"
      },
      "execution_count": null,
      "outputs": [
        {
          "output_type": "execute_result",
          "data": {
            "text/plain": [
              "0.3494007885456085"
            ]
          },
          "metadata": {},
          "execution_count": 58
        }
      ]
    },
    {
      "cell_type": "markdown",
      "source": [
        "## Probamos con una red más grande"
      ],
      "metadata": {
        "id": "wR36HRLPg8ct"
      }
    },
    {
      "cell_type": "code",
      "metadata": {
        "id": "hpystfDabWMw"
      },
      "source": [
        "i = Input(shape=(2,), name='input')\n",
        "h = Dense(units=32, activation='sigmoid', name='hidden1')(i)\n",
        "h = Dense(units=128, activation='sigmoid', name='hidden2')(h)\n",
        "h = Dense(units=32, activation='sigmoid', name='hidden3')(h)\n",
        "o = Dense(units=2, activation=None, name='output')(h)\n",
        "\n",
        "MLP = Model(inputs=i, outputs=o)\n",
        "MLP.summary()"
      ],
      "execution_count": null,
      "outputs": []
    },
    {
      "cell_type": "code",
      "metadata": {
        "id": "x3Gj9q4VbWM0"
      },
      "source": [
        "MLP.compile(optimizer='sgd', loss='mse')"
      ],
      "execution_count": null,
      "outputs": []
    },
    {
      "cell_type": "code",
      "metadata": {
        "id": "5yvl3ggEbWM4"
      },
      "source": [
        "MLP.fit(x=x_train, y=y_train, batch_size=8, epochs=100, verbose=2, validation_split=0.1)"
      ],
      "execution_count": null,
      "outputs": []
    },
    {
      "cell_type": "code",
      "metadata": {
        "id": "ke48v-Am2Jsz",
        "colab": {
          "base_uri": "https://localhost:8080/",
          "height": 336
        },
        "outputId": "1562a31a-b07d-492f-9607-fc81b91353c2"
      },
      "source": [
        "# Plot loss (The object MLP keeps track of the training and validation performance)\n",
        "plt.figure(figsize=(12, 5))\n",
        "plt.plot(MLP.history.history['loss'], label='Training', linewidth=2)\n",
        "plt.plot(MLP.history.history['val_loss'], label='Validation', linewidth=2)\n",
        "plt.legend()\n",
        "plt.xlabel('Epoch')\n",
        "plt.ylabel('Loss')\n",
        "plt.grid(True)\n",
        "plt.show()"
      ],
      "execution_count": null,
      "outputs": [
        {
          "output_type": "display_data",
          "data": {
            "text/plain": [
              "<Figure size 864x360 with 1 Axes>"
            ],
            "image/png": "[encoded data removed]"
          },
          "metadata": {
            "needs_background": "light"
          }
        }
      ]
    },
    {
      "cell_type": "markdown",
      "source": [
        "Obtain weights and biases of the hidden layer"
      ],
      "metadata": {
        "id": "Ii6h6ZKPvpqW"
      }
    },
    {
      "cell_type": "code",
      "metadata": {
        "id": "pE6qPetP2ywl",
        "colab": {
          "base_uri": "https://localhost:8080/"
        },
        "outputId": "75516508-e179-4524-be04-70267090848c"
      },
      "source": [
        "for layer in MLP.layers[1:]:\n",
        "  w, b = layer.get_weights()\n",
        "  print(\"Weights: \", w.shape, end='\\t')\n",
        "  print(\"Biases:  \", b.shape)"
      ],
      "execution_count": null,
      "outputs": [
        {
          "output_type": "stream",
          "text": [
            "Weights:  (2, 32)\tBiases:   (32,)\n",
            "Weights:  (32, 64)\tBiases:   (64,)\n",
            "Weights:  (64, 32)\tBiases:   (32,)\n",
            "Weights:  (32, 2)\tBiases:   (2,)\n"
          ],
          "name": "stdout"
        }
      ]
    },
    {
      "cell_type": "markdown",
      "source": [
        "Evaluamos la pérdida promedio en el conjunto de prueba"
      ],
      "metadata": {
        "id": "Nb6LE-HHDFa3"
      }
    },
    {
      "cell_type": "code",
      "metadata": {
        "id": "PcSe0ybzbWM7",
        "colab": {
          "base_uri": "https://localhost:8080/"
        },
        "outputId": "70d0f0d7-7112-4a17-f5fc-acdbb71325ff"
      },
      "source": [
        "MLP.evaluate(x=x_test, y=y_test, verbose=False)"
      ],
      "execution_count": null,
      "outputs": [
        {
          "output_type": "execute_result",
          "data": {
            "text/plain": [
              "1.61572265625"
            ]
          },
          "metadata": {},
          "execution_count": 68
        }
      ]
    },
    {
      "cell_type": "markdown",
      "source": [
        "Generamos las predicciones"
      ],
      "metadata": {
        "id": "qJF4ay3nDMKp"
      }
    },
    {
      "cell_type": "code",
      "metadata": {
        "id": "WgIBxyqobWNA",
        "colab": {
          "base_uri": "https://localhost:8080/"
        },
        "outputId": "52f880a7-99b0-4089-e59f-d2fbf8e710a3"
      },
      "source": [
        "y_test_hat = MLP.predict(x=x_test)\n",
        "print(y_test_hat.shape)"
      ],
      "execution_count": null,
      "outputs": [
        {
          "output_type": "stream",
          "name": "stdout",
          "text": [
            "(15, 2)\n"
          ]
        }
      ]
    },
    {
      "cell_type": "code",
      "metadata": {
        "id": "fgU_z-yiRus-",
        "colab": {
          "base_uri": "https://localhost:8080/",
          "height": 404
        },
        "outputId": "98b9282b-2185-4fdb-f4b1-7b9b28720595"
      },
      "source": [
        "plt.figure(figsize=(9,6))\n",
        "\n",
        "plt.scatter(y_test[l_test==0, 0], y_test[l_test==0, 1], c='b', label='set true')\n",
        "plt.scatter(y_test[l_test==1, 0], y_test[l_test==1, 1], c='r', label='ver true')\n",
        "plt.scatter(y_test[l_test==2, 0], y_test[l_test==2, 1], c='g', label='vir true')\n",
        "\n",
        "plt.scatter(y_test_hat[l_test==0, 0], y_test_hat[l_test==0, 1], c='b', marker='+', label='set pred')\n",
        "plt.scatter(y_test_hat[l_test==1, 0], y_test_hat[l_test==1, 1], c='r', marker='+', label='ver pred')\n",
        "plt.scatter(y_test_hat[l_test==2, 0], y_test_hat[l_test==2, 1], c='g', marker='+', label='vir pred')\n",
        "\n",
        "plt.legend()\n",
        "plt.grid(True)\n",
        "plt.xlabel('sepal length')\n",
        "plt.ylabel('sepal width')\n",
        "plt.title('Test set and its prediction')\n",
        "plt.show()"
      ],
      "execution_count": null,
      "outputs": [
        {
          "output_type": "display_data",
          "data": {
            "text/plain": [
              "<Figure size 648x432 with 1 Axes>"
            ],
            "image/png": "[encoded data removed]"
          },
          "metadata": {
            "needs_background": "light"
          }
        }
      ]
    },
    {
      "cell_type": "markdown",
      "source": [
        "## ⭕ Prática: \n",
        "\n",
        "Crea una red neuronal para el problema de predecir la clase usando las 4 mediciones de cada instancia (petal length, petal width, sepal length, sepal width)."
      ],
      "metadata": {
        "id": "-gOTKLJsDqyb"
      }
    },
    {
      "cell_type": "code",
      "source": [
        "from sklearn.datasets import load_iris\n",
        "\n",
        "iris = load_iris()"
      ],
      "metadata": {
        "id": "Xjb1Ra-OCpG4"
      },
      "execution_count": 30,
      "outputs": []
    },
    {
      "cell_type": "code",
      "source": [
        "from tensorflow.keras.utils import to_categorical\n",
        "\n",
        "X = iris.data\n",
        "L = iris.target        \n",
        "\n",
        "Y = to_categorical(L,num_classes=3)"
      ],
      "metadata": {
        "id": "cdNDLYKiBzy5"
      },
      "execution_count": null,
      "outputs": []
    },
    {
      "cell_type": "markdown",
      "source": [
        "# Ejemplo 2: Boston house price dataset"
      ],
      "metadata": {
        "id": "y7jMeLTAzBF6"
      }
    },
    {
      "cell_type": "markdown",
      "source": [
        "El conjunto de datos describe 13 features numéricas de casas en los suburbios de Boston, el objetivo es modelar el precio de las casas en esos suburbios en miles de dólares. Como tal, se trata de un problema de modelización predictiva por regresión. Los atributos de entrada incluyen, entre otras cosas, la tasa de criminalidad, la proporción de acres de negocios no minoristas y  las concentraciones de productos químicos. En esta versión del conjunto de datos no se tiene la información concreta sobre cada columna.\n",
        "\n",
        "Se trata de un problema bien estudiado en el Machine Learning. El rendimiento razonable de los modelos evaluados mediante el error cuadrático medio (MSE) se sitúa en torno a 20 (en miles de dólares al cuadrado) o 4.5 dólares (si se saca la raíz cuadrada). Este es un buen objetivo para nuestro modelo de red neuronal.\n",
        "\n",
        "El objetivo de esta práctica es ver el cambio en el rendimiento conforme aplicamos diferentes estrategias al proceso de modelado."
      ],
      "metadata": {
        "id": "LqtYwJat0xss"
      }
    },
    {
      "cell_type": "code",
      "metadata": {
        "id": "9tjN--xD7TsX",
        "colab": {
          "base_uri": "https://localhost:8080/"
        },
        "outputId": "1b28168d-0ca3-4216-f920-d1513c079cbf"
      },
      "source": [
        "!apt-get -qq install > /dev/null subversion\n",
        "\n",
        "!svn checkout \"https://github.com/DCDPUAEM/DCDP_2022/trunk/05%20Deep%20Learning/data/\""
      ],
      "execution_count": 1,
      "outputs": [
        {
          "output_type": "stream",
          "name": "stdout",
          "text": [
            "A    data/housing.data\n",
            "A    data/mnist_biases1.npy\n",
            "A    data/mnist_biases2.npy\n",
            "A    data/mnist_weights1.npy\n",
            "A    data/mnist_weights2.npy\n",
            "Checked out revision 119.\n"
          ]
        }
      ]
    },
    {
      "cell_type": "markdown",
      "source": [
        "## El conjunto de datos"
      ],
      "metadata": {
        "id": "387PIu3GAtNT"
      }
    },
    {
      "cell_type": "code",
      "source": [
        "import pandas as pd\n",
        "\n",
        "df = pd.read_csv(\"/content/data/housing.data\", delim_whitespace=True, header=None)\n",
        "display(df)\n",
        "\n",
        "# split into input X and output Y variables\n",
        "dataset = df.values\n",
        "X = dataset[:,0:13]\n",
        "Y = dataset[:,13]\n",
        "\n",
        "print(f\"X shape: {X.shape}\")\n",
        "print(f\"Y shape: {Y.shape}\")"
      ],
      "metadata": {
        "colab": {
          "base_uri": "https://localhost:8080/",
          "height": 459
        },
        "id": "Kf55y1DC335F",
        "outputId": "e0810219-d070-468b-a8ee-1ac02c0b9e4f"
      },
      "execution_count": 35,
      "outputs": [
        {
          "output_type": "display_data",
          "data": {
            "text/plain": [
              "          0     1      2   3      4      5     6       7   8      9     10  \\\n",
              "0    0.00632  18.0   2.31   0  0.538  6.575  65.2  4.0900   1  296.0  15.3   \n",
              "1    0.02731   0.0   7.07   0  0.469  6.421  78.9  4.9671   2  242.0  17.8   \n",
              "2    0.02729   0.0   7.07   0  0.469  7.185  61.1  4.9671   2  242.0  17.8   \n",
              "3    0.03237   0.0   2.18   0  0.458  6.998  45.8  6.0622   3  222.0  18.7   \n",
              "4    0.06905   0.0   2.18   0  0.458  7.147  54.2  6.0622   3  222.0  18.7   \n",
              "..       ...   ...    ...  ..    ...    ...   ...     ...  ..    ...   ...   \n",
              "501  0.06263   0.0  11.93   0  0.573  6.593  69.1  2.4786   1  273.0  21.0   \n",
              "502  0.04527   0.0  11.93   0  0.573  6.120  76.7  2.2875   1  273.0  21.0   \n",
              "503  0.06076   0.0  11.93   0  0.573  6.976  91.0  2.1675   1  273.0  21.0   \n",
              "504  0.10959   0.0  11.93   0  0.573  6.794  89.3  2.3889   1  273.0  21.0   \n",
              "505  0.04741   0.0  11.93   0  0.573  6.030  80.8  2.5050   1  273.0  21.0   \n",
              "\n",
              "         11    12    13  \n",
              "0    396.90  4.98  24.0  \n",
              "1    396.90  9.14  21.6  \n",
              "2    392.83  4.03  34.7  \n",
              "3    394.63  2.94  33.4  \n",
              "4    396.90  5.33  36.2  \n",
              "..      ...   ...   ...  \n",
              "501  391.99  9.67  22.4  \n",
              "502  396.90  9.08  20.6  \n",
              "503  396.90  5.64  23.9  \n",
              "504  393.45  6.48  22.0  \n",
              "505  396.90  7.88  11.9  \n",
              "\n",
              "[506 rows x 14 columns]"
            ],
            "text/html": [
              "\n",
              "  <div id=\"df-32bee719-223f-49fb-99f4-b1af2330ca50\">\n",
              "    <div class=\"colab-df-container\">\n",
              "      <div>\n",
              "<style scoped>\n",
              "    .dataframe tbody tr th:only-of-type {\n",
              "        vertical-align: middle;\n",
              "    }\n",
              "\n",
              "    .dataframe tbody tr th {\n",
              "        vertical-align: top;\n",
              "    }\n",
              "\n",
              "    .dataframe thead th {\n",
              "        text-align: right;\n",
              "    }\n",
              "</style>\n",
              "<table border=\"1\" class=\"dataframe\">\n",
              "  <thead>\n",
              "    <tr style=\"text-align: right;\">\n",
              "      <th></th>\n",
              "      <th>0</th>\n",
              "      <th>1</th>\n",
              "      <th>2</th>\n",
              "      <th>3</th>\n",
              "      <th>4</th>\n",
              "      <th>5</th>\n",
              "      <th>6</th>\n",
              "      <th>7</th>\n",
              "      <th>8</th>\n",
              "      <th>9</th>\n",
              "      <th>10</th>\n",
              "      <th>11</th>\n",
              "      <th>12</th>\n",
              "      <th>13</th>\n",
              "    </tr>\n",
              "  </thead>\n",
              "  <tbody>\n",
              "    <tr>\n",
              "      <th>0</th>\n",
              "      <td>0.00632</td>\n",
              "      <td>18.0</td>\n",
              "      <td>2.31</td>\n",
              "      <td>0</td>\n",
              "      <td>0.538</td>\n",
              "      <td>6.575</td>\n",
              "      <td>65.2</td>\n",
              "      <td>4.0900</td>\n",
              "      <td>1</td>\n",
              "      <td>296.0</td>\n",
              "      <td>15.3</td>\n",
              "      <td>396.90</td>\n",
              "      <td>4.98</td>\n",
              "      <td>24.0</td>\n",
              "    </tr>\n",
              "    <tr>\n",
              "      <th>1</th>\n",
              "      <td>0.02731</td>\n",
              "      <td>0.0</td>\n",
              "      <td>7.07</td>\n",
              "      <td>0</td>\n",
              "      <td>0.469</td>\n",
              "      <td>6.421</td>\n",
              "      <td>78.9</td>\n",
              "      <td>4.9671</td>\n",
              "      <td>2</td>\n",
              "      <td>242.0</td>\n",
              "      <td>17.8</td>\n",
              "      <td>396.90</td>\n",
              "      <td>9.14</td>\n",
              "      <td>21.6</td>\n",
              "    </tr>\n",
              "    <tr>\n",
              "      <th>2</th>\n",
              "      <td>0.02729</td>\n",
              "      <td>0.0</td>\n",
              "      <td>7.07</td>\n",
              "      <td>0</td>\n",
              "      <td>0.469</td>\n",
              "      <td>7.185</td>\n",
              "      <td>61.1</td>\n",
              "      <td>4.9671</td>\n",
              "      <td>2</td>\n",
              "      <td>242.0</td>\n",
              "      <td>17.8</td>\n",
              "      <td>392.83</td>\n",
              "      <td>4.03</td>\n",
              "      <td>34.7</td>\n",
              "    </tr>\n",
              "    <tr>\n",
              "      <th>3</th>\n",
              "      <td>0.03237</td>\n",
              "      <td>0.0</td>\n",
              "      <td>2.18</td>\n",
              "      <td>0</td>\n",
              "      <td>0.458</td>\n",
              "      <td>6.998</td>\n",
              "      <td>45.8</td>\n",
              "      <td>6.0622</td>\n",
              "      <td>3</td>\n",
              "      <td>222.0</td>\n",
              "      <td>18.7</td>\n",
              "      <td>394.63</td>\n",
              "      <td>2.94</td>\n",
              "      <td>33.4</td>\n",
              "    </tr>\n",
              "    <tr>\n",
              "      <th>4</th>\n",
              "      <td>0.06905</td>\n",
              "      <td>0.0</td>\n",
              "      <td>2.18</td>\n",
              "      <td>0</td>\n",
              "      <td>0.458</td>\n",
              "      <td>7.147</td>\n",
              "      <td>54.2</td>\n",
              "      <td>6.0622</td>\n",
              "      <td>3</td>\n",
              "      <td>222.0</td>\n",
              "      <td>18.7</td>\n",
              "      <td>396.90</td>\n",
              "      <td>5.33</td>\n",
              "      <td>36.2</td>\n",
              "    </tr>\n",
              "    <tr>\n",
              "      <th>...</th>\n",
              "      <td>...</td>\n",
              "      <td>...</td>\n",
              "      <td>...</td>\n",
              "      <td>...</td>\n",
              "      <td>...</td>\n",
              "      <td>...</td>\n",
              "      <td>...</td>\n",
              "      <td>...</td>\n",
              "      <td>...</td>\n",
              "      <td>...</td>\n",
              "      <td>...</td>\n",
              "      <td>...</td>\n",
              "      <td>...</td>\n",
              "      <td>...</td>\n",
              "    </tr>\n",
              "    <tr>\n",
              "      <th>501</th>\n",
              "      <td>0.06263</td>\n",
              "      <td>0.0</td>\n",
              "      <td>11.93</td>\n",
              "      <td>0</td>\n",
              "      <td>0.573</td>\n",
              "      <td>6.593</td>\n",
              "      <td>69.1</td>\n",
              "      <td>2.4786</td>\n",
              "      <td>1</td>\n",
              "      <td>273.0</td>\n",
              "      <td>21.0</td>\n",
              "      <td>391.99</td>\n",
              "      <td>9.67</td>\n",
              "      <td>22.4</td>\n",
              "    </tr>\n",
              "    <tr>\n",
              "      <th>502</th>\n",
              "      <td>0.04527</td>\n",
              "      <td>0.0</td>\n",
              "      <td>11.93</td>\n",
              "      <td>0</td>\n",
              "      <td>0.573</td>\n",
              "      <td>6.120</td>\n",
              "      <td>76.7</td>\n",
              "      <td>2.2875</td>\n",
              "      <td>1</td>\n",
              "      <td>273.0</td>\n",
              "      <td>21.0</td>\n",
              "      <td>396.90</td>\n",
              "      <td>9.08</td>\n",
              "      <td>20.6</td>\n",
              "    </tr>\n",
              "    <tr>\n",
              "      <th>503</th>\n",
              "      <td>0.06076</td>\n",
              "      <td>0.0</td>\n",
              "      <td>11.93</td>\n",
              "      <td>0</td>\n",
              "      <td>0.573</td>\n",
              "      <td>6.976</td>\n",
              "      <td>91.0</td>\n",
              "      <td>2.1675</td>\n",
              "      <td>1</td>\n",
              "      <td>273.0</td>\n",
              "      <td>21.0</td>\n",
              "      <td>396.90</td>\n",
              "      <td>5.64</td>\n",
              "      <td>23.9</td>\n",
              "    </tr>\n",
              "    <tr>\n",
              "      <th>504</th>\n",
              "      <td>0.10959</td>\n",
              "      <td>0.0</td>\n",
              "      <td>11.93</td>\n",
              "      <td>0</td>\n",
              "      <td>0.573</td>\n",
              "      <td>6.794</td>\n",
              "      <td>89.3</td>\n",
              "      <td>2.3889</td>\n",
              "      <td>1</td>\n",
              "      <td>273.0</td>\n",
              "      <td>21.0</td>\n",
              "      <td>393.45</td>\n",
              "      <td>6.48</td>\n",
              "      <td>22.0</td>\n",
              "    </tr>\n",
              "    <tr>\n",
              "      <th>505</th>\n",
              "      <td>0.04741</td>\n",
              "      <td>0.0</td>\n",
              "      <td>11.93</td>\n",
              "      <td>0</td>\n",
              "      <td>0.573</td>\n",
              "      <td>6.030</td>\n",
              "      <td>80.8</td>\n",
              "      <td>2.5050</td>\n",
              "      <td>1</td>\n",
              "      <td>273.0</td>\n",
              "      <td>21.0</td>\n",
              "      <td>396.90</td>\n",
              "      <td>7.88</td>\n",
              "      <td>11.9</td>\n",
              "    </tr>\n",
              "  </tbody>\n",
              "</table>\n",
              "<p>506 rows × 14 columns</p>\n",
              "</div>\n",
              "      <button class=\"colab-df-convert\" onclick=\"convertToInteractive('df-32bee719-223f-49fb-99f4-b1af2330ca50')\"\n",
              "              title=\"Convert this dataframe to an interactive table.\"\n",
              "              style=\"display:none;\">\n",
              "        \n",
              "  <svg xmlns=\"http://www.w3.org/2000/svg\" height=\"24px\"viewBox=\"0 0 24 24\"\n",
              "       width=\"24px\">\n",
              "    <path d=\"M0 0h24v24H0V0z\" fill=\"none\"/>\n",
              "    <path d=\"M18.56 5.44l.94 2.06.94-2.06 2.06-.94-2.06-.94-.94-2.06-.94 2.06-2.06.94zm-11 1L8.5 8.5l.94-2.06 2.06-.94-2.06-.94L8.5 2.5l-.94 2.06-2.06.94zm10 10l.94 2.06.94-2.06 2.06-.94-2.06-.94-.94-2.06-.94 2.06-2.06.94z\"/><path d=\"M17.41 7.96l-1.37-1.37c-.4-.4-.92-.59-1.43-.59-.52 0-1.04.2-1.43.59L10.3 9.45l-7.72 7.72c-.78.78-.78 2.05 0 2.83L4 21.41c.39.39.9.59 1.41.59.51 0 1.02-.2 1.41-.59l7.78-7.78 2.81-2.81c.8-.78.8-2.07 0-2.86zM5.41 20L4 18.59l7.72-7.72 1.47 1.35L5.41 20z\"/>\n",
              "  </svg>\n",
              "      </button>\n",
              "      \n",
              "  <style>\n",
              "    .colab-df-container {\n",
              "      display:flex;\n",
              "      flex-wrap:wrap;\n",
              "      gap: 12px;\n",
              "    }\n",
              "\n",
              "    .colab-df-convert {\n",
              "      background-color: #E8F0FE;\n",
              "      border: none;\n",
              "      border-radius: 50%;\n",
              "      cursor: pointer;\n",
              "      display: none;\n",
              "      fill: #1967D2;\n",
              "      height: 32px;\n",
              "      padding: 0 0 0 0;\n",
              "      width: 32px;\n",
              "    }\n",
              "\n",
              "    .colab-df-convert:hover {\n",
              "      background-color: #E2EBFA;\n",
              "      box-shadow: 0px 1px 2px rgba(60, 64, 67, 0.3), 0px 1px 3px 1px rgba(60, 64, 67, 0.15);\n",
              "      fill: #174EA6;\n",
              "    }\n",
              "\n",
              "    [theme=dark] .colab-df-convert {\n",
              "      background-color: #3B4455;\n",
              "      fill: #D2E3FC;\n",
              "    }\n",
              "\n",
              "    [theme=dark] .colab-df-convert:hover {\n",
              "      background-color: #434B5C;\n",
              "      box-shadow: 0px 1px 3px 1px rgba(0, 0, 0, 0.15);\n",
              "      filter: drop-shadow(0px 1px 2px rgba(0, 0, 0, 0.3));\n",
              "      fill: #FFFFFF;\n",
              "    }\n",
              "  </style>\n",
              "\n",
              "      <script>\n",
              "        const buttonEl =\n",
              "          document.querySelector('#df-32bee719-223f-49fb-99f4-b1af2330ca50 button.colab-df-convert');\n",
              "        buttonEl.style.display =\n",
              "          google.colab.kernel.accessAllowed ? 'block' : 'none';\n",
              "\n",
              "        async function convertToInteractive(key) {\n",
              "          const element = document.querySelector('#df-32bee719-223f-49fb-99f4-b1af2330ca50');\n",
              "          const dataTable =\n",
              "            await google.colab.kernel.invokeFunction('convertToInteractive',\n",
              "                                                     [key], {});\n",
              "          if (!dataTable) return;\n",
              "\n",
              "          const docLinkHtml = 'Like what you see? Visit the ' +\n",
              "            '<a target=\"_blank\" href=https://colab.research.google.com/notebooks/data_table.ipynb>data table notebook</a>'\n",
              "            + ' to learn more about interactive tables.';\n",
              "          element.innerHTML = '';\n",
              "          dataTable['output_type'] = 'display_data';\n",
              "          await google.colab.output.renderOutput(dataTable, element);\n",
              "          const docLink = document.createElement('div');\n",
              "          docLink.innerHTML = docLinkHtml;\n",
              "          element.appendChild(docLink);\n",
              "        }\n",
              "      </script>\n",
              "    </div>\n",
              "  </div>\n",
              "  "
            ]
          },
          "metadata": {}
        },
        {
          "output_type": "stream",
          "name": "stdout",
          "text": [
            "X shape: (506, 13)\n",
            "Y shape: (506,)\n"
          ]
        }
      ]
    },
    {
      "cell_type": "markdown",
      "source": [
        "El conjunto de datos no tiene valores faltantes."
      ],
      "metadata": {
        "id": "sFApraJr-iuE"
      }
    },
    {
      "cell_type": "code",
      "source": [
        "df.isnull().values.any()"
      ],
      "metadata": {
        "colab": {
          "base_uri": "https://localhost:8080/"
        },
        "id": "e_aFGmwk-X9u",
        "outputId": "9aa26602-47c4-4817-c40b-e1bf1f675aa0"
      },
      "execution_count": 10,
      "outputs": [
        {
          "output_type": "execute_result",
          "data": {
            "text/plain": [
              "False"
            ]
          },
          "metadata": {},
          "execution_count": 10
        }
      ]
    },
    {
      "cell_type": "markdown",
      "source": [
        "Separamos en train (85%) y test (15%)"
      ],
      "metadata": {
        "id": "D62-wcvQ9SVe"
      }
    },
    {
      "cell_type": "code",
      "source": [
        "from sklearn.model_selection import train_test_split\n",
        "\n",
        "X_train, X_test, y_train, y_test = train_test_split(X, Y, test_size=0.15, random_state=42)"
      ],
      "metadata": {
        "id": "L950sCo_8w4m"
      },
      "execution_count": 36,
      "outputs": []
    },
    {
      "cell_type": "markdown",
      "source": [
        "## Usando el conjunto de datos *as is*\n",
        "\n",
        "En este enfoque usaremos los datos como están, sin preprocesar."
      ],
      "metadata": {
        "id": "jNyyvezhA4mB"
      }
    },
    {
      "cell_type": "markdown",
      "source": [
        "Creamos una red con 13 neuronas ocultas. Observa la neurona de salida sin función de activación.\n",
        "\n",
        "En tareas de clasificación multi-clase se suele usar la activación `softmax` para la capa de salida. En tareas de regresión es común no usar ninguna activación, es posible usar ciertas funciones de activación dependiendo del rango de los datos a predecir."
      ],
      "metadata": {
        "id": "xpHoktZl9eHq"
      }
    },
    {
      "cell_type": "code",
      "source": [
        "from keras.models import Sequential\n",
        "from keras.layers import Dense\n",
        "\n",
        "model = Sequential()\n",
        "model.add(Dense(13, input_dim=13, activation='relu'))\n",
        "model.add(Dense(1, activation=None))  # Observa la neurona de salida sin función de activación.\n",
        "\n",
        "model.summary()\n",
        "\n",
        "# Compile model\n",
        "model.compile(loss='mean_squared_error', optimizer='adam')"
      ],
      "metadata": {
        "colab": {
          "base_uri": "https://localhost:8080/"
        },
        "id": "n_Js734R4lrm",
        "outputId": "e4415215-1dae-4b5e-d6fe-d8fbfb1e8bbd"
      },
      "execution_count": 37,
      "outputs": [
        {
          "output_type": "stream",
          "name": "stdout",
          "text": [
            "Model: \"sequential_2\"\n",
            "_________________________________________________________________\n",
            " Layer (type)                Output Shape              Param #   \n",
            "=================================================================\n",
            " dense_4 (Dense)             (None, 13)                182       \n",
            "                                                                 \n",
            " dense_5 (Dense)             (None, 1)                 14        \n",
            "                                                                 \n",
            "=================================================================\n",
            "Total params: 196\n",
            "Trainable params: 196\n",
            "Non-trainable params: 0\n",
            "_________________________________________________________________\n"
          ]
        }
      ]
    },
    {
      "cell_type": "markdown",
      "source": [
        "Entrenamos el modelo, **observa que no pasamos el conjunto de validación de manera explícita.**"
      ],
      "metadata": {
        "id": "P3A4zr2d-G5B"
      }
    },
    {
      "cell_type": "code",
      "source": [
        "n_epocas = 50\n",
        "\n",
        "history = model.fit(X_train, y_train, epochs=n_epocas, validation_split=0.1)"
      ],
      "metadata": {
        "colab": {
          "base_uri": "https://localhost:8080/"
        },
        "id": "JBQQeo3K8f5y",
        "outputId": "0370a796-f0b0-42b3-c10e-8af214ff6575"
      },
      "execution_count": 38,
      "outputs": [
        {
          "output_type": "stream",
          "name": "stdout",
          "text": [
            "Epoch 1/50\n",
            "13/13 [==============================] - 0s 13ms/step - loss: 7272.1885 - val_loss: 4622.5967\n",
            "Epoch 2/50\n",
            "13/13 [==============================] - 0s 5ms/step - loss: 3200.7107 - val_loss: 1779.8724\n",
            "Epoch 3/50\n",
            "13/13 [==============================] - 0s 3ms/step - loss: 1170.6354 - val_loss: 557.6290\n",
            "Epoch 4/50\n",
            "13/13 [==============================] - 0s 4ms/step - loss: 405.8583 - val_loss: 235.8631\n",
            "Epoch 5/50\n",
            "13/13 [==============================] - 0s 4ms/step - loss: 226.0764 - val_loss: 173.2385\n",
            "Epoch 6/50\n",
            "13/13 [==============================] - 0s 4ms/step - loss: 171.3874 - val_loss: 140.6522\n",
            "Epoch 7/50\n",
            "13/13 [==============================] - 0s 5ms/step - loss: 137.0212 - val_loss: 122.4393\n",
            "Epoch 8/50\n",
            "13/13 [==============================] - 0s 4ms/step - loss: 120.9635 - val_loss: 111.8407\n",
            "Epoch 9/50\n",
            "13/13 [==============================] - 0s 4ms/step - loss: 112.8068 - val_loss: 104.8267\n",
            "Epoch 10/50\n",
            "13/13 [==============================] - 0s 6ms/step - loss: 107.5458 - val_loss: 101.0684\n",
            "Epoch 11/50\n",
            "13/13 [==============================] - 0s 4ms/step - loss: 103.3499 - val_loss: 97.8953\n",
            "Epoch 12/50\n",
            "13/13 [==============================] - 0s 4ms/step - loss: 100.6292 - val_loss: 95.5059\n",
            "Epoch 13/50\n",
            "13/13 [==============================] - 0s 4ms/step - loss: 97.2352 - val_loss: 92.8374\n",
            "Epoch 14/50\n",
            "13/13 [==============================] - 0s 4ms/step - loss: 95.7227 - val_loss: 90.8756\n",
            "Epoch 15/50\n",
            "13/13 [==============================] - 0s 4ms/step - loss: 92.9844 - val_loss: 89.0453\n",
            "Epoch 16/50\n",
            "13/13 [==============================] - 0s 4ms/step - loss: 90.9110 - val_loss: 87.7621\n",
            "Epoch 17/50\n",
            "13/13 [==============================] - 0s 4ms/step - loss: 88.7074 - val_loss: 86.4297\n",
            "Epoch 18/50\n",
            "13/13 [==============================] - 0s 4ms/step - loss: 86.7826 - val_loss: 85.2056\n",
            "Epoch 19/50\n",
            "13/13 [==============================] - 0s 4ms/step - loss: 84.7540 - val_loss: 84.1589\n",
            "Epoch 20/50\n",
            "13/13 [==============================] - 0s 5ms/step - loss: 83.3478 - val_loss: 83.0416\n",
            "Epoch 21/50\n",
            "13/13 [==============================] - 0s 4ms/step - loss: 81.5854 - val_loss: 81.9100\n",
            "Epoch 22/50\n",
            "13/13 [==============================] - 0s 4ms/step - loss: 80.7921 - val_loss: 81.4186\n",
            "Epoch 23/50\n",
            "13/13 [==============================] - 0s 5ms/step - loss: 78.8810 - val_loss: 80.8879\n",
            "Epoch 24/50\n",
            "13/13 [==============================] - 0s 4ms/step - loss: 77.6469 - val_loss: 79.0852\n",
            "Epoch 25/50\n",
            "13/13 [==============================] - 0s 5ms/step - loss: 76.3050 - val_loss: 77.6417\n",
            "Epoch 26/50\n",
            "13/13 [==============================] - 0s 4ms/step - loss: 74.5698 - val_loss: 77.0041\n",
            "Epoch 27/50\n",
            "13/13 [==============================] - 0s 4ms/step - loss: 73.1068 - val_loss: 75.9915\n",
            "Epoch 28/50\n",
            "13/13 [==============================] - 0s 4ms/step - loss: 71.4750 - val_loss: 74.3025\n",
            "Epoch 29/50\n",
            "13/13 [==============================] - 0s 4ms/step - loss: 71.0265 - val_loss: 72.5855\n",
            "Epoch 30/50\n",
            "13/13 [==============================] - 0s 4ms/step - loss: 69.0804 - val_loss: 71.0560\n",
            "Epoch 31/50\n",
            "13/13 [==============================] - 0s 4ms/step - loss: 68.0750 - val_loss: 71.5526\n",
            "Epoch 32/50\n",
            "13/13 [==============================] - 0s 4ms/step - loss: 67.1011 - val_loss: 69.9926\n",
            "Epoch 33/50\n",
            "13/13 [==============================] - 0s 4ms/step - loss: 65.9293 - val_loss: 68.3506\n",
            "Epoch 34/50\n",
            "13/13 [==============================] - 0s 4ms/step - loss: 64.5042 - val_loss: 67.4696\n",
            "Epoch 35/50\n",
            "13/13 [==============================] - 0s 4ms/step - loss: 63.8364 - val_loss: 66.0494\n",
            "Epoch 36/50\n",
            "13/13 [==============================] - 0s 4ms/step - loss: 63.1129 - val_loss: 64.2594\n",
            "Epoch 37/50\n",
            "13/13 [==============================] - 0s 5ms/step - loss: 62.4143 - val_loss: 64.4480\n",
            "Epoch 38/50\n",
            "13/13 [==============================] - 0s 4ms/step - loss: 61.6327 - val_loss: 63.7982\n",
            "Epoch 39/50\n",
            "13/13 [==============================] - 0s 4ms/step - loss: 59.8942 - val_loss: 64.3491\n",
            "Epoch 40/50\n",
            "13/13 [==============================] - 0s 4ms/step - loss: 59.3877 - val_loss: 63.4226\n",
            "Epoch 41/50\n",
            "13/13 [==============================] - 0s 5ms/step - loss: 58.9209 - val_loss: 63.4391\n",
            "Epoch 42/50\n",
            "13/13 [==============================] - 0s 5ms/step - loss: 58.1035 - val_loss: 63.0562\n",
            "Epoch 43/50\n",
            "13/13 [==============================] - 0s 4ms/step - loss: 57.4926 - val_loss: 62.7647\n",
            "Epoch 44/50\n",
            "13/13 [==============================] - 0s 4ms/step - loss: 56.8619 - val_loss: 62.3785\n",
            "Epoch 45/50\n",
            "13/13 [==============================] - 0s 4ms/step - loss: 56.6440 - val_loss: 62.0601\n",
            "Epoch 46/50\n",
            "13/13 [==============================] - 0s 4ms/step - loss: 56.1566 - val_loss: 61.4980\n",
            "Epoch 47/50\n",
            "13/13 [==============================] - 0s 4ms/step - loss: 55.8366 - val_loss: 60.8863\n",
            "Epoch 48/50\n",
            "13/13 [==============================] - 0s 4ms/step - loss: 55.5612 - val_loss: 60.8165\n",
            "Epoch 49/50\n",
            "13/13 [==============================] - 0s 4ms/step - loss: 55.1716 - val_loss: 61.7880\n",
            "Epoch 50/50\n",
            "13/13 [==============================] - 0s 4ms/step - loss: 54.8877 - val_loss: 61.0913\n"
          ]
        }
      ]
    },
    {
      "cell_type": "code",
      "source": [
        "import matplotlib.pyplot as plt\n",
        "\n",
        "plt.figure(figsize=(12, 5))\n",
        "plt.plot(model.history.history['loss'], label='Training', linewidth=2)\n",
        "plt.plot(model.history.history['val_loss'], label='Validation', linewidth=2)\n",
        "plt.legend()\n",
        "plt.xlabel('Epoch')\n",
        "plt.ylabel('Loss (MSE)')\n",
        "plt.grid(True)\n",
        "plt.show()"
      ],
      "metadata": {
        "colab": {
          "base_uri": "https://localhost:8080/",
          "height": 334
        },
        "id": "EifkiX-o9XFM",
        "outputId": "db661a21-c933-445d-a44b-19e8b53cd30c"
      },
      "execution_count": 8,
      "outputs": [
        {
          "output_type": "display_data",
          "data": {
            "text/plain": [
              "<Figure size 864x360 with 1 Axes>"
            ],
            "image/png": "[encoded data removed]"
          },
          "metadata": {
            "needs_background": "light"
          }
        }
      ]
    },
    {
      "cell_type": "code",
      "source": [
        "model.evaluate(x=X_test, y=y_test, verbose=False)"
      ],
      "metadata": {
        "colab": {
          "base_uri": "https://localhost:8080/"
        },
        "id": "TscP89X89ksj",
        "outputId": "5a51c4cd-3f96-4aa4-bfc5-4235ccb361ef"
      },
      "execution_count": 39,
      "outputs": [
        {
          "output_type": "execute_result",
          "data": {
            "text/plain": [
              "35.8244743347168"
            ]
          },
          "metadata": {},
          "execution_count": 39
        }
      ]
    },
    {
      "cell_type": "markdown",
      "source": [
        "¿Cómo se ven las predicciones?"
      ],
      "metadata": {
        "id": "Ns8J931tDRew"
      }
    },
    {
      "cell_type": "code",
      "source": [
        "preds = model.predict(x=X_test)\n",
        "\n",
        "print(f\"Predicciones:\\n{preds.reshape((-1,))[:5]}\")\n",
        "print(f\"Reales:\\n{y_test[:5]}\")"
      ],
      "metadata": {
        "colab": {
          "base_uri": "https://localhost:8080/"
        },
        "id": "rVprInwrDTYt",
        "outputId": "63fa1ea4-a3d3-47ca-f4b5-8327cc03c113"
      },
      "execution_count": 43,
      "outputs": [
        {
          "output_type": "stream",
          "name": "stdout",
          "text": [
            "Predicciones:\n",
            "[30.592382 27.260422 16.736996 20.097075 18.871927]\n",
            "Reales:\n",
            "[23.6 32.4 13.6 22.8 16.1]\n"
          ]
        }
      ]
    },
    {
      "cell_type": "markdown",
      "source": [
        "## Escalando"
      ],
      "metadata": {
        "id": "QxnrJZ4d-HGP"
      }
    },
    {
      "cell_type": "markdown",
      "source": [
        "En este enfoque normalizaremos los datos para observar su efecto en la pérdida promedio."
      ],
      "metadata": {
        "id": "lmoK5sIO_-en"
      }
    },
    {
      "cell_type": "code",
      "source": [
        "from sklearn.model_selection import train_test_split\n",
        "\n",
        "dataset = df.values\n",
        "X = dataset[:,0:13]\n",
        "Y = dataset[:,13]\n",
        "\n",
        "X_train, X_test, y_train, y_test = train_test_split(X, Y, test_size=0.15, random_state=42)"
      ],
      "metadata": {
        "id": "odtsTI6Z_fPb"
      },
      "execution_count": 26,
      "outputs": []
    },
    {
      "cell_type": "markdown",
      "source": [
        "Observemos la distribución de los datos"
      ],
      "metadata": {
        "id": "A2FDTuwbAD4_"
      }
    },
    {
      "cell_type": "code",
      "source": [
        "import seaborn as sns\n",
        "\n",
        "sns.set(style='white',font_scale=1.3, rc={'figure.figsize':(12,12)})\n",
        "ax = pd.DataFrame(X_train).hist(color='red')\n",
        "plt.show()"
      ],
      "metadata": {
        "colab": {
          "base_uri": "https://localhost:8080/",
          "height": 725
        },
        "id": "IF2toAHb-rtQ",
        "outputId": "1628dd1d-b16a-46ce-c26b-7c3dbb64507c"
      },
      "execution_count": 27,
      "outputs": [
        {
          "output_type": "display_data",
          "data": {
            "text/plain": [
              "<Figure size 864x864 with 16 Axes>"
            ],
            "image/png": "[encoded data removed]"
          },
          "metadata": {}
        }
      ]
    },
    {
      "cell_type": "markdown",
      "source": [
        "Normalizamos. **Observa que sólo hacemos el fit sobre el conjunto de entrenamiento, el conjunto de prueba se transforma sobre la distribución del conjunto de entrenamiento.**"
      ],
      "metadata": {
        "id": "LMVsrE6xAJiL"
      }
    },
    {
      "cell_type": "code",
      "source": [
        "from sklearn.preprocessing import StandardScaler\n",
        "\n",
        "scl = StandardScaler()\n",
        "\n",
        "X_train = scl.fit_transform(X_train)\n",
        "X_test = scl.transform(X_test)"
      ],
      "metadata": {
        "id": "7MHFJEDX9x0H"
      },
      "execution_count": 28,
      "outputs": []
    },
    {
      "cell_type": "markdown",
      "source": [
        "Observemos la distribución, después de normalizar."
      ],
      "metadata": {
        "id": "4DxtTpMvAMAf"
      }
    },
    {
      "cell_type": "code",
      "source": [
        "sns.set(style='white',font_scale=1.3, rc={'figure.figsize':(12,12)})\n",
        "ax = pd.DataFrame(X_train).hist(color='green')\n",
        "plt.show()"
      ],
      "metadata": {
        "colab": {
          "base_uri": "https://localhost:8080/",
          "height": 725
        },
        "id": "g8lYfISs_r5k",
        "outputId": "966bd83b-12a5-47cc-8d55-2d7e8c51efef"
      },
      "execution_count": 29,
      "outputs": [
        {
          "output_type": "display_data",
          "data": {
            "text/plain": [
              "<Figure size 864x864 with 16 Axes>"
            ],
            "image/png": "[encoded data removed]"
          },
          "metadata": {}
        }
      ]
    },
    {
      "cell_type": "markdown",
      "source": [
        "Definimos una red con la misma arquitectura del módelo anterior."
      ],
      "metadata": {
        "id": "Mh3lwjK0Ay3P"
      }
    },
    {
      "cell_type": "code",
      "source": [
        "from keras.models import Sequential\n",
        "from keras.layers import Dense\n",
        "\n",
        "model = Sequential()\n",
        "model.add(Dense(13, input_dim=13, activation='relu'))\n",
        "model.add(Dense(1, activation=None))\n",
        "\n",
        "model.summary()\n",
        "\n",
        "# Compile model\n",
        "model.compile(loss='mean_squared_error', optimizer='adam')"
      ],
      "metadata": {
        "colab": {
          "base_uri": "https://localhost:8080/"
        },
        "id": "CPV21Fxg_PWM",
        "outputId": "cc686086-176a-4935-95a0-84c7ab7a5447"
      },
      "execution_count": 20,
      "outputs": [
        {
          "output_type": "stream",
          "name": "stdout",
          "text": [
            "Model: \"sequential_1\"\n",
            "_________________________________________________________________\n",
            " Layer (type)                Output Shape              Param #   \n",
            "=================================================================\n",
            " dense_2 (Dense)             (None, 13)                182       \n",
            "                                                                 \n",
            " dense_3 (Dense)             (None, 1)                 14        \n",
            "                                                                 \n",
            "=================================================================\n",
            "Total params: 196\n",
            "Trainable params: 196\n",
            "Non-trainable params: 0\n",
            "_________________________________________________________________\n"
          ]
        }
      ]
    },
    {
      "cell_type": "markdown",
      "source": [
        "Entrenamos el modelo y evaluamos la perdida en el conjunto de prueba"
      ],
      "metadata": {
        "id": "lDC3pRsgA-Gs"
      }
    },
    {
      "cell_type": "code",
      "source": [
        "n_epocas = 50\n",
        "\n",
        "history = model.fit(X_train, y_train, epochs=n_epocas, validation_split=0.1)"
      ],
      "metadata": {
        "id": "jrzUcuLY_UwL"
      },
      "execution_count": null,
      "outputs": []
    },
    {
      "cell_type": "code",
      "source": [
        "model.evaluate(x=X_test, y=y_test, verbose=False)"
      ],
      "metadata": {
        "colab": {
          "base_uri": "https://localhost:8080/"
        },
        "id": "WNoCw-y-_XJC",
        "outputId": "ce1a69fc-6948-4db7-d866-0d383b636066"
      },
      "execution_count": 22,
      "outputs": [
        {
          "output_type": "execute_result",
          "data": {
            "text/plain": [
              "80.21355438232422"
            ]
          },
          "metadata": {},
          "execution_count": 22
        }
      ]
    },
    {
      "cell_type": "markdown",
      "source": [
        "## Usando una red más profunda"
      ],
      "metadata": {
        "id": "56yhkemtBDRW"
      }
    },
    {
      "cell_type": "markdown",
      "source": [
        "Ahora, usamos una red más profunda, es decir con más capas ocultas."
      ],
      "metadata": {
        "id": "QRupJm9uBEKN"
      }
    },
    {
      "cell_type": "code",
      "source": [
        "import pandas as pd\n",
        "from sklearn.model_selection import train_test_split\n",
        "\n",
        "df = pd.read_csv(\"/content/data/housing.data\", delim_whitespace=True, header=None)\n",
        "dataset = df.values\n",
        "X = dataset[:,0:13]\n",
        "Y = dataset[:,13]\n",
        "\n",
        "X_train, X_test, y_train, y_test = train_test_split(X, Y, test_size=0.15, random_state=42)"
      ],
      "metadata": {
        "id": "emSVGmSWBO6Z"
      },
      "execution_count": 23,
      "outputs": []
    },
    {
      "cell_type": "markdown",
      "source": [
        "Observemos el efecto de escalar, o no. Para esto, hay que ejecutar o saltar esta celda."
      ],
      "metadata": {
        "id": "p1r8l_CcBTVC"
      }
    },
    {
      "cell_type": "code",
      "source": [
        "from sklearn.preprocessing import StandardScaler\n",
        "\n",
        "scl = StandardScaler()\n",
        "\n",
        "X_train = scl.fit_transform(X_train)\n",
        "X_test = scl.transform(X_test)"
      ],
      "metadata": {
        "id": "KWM6d7SkBKVm"
      },
      "execution_count": null,
      "outputs": []
    },
    {
      "cell_type": "markdown",
      "source": [
        "Definimos una red con dos capas ocultas de tamaño 13 y 6 respectivamente."
      ],
      "metadata": {
        "id": "byIBT_pRBanR"
      }
    },
    {
      "cell_type": "code",
      "source": [
        "model = Sequential()\n",
        "model.add(Dense(13, input_dim=13, kernel_initializer='normal', activation='relu'))\n",
        "model.add(Dense(6, kernel_initializer='normal', activation='relu'))\n",
        "model.add(Dense(1, kernel_initializer='normal'))\n",
        "\n",
        "model.summary()\n",
        "\n",
        "model.compile(loss='mean_squared_error', optimizer='adam')"
      ],
      "metadata": {
        "colab": {
          "base_uri": "https://localhost:8080/"
        },
        "id": "7I2PtIgi_hv9",
        "outputId": "b47a24e2-0276-4c38-9717-83acee56df66"
      },
      "execution_count": null,
      "outputs": [
        {
          "output_type": "stream",
          "name": "stdout",
          "text": [
            "Model: \"sequential_12\"\n",
            "_________________________________________________________________\n",
            " Layer (type)                Output Shape              Param #   \n",
            "=================================================================\n",
            " dense_17 (Dense)            (None, 13)                182       \n",
            "                                                                 \n",
            " dense_18 (Dense)            (None, 6)                 84        \n",
            "                                                                 \n",
            " dense_19 (Dense)            (None, 1)                 7         \n",
            "                                                                 \n",
            "=================================================================\n",
            "Total params: 273\n",
            "Trainable params: 273\n",
            "Non-trainable params: 0\n",
            "_________________________________________________________________\n"
          ]
        }
      ]
    },
    {
      "cell_type": "markdown",
      "source": [
        "Entrenamos y evaluamos el módelo"
      ],
      "metadata": {
        "id": "DWiuaqXYBgQc"
      }
    },
    {
      "cell_type": "code",
      "source": [
        "n_epocas = 50\n",
        "\n",
        "history = model.fit(X_train, y_train, epochs=n_epocas, validation_split=0.1)"
      ],
      "metadata": {
        "id": "KjEpvc82BZ1u"
      },
      "execution_count": null,
      "outputs": []
    },
    {
      "cell_type": "code",
      "source": [
        "model.evaluate(x=X_test, y=y_test, verbose=False)"
      ],
      "metadata": {
        "colab": {
          "base_uri": "https://localhost:8080/"
        },
        "id": "JYfDx0gzBfm0",
        "outputId": "4e42d73e-9a25-40e9-9a29-c4c1a7de752c"
      },
      "execution_count": null,
      "outputs": [
        {
          "output_type": "execute_result",
          "data": {
            "text/plain": [
              "30.750545501708984"
            ]
          },
          "metadata": {},
          "execution_count": 122
        }
      ]
    },
    {
      "cell_type": "code",
      "source": [
        "from sklearn.metrics import mean_squared_error\n",
        "\n",
        "y_pred = model.predict(X_test)\n",
        "\n",
        "mean_squared_error(y_test,y_pred)"
      ],
      "metadata": {
        "colab": {
          "base_uri": "https://localhost:8080/"
        },
        "id": "MRnyjTacBh9q",
        "outputId": "5250dde6-cd1a-4d6e-8eec-95b4ce2068bd"
      },
      "execution_count": null,
      "outputs": [
        {
          "output_type": "execute_result",
          "data": {
            "text/plain": [
              "21.04384657707839"
            ]
          },
          "metadata": {},
          "execution_count": 106
        }
      ]
    },
    {
      "cell_type": "markdown",
      "source": [
        "## Usando una red más ancha"
      ],
      "metadata": {
        "id": "oFo9gaLjCIFl"
      }
    },
    {
      "cell_type": "markdown",
      "source": [
        "En este enfoque usaremos una red más *ancha*, es decir, una sola capa oculta pero con más neuronas."
      ],
      "metadata": {
        "id": "LJKsJVTTBmm4"
      }
    },
    {
      "cell_type": "code",
      "source": [
        "import pandas as pd\n",
        "from sklearn.model_selection import train_test_split\n",
        "\n",
        "df = pd.read_csv(\"/content/data/housing.data\", delim_whitespace=True, header=None)\n",
        "dataset = df.values\n",
        "X = dataset[:,0:13]\n",
        "Y = dataset[:,13]\n",
        "\n",
        "X_train, X_test, y_train, y_test = train_test_split(X, Y, test_size=0.15, random_state=42)"
      ],
      "metadata": {
        "id": "VrHmLucfCRgw"
      },
      "execution_count": null,
      "outputs": []
    },
    {
      "cell_type": "markdown",
      "source": [
        "Observar el efecto de normalizar, ejecutando o saltando esta celda:"
      ],
      "metadata": {
        "id": "LZOMtlbMBsvU"
      }
    },
    {
      "cell_type": "code",
      "source": [
        "from sklearn.preprocessing import StandardScaler\n",
        "\n",
        "scl = StandardScaler()\n",
        "\n",
        "X_train = scl.fit_transform(X_train)\n",
        "X_test = scl.transform(X_test)"
      ],
      "metadata": {
        "id": "uaAQcInqCUYu"
      },
      "execution_count": null,
      "outputs": []
    },
    {
      "cell_type": "code",
      "source": [
        "model = Sequential()\n",
        "model.add(Dense(50, input_dim=13, activation='relu'))\n",
        "model.add(Dense(1, activation=None))\n",
        "\n",
        "model.summary()\n",
        "\n",
        "model.compile(loss='mean_squared_error', optimizer='adam')"
      ],
      "metadata": {
        "colab": {
          "base_uri": "https://localhost:8080/"
        },
        "id": "V7jWm89-BrLx",
        "outputId": "43a2ac1a-a71d-4f78-e313-fc61aadca7ab"
      },
      "execution_count": null,
      "outputs": [
        {
          "output_type": "stream",
          "name": "stdout",
          "text": [
            "Model: \"sequential_11\"\n",
            "_________________________________________________________________\n",
            " Layer (type)                Output Shape              Param #   \n",
            "=================================================================\n",
            " dense_15 (Dense)            (None, 50)                700       \n",
            "                                                                 \n",
            " dense_16 (Dense)            (None, 1)                 51        \n",
            "                                                                 \n",
            "=================================================================\n",
            "Total params: 751\n",
            "Trainable params: 751\n",
            "Non-trainable params: 0\n",
            "_________________________________________________________________\n"
          ]
        }
      ]
    },
    {
      "cell_type": "code",
      "source": [
        "n_epocas = 50\n",
        "\n",
        "history = model.fit(X_train, y_train, epochs=n_epocas, validation_split=0.1)"
      ],
      "metadata": {
        "id": "w51Vg4rzCYHr"
      },
      "execution_count": null,
      "outputs": []
    },
    {
      "cell_type": "code",
      "source": [
        "model.evaluate(x=X_test, y=y_test, verbose=False)"
      ],
      "metadata": {
        "colab": {
          "base_uri": "https://localhost:8080/"
        },
        "id": "3uzUcaWbCapx",
        "outputId": "11069fda-aab2-4153-e438-133efc80788b"
      },
      "execution_count": null,
      "outputs": [
        {
          "output_type": "execute_result",
          "data": {
            "text/plain": [
              "22.056289672851562"
            ]
          },
          "metadata": {},
          "execution_count": 118
        }
      ]
    },
    {
      "cell_type": "code",
      "source": [
        ""
      ],
      "metadata": {
        "id": "AzfnjzA1CdBv"
      },
      "execution_count": null,
      "outputs": []
    }
  ]
}