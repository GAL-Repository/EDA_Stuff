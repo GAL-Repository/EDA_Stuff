{
  "nbformat": 4,
  "nbformat_minor": 0,
  "metadata": {
    "colab": {
      "name": "01-Funciones Discriminantes [Resuelto].ipynb",
      "provenance": [],
      "toc_visible": true,
      "collapsed_sections": []
    },
    "kernelspec": {
      "name": "python3",
      "display_name": "Python 3"
    },
    "language_info": {
      "name": "python"
    }
  },
  "cells": [
    {
      "cell_type": "markdown",
      "source": [
        "<a href=\"https://colab.research.google.com/github/DCDPUAEM/DCDP_2022/blob/main/04%20Clasificaci%C3%B3n%20y%20Agrupamiento/notebooks/01-Funciones%20Discriminantes%20%5BResuelto%5D.ipynb\" target=\"_parent\"><img src=\"https://colab.research.google.com/assets/colab-badge.svg\" alt=\"Open In Colab\"/></a>"
      ],
      "metadata": {
        "id": "eF8fYPeQYzMo"
      }
    },
    {
      "cell_type": "markdown",
      "source": [
        "# Clasificación Lineal"
      ],
      "metadata": {
        "id": "K1fWPVtxEO2I"
      }
    },
    {
      "cell_type": "markdown",
      "source": [
        "La clasificación es un problema de modelación en el cual se predice una etiqueta para cada dato de entrada.\n",
        "\n",
        "Es decir, se trata de asignar etiquetas a puntos, tratando de predecir las etiquetas reales de los puntos.\n",
        "\n",
        "* Clasificación Binaria: Dos etiquetas, mutuamente exclusivas.\n",
        "* Clasificación Multi-clase: Varias etiquetas mutuamente excluyentes.\n",
        "* Clasificación Multi-etiqueta: Cada instancia tiene varias etiquetas."
      ],
      "metadata": {
        "id": "O_9Z9KcfuFKI"
      }
    },
    {
      "cell_type": "markdown",
      "source": [
        "&#128214; <u>Referencias bibliográficas</u>:\n",
        "* Bishop, Christopher M. (2006). Pattern recognition and machine learning. New York. Springer.\n",
        "* Flach, Peter (2012). Machine Learning: The Art and Science of Algorithms that Make Sense of Data. Cambridge University Press."
      ],
      "metadata": {
        "id": "4FL-n4G1rO5o"
      }
    },
    {
      "cell_type": "markdown",
      "source": [
        "Ejemplo de un conjunto de puntos linealmente separables con dos clases."
      ],
      "metadata": {
        "id": "v-vdEfXUmYf9"
      }
    },
    {
      "cell_type": "code",
      "source": [
        "import numpy as np\n",
        "import matplotlib.pyplot as plt\n",
        "from collections import Counter\n",
        "from sklearn.datasets import make_blobs\n",
        "\n",
        "X, y = make_blobs(n_samples=1000, centers=2, random_state=28)\n",
        "counter = Counter(y)\n",
        "\n",
        "for label, _ in counter.items():\n",
        "\trow_ix = np.where(y == label)[0]\n",
        "\tplt.scatter(X[row_ix, 0], X[row_ix, 1], label=f\"Label={str(label)}\")\n",
        "plt.legend()\n",
        "plt.show()"
      ],
      "metadata": {
        "colab": {
          "base_uri": "https://localhost:8080/",
          "height": 268
        },
        "id": "QdmP62CNlNh2",
        "outputId": "e4d72404-2dda-40ec-e5b4-fbaf76b51035"
      },
      "execution_count": null,
      "outputs": [
        {
          "output_type": "display_data",
          "data": {
            "text/plain": [
              "<Figure size 432x288 with 1 Axes>"
            ],
            "image/png": "[encoded data removed]"
          },
          "metadata": {
            "needs_background": "light"
          }
        }
      ]
    },
    {
      "cell_type": "markdown",
      "source": [
        "Ejemplo con tres clases"
      ],
      "metadata": {
        "id": "x9sSWJy9n3Wb"
      }
    },
    {
      "cell_type": "code",
      "source": [
        "import numpy as np\n",
        "import matplotlib.pyplot as plt\n",
        "from collections import Counter\n",
        "from sklearn.datasets import make_blobs\n",
        "\n",
        "X, y = make_blobs(n_samples=1000, \n",
        "                centers=3, \n",
        "\t\t\t\t# random_state=132\n",
        "\t\t\t\trandom_state=2809\t\t\t\n",
        "\t\t\t\t)\n",
        "counter = Counter(y)\n",
        "\n",
        "for label, _ in counter.items():\n",
        "\trow_ix = np.where(y == label)[0]\n",
        "\tplt.scatter(X[row_ix, 0], X[row_ix, 1], label=f\"Label={str(label)}\")\n",
        "plt.legend()\n",
        "plt.show()"
      ],
      "metadata": {
        "colab": {
          "base_uri": "https://localhost:8080/",
          "height": 269
        },
        "id": "UytEcutTnqfX",
        "outputId": "9aaf1d84-c89f-4e84-c3b5-c3951b2a5ed2"
      },
      "execution_count": null,
      "outputs": [
        {
          "output_type": "display_data",
          "data": {
            "text/plain": [
              "<Figure size 432x288 with 1 Axes>"
            ],
            "image/png": "[encoded data removed]"
          },
          "metadata": {
            "needs_background": "light"
          }
        }
      ]
    },
    {
      "cell_type": "markdown",
      "source": [
        "## Discriminantes de 2 clases"
      ],
      "metadata": {
        "id": "l4dgf7yPSvEw"
      }
    },
    {
      "cell_type": "markdown",
      "source": [
        "* La función discriminante más simple es la que obtenemos mediante una función lineal del vector de entrada:\n",
        "\n",
        "$$\n",
        "y(\\textrm{x})=\\textrm{w}^\\textrm{T}\\textrm{x}+w_{0} \n",
        "$$\n",
        "\n",
        "* $\\textrm{w}$ es el **vector de pesos**, y $w_0$ es el bias (sesgo / intercepto). \n",
        "* A $-w_0$ se le conoce como el **umbral** (_threshold_).\n",
        "* Un vector de entrada $\\textrm{x}$ será asignado a la clase $\\mathcal{C}_{1}$ si $y(\\textrm{x}) \\geq 0$ y a la clase $\\mathcal{C}_{2}$ de lo contrario.\n",
        "* La frontera de decisión (FD) está definida por la relación $y(\\textrm{x}) = 0$, que corresponde a un hyperplano de dimensión $(D-1)$ dentro del espacio $D-$dimensional de entrada.\n",
        "* Para cualesquiera dos puntos $\\textrm{x}_A$ y $\\textrm{x}_B$ tales que $y(\\textrm{x}_A) = y(\\textrm{x}_B) = 0$, se tiene que $\\textrm{w}^\\textrm{T}(\\textrm{x}_A-\\textrm{x}_B)=0$, y por lo tanto, $w$ es ortogonal a cualquier vector en la FD. \n",
        "* De esta forma, $\\textrm{w}$ **determina la orientación de la FD**. \n",
        "* La distancia normal del origen a la FD está dada por:\n",
        "\n",
        "$$\n",
        "\\frac{w_0}{\\left\\lVert\\textrm{w}\\right\\rVert}\n",
        "$$\n",
        "\n",
        "* En muchas ocasiones es conveniente usar una notación más compacta, por lo que escribiremos: $\\tilde{\\textrm{w}}=(w_0,\\textrm{w})$ y $\\tilde{\\textrm{x}}=(1,\\textrm{x})$, por lo que:\n",
        "\n",
        "$$\n",
        "y(\\textrm{x})=\\tilde{\\textrm{w}}^\\textrm{T}\\tilde{\\textrm{x}}\n",
        "$$\n",
        "\n",
        "* En este caso, la FD son hyperplanos que pasan por el origen del espacio $(D+1)-$dimensional expandido de la entrada."
      ],
      "metadata": {
        "id": "F77mhYHxTgf9"
      }
    },
    {
      "cell_type": "markdown",
      "source": [
        "## Ejemplo 1-dimensional"
      ],
      "metadata": {
        "id": "1-Ews8N6fBuW"
      }
    },
    {
      "cell_type": "markdown",
      "source": [
        "En el siguiente ejemplo podemos probar con varias parejas de parámetros $w,w_0$ para definir diferentes fronteras de decisión e intentar separar correctamente los datos de entrada."
      ],
      "metadata": {
        "id": "4wqGfeKnqB8f"
      }
    },
    {
      "cell_type": "code",
      "source": [
        "import numpy as np\n",
        "import matplotlib.pyplot as plt\n",
        "from sklearn.datasets import make_blobs\n",
        "from collections import Counter\n",
        "\n",
        "#--- Obtenemos el conjunto de puntos y etiquetas ---\n",
        "X, y = make_blobs(n_samples=10, \n",
        "                centers=2, \n",
        "\t\t\t\tn_features=1,\n",
        "                random_state=2809\t\t\t\n",
        "\t\t\t\t)\n",
        "\n",
        "counter = Counter(y)\n",
        "\n",
        "#--- Definimos los parámetros de la frontera de decisión ---\n",
        "w = 0.5      # peso \n",
        "w_0 = -3     # sesgo\n",
        "\n",
        "#--- Obtener el máximo y mínimo del conjunto X ---\n",
        "a = min(-w_0/w,np.min(X))\n",
        "b = np.max(X)\n",
        "\n",
        "x_line = np.linspace(a,b,num=10)\n",
        "y_line = [w*x + w_0 for x in x_line]\n",
        "signs_evals = np.sign([w*x + w_0 for x in X])  # f(g(x)) para cada x del conjunto X\n",
        "\n",
        "#--- Graficar ---\n",
        "plt.figure()\n",
        "plt.plot([a,b],[0,0], color='gray',alpha=0.8) # Dibujar el eje horizontal\n",
        "for label, _ in counter.items():  # Graficar cada etiqueta real de los puntos\n",
        "    row_ix = np.where(y == label)[0]\n",
        "    puntos = X[row_ix]\n",
        "    plt.scatter(puntos,[0 for p in puntos])\n",
        "for sign in [-1,1]:  # Graficar cada etiqueta predecida de los puntos\n",
        "    row_ix = np.where(signs_evals == sign)[0]\n",
        "    signos = signs_evals[row_ix]\n",
        "    puntos = X[row_ix]\n",
        "    plt.scatter(puntos,signos,marker='*')\n",
        "plt.plot(x_line,y_line) # Graficar la frontera de decisión\n",
        "plt.plot([-w_0/w,-w_0/w],[-1,1],color='gray',linestyle=\"dashed\")\n",
        "plt.show()\n",
        "\n",
        "#--- Graficar ---\n",
        "plt.figure()\n",
        "plt.plot([a,b],[0,0], color='gray',alpha=0.8) # Dibujar el eje horizontal\n",
        "for label, _ in counter.items():  # Graficar cada etiqueta real de los puntos\n",
        "    row_ix = np.where(y == label)[0]\n",
        "    puntos = X[row_ix]\n",
        "    plt.scatter(puntos,[0 for p in puntos],alpha=0.75,s=100)\n",
        "signos = ['v','^']\n",
        "for signo,sign in zip(signos,[-1,1]):  # Graficar cada etiqueta predecida de los puntos\n",
        "    row_ix = np.where(signs_evals == sign)[0]\n",
        "    signos = signs_evals[row_ix]\n",
        "    puntos = X[row_ix]\n",
        "    plt.scatter(puntos,[0 for p in puntos],marker=signo,color='black')\n",
        "# plt.plot(x_line,y_line) # Graficar la frontera de decisión\n",
        "plt.plot([-w_0/w,-w_0/w],[-0.5,0.5],color='gray',linestyle=\"dashed\")\n",
        "plt.show()"
      ],
      "metadata": {
        "colab": {
          "base_uri": "https://localhost:8080/",
          "height": 513
        },
        "id": "K5VFcQZUfIt7",
        "outputId": "e108f7c7-9c04-4fc2-dfff-0e150610b7ca"
      },
      "execution_count": null,
      "outputs": [
        {
          "output_type": "display_data",
          "data": {
            "text/plain": [
              "<Figure size 432x288 with 1 Axes>"
            ],
            "image/png": "[encoded data removed]"
          },
          "metadata": {
            "needs_background": "light"
          }
        },
        {
          "output_type": "display_data",
          "data": {
            "text/plain": [
              "<Figure size 432x288 with 1 Axes>"
            ],
            "image/png": "[encoded data removed]"
          },
          "metadata": {
            "needs_background": "light"
          }
        }
      ]
    },
    {
      "cell_type": "markdown",
      "source": [
        "# Mínimos cuadrados para la clasificación"
      ],
      "metadata": {
        "id": "Ak17rhP9qXyL"
      }
    },
    {
      "cell_type": "markdown",
      "metadata": {
        "id": "0YFJ7Opq3iXP"
      },
      "source": [
        "* Podemos usar Mínimos Cuadrados (*Ordinary Least Squares*, OLS) como una herramienta de clasificación.\n",
        "* Cada clase $\\mathcal{C}_j$ se describe por su propio modelo lineal:\n",
        "\n",
        "$$\n",
        "y_j(\\textrm{x})=\\textrm{w}^\\textrm{T}_j\\textrm{x}+w_{j,0}\n",
        "$$\n",
        "&emsp;&ensp;&nbsp; donde $j=1,\\ldots,k$. Podemos agrupar los términos como:\n",
        "\n",
        "$$\n",
        "\\mathbf{y}(\\textrm{x})=\\mathbf{\\tilde{W}}^\\textrm{T} \\tilde{\\textrm{x}}\n",
        "$$\n",
        "\n",
        "* Para encontrar $\\mathbf{\\tilde{W}}$ podemos minimizar la suma de los residuales al cuadrado como se hizo en el Módulo anterior.\n",
        "\n",
        "* Consideremos un conjunto de entrenamiento $\\{\\textrm{x}_n,t_n\\}$, donde $n=1,\\ldots,N$, definamos la matrices $\\mathbf{t}$ y $X$ de la siguiente forma: \n",
        "\n",
        "\n",
        "* Como hemos visto, la solución para $\\mathbf{\\tilde{W}}$ está dada por:\n",
        "$$\n",
        "\\mathbf{\\tilde{W}}=(\\mathbf{\\tilde{X}}^\\textrm{T}\\mathbf{\\tilde{X}})^{-1}\\mathbf{\\tilde{X}}^{\\textrm{T}}\\mathbf{t}=\\mathbf{\\tilde{X}}^\\dagger\\mathbf{t}\n",
        "$$\n",
        "* La función discriminante que usamos para clasificar un conjunto de puntos definido por $Z$ es entonces:\n",
        "$$\n",
        "\\textrm{y}(Z)=\\tilde{Z}\\mathbf{\\tilde{W}}=\\tilde{Z} \\mathbf{\\tilde{X}}^\\dagger \\mathbf{t}\n",
        "$$"
      ]
    },
    {
      "cell_type": "markdown",
      "source": [
        "## Un ejemplo"
      ],
      "metadata": {
        "id": "LoHyVwTozgR_"
      }
    },
    {
      "cell_type": "markdown",
      "source": [
        "Función para generar datos. "
      ],
      "metadata": {
        "id": "S_7hX-UmYWJl"
      }
    },
    {
      "cell_type": "code",
      "source": [
        "import numpy as np\n",
        "import matplotlib.pyplot as plt\n",
        "\n",
        "def genera_datos(add_outliers=False, add_class=False):\n",
        "    x0 = np.random.normal(size=50).reshape(-1, 2) - 1\n",
        "    x1 = np.random.normal(size=50).reshape(-1, 2) + 1.\n",
        "    if add_outliers:\n",
        "        x_out = np.random.normal(size=10).reshape(-1, 2) + np.array([5., 10.])\n",
        "        return np.concatenate([x0, x1, x_out]), np.concatenate([np.zeros(25), np.ones(30)]).astype(int)\n",
        "    if add_class:\n",
        "        x2 = np.random.normal(size=50).reshape(-1, 2) + 3.\n",
        "        return np.concatenate([x0, x1, x2]), np.concatenate([np.zeros(25), np.ones(25), 2 + np.zeros(25)]).astype(int)\n",
        "    return np.concatenate([x0, x1]), np.concatenate([np.zeros(25), np.ones(25)]).astype(int)"
      ],
      "metadata": {
        "id": "ksijz4dXqcrr"
      },
      "execution_count": null,
      "outputs": []
    },
    {
      "cell_type": "markdown",
      "source": [
        "Generamos y graficamos el conjunto de entrenamiento."
      ],
      "metadata": {
        "id": "FIdiF8ya4AL_"
      }
    },
    {
      "cell_type": "code",
      "source": [
        "x_train, y_train = genera_datos(add_outliers=False,add_class=False)\n",
        "print('x_train:=',end=' ')\n",
        "print(x_train[:4])\n",
        "print(f\"Shape: {x_train.shape}\")\n",
        "print('y_train:=',end=' ')\n",
        "print(y_train[:4])\n",
        "print(f\"Shape: {y_train.shape}\")\n",
        "\n",
        "#--- Graficar ---\n",
        "plt.figure()\n",
        "plt.scatter(x_train[:, 0], x_train[:, 1], c=y_train)\n",
        "plt.show()"
      ],
      "metadata": {
        "colab": {
          "base_uri": "https://localhost:8080/",
          "height": 387
        },
        "id": "V_vvR-ehYdzI",
        "outputId": "b9064b34-585b-495d-ac8b-30c322878443"
      },
      "execution_count": null,
      "outputs": [
        {
          "output_type": "stream",
          "name": "stdout",
          "text": [
            "x_train:= [[-1.19045237  0.75889633]\n",
            " [-0.52930964 -1.40871404]\n",
            " [-0.94039748  1.76384321]\n",
            " [-2.51289248 -1.14460412]]\n",
            "Shape: (50, 2)\n",
            "y_train:= [0 0 0 0]\n",
            "Shape: (50,)\n"
          ]
        },
        {
          "output_type": "display_data",
          "data": {
            "text/plain": [
              "<Figure size 432x288 with 1 Axes>"
            ],
            "image/png": "[encoded data removed]"
          },
          "metadata": {
            "needs_background": "light"
          }
        }
      ]
    },
    {
      "cell_type": "markdown",
      "source": [
        "Generamos el conjunto de prueba"
      ],
      "metadata": {
        "id": "z2uqJ7MQeTjb"
      }
    },
    {
      "cell_type": "code",
      "source": [
        "size = 100\n",
        "\n",
        "x1_test, x2_test = np.meshgrid(np.linspace(-5, 5, size), np.linspace(-5, 5, size))\n",
        "x_test = np.array([x1_test, x2_test]).reshape(2, -1).T\n",
        "\n",
        "print('x1_test.shape= ',x1_test.shape)\n",
        "print('x_test.shape= ',x_test.shape)\n",
        "\n",
        "plt.figure()\n",
        "plt.scatter(x_test[:, 0], x_test[:, 1])\n",
        "plt.show()"
      ],
      "metadata": {
        "colab": {
          "base_uri": "https://localhost:8080/",
          "height": 300
        },
        "id": "WmBtfnUaYgZz",
        "outputId": "7a349b0b-765c-41d3-e5c5-392753d30df2"
      },
      "execution_count": null,
      "outputs": [
        {
          "output_type": "stream",
          "name": "stdout",
          "text": [
            "x1_test.shape=  (100, 100)\n",
            "x_test.shape=  (10000, 2)\n"
          ]
        },
        {
          "output_type": "display_data",
          "data": {
            "text/plain": [
              "<Figure size 432x288 with 1 Axes>"
            ],
            "image/png": "[encoded data removed]"
          },
          "metadata": {
            "needs_background": "light"
          }
        }
      ]
    },
    {
      "cell_type": "code",
      "source": [
        "from sklearn import preprocessing\n",
        "\n",
        "features = preprocessing.PolynomialFeatures(1)\n",
        "X_train=features.fit_transform(x_train)\n",
        "X_test=features.fit_transform(x_test)\n",
        "\n",
        "print('X_train:=')\n",
        "print(X_train[:3])\n",
        "print('X_train.shape=',X_train.shape)\n",
        "\n",
        "print('X_test:=')\n",
        "print(X_test[:3],X_test.shape)"
      ],
      "metadata": {
        "colab": {
          "base_uri": "https://localhost:8080/"
        },
        "id": "V017ynSKef87",
        "outputId": "bdcd2bb2-7ba7-4a1f-d5c9-cd7899acebee"
      },
      "execution_count": null,
      "outputs": [
        {
          "output_type": "stream",
          "name": "stdout",
          "text": [
            "X_train:=\n",
            "[[ 1.         -0.21607814 -3.21800764]\n",
            " [ 1.         -0.90924041 -1.51467346]\n",
            " [ 1.         -0.62621402 -2.13559861]]\n",
            "X_train.shape= (50, 3)\n",
            "X_test:=\n",
            "[[ 1.        -5.        -5.       ]\n",
            " [ 1.        -4.8989899 -5.       ]\n",
            " [ 1.        -4.7979798 -5.       ]] (10000, 3)\n"
          ]
        }
      ]
    },
    {
      "cell_type": "code",
      "source": [
        "def encoderT(y:np.ndarray):\n",
        "    K = np.max(y) + 1\n",
        "    enc = np.eye(K)\n",
        "    return enc[y]\n",
        "\n",
        "T = encoderT(y_train)\n",
        "\n",
        "print('T.shape= {}'.format(T.shape))\n",
        "print(y_train[:3])\n",
        "print(T[:3])"
      ],
      "metadata": {
        "colab": {
          "base_uri": "https://localhost:8080/"
        },
        "id": "c90sTs3Nfh2b",
        "outputId": "2d6d37e8-7409-488c-9ab0-68d58cca3efa"
      },
      "execution_count": null,
      "outputs": [
        {
          "output_type": "stream",
          "name": "stdout",
          "text": [
            "T.shape= (50, 2)\n",
            "[0 0 0]\n",
            "[[1. 0.]\n",
            " [1. 0.]\n",
            " [1. 0.]]\n"
          ]
        }
      ]
    },
    {
      "cell_type": "code",
      "source": [
        "\"\"\"----TU CODIGO AQUÍ---------\"\"\"\n",
        "W = np.linalg.pinv(X_train)@T\n",
        "\"\"\"----------------------------\"\"\"\n",
        "\n",
        "print('W:=')\n",
        "print(W)\n",
        "print('\\nW.shape={}'.format(W.shape))"
      ],
      "metadata": {
        "colab": {
          "base_uri": "https://localhost:8080/"
        },
        "id": "9pPOGhD8fkrh",
        "outputId": "78a86ce1-dbd8-4a9e-922c-395bf077f26b"
      },
      "execution_count": null,
      "outputs": [
        {
          "output_type": "stream",
          "name": "stdout",
          "text": [
            "W:=\n",
            "[[ 0.53494362  0.46505638]\n",
            " [-0.15403701  0.15403701]\n",
            " [-0.18044605  0.18044605]]\n",
            "\n",
            "W.shape=(3, 2)\n"
          ]
        }
      ]
    },
    {
      "cell_type": "code",
      "source": [
        "y_x = X_test@W\n",
        "y = np.argmax(y_x,axis=1)\n",
        "print(y,y.shape)"
      ],
      "metadata": {
        "colab": {
          "base_uri": "https://localhost:8080/"
        },
        "id": "cfmhbxjlfnmz",
        "outputId": "1edc1fe9-72c1-42a5-aa48-7d7a799e6ab8"
      },
      "execution_count": null,
      "outputs": [
        {
          "output_type": "stream",
          "name": "stdout",
          "text": [
            "[0 0 0 ... 1 1 1] (2500,)\n"
          ]
        }
      ]
    },
    {
      "cell_type": "markdown",
      "source": [
        "Juntamos todo lo anterior en una clase. Esta clase es la implementación del clasificador de mínimos cuadrados."
      ],
      "metadata": {
        "id": "Hlyr8Wr4viOj"
      }
    },
    {
      "cell_type": "code",
      "source": [
        "import numpy as np\n",
        "import matplotlib.pyplot as plt\n",
        "from sklearn.preprocessing import PolynomialFeatures\n",
        "\n",
        "class LeastSquaresClassifier():\n",
        "    def __init__(self, W:np.ndarray=None):\n",
        "        '''\n",
        "        W es la matriz de pesos, la cual puede ser especificada desde un principio, esto\n",
        "        es opcional.\n",
        "        '''\n",
        "        self.W = W\n",
        "\n",
        "    def fit(self, X:np.ndarray, y:np.ndarray):\n",
        "        '''\n",
        "        Este método calcula la matriz de pesos para la matriz de puntos \"aumentada\" X\n",
        "        y el conjunto de etiquetas y.\n",
        "        '''\n",
        "        def encoderT(y:np.ndarray):\n",
        "            K=np.max(y) + 1\n",
        "            enc=np.eye(K)\n",
        "            return enc[y]\n",
        "        T = encoderT(y)\n",
        "        self.W = np.linalg.pinv(X)@T\n",
        "        \n",
        "    def clasifica(self, X:np.ndarray):\n",
        "        '''\n",
        "        Este método predice las etiquetas para el conjunto de puntos X\n",
        "        '''\n",
        "        return np.argmax(X@self.W,axis=1)"
      ],
      "metadata": {
        "id": "e-0JYFiqfwVB"
      },
      "execution_count": null,
      "outputs": []
    },
    {
      "cell_type": "code",
      "source": [
        "x_train, y_train = genera_datos()\n",
        "x1_test, x2_test = np.meshgrid(np.linspace(-5, 5, 100), np.linspace(-5, 5, 100))\n",
        "x_test = np.array([x1_test, x2_test]).reshape(2, -1).T\n",
        "\n",
        "features = preprocessing.PolynomialFeatures(1)\n",
        "X_train = features.fit_transform(x_train)\n",
        "X_test = features.fit_transform(x_test)\n",
        "\n",
        "\"\"\"----TU CODIGO AQUÍ---------\"\"\"\n",
        "#CREA el objeto\n",
        "modelo = LeastSquaresClassifier()\n",
        "#ENTRENA el modelo\n",
        "modelo.fit(X_train,y_train)\n",
        "#PRUEBA el modelo\n",
        "y = modelo.clasifica(X_test)\n",
        "\"\"\"----------------------------\"\"\"\n",
        "\n",
        "plt.figure()\n",
        "#-----Dibuja los datos---------------------------------\n",
        "plt.scatter(x_train[:, 0], x_train[:, 1], c=y_train)\n",
        "#-----Dibuja X_test---------------------------------\n",
        "plt.contourf(x1_test, x2_test, y.reshape(100, 100), alpha=0.2)\n",
        "#-----Formato de la gráfica------------------------\n",
        "plt.xlim(-5, 5)\n",
        "plt.ylim(-5, 5)\n",
        "plt.gca().set_aspect('equal', adjustable='box')\n",
        "plt.tight_layout()\n",
        "plt.show()"
      ],
      "metadata": {
        "id": "A3LJkN71f0Jh",
        "outputId": "63deec40-0ef8-4ca2-d9ee-376a05f0d845",
        "colab": {
          "base_uri": "https://localhost:8080/",
          "height": 297
        }
      },
      "execution_count": null,
      "outputs": [
        {
          "output_type": "display_data",
          "data": {
            "text/plain": [
              "<Figure size 432x288 with 1 Axes>"
            ],
            "image/png": "[encoded data removed]"
          },
          "metadata": {
            "needs_background": "light"
          }
        }
      ]
    },
    {
      "cell_type": "markdown",
      "source": [
        "Clasificamos un nuevo punto"
      ],
      "metadata": {
        "id": "VsxzwBp1Gbyz"
      }
    },
    {
      "cell_type": "code",
      "source": [
        "new_x = np.array([[0,1]])\n",
        "\n",
        "features = preprocessing.PolynomialFeatures(1)\n",
        "X_new = features.fit_transform(new_x)\n",
        "\n",
        "y_new = modelo.clasifica(X_new)\n",
        "\n",
        "plt.figure()\n",
        "#-----Dibuja los datos---------------------------------\n",
        "plt.scatter(x_train[:, 0], x_train[:, 1], c=y_train)\n",
        "#-----Dibuja X_test---------------------------------\n",
        "plt.contourf(x1_test, x2_test, y.reshape(100, 100), alpha=0.2)\n",
        "plt.scatter(new_x[:,0],new_x[:,1], c='black', marker='+',label=str(y_new[0]),s=100)\n",
        "plt.legend()\n",
        "#-----Formato de la gráfica------------------------\n",
        "plt.xlim(-5, 5)\n",
        "plt.ylim(-5, 5)\n",
        "plt.gca().set_aspect('equal', adjustable='box')\n",
        "plt.tight_layout()\n",
        "plt.show()"
      ],
      "metadata": {
        "colab": {
          "base_uri": "https://localhost:8080/",
          "height": 297
        },
        "id": "31Wj49VYFN3P",
        "outputId": "8c309207-2b69-4f36-d062-92ed1b4449fe"
      },
      "execution_count": null,
      "outputs": [
        {
          "output_type": "display_data",
          "data": {
            "text/plain": [
              "<Figure size 432x288 with 1 Axes>"
            ],
            "image/png": "[encoded data removed]"
          },
          "metadata": {
            "needs_background": "light"
          }
        }
      ]
    },
    {
      "cell_type": "markdown",
      "source": [
        "## Tarea"
      ],
      "metadata": {
        "id": "4T_a9Lyr4Z4n"
      }
    },
    {
      "cell_type": "markdown",
      "source": [
        "### En este ejercicio nos interesa observar el efecto de los outliers y de una tercera clase en el clasificador LS.\n",
        "\n",
        "1. Efecto de outliers\n",
        "   1. Genera un nuevo conjunto de datos de entrenamiento con outliers usando la función `genera_datos(add_outliers=True)`. A partir de este conjunto de datos puedes recuperar el conjunto de datos sin los outliers, los outliers son los últimos 5 puntos (renglones) de la matriz de coordenadas. \n",
        "   2. Tendrás dos conjuntos de entrenamiento, uno con los outliers y otro sin los outliers.\n",
        "   3. Crea un clasificador para cada conjunto de datos y grafica la frontera de decisión en ambos casos.\n",
        "   4. Compara las FD del primer modelo y de este segundo modelo graficando ambas en la misma figura (usando `contour` en lugar de `contourf`). Es posible que tengas que modificar los límites de graficación (x,y).\n",
        "2. Efecto de 3 clases\n",
        "   1. Genera otro conjunto de datos de entrenamiento con 3 clases usando la función `genera_datos(add_class=True)`; usa un meshgrid de -5 a 10.\n",
        "   2. Crea un nuevo clasificador y entrénalo con estos datos de 3 clases.\n",
        "   3. Prueba el clasificador con datos de Test y observa las FD (es posible que necesites ajustar los límites de los ejes (x,y)).\n",
        "3. Concluye sobre las características de OLS como clasificador, ¿a qué crees que se deban estas características?"
      ],
      "metadata": {
        "id": "fNSb9xBk654_"
      }
    }
  ]
}