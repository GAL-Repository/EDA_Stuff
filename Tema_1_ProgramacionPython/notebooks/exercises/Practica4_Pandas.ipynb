{
 "cells": [
  {
   "cell_type": "markdown",
   "metadata": {},
   "source": [
    "<a href=\"https://colab.research.google.com/github/DCDPUAEM/DCDP_2022/blob/main/01%20Programaci%C3%B3n%20en%20Python/notebooks/exercises/Practica4_Pandas.ipynb\" target=\"_parent\"><img src=\"https://colab.research.google.com/assets/colab-badge.svg\" alt=\"Open In Colab\"/></a>"
   ]
  },
  {
   "cell_type": "code",
   "execution_count": null,
   "metadata": {},
   "outputs": [],
   "source": [
    "import numpy as np\n",
    "import pandas as pd \n",
    "import matplotlib.pyplot as plt\n",
    "import seaborn as sns"
   ]
  },
  {
   "cell_type": "markdown",
   "metadata": {},
   "source": [
    "### __Data set de vinos del mundo__\n",
    "\n",
    "Esta es una versión reducida de la base de datos [winemag-data](https://gist.github.com/clairehq/79acab35be50eaf1c383948ed3fd1129), que contiene una reseña en inglés sobre una gran cantidad de vinos del mundo."
   ]
  },
  {
   "cell_type": "markdown",
   "metadata": {},
   "source": [
    "### __Descripción de los campos__\n",
    "\n",
    " - **country**: El país de donde proviene el vino\n",
    " - **description** : Algunas frases de un sommelier que describen el sabor, olor, apariencia, sensación, etc. del vino.\n",
    " - **designation**: La denominación. El viñedo dentro de la bodega de donde proceden las uvas que elaboraron el vino.\n",
    " - **points**: la cantidad de puntos que WineEnthusiast calificó al vino en una escala del 1 al 100 (aunque dicen que solo publican reseñas de vinos con una puntuación> = 80).\n",
    " - **price**: El costo de una botella de vino.\n",
    " - **province**: La provincia o estado de donde proviene el vino\n",
    " - **region_1**: el área de cultivo de vino en una provincia o estado (es decir, Napa)\n",
    " - **region_2**: a veces hay regiones más específicas, especificadas dentro de un área de cultivo del vino (es decir, Rutherford dentro del Valle de Napa), pero este valor a veces puede estar en blanco.\n",
    " - **taster_name**: nombre de la persona que probó y revisó el vino.\n",
    " - **taster_twitter_handle**: identificador de Twitter para la persona que probó y revisó el vino.\n",
    " - **title**: el título de la reseña de vinos, que a menudo contiene la cosecha si está interesado en extraer esa característica.\n",
    " - **variety**: la variedad: el tipo de uva utilizada para elaborar el vino (es decir, Pinot Noir).\n",
    " - **winery**: la bodega que hizo el vino."
   ]
  },
  {
   "cell_type": "markdown",
   "metadata": {},
   "source": [
    "### TEST"
   ]
  },
  {
   "cell_type": "code",
   "execution_count": null,
   "metadata": {},
   "outputs": [],
   "source": [
    "# Fetch the dataset using the raw GitHub URL.\n",
    "!curl --remote-name \\\n",
    "     -H 'Accept: application/vnd.github.v3.raw' \\\n",
    "     --location https://raw.githubusercontent.com/DCDPUAEM/DCDP_2022/main/01%20Programaci%C3%B3n%20en%20Python/data/winemag-data-less.csv"
   ]
  },
  {
   "cell_type": "code",
   "execution_count": null,
   "metadata": {},
   "outputs": [],
   "source": [
    "# leemos el dataframe usando read_csv\n",
    "df = pd.read_csv(\"winemag-data-less.csv\")\n",
    "print(df.info())\n",
    "df.head(3)"
   ]
  },
  {
   "cell_type": "code",
   "execution_count": null,
   "metadata": {},
   "outputs": [],
   "source": [
    "#Tiremos la columna Unnamed\n",
    "df.drop('Unnamed: 0',axis=1,inplace=True)\n",
    "df.head(3)"
   ]
  },
  {
   "cell_type": "markdown",
   "metadata": {},
   "source": [
    "### __Veamos cuantas reseñas de vinos mexicanos tenemos.__"
   ]
  },
  {
   "cell_type": "markdown",
   "metadata": {},
   "source": [
    "#### &#9758; Construye una nueva Tabla con las reseñas de vinos mexicanos. \n",
    "- Quédate **sólo** con las siguientes columnas: `['country','winery','variety','description','points','price']`\n",
    "- Haz que el índice se reinicie en 0.\n",
    "- Guarda este DataFrame en la variable vinosMX."
   ]
  },
  {
   "cell_type": "code",
   "execution_count": null,
   "metadata": {},
   "outputs": [],
   "source": [
    "\"\"\"\n",
    "SECUENCIA:\n",
    "1. Ubicar todos los registros de México usando indexación booleana\n",
    "2. De este DataFrame resultante, extraer solamente las columnas solicitadas.\n",
    "3. Reiniciar el índice usando reset_index()\n",
    "4. Tirar (drop) la nueva columna index \n",
    "5. Asignar el resultado de este proceso a la variable vinosMX\n",
    "\"\"\"\n",
    "# TU CODIGO\n",
    "# 1. Ubicar todos los registros de México usando indexación booleana\n",
    "vinosMX = df[df['country']=='Mexico']\n",
    "\n",
    "# 2. De este DataFrame resultante, extraer solamente las columnas solicitadas.\n",
    "vinosMX = vinosMX[['country','winery','variety','description','points','price']]\n",
    "\n",
    "# 3. Reiniciar el índice usando reset_index()\n",
    "vinosMX = vinosMX.reset_index()\n",
    "\n",
    "# 4. Tirar (drop) la nueva columna index \n",
    "vinosMX = vinosMX.drop('index',axis=1)\n",
    "vinosMX"
   ]
  },
  {
   "cell_type": "markdown",
   "metadata": {},
   "source": [
    "### __Veamos cuantas reseñas de vinos por país tenemos.__\n",
    "\n",
    "#### &#9758; Muestra en una gráfica de barras la distribución del número de reseñas por país (_top 10_). "
   ]
  },
  {
   "cell_type": "markdown",
   "metadata": {},
   "source": [
    "#### Puedes auxiliarte con alguna de estos métodos de Pandas:\n",
    " - [pandas.DataFrame.count](https://pandas.pydata.org/pandas-docs/stable/reference/api/pandas.DataFrame.count.html)\n",
    " - [pandas.Series.value_counts](https://pandas.pydata.org/pandas-docs/stable/reference/api/pandas.Series.value_counts.html)\n",
    " - [pandas.Series.index](https://pandas.pydata.org/pandas-docs/stable/reference/api/pandas.Series.index.html)\n",
    " - [pandas.Series.values](https://pandas.pydata.org/pandas-docs/stable/reference/api/pandas.Series.values.html)"
   ]
  },
  {
   "cell_type": "code",
   "execution_count": null,
   "metadata": {},
   "outputs": [],
   "source": [
    "\"\"\"\n",
    "SECUENCIA:\n",
    "1. Ubicar el nombre de la columna de país\n",
    "2. Sobre esta columna, obtener la Serie correspondiente\n",
    "3. Hacer un conteo de los valores únicos sobre esta Serie\n",
    "\n",
    "4. X en la gráfica de barras son los países (índice de la Serie)\n",
    "5. Y en la gráfica de barras son los conteos por país (values de la Serie)\n",
    "6. Usar Seaborn para graficar el diagrama de barras\n",
    "7. Rotular la gráfica y los ejes\n",
    "\"\"\"\n",
    "# 1. Ubicar el nombre de la columna de país\n",
    "# 2. Sobre esta columna, obtener la Serie correspondiente\n",
    "# 3. Hacer un conteo de los valores únicos sobre esta Serie\n",
    "conteos=df.country.value_counts()\n",
    "\n",
    "# 4. X en la gráfica de barras son los países (índice de la Serie)\n",
    "# 5. Y en la gráfica de barras son los conteos por país (values de la Serie)\n",
    "x = conteos.index\n",
    "y = conteos.values\n",
    "\n",
    "plt.figure(figsize=(16,7))\n",
    "sns.barplot(x[:10], y[:10])\n",
    "\n",
    "# En una sola línea:\n",
    "#sns.barplot(df.country.value_counts().index[:10], df.country.value_counts().values[:10])\n",
    "\n",
    "plt.xlabel(\"Países\")\n",
    "plt.ylabel(\"Número de vinos\")\n",
    "plt.title(\"Reseñas por país (Top 10)\")\n",
    "\n",
    "plt.show()"
   ]
  },
  {
   "cell_type": "markdown",
   "metadata": {},
   "source": [
    "### __Veamos ahora cuál es el precio promedio por cada país.__"
   ]
  },
  {
   "cell_type": "markdown",
   "metadata": {},
   "source": [
    "#### &#9758; Muestra en una gráfica de barras el precio promedio por país, en orden descendente (_top 10_). \n",
    "\n",
    "Puedes consultar:\n",
    " - [pandas.DataFrame.groupby](https://pandas.pydata.org/pandas-docs/stable/reference/api/pandas.DataFrame.groupby.html)\n",
    "\n",
    "#### &#9758; ¿Cuál sería el precio promedio por variedad? \n",
    "\n",
    "🙂 __Escribe la secuencia de pasos que tendrías que realizar.__"
   ]
  },
  {
   "cell_type": "code",
   "execution_count": null,
   "metadata": {},
   "outputs": [],
   "source": [
    "\"\"\"\n",
    "SECUENCIA:\n",
    "\n",
    "\"\"\"\n",
    "promedios = #<COMPLETA>\n",
    "\n",
    "plt.figure(figsize=(16,7))\n",
    "\n",
    "sns.barplot(x[:10], y[:10])\n",
    "\n",
    "plt.xlabel(\"País\")\n",
    "plt.ylabel(\"Precio promedio (Dólares)\")\n",
    "plt.title(\"Precio promedio (Top 10)\")\n",
    "\n",
    "plt.show()"
   ]
  },
  {
   "cell_type": "markdown",
   "metadata": {},
   "source": [
    "#### Agregando anotaciones a nuestros gráficos\n",
    "\n",
    "Es posible agregar información a nuestros gráficos, en forma de texto, o dibujos (e.g. flechas, líneas, círculos, etc.). Para ello, se utiliza la anotación (annotate) de ejes (axes). Detallar aquí cómo funciona nos llevaría mucho tiempo. Puedes consultar la documentación en estas ligas:\n",
    "\n",
    "- [matplotlib.Artist](https://matplotlib.org/3.3.3/api/artist_api.html#matplotlib.artist.Artist)\n",
    "    - [Artist tutorial](https://matplotlib.org/3.3.3/tutorials/intermediate/artists.html)\n",
    "- [matplotlib.axes](https://matplotlib.org/3.3.3/api/axes_api.html#matplotlib.axes.Axes)\n",
    "- [matplotlib.patches.Patch](https://matplotlib.org/3.3.3/api/axes_api.html#matplotlib.axes.Axes)\n",
    "- [matplotlib.patches.Rectangle](https://matplotlib.org/3.1.1/api/_as_gen/matplotlib.patches.Rectangle.html)\n",
    "- [matplotlib.pyplot.annotate](https://matplotlib.org/3.3.3/api/_as_gen/matplotlib.pyplot.annotate.html)"
   ]
  },
  {
   "cell_type": "code",
   "execution_count": null,
   "metadata": {},
   "outputs": [],
   "source": [
    "#Definimos el tamaño del canvas\n",
    "plt.figure(figsize=(16,7))\n",
    "\n",
    "# la variable \"ax\" (axes) contiene la información  del gráfico de barras.\n",
    "# En particular, contiene todo lo relativo a los parches (rectángulos) del barplot.\n",
    "ax = sns.barplot(x[:10], y[:10])\n",
    "\n",
    "# Recorremos cada rectángulo\n",
    "for p in ax.patches:\n",
    "    ax.annotate(\"%.2f\" % p.get_height(),\\\n",
    "                (p.get_x() + p.get_width() / 2., p.get_height()),\\\n",
    "                ha='center', va='center', fontsize=11, color='gray',\\\n",
    "                xytext=(0, 10),\\\n",
    "                textcoords='offset points')\n",
    "    \n",
    "plt.show()"
   ]
  },
  {
   "cell_type": "markdown",
   "metadata": {},
   "source": [
    "### __Ahora queremos darnos una idea de cuáles podrían ser los países cuyos vinos tienen una mejor razón calidad-precio en promedio.__\n",
    "\n",
    "#### &#9758; Muestra en una gráfica de barras la razón puntos/precio promedio por país, en orden descendente (_top 10_). Muestra los valores de la razón sobre cada barra. \n",
    "\n",
    "✋ __Recuerda que si divides entre 0 o Nan obtendrás inf o nan__\n",
    " \n",
    "🙂 __Escribe la secuencia de pasos que tendrías que realizar.__"
   ]
  },
  {
   "cell_type": "code",
   "execution_count": null,
   "metadata": {},
   "outputs": [],
   "source": [
    "plt.figure(figsize=(8,4))\n",
    "sns.boxplot(x=df.points)\n",
    "plt.title(\"Boxplot del puntaje (calidad)\")\n",
    "plt.show()"
   ]
  },
  {
   "cell_type": "code",
   "execution_count": null,
   "metadata": {},
   "outputs": [],
   "source": [
    "\"\"\"\n",
    "SECUENCIA:\n",
    "\n",
    "\"\"\"\n",
    "plt.figure(figsize=(10,5))\n",
    "\n",
    "### TU CODIGO AQUI ##\n",
    "promedios = #<COMPLETA>\n",
    "\n",
    "#####################\n",
    "\n",
    "plt.title(\"Mejor razón calidad/precio por país (Top 10)\")\n",
    "plt.xlabel(\"País\")\n",
    "plt.xticks(rotation= 45, ha=\"right\")\n",
    "plt.ylabel(\"Razón Puntos/Precio\")\n",
    "\n",
    "for p in ax.patches:\n",
    "    ax.annotate(\"%.2f\" % p.get_height(), (p.get_x() + p.get_width() / 2., p.get_height()),\n",
    "                 ha='center', va='center', fontsize=11, color='gray', xytext=(0, 10),\n",
    "                 textcoords='offset points')\n",
    "plt.show()"
   ]
  },
  {
   "cell_type": "markdown",
   "metadata": {},
   "source": [
    "### __¿Qué vinos tienen la mejor puntuación y a qué países pertenecen?__\n",
    "\n",
    "#### &#9758; Muestra en una gráfica de pastel la proporción de los países que tienen los 20 mejores vinos; es decir, los primeros 20 de mayor puntaje.  "
   ]
  },
  {
   "cell_type": "code",
   "execution_count": null,
   "metadata": {},
   "outputs": [],
   "source": [
    "#TU CODIGO\n"
   ]
  },
  {
   "cell_type": "markdown",
   "metadata": {},
   "source": [
    "### __¿Cuáles son las 10 variedades de uva más abundantes y en qué proporción?__\n",
    "\n",
    "#### &#9758; Da una solución utilizando sólo dos líneas de código"
   ]
  },
  {
   "cell_type": "code",
   "execution_count": null,
   "metadata": {},
   "outputs": [],
   "source": [
    "#TU CODIGO\n",
    "variedades = #<COMPLETA>"
   ]
  },
  {
   "cell_type": "markdown",
   "metadata": {},
   "source": [
    "### __¿Cuáles son las 20 bodegas más mencionadas y en qué proporción?__\n",
    "\n",
    "#### &#9758; Da una solución utilizando sólo dos líneas de código"
   ]
  },
  {
   "cell_type": "code",
   "execution_count": null,
   "metadata": {},
   "outputs": [],
   "source": [
    "#TU CODIGO\n",
    "bodegas = #<COMPLETA>\n"
   ]
  },
  {
   "cell_type": "markdown",
   "metadata": {},
   "source": [
    "### __Vamos ahora a construir una nueva tabla de información__\n",
    "\n",
    "#### &#9758; Construye una tabla que muestre país, variedad de uva, bodega, y valores de puntuación y precio.\n",
    "- Considera las 10 variedades de uva y las 20 bodegas más importantes.\n",
    "- Haz una tabla con estos datos y sólo los valores de país, bodega, variedad, puntuación y precio correspondientes.\n",
    "- Agrega una columna con el valor de puntos/precio\n",
    "- Cambia el nombre de la bodega para que éste incluya su país de origen.\n",
    "- Ordena los datos por nombre de país, variedad y bodega (orden ascendente)."
   ]
  },
  {
   "cell_type": "code",
   "execution_count": null,
   "metadata": {},
   "outputs": [],
   "source": [
    "#TU CODIGO\n",
    "p_v = #<COMPLETA>  #nuevo dataFrame que vamos a construir y luego observar\n"
   ]
  },
  {
   "cell_type": "markdown",
   "metadata": {},
   "source": [
    "#### &#9758; Observa la relación puntos-precio por país"
   ]
  },
  {
   "cell_type": "code",
   "execution_count": null,
   "metadata": {},
   "outputs": [],
   "source": [
    "sns.relplot(x=\"points\", y=\"price\", hue=\"country\", col='country',kind=\"line\", data=p_v)"
   ]
  },
  {
   "cell_type": "markdown",
   "metadata": {},
   "source": [
    "#### &#9758; Observa las distribuciones por pares en función de la variedad de uva."
   ]
  },
  {
   "cell_type": "code",
   "execution_count": null,
   "metadata": {},
   "outputs": [],
   "source": [
    "sns.pairplot(p_v, hue=\"variety\",height=3,palette='rocket')"
   ]
  },
  {
   "cell_type": "markdown",
   "metadata": {},
   "source": [
    "#### &#9758; Observa las distribuciones por pares en función del país."
   ]
  },
  {
   "cell_type": "code",
   "execution_count": null,
   "metadata": {},
   "outputs": [],
   "source": [
    "#TU CODIGO\n"
   ]
  },
  {
   "cell_type": "markdown",
   "metadata": {},
   "source": [
    "#### &#9758; Observa las distribuciones por pares en función de la bodega."
   ]
  },
  {
   "cell_type": "code",
   "execution_count": null,
   "metadata": {},
   "outputs": [],
   "source": [
    "#TU CODIGO\n"
   ]
  },
  {
   "cell_type": "markdown",
   "metadata": {},
   "source": [
    "#### &#9758; Observa las distribuciones (scatter) de precio por variedad de uva."
   ]
  },
  {
   "cell_type": "code",
   "execution_count": null,
   "metadata": {},
   "outputs": [],
   "source": [
    "#TU CODIGO\n"
   ]
  },
  {
   "cell_type": "markdown",
   "metadata": {},
   "source": [
    "#### &#9758; Observa las distribuciones (scatter) de precio por bodega."
   ]
  },
  {
   "cell_type": "code",
   "execution_count": null,
   "metadata": {},
   "outputs": [],
   "source": [
    "#TU CODIGO\n"
   ]
  },
  {
   "cell_type": "markdown",
   "metadata": {},
   "source": [
    "#### &#9758; Observa las distribuciones (scatter) de puntos/precio por bodega."
   ]
  },
  {
   "cell_type": "code",
   "execution_count": null,
   "metadata": {},
   "outputs": [],
   "source": [
    "#TU CODIGO\n"
   ]
  },
  {
   "cell_type": "markdown",
   "metadata": {},
   "source": [
    "#### &#9758; Observa las distribuciones (scatter) de puntos/precio por país."
   ]
  },
  {
   "cell_type": "code",
   "execution_count": null,
   "metadata": {},
   "outputs": [],
   "source": [
    "#TU CODIGO\n"
   ]
  },
  {
   "cell_type": "markdown",
   "metadata": {},
   "source": [
    "### __Agrega los datos de México a esta última tabla de información__\n",
    "\n",
    "#### &#9758; Une la tabla de vinosMX a la tabla p_v\n",
    "- Asegúrate de __no agregar__ la columna de descripción "
   ]
  },
  {
   "cell_type": "code",
   "execution_count": null,
   "metadata": {},
   "outputs": [],
   "source": [
    "#TU CODIGO\n",
    "df3 = #<COMPLETA> # nuevo dataFrame que contiene la unión de las tablas"
   ]
  },
  {
   "cell_type": "markdown",
   "metadata": {},
   "source": [
    "#### &#9758; Calcula los valores de points/price para los vinos de México\n",
    "- TIP: Usa el método apply sobre `df3[['points','price','points/price']]`"
   ]
  },
  {
   "cell_type": "code",
   "execution_count": null,
   "metadata": {},
   "outputs": [],
   "source": [
    "# TU CODIGO\n"
   ]
  },
  {
   "cell_type": "markdown",
   "metadata": {},
   "source": [
    "#### &#9758; Observa la relación puntos-precio por país"
   ]
  },
  {
   "cell_type": "code",
   "execution_count": null,
   "metadata": {},
   "outputs": [],
   "source": [
    "sns.relplot(x=\"points\", y=\"price\", hue=\"country\", col='country',kind=\"line\", data=df3)"
   ]
  },
  {
   "cell_type": "markdown",
   "metadata": {},
   "source": [
    "#### &#9758; Observa las distribuciones por pares en función del país.\n",
    "- Construye una tabla auxiliar \"mx_top\", donde los datos de México (en df3) aparezcan al final de la tabla mx_top."
   ]
  },
  {
   "cell_type": "code",
   "execution_count": null,
   "metadata": {},
   "outputs": [],
   "source": [
    "mx_top = #<COMPLETA>\n",
    "sns.pairplot(mx_top, hue=\"country\",height=3,palette='bright')"
   ]
  },
  {
   "cell_type": "markdown",
   "metadata": {},
   "source": [
    "#### &#9758; Observa las distribuciones (scatter) de puntos por país."
   ]
  },
  {
   "cell_type": "code",
   "execution_count": null,
   "metadata": {},
   "outputs": [],
   "source": [
    "plt.figure(figsize=(10,5))\n",
    "sns.stripplot(x=\"country\", y=\"points\", data=df3,dodge=True,palette='deep',marker='*',size=8)\n",
    "plt.xticks(rotation= 45, ha=\"right\")"
   ]
  },
  {
   "cell_type": "markdown",
   "metadata": {},
   "source": [
    "#### &#9758; Observa las distribuciones (scatter) de precios por bodega."
   ]
  },
  {
   "cell_type": "code",
   "execution_count": null,
   "metadata": {},
   "outputs": [],
   "source": [
    "plt.figure(figsize=(10,5))\n",
    "sns.stripplot(x=\"winery\", y=\"price\", data=df3,dodge=True,palette='rocket',marker='*',size=8)\n",
    "plt.xticks(rotation= 45, ha=\"right\")"
   ]
  },
  {
   "cell_type": "markdown",
   "metadata": {},
   "source": [
    "#### &#9758; Observa las distribuciones (scatter) de puntos/precio por bodega.\n",
    "- Dibuja una línea que marque el promedio de todos los datos\n",
    "- Dibuja marcas ubicadando los valores promedio por cada bodega (TIP: usa `groupby` sobre país y bodega para calcular primero los valores promedio)"
   ]
  },
  {
   "cell_type": "code",
   "execution_count": null,
   "metadata": {},
   "outputs": [],
   "source": [
    "medias = #<COMPLETA>\n",
    "\n",
    "# TU CODIGO\n"
   ]
  },
  {
   "cell_type": "markdown",
   "metadata": {},
   "source": [
    "#### &#9758; Si consideramos la proporción de los países con mejor relación puntos/precio, ¿cómo queda México?\n",
    "- Usa un gráfico de pastel"
   ]
  },
  {
   "cell_type": "code",
   "execution_count": null,
   "metadata": {},
   "outputs": [],
   "source": [
    "# TU CODIGO\n"
   ]
  }
 ],
 "metadata": {
  "kernelspec": {
   "display_name": "Python 3 (ipykernel)",
   "language": "python",
   "name": "python3"
  },
  "language_info": {
   "codemirror_mode": {
    "name": "ipython",
    "version": 3
   },
   "file_extension": ".py",
   "mimetype": "text/x-python",
   "name": "python",
   "nbconvert_exporter": "python",
   "pygments_lexer": "ipython3",
   "version": "3.7.11"
  }
 },
 "nbformat": 4,
 "nbformat_minor": 4
}
