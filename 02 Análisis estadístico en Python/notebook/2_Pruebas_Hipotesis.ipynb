{
 "cells": [
  {
   "cell_type": "markdown",
   "metadata": {},
   "source": [
    "<a id=\"contenido\"></a>\n",
    "<h1><center>Contenido | Módulo 2</center><h1>\n",
    "    \n",
    "---\n",
    "* [Pruebas de hipótesis](#a)   \n",
    "* [Definición de error Tipo I  y  error Tipo II](#b) \n",
    "* [Definición de p-value y alpha](#c) \n",
    "* [Pruebas de hipótesis paramétricas](#d)\n",
    "* [Pruebas de hipótesis no paramétricas](#e)\n",
    "* [Referencias](#f)"
   ]
  },
  {
   "cell_type": "markdown",
   "metadata": {},
   "source": [
    "<a id=\"a\"></a>\n",
    "<h1><center>2.6. Pruebas de hipótesis</center></h1>\n",
    "\n",
    "[Regreso a contenido](#contenido)\n",
    "\n",
    "---\n",
    "![alt text](https://www.monografias.com/trabajos91/prueba-hipotesis-medias-excel-y-winstats/image002.png)"
   ]
  },
  {
   "cell_type": "markdown",
   "metadata": {},
   "source": [
    "En esta sección se dará una breve introducción sobre este tema que puede causar muchos dolores de cabeza al estar aprendiendo acerca del manejo de datos.\n",
    "\n",
    "Se abordan todos esos conceptos y con ejemplos usando Python.\n",
    "\n",
    "----\n",
    "\n",
    "* ## ¿Qué es una prueba de hipótesis? \n",
    "* ### ¿Porqué debemos usarlas? \n",
    "* #### ¿Cuáles son las bases de las hipótesis?\n",
    "* #### ¿Cuáles son los parámetros importantes de dichas pruebas?\n",
    "\n",
    "---\n",
    "\n",
    "\n",
    "![alt text](https://sphweb.bumc.bu.edu/otlt/MPH-Modules/BS/BS704_HypothesisTest-Means-Proportions/Means-Proportions-Wordle.png)"
   ]
  },
  {
   "cell_type": "markdown",
   "metadata": {},
   "source": [
    "----\n",
    "\n",
    "Empecemos por la primera pregunta...\n",
    "\n",
    "* ## ¿Qué es una prueba de hipótesis?\n",
    "\n",
    "Las pruebas de hipótesis son utilizados para la toma de decisiones **estadísticas**, utilizando datos experimentales. En palabras burdas, es el pan de cada día de las estadísticas inferenciales y una habilidad crítica en el repertorio de un científico de datos."
   ]
  },
  {
   "cell_type": "markdown",
   "metadata": {},
   "source": [
    "* ## ¿Porqué usamos las pruebas de hipótesis?\n",
    "\n",
    "La prueba de hipótesis es un procedimiento esencial en estadística. Una prueba de hipótesis evalúa dos afirmaciones mutuamente excluyentes sobre una **población** para determinar qué afirmación es mejor respaldada por los datos de la *muestra*. Cuando decimos que un hallazgo es estadísticamente significativo, es gracias a una prueba de hipótesis.\n",
    "\n",
    "<font color=red> Las pruebas de hipótesis son una herramienta crítica en **estadística inferencial**, para determinar cuál podría ser el valor de un parámetro de **población**. A menudo sacamos esta conclusión basada en un análisis de datos de muestra....</font>"
   ]
  },
  {
   "cell_type": "markdown",
   "metadata": {},
   "source": [
    "Con la cuestión de la toma de decisiones basada en datos:\n",
    "\n",
    "   * empresariales, científicos, tecnológicos, sociales y políticos, etc... \n",
    "    \n",
    "El concepto de prueba de hipótesis se ha convertido en algo sumamente importante para comprender y aplicar en el contexto adecuado.\n",
    "\n",
    "#### Hay una gran cantidad de pruebas utilizadas en el análisis estadístico para este propósito. Puede ser confuso. Consulte este excelente [artículo](https://towardsdatascience.com/statistical-tests-when-to-use-which-704557554740) para obtener una descripción completa de qué prueba usar en qué situación."
   ]
  },
  {
   "cell_type": "markdown",
   "metadata": {},
   "source": [
    "---\n",
    "---\n",
    "\n",
    "* ## ¿Cuales son las bases de las hipótesis? \n",
    "\n",
    "   * ### Hipótesis Nula\n",
    "   * ### Hipótesis Alterna\n",
    "   \n",
    "---\n",
    "\n",
    "La hipótesis nula es, en general, lo **aburrido** (esperado), es decir, supone que nada interesante sucede / sucedió.\n",
    "\n",
    "La hipótesis alterna es una suposición que contrarresta a la nula.\n",
    "\n",
    "---\n",
    "\n",
    "Hipótesis nula (H0): - En la estadística inferencial, la hipótesis nula es una declaración general o suposición predeterminada de que no hay relación entre dos fenómenos medidos, o no hay asociación entre grupos\n",
    "\n",
    "En otras palabras, es una suposición básica o basada en el dominio o el conocimiento del problema.\n",
    "\n",
    "Ejemplo: la producción de una empresa es = 50 unidades / por día, etc.\n",
    "\n",
    "---\n",
    "\n",
    "Hipótesis alterna (H1): - Es la hipótesis contraria a la hipótesis nula. Por lo general, se considera que las observaciones son el resultado de un efecto real (con cierta cantidad de variación de probabilidad superpuesta)\n",
    "\n",
    "Ejemplo: la producción de una empresa es ! = 50 unidades / por día, etc.\n",
    "\n",
    "---\n",
    "<font color=\"red\">**Por lo tanto, el proceso de prueba de hipótesis consiste en formular preguntas sobre los datos en función de la información recopilada y probarlas utilizando métodos estadísticos.**</font>\n",
    "\n",
    "---\n",
    "\n",
    "### A continuación mostramos un pequeño ejemplo utilizando la prueba estadística Shapiro - Wilks\n",
    "Esta prueba confirma si una muestra presenta una distribución normal(H0) o no (H1). \n",
    "\n",
    "Mayor información de la librería pueden consultar el siguiente [artículo](https://docs.scipy.org/doc/scipy/reference/generated/scipy.stats.shapiro.html) y el [artículo](https://en.wikipedia.org/wiki/Shapiro%E2%80%93Wilk_test) siguiente para la prueba estadística. "
   ]
  },
  {
   "cell_type": "code",
   "execution_count": 1,
   "metadata": {},
   "outputs": [
    {
     "name": "stdout",
     "output_type": "stream",
     "text": [
      "stat=0.895, p=0.193\n",
      "Probably Gaussian\n"
     ]
    },
    {
     "name": "stderr",
     "output_type": "stream",
     "text": [
      "C:\\Anaconda3\\lib\\site-packages\\seaborn\\distributions.py:2551: FutureWarning: `distplot` is a deprecated function and will be removed in a future version. Please adapt your code to use either `displot` (a figure-level function with similar flexibility) or `histplot` (an axes-level function for histograms).\n",
      "  warnings.warn(msg, FutureWarning)\n"
     ]
    },
    {
     "data": {
      "text/plain": [
       "<AxesSubplot:ylabel='Density'>"
      ]
     },
     "execution_count": 1,
     "metadata": {},
     "output_type": "execute_result"
    },
    {
     "data": {
      "image/png": "[encoded data removed]",
      "text/plain": [
       "<Figure size 432x288 with 1 Axes>"
      ]
     },
     "metadata": {
      "needs_background": "light"
     },
     "output_type": "display_data"
    }
   ],
   "source": [
    "# Ejemplo de la prueba de normalidad Shapiro-Wilk Normality Test\n",
    "from scipy.stats import shapiro\n",
    "import seaborn as sns\n",
    "data = [0.873, 2.817, 0.121, -0.945, -0.055, -1.436, 0.360, -1.478, -1.637, -1.869]\n",
    "stat, p = shapiro(data)\n",
    "print('stat=%.3f, p=%.3f' % (stat, p))\n",
    "\n",
    "#El valor crítico de shapiro para n = 10 es  cv = 0.842\n",
    "#El estadistico calculado es stat = 0.895\n",
    "#Aquí podemos ver que stat > cv  <- Aceptamos H1 (Rechazamos H0)\n",
    "\n",
    "#Recordemos este planteamiento. Nuestros datos no son Gaussianos (H0), Nuestos datos son Gaussianos (H1)\n",
    "\n",
    "#Del mismo estadístico tenemos que \"The W statistic needs to be greater than the critical value for the \n",
    "#null hypothesis that the samples are drawn from a Gaussian distribution not to be rejected\"\n",
    "\n",
    "\n",
    "if p > 0.05:\n",
    "    print('Probably Gaussian')\n",
    "else:\n",
    "    print('Probably not Gaussian')\n",
    "    \n",
    "sns.distplot(data)\n",
    "\n",
    "\n",
    "#Lo más recomendable es siempre basarnos en el valor del estadístico calculado (stat)\n",
    "#y tener un conocimiento de los valores críticos\n",
    "\n",
    "#Recordemos lo siguiente de la tabla de confusión\n",
    "\n",
    "#FF <- H0    FV <- Error Tipo 1\n",
    "#VF <- ET2   VV <- H1\n",
    "\n",
    "#Cuando ustedes tienen conocimiento de los estadísticos y los valores críticos\n",
    "\n",
    "#lo ideal es realizar esta comparación para las pruebas de hipótesis\n",
    "# Si STAT <= CV  <- Aceptamos H0 (Rechazamos H1)\n",
    "# Si STAT >  CV  <- Aceptamos H1 (Rechazamos H0)\n",
    "\n",
    "\n",
    "#Caso contrario, les había explicado que podríamos utilizar\n",
    "#la evaluación de el valor de p-value  contra el alpha\n",
    "\n",
    "#Pero al utilizar p-value, las comparaciones pueden ser algo ambigüas, por el simple hecho de\n",
    "#estar ajustandolo para entender la respuesta de las pruebas de hipótesis.\n",
    "\n",
    "#Alpha <- Nivel de Significancia o Nivel de Confianza"
   ]
  },
  {
   "cell_type": "code",
   "execution_count": 2,
   "metadata": {},
   "outputs": [
    {
     "name": "stdout",
     "output_type": "stream",
     "text": [
      "stat=0.981, p=0.596\n",
      "Sample looks Gaussian (fail to reject H0)\n"
     ]
    },
    {
     "name": "stderr",
     "output_type": "stream",
     "text": [
      "C:\\Anaconda3\\lib\\site-packages\\seaborn\\distributions.py:2551: FutureWarning: `distplot` is a deprecated function and will be removed in a future version. Please adapt your code to use either `displot` (a figure-level function with similar flexibility) or `histplot` (an axes-level function for histograms).\n",
      "  warnings.warn(msg, FutureWarning)\n"
     ]
    },
    {
     "data": {
      "text/plain": [
       "<AxesSubplot:ylabel='Density'>"
      ]
     },
     "execution_count": 2,
     "metadata": {},
     "output_type": "execute_result"
    },
    {
     "data": {
      "image/png": "[encoded data removed]",
      "text/plain": [
       "<Figure size 432x288 with 1 Axes>"
      ]
     },
     "metadata": {
      "needs_background": "light"
     },
     "output_type": "display_data"
    }
   ],
   "source": [
    "# Utilizando random para genera números aleatorios.\n",
    "import numpy as np # importando numpy\n",
    "\n",
    "np.random.seed(1984) # para poder replicar el random\n",
    "from scipy import stats\n",
    "\n",
    "muestras = np.random.normal(0, 1, 50)\n",
    "\n",
    "#muestras = np.random.beta(2, 4, 1000)\n",
    "muestras\n",
    "\n",
    "stat, p = shapiro(muestras)\n",
    "print('stat=%.3f, p=%.3f' % (stat, p))\n",
    "alpha = 0.5\n",
    "if p > alpha:\n",
    "    print('Sample looks Gaussian (fail to reject H0)')\n",
    "else:\n",
    "    print('Sample does not look Gaussian (reject H0)')\n",
    "    \n",
    "sns.distplot(muestras)\n",
    "\n",
    "\n",
    "#En resumen, el p-value tomara la referencia de desigualdad p > a\n",
    "# Si y solo si el estadístico así lo indica\n",
    "# La definición de la prueba de shapiro es que si el estadístico es mayor que el valor crítico\n",
    "# entonces la muestra es gaussiana, aquí estamos trabajando con la hipótesis nula (H0) de que \n",
    "# no \"sabemos\" que tipo de distribución tienen nuestros datos.\n",
    "\n",
    "# Al ser un caso \"especial\", H1 debe ser que los datos presentarán una distribución Normal"
   ]
  },
  {
   "cell_type": "markdown",
   "metadata": {},
   "source": [
    "A partir de aquí surgen diversas cuestiones extrañas...\n",
    "\n",
    "### ¿Qué son las pruebas estadísticas?\n",
    "* ### ¿Qué es el valor de la prueba (estadística)? \n",
    "\n",
    "    * $\\alpha$ (nivel de significancia) \n",
    "    * $(p - value)$ \n",
    "    * [valor crítico](https://scistatcalc.blogspot.com/2013/09/critical-value-of-w-statistic.html?m=0)\n",
    "    \n",
    "    \n",
    "![alt text](https://iamluminousmen-media.s3.amazonaws.com/media/demystifying-hypothesis-testing/demystifying-hypothesis-testing-3.jpg)\n"
   ]
  },
  {
   "cell_type": "markdown",
   "metadata": {},
   "source": [
    "<a id=\"b\"></a>\n",
    "<h1><center>2.7. Definición de error Tipo I  y  error Tipo II</center></h1>\n",
    "\n",
    "[Regreso a contenido](#contenido)\n",
    "\n",
    "---\n",
    "\n",
    "* Error tipo I: cuando rechazamos la hipótesis nula, aunque esa hipótesis era cierta. El error tipo I se denota por alfa. En las pruebas de hipótesis, la curva normal que muestra la región crítica se llama región alfa\n",
    "\n",
    "* Errores de tipo II: cuando aceptamos la hipótesis nula pero es falsa. Los errores de tipo II se denotan por beta. En las pruebas de hipótesis, la curva normal que muestra la región de aceptación se llama región beta.\n",
    "\n",
    "![alt text](https://dp8v87cz8a7qa.cloudfront.net/45396/5bd20d03240611540492547.png)\n",
    "\n",
    "---\n",
    "\n",
    "* Prueba de una cola: - Una prueba de una hipótesis estadística, donde la región de rechazo está en un solo lado de la distribución de muestreo.\n",
    "\n",
    "Ejemplo: - una universidad tiene ≥ 4000 estudiantes o ciencia de datos ≤ 80%\n",
    "\n",
    "* Prueba de dos colas: una prueba de dos colas es una prueba estadística en la que el área crítica de una distribución es de dos lados y prueba si una muestra es mayor o menor que un cierto rango de valores. Si la muestra que se prueba cae en cualquiera de las áreas críticas, se acepta la hipótesis alternativa en lugar de la hipótesis nula.\n",
    "\n",
    "Ejemplo: una universidad! = 4000 estudiantes o ciencias de datos! = 80%\n",
    "\n",
    "---\n",
    "\n",
    "### ¿Cuál es el proceso?\n",
    "\n",
    "Normalmente empezamos con un punto de vista simple y empezamos con al hipótesis nula y calculamos (computamos) algunos estadísticos con respecto a nuestras muestras, que se puediera sintetizar de la siguiente manera:\n",
    "\n",
    "### $$\\displaystyle\\frac{Mejor Estimación − Estimación Hipotética}{Error Estandar Estimación}$$\n",
    "\n",
    "Donde, la **mejor estimación** proviene de la muestra.. p.ej., la media o algun valor de tendencia central de algún subconjunto de datos de la muestra.\n",
    "\n",
    "El **error estandar** representa la variabilidad en la estimación y depende de la varianza y del tamaño de la muestra.\n",
    "\n",
    "A lo que nos lleva a la siguiente pregunta...\n",
    "\n",
    "### \"¿Cuál es la posibilidad de observar el estadístico de prueba, este extremo, para esta muestra (considerando su tamaño y una dinámica probabilística adecuada que la gobierna), puramente aleatoriamente conocida si la hipótesis nula fuera cierta? \""
   ]
  },
  {
   "cell_type": "markdown",
   "metadata": {},
   "source": [
    "![img](https://miro.medium.com/max/424/1*frUEBVOzWvCKKfI212MM_Q.png)"
   ]
  },
  {
   "cell_type": "markdown",
   "metadata": {},
   "source": [
    "---\n",
    "\n",
    "<a id=\"c\"></a>\n",
    "<h1><center>2.8. Definición de p-value y alpha</center></h1>\n",
    "\n",
    "[Regreso a contenido](#contenido)\n",
    "\n",
    "---\n",
    "\n",
    "* Esta posibilidad de observar el estadístico de prueba, es el llamado **valor p (p - value)** y se calcula bajo el supuesto de una cierta distribución de probabilidad (a partir de la cual se genera el estadístico de prueba).\n",
    "\n",
    "* **Nivel de significancia ($\\alpha$)**: se refiere al grado de significancia en el que aceptamos o rechazamos la hipótesis nula. El 100% de precisión no es posible para aceptar o rechazar una hipótesis, por lo que seleccionamos un nivel de 0.05 o 5% (flexible con los datos...), lo que significa que su producción debe tener un 95% de confianza para dar un tipo de resultado similar en cada muestra.\n",
    "\n",
    "[liga](https://blog.minitab.com/en/adventures-in-statistics-2/how-to-correctly-interpret-p-values)\n",
    "\n",
    "---"
   ]
  },
  {
   "cell_type": "markdown",
   "metadata": {},
   "source": [
    "# Ejemplo\n",
    "\n",
    "Supongamos que estamos haciendo una comparativa del promedio del costo energético que hemos tenido de este año con respecto al anterior.\n",
    "\n",
    "Queremos determinar si nuestra media (330.6) indica que el costo promedio de energía de este año es significativamente diferente del costo promedio de energía del año pasado de 260.\n",
    "\n",
    "![img](https://blog.minitab.com/hubfs/Imported_Blog_Media/sampling_dist_null.png)"
   ]
  },
  {
   "cell_type": "markdown",
   "metadata": {},
   "source": [
    "La gráfica de distribución de probabilidad anterior muestra la distribución de las medias muestrales que obtendríamos bajo el supuesto de que la hipótesis nula es verdadera (media poblacional = 260) y extrajimos repetidamente una gran cantidad de muestras aleatorias.\n",
    "\n",
    "¿dónde trazamos la línea de significancia estadística en el gráfico? Ahora agregaremos el nivel de significancia (alfa) y el valor P, que son las herramientas de toma de decisiones que necesitaremos.\n",
    "\n",
    "Usaremos estas herramientas para probar las siguientes hipótesis:\n",
    "\n",
    "    Hipótesis nula: La media poblacional es igual a la media hipotética (260).\n",
    "    Hipótesis alternativa: La media poblacional difiere de la media hipotética (260)."
   ]
  },
  {
   "cell_type": "markdown",
   "metadata": {},
   "source": [
    "### ¿Qué es el nivel de significancia (alfa)?\n",
    "\n",
    "El nivel de significancia, también denominado alfa o α, es la probabilidad de rechazar la hipótesis nula cuando es verdadera. Por ejemplo, un nivel de 0,05 indica un riesgo del 5 % de concluir que existe una diferencia cuando no hay una diferencia real.\n",
    "\n",
    "Este tipo de definiciones pueden ser difíciles de entender debido a su naturaleza técnica. ¡Una imagen hace que los conceptos sean mucho más fáciles de comprender!\n",
    "\n",
    "El nivel de significancia determina qué tan lejos del valor de la hipótesis nula dibujaremos esa línea en el gráfico. Para graficar un nivel de significancia de 0.05, necesitamos sombrear el 5% de la distribución que está más alejado de la hipótesis nula.\n",
    "\n",
    "![img](https://blog.minitab.com/hubfs/Imported_Blog_Media/sig_level_05.png)"
   ]
  },
  {
   "cell_type": "markdown",
   "metadata": {},
   "source": [
    "En el gráfico anterior, las dos áreas sombreadas son equidistantes del valor de la hipótesis nula y cada área tiene una probabilidad de 0.025, para un total de 0.05. En estadística, llamamos a estas áreas sombreadas la región crítica para una prueba de dos colas. \n",
    "\n",
    "Si la media de la población es 260, esperaríamos obtener una media muestral que caiga en la región crítica el 5% de las veces. La región crítica define qué tan lejos debe estar nuestro estadístico muestral del valor de la hipótesis nula antes de que podamos decir que es lo suficientemente inusual como para rechazar la hipótesis nula."
   ]
  },
  {
   "cell_type": "markdown",
   "metadata": {},
   "source": [
    "Nuestra media muestral (330.6) cae dentro de la región crítica, lo que indica que es estadísticamente significativa en el nivel 0.05.\n",
    "\n",
    "También podemos ver si es estadísticamente significativo utilizando el otro nivel de significación común de 0.01.\n",
    "\n",
    "![img](https://blog.minitab.com/hubfs/Imported_Blog_Media/sig_level_01.png)"
   ]
  },
  {
   "cell_type": "markdown",
   "metadata": {},
   "source": [
    "Las dos áreas sombreadas tienen cada una una probabilidad de 0.005, lo que suma una probabilidad total de 0.01. Esta vez nuestra media muestral no cae dentro de la región crítica y no podemos rechazar la hipótesis nula. Esta comparación muestra por qué necesita elegir su nivel de significancia antes de comenzar su estudio. ¡Lo protege de elegir un nivel de significancia porque convenientemente le brinda resultados significativos!\n",
    "\n",
    "Gracias al gráfico, pudimos determinar que nuestros resultados son estadísticamente significativos al nivel 0.05 sin usar un valor P.\n",
    "\n"
   ]
  },
  {
   "cell_type": "markdown",
   "metadata": {},
   "source": [
    "###  ¿Qué son los valores P?\n",
    "\n",
    "Los valores P son la probabilidad de obtener un efecto al menos tan extremo como el de los datos de su muestra, asumiendo la verdad de la hipótesis nula.\n",
    "\n",
    "Esta definición de valores P, aunque técnicamente correcta, es un poco complicada. ¡Es más fácil de entender con un gráfico!\n",
    "\n",
    "Para graficar el valor P para nuestro conjunto de datos de ejemplo, necesitamos determinar la distancia entre la media de la muestra y el valor de la hipótesis nula (330.6 - 260 = 70.6). A continuación, podemos graficar la probabilidad de obtener una media muestral que sea al menos igual de extrema en ambas colas de la distribución (260 +/- 70.6).\n",
    "\n"
   ]
  },
  {
   "cell_type": "markdown",
   "metadata": {},
   "source": [
    "En el gráfico anterior, las dos áreas sombreadas tienen cada una una probabilidad de 0.01556, para una probabilidad total de 0.03112. Esto representa la probabilidad de obtener una media muestral que sea al menos tan extrema como nuestra media muestral en ambas colas de la distribución si la media poblacional es 260. ¡Ese es nuestro valor P!\n",
    "\n",
    "Cuando un valor P es menor o igual que el nivel de significancia, se rechaza la hipótesis nula. Si tomamos el valor P para nuestro ejemplo y lo comparamos con los niveles comunes, coincide con los resultados gráficos anteriores. El valor P de 0.03112 es estadísticamente significativo a un nivel alfa de 0.05, pero no a un nivel de 0.01.\n",
    "\n",
    "Si nos ceñimos a un nivel de 0.05, podemos concluir que el coste energético medio de la población es superior a 260.\n",
    "\n",
    "Un error común es interpretar el valor P como la probabilidad de que la hipótesis nula sea verdadera."
   ]
  },
  {
   "cell_type": "markdown",
   "metadata": {},
   "source": [
    "Una prueba de hipótesis evalúa dos afirmaciones mutuamente excluyentes sobre una población para determinar qué afirmación está mejor respaldada por los datos de la muestra. El resultado de una prueba es estadísticamente significativo cuando la estadística de la muestra es lo suficientemente inusual en relación con la hipótesis nula como para que podamos rechazar la hipótesis nula para toda la población.\n",
    "\n"
   ]
  },
  {
   "cell_type": "markdown",
   "metadata": {},
   "source": [
    "<font color=\"red\">Tenga en cuenta que no existe un nivel de significancia mágico que distinga entre los estudios que tienen un efecto verdadero y los que no lo tienen con un 100 % de precisión. </font>\n",
    "    \n",
    "<font color=\"blue\">Los valores alfa comunes de 0.05 y 0.01 se basan simplemente en la tradición. Para un nivel de de 0.05, espere obtener medias muestrales en la región crítica el 5 % de las veces cuando la hipótesis nula sea verdadera. En estos casos, no sabrá que la hipótesis nula es verdadera, pero la rechazará porque la media de la muestra se encuentra en la región crítica. ¡Es por eso que el nivel de significancia también se conoce como tasa de error!</font>\n",
    "\n"
   ]
  },
  {
   "cell_type": "markdown",
   "metadata": {},
   "source": [
    "---\n",
    "\n",
    "<a id=\"d\"></a>\n",
    "<h1><center>2.9. Pruebas de Hipótesis - Paramétricas</center></h1>\n",
    "\n",
    "[Regreso a contenido](#contenido)\n",
    "\n",
    "---\n",
    "\n",
    "### 2.9.1 Prueba T (t  de Student)\n",
    "\n",
    "Una prueba t es un tipo de estadística inferencial que se utiliza para determinar si existe una diferencia significativa entre las medias de dos grupos que pueden estar relacionadas en ciertas características. \n",
    "\n",
    "Se usa principalmente cuando los conjuntos de datos, como el conjunto de datos registrados como resultado de lanzar una moneda 100 veces, seguirían una distribución normal y pueden tener variaciones desconocidas. La prueba T se usa como una herramienta de prueba de hipótesis, que permite probar un supuesto aplicable a una población.\n",
    "\n",
    "---\n",
    "\n",
    "Nota: Para la comparación de la dispersión se utiliza la prueba Fisher's Test (Comparación de varianzas o desviaciones estandar)\n",
    "\n",
    "---\n",
    "\n",
    "* Prueba t de una muestra: La prueba t de una muestra determina si la media muestral es estadísticamente diferente de una media poblacional conocida o hipotética. La prueba t de una muestra es una **prueba paramétrica**."
   ]
  },
  {
   "cell_type": "code",
   "execution_count": 3,
   "metadata": {},
   "outputs": [
    {
     "name": "stdout",
     "output_type": "stream",
     "text": [
      "[28 47 25  8 38  8 10 46 21  2]\n",
      "23.3\n",
      "tset -1.2915166892352334\n",
      "p-values 0.22870554066214382\n",
      "we are accepting null hypothesis\n"
     ]
    }
   ],
   "source": [
    "from scipy.stats import ttest_1samp\n",
    "import numpy as np\n",
    "np.random.seed(1984) # para poder replicar el random\n",
    "\n",
    "ages = np.random.randint(50, size=10)\n",
    "print(ages)\n",
    "\n",
    "ages_mean = np.mean(ages)\n",
    "print(ages_mean)\n",
    "\n",
    "tset, pval = ttest_1samp(ages, 30)\n",
    "\n",
    "print(\"tset\",tset)\n",
    "print(\"p-values\",pval)\n",
    "\n",
    "if pval < 0.05:    # alpha value is 0.05 or 5%\n",
    "    print(\" we are rejecting null hypothesis\")\n",
    "else:\n",
    "      print(\"we are accepting null hypothesis\")"
   ]
  },
  {
   "cell_type": "markdown",
   "metadata": {},
   "source": [
    "### 2.9.2 Prueba T de dos muestras\n",
    "\n",
    "* La prueba t de muestras independientes o la prueba t de 2 muestras compara las medias de dos grupos independientes para determinar si existe evidencia estadística de que las medias poblacionales asociadas son significativamente diferentes."
   ]
  },
  {
   "cell_type": "code",
   "execution_count": 4,
   "metadata": {},
   "outputs": [
    {
     "name": "stdout",
     "output_type": "stream",
     "text": [
      "data1:\n",
      "[28 47 25  8 38  8 10 46 21  2  9 10 48  1 14 46  5 39 22 12 11 49 11 44\n",
      " 16 45 18  8  2 49 44  6 34 43 37 20 11 48  8 12 10 14 12 49 29 40 23 21\n",
      " 38 34 33 45 31 24 26 33 29 11  7  0  4 21 34 38  5 41 20 41 39  8 18 10\n",
      " 49 15 30 19 36  4 42  6 30  3 11 37 21 44 16 45 47  7 31 18 46 11  0 27\n",
      " 35 48 11  2]\n",
      "data2:\n",
      "[29.85827082 26.68875005 18.06363041 30.54820076 15.51618248 20.72819022\n",
      " 10.03979777 23.49969117 25.1312202  22.23926547 14.27527524  7.91320635\n",
      " 21.62873382 19.03532278  8.60342473 29.38836059 22.2390246  10.65596383\n",
      " -2.21006894 20.60292576 29.49817745  7.57995136 30.98950518 21.32771483\n",
      " 17.87547242 26.36414367 20.17022968 26.5121805  20.83576246 45.30010157\n",
      "  7.81019017 19.68343768  8.60403073 28.65809312 31.52034182 39.82612803\n",
      "  1.89316864 18.42581187  6.93578035 36.25812585 26.48747051 28.52914311\n",
      " 25.97921491  0.90228972 44.53792729 12.86538651 15.59821549 34.02357315\n",
      " 24.05333985 30.41739113 25.51117304 16.54831691 28.22463912 16.0900116\n",
      " 15.96420637 42.03247831 10.30949065 11.41922112 22.10400866 21.39300643\n",
      " 26.7737321  15.49111044 29.72984312 21.00916788 21.11458589 23.44399945\n",
      " 40.25663037 23.83106254 18.75262062 24.20182686 21.45851576  7.36391454\n",
      " 18.89201378 25.94536909 17.64592857  5.91553    14.42970586 10.50469147\n",
      " 38.96334334 14.87961622 26.48006189  9.90713445 14.14807158 20.5242243\n",
      " 18.29360303 -8.40430614 27.3755712  26.0869784  29.57585569 21.56926659\n",
      "  7.43131206 30.24281263 25.31244776 22.73193041 29.70625756 20.18207393\n",
      " 10.02329478 24.48613813  7.58090374 29.90500737]\n",
      "data1 mean value: 24.34\n",
      "data2 mean value: 20.872660666694514\n",
      "data1 std value: 15.479806200337265\n",
      "data2 std value: 9.923590766753392\n",
      "p-value 0.06209268868916875\n",
      "we accept null hypothesis\n"
     ]
    },
    {
     "name": "stderr",
     "output_type": "stream",
     "text": [
      "C:\\Anaconda3\\lib\\site-packages\\seaborn\\distributions.py:2551: FutureWarning: `distplot` is a deprecated function and will be removed in a future version. Please adapt your code to use either `displot` (a figure-level function with similar flexibility) or `histplot` (an axes-level function for histograms).\n",
      "  warnings.warn(msg, FutureWarning)\n",
      "C:\\Anaconda3\\lib\\site-packages\\seaborn\\distributions.py:2551: FutureWarning: `distplot` is a deprecated function and will be removed in a future version. Please adapt your code to use either `displot` (a figure-level function with similar flexibility) or `histplot` (an axes-level function for histograms).\n",
      "  warnings.warn(msg, FutureWarning)\n"
     ]
    },
    {
     "data": {
      "text/plain": [
       "<AxesSubplot:ylabel='Density'>"
      ]
     },
     "execution_count": 4,
     "metadata": {},
     "output_type": "execute_result"
    },
    {
     "data": {
      "image/png": "[encoded data removed]",
      "text/plain": [
       "<Figure size 432x288 with 1 Axes>"
      ]
     },
     "metadata": {
      "needs_background": "light"
     },
     "output_type": "display_data"
    }
   ],
   "source": [
    "from scipy.stats import ttest_ind\n",
    "import numpy as np\n",
    "\n",
    "np.random.seed(1984) # para poder replicar el random\n",
    "data1 = np.random.randint(50, size=100)\n",
    "data2 = np.random.normal(20, 10, 100)\n",
    "\n",
    "print(\"data1:\")\n",
    "print(data1)\n",
    "print(\"data2:\")\n",
    "print(data2)\n",
    "\n",
    "\n",
    "print(\"data1 mean value:\",np.mean(data1))\n",
    "print(\"data2 mean value:\",np.mean(data2))\n",
    "\n",
    "print(\"data1 std value:\",np.std(data1))\n",
    "print(\"data2 std value:\",np.std(data2))\n",
    "\n",
    "ttest,pval = ttest_ind(data1,data2)\n",
    "\n",
    "print(\"p-value\",pval)\n",
    "if pval <0.05:\n",
    "    print(\"we reject null hypothesis\")\n",
    "else:\n",
    "    print(\"we accept null hypothesis\")\n",
    "    \n",
    "sns.distplot(data1)\n",
    "sns.distplot(data2)"
   ]
  },
  {
   "cell_type": "markdown",
   "metadata": {},
   "source": [
    "### 2.9.3 ANOVA (F-TEST)\n",
    "\n",
    "La prueba t funciona bien cuando queremos lidiar con 2 grupos, pero en ocasiones necesitamos comparar más de 2 grupos al mismo tiempo.\n",
    "\n",
    "Por ejemplo, si uno desea probar si la edad de los votantes está basado en una variable categórica como la raza, necesitamos comparar las medias de cada uno de los niveles o grupo de la variable.\n",
    "\n",
    "Podríamos aplicar por separado la prueba t para cada grupo de muestras, pero podemos incrementar la probabilidad de tener falsos positivos (Error tipo 1). En análisis de varianza (ANOVA) es una prueba de inferencia estadística que puede ayudar a comparar múltiples grupos al mismo tiempo. \n",
    "\n",
    "![alt text](https://3.bp.blogspot.com/-PDWTzbbwx54/XEbYzExO9rI/AAAAAAAAAAM/AOvAPbXYVUcxmVKnWWrtQaiZ0qhIHo9vwCLcBGAs/s1600/ANOVA.png)"
   ]
  },
  {
   "cell_type": "code",
   "execution_count": 5,
   "metadata": {},
   "outputs": [
    {
     "name": "stdout",
     "output_type": "stream",
     "text": [
      "idx,weight,group\n",
      ",,\n",
      "1,4.17,ctrl\n",
      ",,\n",
      "2,5.58,ctrl\n",
      ",,\n",
      "3,5.18,ctrl\n",
      ",,\n",
      "4,6.11,ctrl\n",
      ",,\n",
      "5,4.5,ctrl\n",
      ",,\n",
      "6,4.61,ctrl\n",
      ",,\n",
      "7,5.17,ctrl\n",
      ",,\n",
      "8,4.53,ctrl\n",
      ",,\n",
      "9,5.33,ctrl\n",
      ",,\n",
      "10,5.14,ctrl\n",
      ",,\n",
      "11,4.81,trt1\n",
      ",,\n",
      "12,4.17,trt1\n",
      ",,\n",
      "13,4.41,trt1\n",
      ",,\n",
      "14,3.59,trt1\n",
      ",,\n",
      "15,5.87,trt1\n",
      ",,\n",
      "16,3.83,trt1\n",
      ",,\n",
      "17,6.03,trt1\n",
      ",,\n",
      "18,4.89,trt1\n",
      ",,\n",
      "19,4.32,trt1\n",
      ",,\n",
      "20,4.69,trt1\n",
      ",,\n",
      "21,6.31,trt2\n",
      ",,\n",
      "22,5.12,trt2\n",
      ",,\n",
      "23,5.54,trt2\n",
      ",,\n",
      "24,5.5,trt2\n",
      ",,\n",
      "25,5.37,trt2\n",
      ",,\n",
      "26,5.29,trt2\n",
      ",,\n",
      "27,4.92,trt2\n",
      ",,\n",
      "28,6.15,trt2\n",
      ",,\n",
      "29,5.8,trt2\n",
      ",,\n",
      "30,5.26,trt2\n"
     ]
    },
    {
     "name": "stderr",
     "output_type": "stream",
     "text": [
      "  % Total    % Received % Xferd  Average Speed   Time    Time     Time  Current\n",
      "                                 Dload  Upload   Total   Spent    Left  Speed\n",
      "\n",
      "  0     0    0     0    0     0      0      0 --:--:-- --:--:-- --:--:--     0\n",
      "  0     0    0     0    0     0      0      0 --:--:-- --:--:-- --:--:--     0\n",
      "  0     0    0     0    0     0      0      0 --:--:--  0:00:01 --:--:--     0curl: (6) Could not resolve host: application\n",
      "  % Total    % Received % Xferd  Average Speed   Time    Time     Time  Current\n",
      "                                 Dload  Upload   Total   Spent    Left  Speed\n",
      "\n",
      "  0     0    0     0    0     0      0      0 --:--:-- --:--:-- --:--:--     0\n",
      "  0     0    0     0    0     0      0      0 --:--:-- --:--:-- --:--:--     0\n",
      "100   485  100   485    0     0   1250      0 --:--:-- --:--:-- --:--:--  1246\n"
     ]
    }
   ],
   "source": [
    "# Fetch the dataset using the raw GitHub URL.\n",
    "!curl --remote-name \\\n",
    "     -H 'Accept: application/vnd.github.v3.raw' \\\n",
    "     --location https://raw.githubusercontent.com/DCDPUAEM/DCDP_2022/main/Tema_2_AnalisisEstadistico/data/growth.csv"
   ]
  },
  {
   "cell_type": "code",
   "execution_count": 6,
   "metadata": {},
   "outputs": [
    {
     "name": "stderr",
     "output_type": "stream",
     "text": [
      "head: cannot open 'growth.csv' for reading: No such file or directory\n"
     ]
    }
   ],
   "source": [
    "!head -n 5 growth.csv"
   ]
  },
  {
   "cell_type": "code",
   "execution_count": 7,
   "metadata": {},
   "outputs": [
    {
     "data": {
      "text/html": [
       "<div>\n",
       "<style scoped>\n",
       "    .dataframe tbody tr th:only-of-type {\n",
       "        vertical-align: middle;\n",
       "    }\n",
       "\n",
       "    .dataframe tbody tr th {\n",
       "        vertical-align: top;\n",
       "    }\n",
       "\n",
       "    .dataframe thead th {\n",
       "        text-align: right;\n",
       "    }\n",
       "</style>\n",
       "<table border=\"1\" class=\"dataframe\">\n",
       "  <thead>\n",
       "    <tr style=\"text-align: right;\">\n",
       "      <th></th>\n",
       "      <th>idx</th>\n",
       "      <th>weight</th>\n",
       "      <th>group</th>\n",
       "    </tr>\n",
       "  </thead>\n",
       "  <tbody>\n",
       "    <tr>\n",
       "      <th>0</th>\n",
       "      <td>NaN</td>\n",
       "      <td>NaN</td>\n",
       "      <td>NaN</td>\n",
       "    </tr>\n",
       "    <tr>\n",
       "      <th>1</th>\n",
       "      <td>1.0</td>\n",
       "      <td>4.17</td>\n",
       "      <td>ctrl</td>\n",
       "    </tr>\n",
       "    <tr>\n",
       "      <th>2</th>\n",
       "      <td>NaN</td>\n",
       "      <td>NaN</td>\n",
       "      <td>NaN</td>\n",
       "    </tr>\n",
       "    <tr>\n",
       "      <th>3</th>\n",
       "      <td>2.0</td>\n",
       "      <td>5.58</td>\n",
       "      <td>ctrl</td>\n",
       "    </tr>\n",
       "    <tr>\n",
       "      <th>4</th>\n",
       "      <td>NaN</td>\n",
       "      <td>NaN</td>\n",
       "      <td>NaN</td>\n",
       "    </tr>\n",
       "  </tbody>\n",
       "</table>\n",
       "</div>"
      ],
      "text/plain": [
       "   idx  weight group\n",
       "0  NaN     NaN   NaN\n",
       "1  1.0    4.17  ctrl\n",
       "2  NaN     NaN   NaN\n",
       "3  2.0    5.58  ctrl\n",
       "4  NaN     NaN   NaN"
      ]
     },
     "execution_count": 7,
     "metadata": {},
     "output_type": "execute_result"
    }
   ],
   "source": [
    "import pandas as pd\n",
    "# leer el dataframe usando read_csv\n",
    "df = pd.read_csv(\"https://raw.githubusercontent.com/DCDPUAEM/DCDP_2022/main/Tema_2_AnalisisEstadistico/data/growth.csv\", sep=',', header=0)\n",
    "#df = pd.read_csv(\"growth.csv\", sep=',', header=0)\n",
    "# mostrar los primeros elementos con head\n",
    "df.head()"
   ]
  },
  {
   "cell_type": "code",
   "execution_count": 8,
   "metadata": {},
   "outputs": [
    {
     "data": {
      "text/plain": [
       "(60, 3)"
      ]
     },
     "execution_count": 8,
     "metadata": {},
     "output_type": "execute_result"
    }
   ],
   "source": [
    "df.shape"
   ]
  },
  {
   "cell_type": "code",
   "execution_count": 9,
   "metadata": {},
   "outputs": [],
   "source": [
    "df = df.dropna()"
   ]
  },
  {
   "cell_type": "code",
   "execution_count": 10,
   "metadata": {},
   "outputs": [
    {
     "data": {
      "text/plain": [
       "(30, 3)"
      ]
     },
     "execution_count": 10,
     "metadata": {},
     "output_type": "execute_result"
    }
   ],
   "source": [
    "df.shape"
   ]
  },
  {
   "cell_type": "code",
   "execution_count": 11,
   "metadata": {},
   "outputs": [],
   "source": [
    "df = df[['weight','group']]\n",
    "grps = pd.unique(df.group.values)"
   ]
  },
  {
   "cell_type": "code",
   "execution_count": 12,
   "metadata": {},
   "outputs": [
    {
     "data": {
      "text/plain": [
       "array(['ctrl', 'trt1', 'trt2'], dtype=object)"
      ]
     },
     "execution_count": 12,
     "metadata": {},
     "output_type": "execute_result"
    }
   ],
   "source": [
    "grps"
   ]
  },
  {
   "cell_type": "code",
   "execution_count": 13,
   "metadata": {},
   "outputs": [],
   "source": [
    "d_data = {grp:df['weight'][df.group == grp] for grp in grps}"
   ]
  },
  {
   "cell_type": "markdown",
   "metadata": {},
   "source": [
    "Para este ejemplo, usaremos la funcion \"*stats.f_oneway*\" (más detalle por [aquí](https://docs.scipy.org/doc/scipy/reference/generated/scipy.stats.f_oneway.html))"
   ]
  },
  {
   "cell_type": "code",
   "execution_count": 14,
   "metadata": {},
   "outputs": [
    {
     "name": "stdout",
     "output_type": "stream",
     "text": [
      "p-value for significance is:  0.0159099583256229\n",
      "F is:  4.846087862380136\n",
      "reject null hypothesis\n"
     ]
    }
   ],
   "source": [
    "F, p = stats.f_oneway(d_data['ctrl'], d_data['trt1'], d_data['trt2'])\n",
    "\n",
    "print(\"p-value for significance is: \", p)\n",
    "\n",
    "print(\"F is: \", F)\n",
    "\n",
    "if p<0.05:\n",
    "    print(\"reject null hypothesis\")\n",
    "else:\n",
    "    print(\"accept null hypothesis\")"
   ]
  },
  {
   "cell_type": "markdown",
   "metadata": {},
   "source": [
    "## Links de interes - \"Outliers in univariate samples\"\n",
    "* [Critical_Values_Dixon](https://www.researchgate.net/publication/28113620_Critical_values_for_six_Dixon_tests_for_outliers_in_normal_samples_up_to_sizes_100_and_applications_in_science_and_engineering)\n",
    "* [Dixon Test N7 (Q)](http://www.statistics4u.com/fundstat_eng/cc_outlier_tests_dixon.html)"
   ]
  },
  {
   "cell_type": "code",
   "execution_count": 15,
   "metadata": {},
   "outputs": [],
   "source": [
    "def q_test_for_smallest_point(dataset):\n",
    "    return (dataset[1] - dataset[0])/(dataset[len(dataset)-1] - dataset[0])"
   ]
  },
  {
   "cell_type": "code",
   "execution_count": 16,
   "metadata": {},
   "outputs": [
    {
     "name": "stdout",
     "output_type": "stream",
     "text": [
      "[-0.02690223 -0.68927369  0.89613844 -0.66434233  1.02138658 -0.90580302\n",
      "  0.72523232 -0.93300067 -0.00660725 -0.66079376  1.20776804  0.78868538\n",
      " -1.03818471  0.85461564  1.7110001   0.35735818 -0.6432206   0.68707437\n",
      " -1.277989    0.31229073  0.37854882 -0.58379822  0.80648767 -1.29604021\n",
      " -1.40746696 -1.21421086 -0.49721621 -0.23018694 -0.74205805 -0.54148083\n",
      " -0.75998893  0.60237472 -0.3331474  -1.75828164  0.82679949 -0.22006568\n",
      " -0.07759048  0.57376687 -0.15176338  0.34855833  0.38379573  0.87724854\n",
      " -0.21545477 -0.13143426  0.25621179  0.04311228 -0.59193488  0.43521942\n",
      " -1.04502027  0.42014466]\n",
      "0.10112026277755816\n"
     ]
    },
    {
     "name": "stderr",
     "output_type": "stream",
     "text": [
      "C:\\Anaconda3\\lib\\site-packages\\seaborn\\distributions.py:2551: FutureWarning: `distplot` is a deprecated function and will be removed in a future version. Please adapt your code to use either `displot` (a figure-level function with similar flexibility) or `histplot` (an axes-level function for histograms).\n",
      "  warnings.warn(msg, FutureWarning)\n"
     ]
    },
    {
     "data": {
      "image/png": "[encoded data removed]",
      "text/plain": [
       "<Figure size 432x288 with 1 Axes>"
      ]
     },
     "metadata": {
      "needs_background": "light"
     },
     "output_type": "display_data"
    }
   ],
   "source": [
    "import pandas as pd\n",
    "import numpy as np\n",
    "%matplotlib inline  \n",
    "import seaborn as sns\n",
    "from scipy.stats import norm\n",
    "\n",
    "np.random.seed(1984) # para poder replicar el random\n",
    "data_norm = norm.rvs(size =  50)\n",
    "\n",
    "\n",
    "\n",
    "print(data_norm)\n",
    "alpha = 0.05\n",
    "\n",
    "cv = 0.2216\n",
    "#cv = 0.2960 99% o alpha = 0.01\n",
    "\n",
    "valor_critico = q_test_for_smallest_point(np.sort(data_norm))\n",
    "print(valor_critico)\n",
    "\n",
    "\n",
    "ax = sns.distplot(data_norm, color = 'blue')"
   ]
  },
  {
   "cell_type": "code",
   "execution_count": 17,
   "metadata": {},
   "outputs": [
    {
     "name": "stderr",
     "output_type": "stream",
     "text": [
      "C:\\Anaconda3\\lib\\site-packages\\seaborn\\distributions.py:2551: FutureWarning: `distplot` is a deprecated function and will be removed in a future version. Please adapt your code to use either `displot` (a figure-level function with similar flexibility) or `histplot` (an axes-level function for histograms).\n",
      "  warnings.warn(msg, FutureWarning)\n"
     ]
    },
    {
     "data": {
      "text/plain": [
       "<matplotlib.legend.Legend at 0x150aae14808>"
      ]
     },
     "execution_count": 17,
     "metadata": {},
     "output_type": "execute_result"
    },
    {
     "data": {
      "image/png": "[encoded data removed]",
      "text/plain": [
       "<Figure size 432x288 with 1 Axes>"
      ]
     },
     "metadata": {
      "needs_background": "light"
     },
     "output_type": "display_data"
    }
   ],
   "source": [
    "ax = sns.distplot(data_norm, color = 'blue')\n",
    "ax.set_title('Distribucion normal')\n",
    "ax.axvline(x = cv, linestyle = '--', label = 'valor critico')\n",
    "ax.axvline(x = valor_critico, linestyle = '--', label = 'valor estadistico', color = 'k')\n",
    "ax.legend()"
   ]
  },
  {
   "cell_type": "markdown",
   "metadata": {},
   "source": [
    "---\n",
    "\n",
    "### 2.9.4 Prueba chi-cuadrada\n",
    "\n",
    "La chi-cuadrada es una prueba de hipótesis que compara la distribución observada con una distribución esperada de los datos.\n",
    "Existen varios tipos de pruebas de chi-cuadrada:\n",
    "\n",
    "* Prueba de bondad de ajuste de chi-cuadrada\n",
    "\n",
    "      * Utilice este análisis para probar qué tan bien una muestra de datos categóricos se ajusta a una distribución teórica.\n",
    "      * Por ejemplo, usted puede comprobar si un dado es justo, lanzando el dado muchas veces y utilizando una prueba de bondad de ajuste de chi-cuadrada para determinar si los resultados siguen una distribución uniforme. En este caso, el estadístico de chi-cuadrada cuantifica qué tanto varía la distribución observada de los conteos con respecto a la distribución hipotética.\n",
    "    \n",
    "    \n",
    "* Pruebas de chi-cuadrada de asociación e independencia\n",
    "\n",
    "    Los cálculos para estas pruebas son iguales, pero la pregunta que se está tratando de contestar puede ser diferente. \n",
    "\n",
    "       * Prueba de asociación: Utilice una prueba de asociación para determinar si una variable está asociada a otra variable. Por ejemplo, determine si las ventas de diferentes colores de automóviles dependen de la ciudad donde se venden.\n",
    "       * Prueba de independencia: Utilice una prueba de independencia para determinar si el valor observado de una variable depende del valor observado de otra variable. Por ejemplo, determine si el hecho de que una persona vote por un candidato no depende del sexo del elector.\n",
    "\n",
    "\n",
    "----\n",
    "\n",
    "Por ejemplo, en una encuesta electoral, los votantes pueden clasificarse por género (masculino o femenino) y preferencia de voto (demócrata, republicano o independiente).\n",
    "\n",
    "Sin embargo, los dados son un ejemplo de una variable donde se conoce la \"distribución esperada\". Este no es siempre el caso. A veces, nuestra \"distribución esperada\" se estima a través de los datos.\n",
    "\n",
    "Supongamos por un segundo que no conocemos la frecuencia esperada de tiradas de dado. \n",
    "\n",
    "\n",
    "Tendríamos que estimar la frecuencia esperada a través de muestras de datos. Realicemos algunas muestras para tratar de determinar la frecuencia de cada tirada. \n",
    "\n",
    "Decidí hacer 4 muestras de dados de forma manual (es decir, con dados reales), las primeras 3 muestras fueron de 35 tiradas cada una, y la última muestra de 45 tiradas. Estas son muestras más pequeñas de lo que preferimos, pero quería darnos algunos datos reales para trabajar.\n",
    "\n",
    "![alt text](https://miro.medium.com/max/564/1*OB7m3-RUrD5rWP74kDUHcw.jpeg)"
   ]
  },
  {
   "cell_type": "code",
   "execution_count": 18,
   "metadata": {},
   "outputs": [
    {
     "name": "stdout",
     "output_type": "stream",
     "text": [
      "[[ 6  4  5 10]\n",
      " [ 8  5  3  3]\n",
      " [ 5  4  8  4]\n",
      " [ 4 11  7 13]\n",
      " [ 5  8  7  6]\n",
      " [ 7  3  5  9]]\n"
     ]
    }
   ],
   "source": [
    "import numpy as np\n",
    "\n",
    "a1 = [6, 4, 5, 10]\n",
    "a2 = [8, 5, 3, 3]\n",
    "a3 = [5, 4, 8, 4]\n",
    "a4 = [4, 11, 7, 13]\n",
    "a5 = [5, 8, 7, 6]\n",
    "a6 = [7, 3, 5, 9]\n",
    "\n",
    "dice = np.array([a1, a2, a3, a4, a5, a6])\n",
    "\n",
    "print(dice)"
   ]
  },
  {
   "cell_type": "code",
   "execution_count": 19,
   "metadata": {},
   "outputs": [
    {
     "data": {
      "image/png": "[encoded data removed]",
      "text/plain": [
       "<Figure size 432x288 with 1 Axes>"
      ]
     },
     "metadata": {
      "needs_background": "light"
     },
     "output_type": "display_data"
    }
   ],
   "source": [
    "import matplotlib.pyplot as plt\n",
    "cuenta, cajas, ignorar = plt.hist(dice, 6)\n",
    "plt.ylabel('frequencia')\n",
    "plt.xlabel('valores')\n",
    "plt.title('Histograma Geométrica')\n",
    "plt.show()"
   ]
  },
  {
   "cell_type": "code",
   "execution_count": 20,
   "metadata": {},
   "outputs": [
    {
     "data": {
      "text/plain": [
       "(16.490612061288754,\n",
       " 0.35021521809742745,\n",
       " 15,\n",
       " array([[ 5.83333333,  5.83333333,  5.83333333,  7.5       ],\n",
       "        [ 4.43333333,  4.43333333,  4.43333333,  5.7       ],\n",
       "        [ 4.9       ,  4.9       ,  4.9       ,  6.3       ],\n",
       "        [ 8.16666667,  8.16666667,  8.16666667, 10.5       ],\n",
       "        [ 6.06666667,  6.06666667,  6.06666667,  7.8       ],\n",
       "        [ 5.6       ,  5.6       ,  5.6       ,  7.2       ]]))"
      ]
     },
     "execution_count": 20,
     "metadata": {},
     "output_type": "execute_result"
    }
   ],
   "source": [
    "from scipy import stats\n",
    "\n",
    "stats.chi2_contingency(dice)"
   ]
  },
  {
   "cell_type": "code",
   "execution_count": 21,
   "metadata": {},
   "outputs": [
    {
     "name": "stdout",
     "output_type": "stream",
     "text": [
      "===Chi2 Stat===\n",
      "16.490612061288754\n",
      "\n",
      "\n",
      "===Degrees of Freedom===\n",
      "15\n",
      "\n",
      "\n",
      "===P-Value===\n",
      "0.35021521809742745\n",
      "\n",
      "\n",
      "===Contingency Table===\n",
      "[[ 5.83333333  5.83333333  5.83333333  7.5       ]\n",
      " [ 4.43333333  4.43333333  4.43333333  5.7       ]\n",
      " [ 4.9         4.9         4.9         6.3       ]\n",
      " [ 8.16666667  8.16666667  8.16666667 10.5       ]\n",
      " [ 6.06666667  6.06666667  6.06666667  7.8       ]\n",
      " [ 5.6         5.6         5.6         7.2       ]]\n"
     ]
    }
   ],
   "source": [
    "chi2_stat, p_val, dof, ex = stats.chi2_contingency(dice)\n",
    "\n",
    "print(\"===Chi2 Stat===\")\n",
    "print(chi2_stat)\n",
    "print(\"\\n\")\n",
    "print(\"===Degrees of Freedom===\")\n",
    "print(dof)\n",
    "print(\"\\n\")\n",
    "print(\"===P-Value===\")\n",
    "print(p_val)\n",
    "print(\"\\n\")\n",
    "print(\"===Contingency Table===\")\n",
    "print(ex)"
   ]
  },
  {
   "cell_type": "markdown",
   "metadata": {},
   "source": [
    "Explicaré qué significa todo esto.... \n",
    "\n",
    "El primer valor (16,49) es la estadística de chi-cuadrado. \n",
    "\n",
    "El siguiente valor son los \"grados de libertad\". Esto se puede calcular tomando el número de filas menos uno y multiplicando este resultado por el número de columnas menos uno.\n",
    "\n",
    "----\n",
    "\n",
    "En este caso:\n",
    "\n",
    "Filas = 6 \n",
    "\n",
    "Columnas = 4\n",
    "\n",
    "Entonces tomamos (6–1) y lo multiplicamos por (4–1) para obtener 15 grados de libertad."
   ]
  },
  {
   "cell_type": "markdown",
   "metadata": {},
   "source": [
    "Con la estadística de chi-cuadrado y los grados de libertad, podemos encontrar el valor p. El valor p es lo que usamos para determinar la importancia (o la independencia en este caso). Dependiendo de la prueba, generalmente buscamos un umbral en 0.05 o 0.01. Nuestra prueba es significativa (es decir, rechazamos la hipótesis nula) si obtenemos un valor p por debajo de nuestro umbral.\n",
    "\n",
    "Para nuestros propósitos, usaremos 0.01 como umbral. En este ejemplo en particular, el valor p (el segundo número en nuestra salida: 0.3502) está lejos de 0.01 y, por lo tanto, no hemos alcanzado el umbral de significancia estadística."
   ]
  },
  {
   "cell_type": "markdown",
   "metadata": {},
   "source": [
    "Finalmente, la matriz al final de la salida es la tabla de contingencia con valores esperados basados en todas nuestras muestras. Tengamos en cuenta que en este caso, nuestra tabla de contingencia produjo valores que, en algunos casos, están un poco fuera de lo que sabemos que deberíamos esperar con las tiradas de dado. Esto se debe a que estamos usando una muestra demasiado pequeña para medir con precisión la población."
   ]
  },
  {
   "cell_type": "markdown",
   "metadata": {},
   "source": [
    "---\n",
    "\n",
    "Podemos ejecutar una muestra mucho más grande para ver cómo esta metodología puede funcionar mejor. Como no estoy dispuesto a lanzar un dado miles de veces, usaremos Python para hacer esto. Necesitamos np.random.randint y np.unique."
   ]
  },
  {
   "cell_type": "code",
   "execution_count": 22,
   "metadata": {},
   "outputs": [],
   "source": [
    "r1 = np.random.randint(1,7,1000)\n",
    "r2 = np.random.randint(1,7,1000)\n",
    "r3 = np.random.randint(1,7,1000)\n",
    "r4 = np.random.randint(1,7,1000)\n",
    "r5 = np.random.randint(1,7,1000)"
   ]
  },
  {
   "cell_type": "code",
   "execution_count": 23,
   "metadata": {},
   "outputs": [],
   "source": [
    "unique, counts1 = np.unique(r1, return_counts=True)\n",
    "unique, counts2 = np.unique(r2, return_counts=True)\n",
    "unique, counts3 = np.unique(r3, return_counts=True)\n",
    "unique, counts4 = np.unique(r4, return_counts=True)\n",
    "unique, counts5 = np.unique(r5, return_counts=True)"
   ]
  },
  {
   "cell_type": "code",
   "execution_count": 24,
   "metadata": {},
   "outputs": [],
   "source": [
    "dice = np.array([counts1, counts2, counts3, counts4, counts5])"
   ]
  },
  {
   "cell_type": "code",
   "execution_count": 25,
   "metadata": {},
   "outputs": [],
   "source": [
    "chi2_stat, p_val, dof, ex = stats.chi2_contingency(dice)"
   ]
  },
  {
   "cell_type": "code",
   "execution_count": 26,
   "metadata": {},
   "outputs": [
    {
     "name": "stdout",
     "output_type": "stream",
     "text": [
      "===Chi2 Stat===\n",
      "10.912087806819635\n",
      "\n",
      "\n",
      "===Degrees of Freedom===\n",
      "20\n",
      "\n",
      "\n",
      "===P-Value===\n",
      "0.948470545776089\n",
      "\n",
      "\n",
      "===Contingency Table===\n",
      "[[173.6 164.8 170.8 166.  161.  163.8]\n",
      " [173.6 164.8 170.8 166.  161.  163.8]\n",
      " [173.6 164.8 170.8 166.  161.  163.8]\n",
      " [173.6 164.8 170.8 166.  161.  163.8]\n",
      " [173.6 164.8 170.8 166.  161.  163.8]]\n"
     ]
    }
   ],
   "source": [
    "print(\"===Chi2 Stat===\")\n",
    "print(chi2_stat)\n",
    "print(\"\\n\")\n",
    "print(\"===Degrees of Freedom===\")\n",
    "print(dof)\n",
    "print(\"\\n\")\n",
    "print(\"===P-Value===\")\n",
    "print(p_val)\n",
    "print(\"\\n\")\n",
    "print(\"===Contingency Table===\")\n",
    "print(ex)"
   ]
  },
  {
   "cell_type": "code",
   "execution_count": 27,
   "metadata": {},
   "outputs": [
    {
     "data": {
      "image/png": "[encoded data removed]",
      "text/plain": [
       "<Figure size 432x288 with 1 Axes>"
      ]
     },
     "metadata": {
      "needs_background": "light"
     },
     "output_type": "display_data"
    }
   ],
   "source": [
    "import matplotlib.pyplot as plt\n",
    "cuenta, cajas, ignorar = plt.hist(dice, 6)\n",
    "plt.ylabel('frequencia')\n",
    "plt.xlabel('valores')\n",
    "plt.title('Histograma Geométrica')\n",
    "plt.show()"
   ]
  },
  {
   "cell_type": "markdown",
   "metadata": {},
   "source": [
    "Observe que nuestra tabla de contingencia ahora produce una distribución esperada más uniforme. Todavía está un poco fuera de lugar (deberíamos esperar que cada número aumente unas 166,7 veces en una muestra de 1000 tiradas), pero nos estamos acercando mucho a esa distribución."
   ]
  },
  {
   "cell_type": "code",
   "execution_count": 28,
   "metadata": {},
   "outputs": [
    {
     "name": "stdout",
     "output_type": "stream",
     "text": [
      "===Chi2 Stat===\n",
      "21.271906102100413\n",
      "\n",
      "\n",
      "===Degrees of Freedom===\n",
      "20\n",
      "\n",
      "\n",
      "===P-Value===\n",
      "0.3812866229855121\n",
      "\n",
      "\n",
      "===Contingency Table===\n",
      "[[1645.2 1664.2 1652.4 1667.8 1684.6 1685.8]\n",
      " [1645.2 1664.2 1652.4 1667.8 1684.6 1685.8]\n",
      " [1645.2 1664.2 1652.4 1667.8 1684.6 1685.8]\n",
      " [1645.2 1664.2 1652.4 1667.8 1684.6 1685.8]\n",
      " [1645.2 1664.2 1652.4 1667.8 1684.6 1685.8]]\n"
     ]
    }
   ],
   "source": [
    "r1 = np.random.randint(1,7,10000)\n",
    "r2 = np.random.randint(1,7,10000)\n",
    "r3 = np.random.randint(1,7,10000)\n",
    "r4 = np.random.randint(1,7,10000)\n",
    "r5 = np.random.randint(1,7,10000)\n",
    "\n",
    "unique, counts1 = np.unique(r1, return_counts=True)\n",
    "unique, counts2 = np.unique(r2, return_counts=True)\n",
    "unique, counts3 = np.unique(r3, return_counts=True)\n",
    "unique, counts4 = np.unique(r4, return_counts=True)\n",
    "unique, counts5 = np.unique(r5, return_counts=True)\n",
    "\n",
    "dice = np.array([counts1, counts2, counts3, counts4, counts5])\n",
    "\n",
    "chi2_stat, p_val, dof, ex = stats.chi2_contingency(dice)\n",
    "\n",
    "print(\"===Chi2 Stat===\")\n",
    "print(chi2_stat)\n",
    "print(\"\\n\")\n",
    "print(\"===Degrees of Freedom===\")\n",
    "print(dof)\n",
    "print(\"\\n\")\n",
    "print(\"===P-Value===\")\n",
    "print(p_val)\n",
    "print(\"\\n\")\n",
    "print(\"===Contingency Table===\")\n",
    "print(ex)"
   ]
  },
  {
   "cell_type": "markdown",
   "metadata": {},
   "source": [
    "Podemos ver que nuestra distribución se acerca aún más a la distribución de la población conocida (aproximadamente 16.667% de probabilidad para cada número o 1,666.7 de 10,000 lanzamientos en la muestra). Lo interesante de esto es que, dado que conocemos la distribución real esperada, podemos ver cómo las muestras nos permiten estimar la distribución de la población.\n",
    "\n"
   ]
  },
  {
   "cell_type": "code",
   "execution_count": 29,
   "metadata": {},
   "outputs": [
    {
     "data": {
      "image/png": "[encoded data removed]",
      "text/plain": [
       "<Figure size 432x288 with 1 Axes>"
      ]
     },
     "metadata": {
      "needs_background": "light"
     },
     "output_type": "display_data"
    }
   ],
   "source": [
    "import matplotlib.pyplot as plt\n",
    "cuenta, cajas, ignorar = plt.hist(dice, 6)\n",
    "plt.ylabel('frequencia')\n",
    "plt.xlabel('valores')\n",
    "plt.title('Histograma Geométrica')\n",
    "plt.show()"
   ]
  },
  {
   "cell_type": "markdown",
   "metadata": {},
   "source": [
    "---\n",
    "\n",
    "<a id=\"e\"></a>\n",
    "<h1><center>2.10. Pruebas de Hipótesis - No Paramétricas</center></h1>\n",
    "\n",
    "[Regreso a contenido](#contenido)\n",
    "\n",
    "---"
   ]
  },
  {
   "cell_type": "markdown",
   "metadata": {},
   "source": [
    "---\n",
    "## Pruebas de significancia estadística no paramétricas\n",
    "\n",
    "Si los datos no tienen la distribución gaussiana familiar, debemos recurrir a la versión no paramétrica de las pruebas de significancia. Estas pruebas funcionan de manera similar, pero son libres de distribución, lo que requiere que los datos valorados reales se transformen primero en datos de rango antes de que se pueda realizar la prueba.\n",
    "\n",
    "Se denominan pruebas no paramétricas aquellas que no presuponen una distribución de probabilidad para los datos, por ello se conocen también como de distribución libre (distribution free). En la mayor parte de ellas los resultados estadísticos se derivan únicamente a partir de procedimientos de ordenación y recuento, por lo que su base lógica es de fácil comprensión. \n",
    "\n",
    "Cuando trabajamos con muestras pequeñas (n < 10) en las que se desconoce si es válido suponer la normalidad de los datos, conviene utilizar pruebas no paramétricas, al menos para corroborar los resultados obtenidos a partir del uso de la teoría basada en la normal.\n",
    "\n",
    "---\n",
    "\n",
    "En esta sección tenemos la contraparte de las pruebas paramétricas, las cuales son (ver esta [liga](https://onlinelibrary.wiley.com/doi/pdf/10.1002/art.24669)):\n",
    "\n",
    "\n",
    "   * Mann-Whitney U test - Para comparar dos muestras independientes (t de Student)\n",
    "   * Kruskal-Wallis-Friedman tests - Para comparar más de dos muestras (ANOVA)\n",
    "\n",
    "Estas pruebas se usan a menudo en muestras de puntajes de habilidades de modelos para confirmar que la diferencia de habilidades entre los modelos de aprendizaje automático es significativa.\n",
    "\n",
    "### Dataset"
   ]
  },
  {
   "cell_type": "code",
   "execution_count": 30,
   "metadata": {},
   "outputs": [
    {
     "name": "stdout",
     "output_type": "stream",
     "text": [
      "data1: mean=50.303 stdv=4.426\n",
      "data2: mean=51.764 stdv=4.660\n"
     ]
    }
   ],
   "source": [
    "# Generamos muestras gaussianas\n",
    "from numpy.random import seed\n",
    "from numpy.random import randn\n",
    "from numpy import mean\n",
    "from numpy import std\n",
    "#  # para poder replicar el random\n",
    "seed(1)\n",
    "# generamos dos conjuntos de datos univariados\n",
    "data1 = 5 * randn(100) + 50\n",
    "data2 = 5 * randn(100) + 51\n",
    "# resumen\n",
    "print('data1: mean=%.3f stdv=%.3f' % (mean(data1), std(data1)))\n",
    "print('data2: mean=%.3f stdv=%.3f' % (mean(data2), std(data2)))"
   ]
  },
  {
   "cell_type": "markdown",
   "metadata": {},
   "source": [
    "## Mann-Whitney U Test"
   ]
  },
  {
   "cell_type": "code",
   "execution_count": 31,
   "metadata": {},
   "outputs": [
    {
     "name": "stdout",
     "output_type": "stream",
     "text": [
      "Statistics=4783.000, p=0.597\n",
      "Misma distribución (H0)\n"
     ]
    },
    {
     "name": "stderr",
     "output_type": "stream",
     "text": [
      "C:\\Anaconda3\\lib\\site-packages\\seaborn\\distributions.py:2551: FutureWarning: `distplot` is a deprecated function and will be removed in a future version. Please adapt your code to use either `displot` (a figure-level function with similar flexibility) or `histplot` (an axes-level function for histograms).\n",
      "  warnings.warn(msg, FutureWarning)\n",
      "C:\\Anaconda3\\lib\\site-packages\\seaborn\\distributions.py:2551: FutureWarning: `distplot` is a deprecated function and will be removed in a future version. Please adapt your code to use either `displot` (a figure-level function with similar flexibility) or `histplot` (an axes-level function for histograms).\n",
      "  warnings.warn(msg, FutureWarning)\n"
     ]
    },
    {
     "data": {
      "text/plain": [
       "<AxesSubplot:ylabel='Density'>"
      ]
     },
     "execution_count": 31,
     "metadata": {},
     "output_type": "execute_result"
    },
    {
     "data": {
      "image/png": "[encoded data removed]",
      "text/plain": [
       "<Figure size 432x288 with 1 Axes>"
      ]
     },
     "metadata": {
      "needs_background": "light"
     },
     "output_type": "display_data"
    }
   ],
   "source": [
    "# Mann-Whitney U test\n",
    "# Generamos muestras gaussianas\n",
    "from numpy.random import seed\n",
    "from numpy.random import randn\n",
    "from scipy.stats import mannwhitneyu\n",
    "#from scipy.stats import ttest_ind\n",
    "import seaborn as sns\n",
    "#  # para poder replicar el random\n",
    "seed(1962)\n",
    "# generamos dos conjuntos de datos univariados\n",
    "data1 = 5 * randn(100) + 50\n",
    "data2 = 5 * randn(100) + 51\n",
    "#  Comparamos muestras\n",
    "stat, p = mannwhitneyu(data1, data2)\n",
    "\n",
    "#ttest,pval = ttest_ind(data1,data2)\n",
    "\n",
    "print('Statistics=%.3f, p=%.3f' % (stat, p))\n",
    "\n",
    "#print('Statistics=%.3f, p=%.3f' % (ttest, pval))\n",
    "\n",
    "# interpretamos\n",
    "alpha = 0.05\n",
    "if p > alpha:\n",
    "\tprint('Misma distribución (H0)')\n",
    "else:\n",
    "\tprint('Distribución diferente (H1)')\n",
    "    \n",
    "sns.distplot(data1)\n",
    "sns.distplot(data2)"
   ]
  },
  {
   "cell_type": "markdown",
   "metadata": {},
   "source": [
    "## Kruskal-Wallis H Test"
   ]
  },
  {
   "cell_type": "code",
   "execution_count": 32,
   "metadata": {},
   "outputs": [
    {
     "name": "stdout",
     "output_type": "stream",
     "text": [
      "Statistics=27.369, p=0.000\n",
      "Distribución diferente (H1)\n"
     ]
    },
    {
     "name": "stderr",
     "output_type": "stream",
     "text": [
      "C:\\Anaconda3\\lib\\site-packages\\seaborn\\distributions.py:2551: FutureWarning: `distplot` is a deprecated function and will be removed in a future version. Please adapt your code to use either `displot` (a figure-level function with similar flexibility) or `histplot` (an axes-level function for histograms).\n",
      "  warnings.warn(msg, FutureWarning)\n",
      "C:\\Anaconda3\\lib\\site-packages\\seaborn\\distributions.py:2551: FutureWarning: `distplot` is a deprecated function and will be removed in a future version. Please adapt your code to use either `displot` (a figure-level function with similar flexibility) or `histplot` (an axes-level function for histograms).\n",
      "  warnings.warn(msg, FutureWarning)\n",
      "C:\\Anaconda3\\lib\\site-packages\\seaborn\\distributions.py:2551: FutureWarning: `distplot` is a deprecated function and will be removed in a future version. Please adapt your code to use either `displot` (a figure-level function with similar flexibility) or `histplot` (an axes-level function for histograms).\n",
      "  warnings.warn(msg, FutureWarning)\n"
     ]
    },
    {
     "data": {
      "text/plain": [
       "<AxesSubplot:ylabel='Density'>"
      ]
     },
     "execution_count": 32,
     "metadata": {},
     "output_type": "execute_result"
    },
    {
     "data": {
      "image/png": "[encoded data removed]",
      "text/plain": [
       "<Figure size 432x288 with 1 Axes>"
      ]
     },
     "metadata": {
      "needs_background": "light"
     },
     "output_type": "display_data"
    }
   ],
   "source": [
    "# Kruskal-Wallis H-test\n",
    "from numpy.random import seed\n",
    "from numpy.random import randn\n",
    "from scipy.stats import kruskal\n",
    "import seaborn as sns\n",
    "#  # para poder replicar el random\n",
    "seed(1962)\n",
    "# generate three independent samples\n",
    "data1 = 5 * randn(100) + 50\n",
    "data2 = 5 * randn(100) + 50\n",
    "data3 = 5 * randn(100) + 52\n",
    "# comparacion\n",
    "stat, p = kruskal(data1, data2, data3)\n",
    "print('Statistics=%.3f, p=%.3f' % (stat, p))\n",
    "# interpretacion\n",
    "alpha = 0.05\n",
    "if p > alpha:\n",
    "\tprint('Misma Distribucion (H0)')\n",
    "else:\n",
    "\tprint('Distribución diferente (H1)')\n",
    "    \n",
    "sns.distplot(data1)\n",
    "sns.distplot(data2)\n",
    "sns.distplot(data3)"
   ]
  },
  {
   "cell_type": "markdown",
   "metadata": {},
   "source": [
    "-----------\n",
    "\n",
    "## Pruebas de multi-normalidad\n",
    "\n",
    "La prueba de normalidad multivariada de Henze-Zirkler determina si un grupo de variables sigue una distribución normal multivariante o no. Las hipótesis nula y alternativa para la prueba son las siguientes:\n",
    "\n",
    "---\n",
    "\n",
    "Recordemos un poco...\n",
    "\n",
    "* H0 (nulo): Las variables siguen una distribución normal multivariante.\n",
    "\n",
    "* H1 (alternativa): las variables no siguen una distribución normal multivariante.\n",
    "\n",
    "Para realizar esta prueba en Python podemos usar la función multivariate_normality () de la biblioteca pingouin.\n",
    "\n",
    "Primero, necesitamos instalar pingouin:\n",
    "\n"
   ]
  },
  {
   "cell_type": "code",
   "execution_count": 33,
   "metadata": {},
   "outputs": [],
   "source": [
    "#!pip install pingouin"
   ]
  },
  {
   "cell_type": "code",
   "execution_count": 34,
   "metadata": {},
   "outputs": [],
   "source": [
    "np.random.seed(20)\n",
    "#Creamos un dataset de 7 variables, por ejemplo\n",
    "df = pd.DataFrame({'x1':np.random.normal(size=50),\n",
    "                   'x2': np.random.normal(size=50),\n",
    "                   'x3': np.random.normal(size=50),\n",
    "                   'x4': np.random.normal(size=50),\n",
    "                   'x5': np.random.normal(size=50),\n",
    "                   'x6': np.random.normal(size=50),\n",
    "                   'x7': np.random.normal(size=50)})"
   ]
  },
  {
   "cell_type": "code",
   "execution_count": 35,
   "metadata": {},
   "outputs": [
    {
     "data": {
      "text/html": [
       "<div>\n",
       "<style scoped>\n",
       "    .dataframe tbody tr th:only-of-type {\n",
       "        vertical-align: middle;\n",
       "    }\n",
       "\n",
       "    .dataframe tbody tr th {\n",
       "        vertical-align: top;\n",
       "    }\n",
       "\n",
       "    .dataframe thead th {\n",
       "        text-align: right;\n",
       "    }\n",
       "</style>\n",
       "<table border=\"1\" class=\"dataframe\">\n",
       "  <thead>\n",
       "    <tr style=\"text-align: right;\">\n",
       "      <th></th>\n",
       "      <th>x1</th>\n",
       "      <th>x2</th>\n",
       "      <th>x3</th>\n",
       "      <th>x4</th>\n",
       "      <th>x5</th>\n",
       "      <th>x6</th>\n",
       "      <th>x7</th>\n",
       "    </tr>\n",
       "  </thead>\n",
       "  <tbody>\n",
       "    <tr>\n",
       "      <th>0</th>\n",
       "      <td>0.883893</td>\n",
       "      <td>0.493437</td>\n",
       "      <td>-0.532079</td>\n",
       "      <td>0.609918</td>\n",
       "      <td>-1.503978</td>\n",
       "      <td>1.055364</td>\n",
       "      <td>1.020865</td>\n",
       "    </tr>\n",
       "    <tr>\n",
       "      <th>1</th>\n",
       "      <td>0.195865</td>\n",
       "      <td>-2.704365</td>\n",
       "      <td>1.125759</td>\n",
       "      <td>-0.077228</td>\n",
       "      <td>1.313968</td>\n",
       "      <td>1.115293</td>\n",
       "      <td>1.971922</td>\n",
       "    </tr>\n",
       "    <tr>\n",
       "      <th>2</th>\n",
       "      <td>0.357537</td>\n",
       "      <td>-0.555186</td>\n",
       "      <td>0.218658</td>\n",
       "      <td>-1.941266</td>\n",
       "      <td>-0.030126</td>\n",
       "      <td>1.801006</td>\n",
       "      <td>1.140799</td>\n",
       "    </tr>\n",
       "    <tr>\n",
       "      <th>3</th>\n",
       "      <td>-2.343262</td>\n",
       "      <td>0.001509</td>\n",
       "      <td>-0.392882</td>\n",
       "      <td>0.341435</td>\n",
       "      <td>0.635013</td>\n",
       "      <td>-0.194419</td>\n",
       "      <td>0.129755</td>\n",
       "    </tr>\n",
       "    <tr>\n",
       "      <th>4</th>\n",
       "      <td>-1.084833</td>\n",
       "      <td>0.857094</td>\n",
       "      <td>-0.228697</td>\n",
       "      <td>1.862855</td>\n",
       "      <td>0.502435</td>\n",
       "      <td>-0.842187</td>\n",
       "      <td>2.040052</td>\n",
       "    </tr>\n",
       "    <tr>\n",
       "      <th>5</th>\n",
       "      <td>0.559696</td>\n",
       "      <td>1.481144</td>\n",
       "      <td>-1.576255</td>\n",
       "      <td>-0.295230</td>\n",
       "      <td>1.161966</td>\n",
       "      <td>-1.148175</td>\n",
       "      <td>0.416027</td>\n",
       "    </tr>\n",
       "    <tr>\n",
       "      <th>6</th>\n",
       "      <td>0.939469</td>\n",
       "      <td>-0.219661</td>\n",
       "      <td>0.165833</td>\n",
       "      <td>0.478317</td>\n",
       "      <td>-0.305748</td>\n",
       "      <td>-0.831544</td>\n",
       "      <td>0.430901</td>\n",
       "    </tr>\n",
       "    <tr>\n",
       "      <th>7</th>\n",
       "      <td>-0.978481</td>\n",
       "      <td>1.503398</td>\n",
       "      <td>0.788797</td>\n",
       "      <td>-0.715190</td>\n",
       "      <td>1.712283</td>\n",
       "      <td>-0.672747</td>\n",
       "      <td>1.474986</td>\n",
       "    </tr>\n",
       "    <tr>\n",
       "      <th>8</th>\n",
       "      <td>0.503097</td>\n",
       "      <td>-1.482385</td>\n",
       "      <td>-1.961892</td>\n",
       "      <td>1.237293</td>\n",
       "      <td>1.169437</td>\n",
       "      <td>0.670116</td>\n",
       "      <td>1.456778</td>\n",
       "    </tr>\n",
       "    <tr>\n",
       "      <th>9</th>\n",
       "      <td>0.406414</td>\n",
       "      <td>-0.856164</td>\n",
       "      <td>-1.852038</td>\n",
       "      <td>0.840389</td>\n",
       "      <td>-0.275815</td>\n",
       "      <td>-1.148873</td>\n",
       "      <td>-1.047088</td>\n",
       "    </tr>\n",
       "    <tr>\n",
       "      <th>10</th>\n",
       "      <td>0.323461</td>\n",
       "      <td>-0.828693</td>\n",
       "      <td>1.091887</td>\n",
       "      <td>0.724127</td>\n",
       "      <td>-2.511781</td>\n",
       "      <td>-0.267907</td>\n",
       "      <td>-1.542664</td>\n",
       "    </tr>\n",
       "    <tr>\n",
       "      <th>11</th>\n",
       "      <td>-0.493411</td>\n",
       "      <td>0.114048</td>\n",
       "      <td>0.934591</td>\n",
       "      <td>-0.180159</td>\n",
       "      <td>-0.417272</td>\n",
       "      <td>-0.951563</td>\n",
       "      <td>1.004080</td>\n",
       "    </tr>\n",
       "    <tr>\n",
       "      <th>12</th>\n",
       "      <td>-0.792017</td>\n",
       "      <td>0.527728</td>\n",
       "      <td>-0.711786</td>\n",
       "      <td>0.152579</td>\n",
       "      <td>0.541572</td>\n",
       "      <td>-1.570069</td>\n",
       "      <td>-0.898307</td>\n",
       "    </tr>\n",
       "    <tr>\n",
       "      <th>13</th>\n",
       "      <td>-0.842368</td>\n",
       "      <td>0.155838</td>\n",
       "      <td>1.443083</td>\n",
       "      <td>1.229943</td>\n",
       "      <td>-0.145107</td>\n",
       "      <td>0.985980</td>\n",
       "      <td>0.735202</td>\n",
       "    </tr>\n",
       "    <tr>\n",
       "      <th>14</th>\n",
       "      <td>-1.279503</td>\n",
       "      <td>1.301429</td>\n",
       "      <td>0.752313</td>\n",
       "      <td>0.272077</td>\n",
       "      <td>-1.021583</td>\n",
       "      <td>0.923978</td>\n",
       "      <td>1.524773</td>\n",
       "    </tr>\n",
       "    <tr>\n",
       "      <th>15</th>\n",
       "      <td>0.245715</td>\n",
       "      <td>-0.994802</td>\n",
       "      <td>-1.334921</td>\n",
       "      <td>0.075074</td>\n",
       "      <td>0.472278</td>\n",
       "      <td>-1.601381</td>\n",
       "      <td>1.206788</td>\n",
       "    </tr>\n",
       "    <tr>\n",
       "      <th>16</th>\n",
       "      <td>-0.044195</td>\n",
       "      <td>2.094665</td>\n",
       "      <td>0.676640</td>\n",
       "      <td>0.086819</td>\n",
       "      <td>-0.708124</td>\n",
       "      <td>-0.296775</td>\n",
       "      <td>1.095632</td>\n",
       "    </tr>\n",
       "    <tr>\n",
       "      <th>17</th>\n",
       "      <td>1.567633</td>\n",
       "      <td>0.359429</td>\n",
       "      <td>0.831106</td>\n",
       "      <td>-2.515354</td>\n",
       "      <td>1.414139</td>\n",
       "      <td>1.189368</td>\n",
       "      <td>0.579445</td>\n",
       "    </tr>\n",
       "    <tr>\n",
       "      <th>18</th>\n",
       "      <td>1.051109</td>\n",
       "      <td>0.691002</td>\n",
       "      <td>-0.365057</td>\n",
       "      <td>1.850044</td>\n",
       "      <td>-0.490533</td>\n",
       "      <td>-0.333301</td>\n",
       "      <td>0.371401</td>\n",
       "    </tr>\n",
       "    <tr>\n",
       "      <th>19</th>\n",
       "      <td>0.406368</td>\n",
       "      <td>-1.485720</td>\n",
       "      <td>0.496770</td>\n",
       "      <td>-0.175806</td>\n",
       "      <td>1.181171</td>\n",
       "      <td>0.928362</td>\n",
       "      <td>0.439585</td>\n",
       "    </tr>\n",
       "    <tr>\n",
       "      <th>20</th>\n",
       "      <td>-0.168646</td>\n",
       "      <td>0.098789</td>\n",
       "      <td>0.289559</td>\n",
       "      <td>0.903463</td>\n",
       "      <td>-0.046925</td>\n",
       "      <td>-0.722238</td>\n",
       "      <td>1.090845</td>\n",
       "    </tr>\n",
       "    <tr>\n",
       "      <th>21</th>\n",
       "      <td>-3.189703</td>\n",
       "      <td>-0.228321</td>\n",
       "      <td>-0.470209</td>\n",
       "      <td>-1.545159</td>\n",
       "      <td>-1.460106</td>\n",
       "      <td>2.121713</td>\n",
       "      <td>0.036926</td>\n",
       "    </tr>\n",
       "    <tr>\n",
       "      <th>22</th>\n",
       "      <td>1.120132</td>\n",
       "      <td>-0.854775</td>\n",
       "      <td>1.605993</td>\n",
       "      <td>1.441478</td>\n",
       "      <td>-0.508191</td>\n",
       "      <td>-0.691624</td>\n",
       "      <td>1.118837</td>\n",
       "    </tr>\n",
       "    <tr>\n",
       "      <th>23</th>\n",
       "      <td>1.332778</td>\n",
       "      <td>-0.513145</td>\n",
       "      <td>-0.153662</td>\n",
       "      <td>0.268832</td>\n",
       "      <td>-0.495216</td>\n",
       "      <td>0.395538</td>\n",
       "      <td>-0.308464</td>\n",
       "    </tr>\n",
       "    <tr>\n",
       "      <th>24</th>\n",
       "      <td>-0.243339</td>\n",
       "      <td>-0.962216</td>\n",
       "      <td>-1.786169</td>\n",
       "      <td>0.429054</td>\n",
       "      <td>0.761786</td>\n",
       "      <td>-0.371908</td>\n",
       "      <td>0.804295</td>\n",
       "    </tr>\n",
       "    <tr>\n",
       "      <th>25</th>\n",
       "      <td>-0.130031</td>\n",
       "      <td>-0.482451</td>\n",
       "      <td>-0.111657</td>\n",
       "      <td>0.436388</td>\n",
       "      <td>-1.646844</td>\n",
       "      <td>-1.039417</td>\n",
       "      <td>1.401392</td>\n",
       "    </tr>\n",
       "    <tr>\n",
       "      <th>26</th>\n",
       "      <td>-0.109017</td>\n",
       "      <td>-0.239470</td>\n",
       "      <td>1.537644</td>\n",
       "      <td>-0.438260</td>\n",
       "      <td>0.853926</td>\n",
       "      <td>0.491841</td>\n",
       "      <td>-0.346765</td>\n",
       "    </tr>\n",
       "    <tr>\n",
       "      <th>27</th>\n",
       "      <td>1.556186</td>\n",
       "      <td>0.459744</td>\n",
       "      <td>-1.031633</td>\n",
       "      <td>1.420498</td>\n",
       "      <td>-0.007960</td>\n",
       "      <td>1.003709</td>\n",
       "      <td>0.923405</td>\n",
       "    </tr>\n",
       "    <tr>\n",
       "      <th>28</th>\n",
       "      <td>0.128778</td>\n",
       "      <td>0.646430</td>\n",
       "      <td>-0.105813</td>\n",
       "      <td>1.955432</td>\n",
       "      <td>-0.889475</td>\n",
       "      <td>-0.265574</td>\n",
       "      <td>-0.115254</td>\n",
       "    </tr>\n",
       "    <tr>\n",
       "      <th>29</th>\n",
       "      <td>-2.066949</td>\n",
       "      <td>0.487403</td>\n",
       "      <td>2.009902</td>\n",
       "      <td>-0.391575</td>\n",
       "      <td>0.353508</td>\n",
       "      <td>-1.040593</td>\n",
       "      <td>-0.346647</td>\n",
       "    </tr>\n",
       "    <tr>\n",
       "      <th>30</th>\n",
       "      <td>-0.885493</td>\n",
       "      <td>0.038192</td>\n",
       "      <td>0.011231</td>\n",
       "      <td>0.120722</td>\n",
       "      <td>-0.539431</td>\n",
       "      <td>-0.164301</td>\n",
       "      <td>-0.743533</td>\n",
       "    </tr>\n",
       "    <tr>\n",
       "      <th>31</th>\n",
       "      <td>-1.104579</td>\n",
       "      <td>0.989487</td>\n",
       "      <td>-1.089429</td>\n",
       "      <td>0.414025</td>\n",
       "      <td>0.591133</td>\n",
       "      <td>0.394063</td>\n",
       "      <td>-0.924039</td>\n",
       "    </tr>\n",
       "    <tr>\n",
       "      <th>32</th>\n",
       "      <td>0.932866</td>\n",
       "      <td>0.143623</td>\n",
       "      <td>-1.514511</td>\n",
       "      <td>1.366506</td>\n",
       "      <td>-0.118293</td>\n",
       "      <td>-0.231680</td>\n",
       "      <td>-0.657647</td>\n",
       "    </tr>\n",
       "    <tr>\n",
       "      <th>33</th>\n",
       "      <td>2.059838</td>\n",
       "      <td>0.750298</td>\n",
       "      <td>-0.559761</td>\n",
       "      <td>-1.363220</td>\n",
       "      <td>-0.360473</td>\n",
       "      <td>-0.247626</td>\n",
       "      <td>-0.226964</td>\n",
       "    </tr>\n",
       "    <tr>\n",
       "      <th>34</th>\n",
       "      <td>-0.934938</td>\n",
       "      <td>-0.409571</td>\n",
       "      <td>0.841623</td>\n",
       "      <td>0.015654</td>\n",
       "      <td>-1.068632</td>\n",
       "      <td>-0.386632</td>\n",
       "      <td>-0.753531</td>\n",
       "    </tr>\n",
       "    <tr>\n",
       "      <th>35</th>\n",
       "      <td>-1.612990</td>\n",
       "      <td>1.447407</td>\n",
       "      <td>0.251553</td>\n",
       "      <td>0.904660</td>\n",
       "      <td>0.890717</td>\n",
       "      <td>0.022902</td>\n",
       "      <td>0.089493</td>\n",
       "    </tr>\n",
       "    <tr>\n",
       "      <th>36</th>\n",
       "      <td>0.527070</td>\n",
       "      <td>-0.404534</td>\n",
       "      <td>0.825185</td>\n",
       "      <td>-0.806901</td>\n",
       "      <td>0.235252</td>\n",
       "      <td>-0.712544</td>\n",
       "      <td>-0.654744</td>\n",
       "    </tr>\n",
       "    <tr>\n",
       "      <th>37</th>\n",
       "      <td>-1.551101</td>\n",
       "      <td>1.148925</td>\n",
       "      <td>1.822205</td>\n",
       "      <td>-0.706310</td>\n",
       "      <td>-0.092560</td>\n",
       "      <td>0.323522</td>\n",
       "      <td>0.170832</td>\n",
       "    </tr>\n",
       "    <tr>\n",
       "      <th>38</th>\n",
       "      <td>0.329613</td>\n",
       "      <td>-0.938910</td>\n",
       "      <td>0.338126</td>\n",
       "      <td>1.052892</td>\n",
       "      <td>-0.511063</td>\n",
       "      <td>-0.958687</td>\n",
       "      <td>1.414491</td>\n",
       "    </tr>\n",
       "    <tr>\n",
       "      <th>39</th>\n",
       "      <td>-1.136527</td>\n",
       "      <td>-1.901464</td>\n",
       "      <td>0.109063</td>\n",
       "      <td>-0.093471</td>\n",
       "      <td>0.593823</td>\n",
       "      <td>-0.333665</td>\n",
       "      <td>-1.609797</td>\n",
       "    </tr>\n",
       "    <tr>\n",
       "      <th>40</th>\n",
       "      <td>-0.338491</td>\n",
       "      <td>1.095433</td>\n",
       "      <td>0.348489</td>\n",
       "      <td>-1.438951</td>\n",
       "      <td>-0.774075</td>\n",
       "      <td>-1.163066</td>\n",
       "      <td>1.251496</td>\n",
       "    </tr>\n",
       "    <tr>\n",
       "      <th>41</th>\n",
       "      <td>0.320971</td>\n",
       "      <td>-0.333544</td>\n",
       "      <td>0.449118</td>\n",
       "      <td>-0.311269</td>\n",
       "      <td>-1.070922</td>\n",
       "      <td>0.759775</td>\n",
       "      <td>-0.391465</td>\n",
       "    </tr>\n",
       "    <tr>\n",
       "      <th>42</th>\n",
       "      <td>-0.602308</td>\n",
       "      <td>-1.441849</td>\n",
       "      <td>-1.114741</td>\n",
       "      <td>0.805669</td>\n",
       "      <td>-0.626937</td>\n",
       "      <td>0.909757</td>\n",
       "      <td>0.096761</td>\n",
       "    </tr>\n",
       "    <tr>\n",
       "      <th>43</th>\n",
       "      <td>1.544728</td>\n",
       "      <td>-1.416667</td>\n",
       "      <td>-0.923207</td>\n",
       "      <td>-0.012551</td>\n",
       "      <td>-1.077363</td>\n",
       "      <td>1.446522</td>\n",
       "      <td>1.087484</td>\n",
       "    </tr>\n",
       "    <tr>\n",
       "      <th>44</th>\n",
       "      <td>0.647034</td>\n",
       "      <td>-1.629502</td>\n",
       "      <td>0.021369</td>\n",
       "      <td>-0.260823</td>\n",
       "      <td>1.276980</td>\n",
       "      <td>-0.376858</td>\n",
       "      <td>1.146532</td>\n",
       "    </tr>\n",
       "    <tr>\n",
       "      <th>45</th>\n",
       "      <td>0.593217</td>\n",
       "      <td>-1.815256</td>\n",
       "      <td>0.594415</td>\n",
       "      <td>-0.889478</td>\n",
       "      <td>0.346461</td>\n",
       "      <td>-0.128474</td>\n",
       "      <td>0.527056</td>\n",
       "    </tr>\n",
       "    <tr>\n",
       "      <th>46</th>\n",
       "      <td>0.438024</td>\n",
       "      <td>-1.056169</td>\n",
       "      <td>1.827142</td>\n",
       "      <td>-1.615899</td>\n",
       "      <td>-0.122316</td>\n",
       "      <td>-0.477533</td>\n",
       "      <td>-1.947210</td>\n",
       "    </tr>\n",
       "    <tr>\n",
       "      <th>47</th>\n",
       "      <td>1.357789</td>\n",
       "      <td>0.554275</td>\n",
       "      <td>-1.086504</td>\n",
       "      <td>-0.851965</td>\n",
       "      <td>0.219170</td>\n",
       "      <td>-0.122202</td>\n",
       "      <td>-0.107889</td>\n",
       "    </tr>\n",
       "    <tr>\n",
       "      <th>48</th>\n",
       "      <td>1.204511</td>\n",
       "      <td>-0.950018</td>\n",
       "      <td>1.058442</td>\n",
       "      <td>-0.041180</td>\n",
       "      <td>0.143467</td>\n",
       "      <td>0.207655</td>\n",
       "      <td>0.566640</td>\n",
       "    </tr>\n",
       "    <tr>\n",
       "      <th>49</th>\n",
       "      <td>1.351796</td>\n",
       "      <td>0.857999</td>\n",
       "      <td>0.747165</td>\n",
       "      <td>-0.270327</td>\n",
       "      <td>1.434845</td>\n",
       "      <td>-0.149266</td>\n",
       "      <td>-0.776394</td>\n",
       "    </tr>\n",
       "  </tbody>\n",
       "</table>\n",
       "</div>"
      ],
      "text/plain": [
       "          x1        x2        x3        x4        x5        x6        x7\n",
       "0   0.883893  0.493437 -0.532079  0.609918 -1.503978  1.055364  1.020865\n",
       "1   0.195865 -2.704365  1.125759 -0.077228  1.313968  1.115293  1.971922\n",
       "2   0.357537 -0.555186  0.218658 -1.941266 -0.030126  1.801006  1.140799\n",
       "3  -2.343262  0.001509 -0.392882  0.341435  0.635013 -0.194419  0.129755\n",
       "4  -1.084833  0.857094 -0.228697  1.862855  0.502435 -0.842187  2.040052\n",
       "5   0.559696  1.481144 -1.576255 -0.295230  1.161966 -1.148175  0.416027\n",
       "6   0.939469 -0.219661  0.165833  0.478317 -0.305748 -0.831544  0.430901\n",
       "7  -0.978481  1.503398  0.788797 -0.715190  1.712283 -0.672747  1.474986\n",
       "8   0.503097 -1.482385 -1.961892  1.237293  1.169437  0.670116  1.456778\n",
       "9   0.406414 -0.856164 -1.852038  0.840389 -0.275815 -1.148873 -1.047088\n",
       "10  0.323461 -0.828693  1.091887  0.724127 -2.511781 -0.267907 -1.542664\n",
       "11 -0.493411  0.114048  0.934591 -0.180159 -0.417272 -0.951563  1.004080\n",
       "12 -0.792017  0.527728 -0.711786  0.152579  0.541572 -1.570069 -0.898307\n",
       "13 -0.842368  0.155838  1.443083  1.229943 -0.145107  0.985980  0.735202\n",
       "14 -1.279503  1.301429  0.752313  0.272077 -1.021583  0.923978  1.524773\n",
       "15  0.245715 -0.994802 -1.334921  0.075074  0.472278 -1.601381  1.206788\n",
       "16 -0.044195  2.094665  0.676640  0.086819 -0.708124 -0.296775  1.095632\n",
       "17  1.567633  0.359429  0.831106 -2.515354  1.414139  1.189368  0.579445\n",
       "18  1.051109  0.691002 -0.365057  1.850044 -0.490533 -0.333301  0.371401\n",
       "19  0.406368 -1.485720  0.496770 -0.175806  1.181171  0.928362  0.439585\n",
       "20 -0.168646  0.098789  0.289559  0.903463 -0.046925 -0.722238  1.090845\n",
       "21 -3.189703 -0.228321 -0.470209 -1.545159 -1.460106  2.121713  0.036926\n",
       "22  1.120132 -0.854775  1.605993  1.441478 -0.508191 -0.691624  1.118837\n",
       "23  1.332778 -0.513145 -0.153662  0.268832 -0.495216  0.395538 -0.308464\n",
       "24 -0.243339 -0.962216 -1.786169  0.429054  0.761786 -0.371908  0.804295\n",
       "25 -0.130031 -0.482451 -0.111657  0.436388 -1.646844 -1.039417  1.401392\n",
       "26 -0.109017 -0.239470  1.537644 -0.438260  0.853926  0.491841 -0.346765\n",
       "27  1.556186  0.459744 -1.031633  1.420498 -0.007960  1.003709  0.923405\n",
       "28  0.128778  0.646430 -0.105813  1.955432 -0.889475 -0.265574 -0.115254\n",
       "29 -2.066949  0.487403  2.009902 -0.391575  0.353508 -1.040593 -0.346647\n",
       "30 -0.885493  0.038192  0.011231  0.120722 -0.539431 -0.164301 -0.743533\n",
       "31 -1.104579  0.989487 -1.089429  0.414025  0.591133  0.394063 -0.924039\n",
       "32  0.932866  0.143623 -1.514511  1.366506 -0.118293 -0.231680 -0.657647\n",
       "33  2.059838  0.750298 -0.559761 -1.363220 -0.360473 -0.247626 -0.226964\n",
       "34 -0.934938 -0.409571  0.841623  0.015654 -1.068632 -0.386632 -0.753531\n",
       "35 -1.612990  1.447407  0.251553  0.904660  0.890717  0.022902  0.089493\n",
       "36  0.527070 -0.404534  0.825185 -0.806901  0.235252 -0.712544 -0.654744\n",
       "37 -1.551101  1.148925  1.822205 -0.706310 -0.092560  0.323522  0.170832\n",
       "38  0.329613 -0.938910  0.338126  1.052892 -0.511063 -0.958687  1.414491\n",
       "39 -1.136527 -1.901464  0.109063 -0.093471  0.593823 -0.333665 -1.609797\n",
       "40 -0.338491  1.095433  0.348489 -1.438951 -0.774075 -1.163066  1.251496\n",
       "41  0.320971 -0.333544  0.449118 -0.311269 -1.070922  0.759775 -0.391465\n",
       "42 -0.602308 -1.441849 -1.114741  0.805669 -0.626937  0.909757  0.096761\n",
       "43  1.544728 -1.416667 -0.923207 -0.012551 -1.077363  1.446522  1.087484\n",
       "44  0.647034 -1.629502  0.021369 -0.260823  1.276980 -0.376858  1.146532\n",
       "45  0.593217 -1.815256  0.594415 -0.889478  0.346461 -0.128474  0.527056\n",
       "46  0.438024 -1.056169  1.827142 -1.615899 -0.122316 -0.477533 -1.947210\n",
       "47  1.357789  0.554275 -1.086504 -0.851965  0.219170 -0.122202 -0.107889\n",
       "48  1.204511 -0.950018  1.058442 -0.041180  0.143467  0.207655  0.566640\n",
       "49  1.351796  0.857999  0.747165 -0.270327  1.434845 -0.149266 -0.776394"
      ]
     },
     "execution_count": 35,
     "metadata": {},
     "output_type": "execute_result"
    }
   ],
   "source": [
    "df"
   ]
  },
  {
   "cell_type": "code",
   "execution_count": 36,
   "metadata": {
    "scrolled": false
   },
   "outputs": [
    {
     "name": "stdout",
     "output_type": "stream",
     "text": [
      "x1\n",
      "stat=0.969, p=0.215\n",
      "Sample does not look Gaussian (reject H0)\n"
     ]
    },
    {
     "name": "stderr",
     "output_type": "stream",
     "text": [
      "C:\\Anaconda3\\lib\\site-packages\\seaborn\\distributions.py:2551: FutureWarning: `distplot` is a deprecated function and will be removed in a future version. Please adapt your code to use either `displot` (a figure-level function with similar flexibility) or `histplot` (an axes-level function for histograms).\n",
      "  warnings.warn(msg, FutureWarning)\n"
     ]
    },
    {
     "data": {
      "image/png": "[encoded data removed]",
      "text/plain": [
       "<Figure size 432x288 with 1 Axes>"
      ]
     },
     "metadata": {
      "needs_background": "light"
     },
     "output_type": "display_data"
    },
    {
     "name": "stdout",
     "output_type": "stream",
     "text": [
      "x2\n",
      "stat=0.989, p=0.917\n",
      "Sample looks Gaussian (fail to reject H0)\n"
     ]
    },
    {
     "name": "stderr",
     "output_type": "stream",
     "text": [
      "C:\\Anaconda3\\lib\\site-packages\\seaborn\\distributions.py:2551: FutureWarning: `distplot` is a deprecated function and will be removed in a future version. Please adapt your code to use either `displot` (a figure-level function with similar flexibility) or `histplot` (an axes-level function for histograms).\n",
      "  warnings.warn(msg, FutureWarning)\n"
     ]
    },
    {
     "data": {
      "image/png": "[encoded data removed]",
      "text/plain": [
       "<Figure size 432x288 with 1 Axes>"
      ]
     },
     "metadata": {
      "needs_background": "light"
     },
     "output_type": "display_data"
    },
    {
     "name": "stdout",
     "output_type": "stream",
     "text": [
      "x3\n",
      "stat=0.978, p=0.461\n",
      "Sample does not look Gaussian (reject H0)\n"
     ]
    },
    {
     "name": "stderr",
     "output_type": "stream",
     "text": [
      "C:\\Anaconda3\\lib\\site-packages\\seaborn\\distributions.py:2551: FutureWarning: `distplot` is a deprecated function and will be removed in a future version. Please adapt your code to use either `displot` (a figure-level function with similar flexibility) or `histplot` (an axes-level function for histograms).\n",
      "  warnings.warn(msg, FutureWarning)\n"
     ]
    },
    {
     "data": {
      "image/png": "[encoded data removed]",
      "text/plain": [
       "<Figure size 432x288 with 1 Axes>"
      ]
     },
     "metadata": {
      "needs_background": "light"
     },
     "output_type": "display_data"
    },
    {
     "name": "stderr",
     "output_type": "stream",
     "text": [
      "C:\\Anaconda3\\lib\\site-packages\\seaborn\\distributions.py:2551: FutureWarning: `distplot` is a deprecated function and will be removed in a future version. Please adapt your code to use either `displot` (a figure-level function with similar flexibility) or `histplot` (an axes-level function for histograms).\n",
      "  warnings.warn(msg, FutureWarning)\n"
     ]
    },
    {
     "name": "stdout",
     "output_type": "stream",
     "text": [
      "x4\n",
      "stat=0.982, p=0.654\n",
      "Sample looks Gaussian (fail to reject H0)\n"
     ]
    },
    {
     "data": {
      "image/png": "[encoded data removed]",
      "text/plain": [
       "<Figure size 432x288 with 1 Axes>"
      ]
     },
     "metadata": {
      "needs_background": "light"
     },
     "output_type": "display_data"
    },
    {
     "name": "stderr",
     "output_type": "stream",
     "text": [
      "C:\\Anaconda3\\lib\\site-packages\\seaborn\\distributions.py:2551: FutureWarning: `distplot` is a deprecated function and will be removed in a future version. Please adapt your code to use either `displot` (a figure-level function with similar flexibility) or `histplot` (an axes-level function for histograms).\n",
      "  warnings.warn(msg, FutureWarning)\n"
     ]
    },
    {
     "name": "stdout",
     "output_type": "stream",
     "text": [
      "x5\n",
      "stat=0.984, p=0.747\n",
      "Sample looks Gaussian (fail to reject H0)\n"
     ]
    },
    {
     "data": {
      "image/png": "[encoded data removed]",
      "text/plain": [
       "<Figure size 432x288 with 1 Axes>"
      ]
     },
     "metadata": {
      "needs_background": "light"
     },
     "output_type": "display_data"
    },
    {
     "name": "stderr",
     "output_type": "stream",
     "text": [
      "C:\\Anaconda3\\lib\\site-packages\\seaborn\\distributions.py:2551: FutureWarning: `distplot` is a deprecated function and will be removed in a future version. Please adapt your code to use either `displot` (a figure-level function with similar flexibility) or `histplot` (an axes-level function for histograms).\n",
      "  warnings.warn(msg, FutureWarning)\n"
     ]
    },
    {
     "name": "stdout",
     "output_type": "stream",
     "text": [
      "x6\n",
      "stat=0.965, p=0.140\n",
      "Sample does not look Gaussian (reject H0)\n"
     ]
    },
    {
     "data": {
      "image/png": "[encoded data removed]",
      "text/plain": [
       "<Figure size 432x288 with 1 Axes>"
      ]
     },
     "metadata": {
      "needs_background": "light"
     },
     "output_type": "display_data"
    },
    {
     "name": "stderr",
     "output_type": "stream",
     "text": [
      "C:\\Anaconda3\\lib\\site-packages\\seaborn\\distributions.py:2551: FutureWarning: `distplot` is a deprecated function and will be removed in a future version. Please adapt your code to use either `displot` (a figure-level function with similar flexibility) or `histplot` (an axes-level function for histograms).\n",
      "  warnings.warn(msg, FutureWarning)\n"
     ]
    },
    {
     "name": "stdout",
     "output_type": "stream",
     "text": [
      "x7\n",
      "stat=0.972, p=0.268\n",
      "Sample does not look Gaussian (reject H0)\n"
     ]
    },
    {
     "data": {
      "image/png": "[encoded data removed]",
      "text/plain": [
       "<Figure size 432x288 with 1 Axes>"
      ]
     },
     "metadata": {
      "needs_background": "light"
     },
     "output_type": "display_data"
    }
   ],
   "source": [
    "# Utilizando random para genera números aleatorios.\n",
    "import numpy as np # importando numpy\n",
    "from scipy import stats\n",
    "from scipy.stats import shapiro\n",
    "%matplotlib inline  \n",
    "import seaborn as sns\n",
    "import matplotlib.pyplot as plt\n",
    "for i in df.columns:\n",
    "    print(i)\n",
    "    \n",
    "    stat, p = shapiro(df[i])\n",
    "    print('stat=%.3f, p=%.3f' % (stat, p))\n",
    "    alpha = 0.5\n",
    "    if p > alpha:\n",
    "        print('Sample looks Gaussian (fail to reject H0)')\n",
    "    else:\n",
    "        print('Sample does not look Gaussian (reject H0)')\n",
    "\n",
    "    sns.distplot(df[i])\n",
    "    plt.show()\n",
    "\n",
    "#En resumen, el p-value tomara la referencia de desigualdad p > a\n",
    "# Si y solo si el estadístico así lo indica\n",
    "# La definición de la prueba de shapiro es que si el estadístico es mayor que el valor crítico\n",
    "# entonces la muestra es gaussiana, aquí estamos trabajando con la hipótesis nula (H0) de que \n",
    "# no \"sabemos\" que tipo de distribución tienen nuestros datos.\n",
    "\n",
    "# Al ser un caso \"especial\", H1 debe ser que los datos presentarán una distribución Normal"
   ]
  },
  {
   "cell_type": "code",
   "execution_count": 37,
   "metadata": {},
   "outputs": [
    {
     "data": {
      "text/plain": [
       "HZResults(hz=0.909816597562836, pval=0.5236335553569748, normal=True)"
      ]
     },
     "execution_count": 37,
     "metadata": {},
     "output_type": "execute_result"
    }
   ],
   "source": [
    "#import necessary packages\n",
    "from pingouin import multivariate_normality\n",
    "import pandas as pd\n",
    "import numpy as np\n",
    "\n",
    "#perform the Henze-Zirkler Multivariate Normality Test\n",
    "multivariate_normality(df, alpha=.05)"
   ]
  },
  {
   "cell_type": "markdown",
   "metadata": {},
   "source": [
    "Dado que el valor p de la prueba no es menor que nuestro valor alfa especificado de .05, no rechazamos la hipótesis nula. Se puede suponer que el conjunto de datos sigue una distribución normal multivariante."
   ]
  },
  {
   "cell_type": "markdown",
   "metadata": {},
   "source": [
    "---\n",
    "\n",
    "Una gráfica Q-Q (Q-Q Plot), abreviatura de gráfica \"cuantiles-cuantiles\", se usa a menudo para evaluar si un conjunto de datos proviene o no de alguna distribución teórica. \n",
    "\n",
    "En la mayoría de los casos, este tipo de gráfico se utiliza para determinar si un conjunto de datos sigue una distribución normal."
   ]
  },
  {
   "cell_type": "code",
   "execution_count": 38,
   "metadata": {},
   "outputs": [
    {
     "data": {
      "image/png": "[encoded data removed]",
      "text/plain": [
       "<Figure size 432x288 with 1 Axes>"
      ]
     },
     "metadata": {
      "needs_background": "light"
     },
     "output_type": "display_data"
    }
   ],
   "source": [
    "import statsmodels.api as sm\n",
    "import matplotlib.pyplot as plt\n",
    "\n",
    "#create Q-Q plot with 45-degree line added to plot\n",
    "fig = sm.qqplot(df['x1'], line='45')\n",
    "plt.show()"
   ]
  },
  {
   "cell_type": "markdown",
   "metadata": {},
   "source": [
    "<font color=\"red\">En una gráfica Q-Q, el eje x muestra los cuantiles teóricos. Esto significa que no muestra sus datos reales, sino que representa dónde estarían sus datos si se distribuyeran normalmente.</font>\n",
    "\n",
    "<font color=\"blue\">El eje y muestra sus datos reales. Esto significa que si los valores de los datos caen a lo largo de una línea aproximadamente recta en un ángulo de 45 grados, entonces los datos se distribuyen normalmente.</font>\n",
    "\n",
    "Podemos ver en nuestro gráfico Q-Q anterior que los valores de los datos tienden a seguir de cerca los 45 grados, lo que significa que es probable que los datos estén distribuidos normalmente. Esto no debería sorprendernos, ya que generamos los 50 valores de datos usando la función numpy.random.normal ().\n",
    "\n",
    "Considere, en cambio, si generamos un conjunto de datos de 100 valores distribuidos uniformemente y creamos una gráfica Q-Q para ese conjunto de datos:"
   ]
  },
  {
   "cell_type": "code",
   "execution_count": 39,
   "metadata": {},
   "outputs": [
    {
     "name": "stderr",
     "output_type": "stream",
     "text": [
      "C:\\Anaconda3\\lib\\site-packages\\outdated\\utils.py:18: OutdatedPackageWarning: The package outdated is out of date. Your version is 0.2.0, the latest is 0.2.1.\n",
      "Set the environment variable OUTDATED_IGNORE=1 to disable these warnings.\n",
      "  **kwargs\n",
      "C:\\Anaconda3\\lib\\site-packages\\outdated\\utils.py:18: OutdatedPackageWarning: The package pingouin is out of date. Your version is 0.3.10, the latest is 0.5.2.\n",
      "Set the environment variable OUTDATED_IGNORE=1 to disable these warnings.\n",
      "  **kwargs\n"
     ]
    },
    {
     "data": {
      "image/png": "[encoded data removed]",
      "text/plain": [
       "<Figure size 432x288 with 1 Axes>"
      ]
     },
     "metadata": {
      "needs_background": "light"
     },
     "output_type": "display_data"
    }
   ],
   "source": [
    "#Dataset de 100 valores distribuidos uniformemente\n",
    "data = np.random.uniform(0,1, 100)\n",
    "\n",
    "#genera el Q-Q plot del dataset\n",
    "fig = sm.qqplot(data, line='45')\n",
    "plt.show()"
   ]
  },
  {
   "cell_type": "markdown",
   "metadata": {},
   "source": [
    "Los valores de los datos claramente no siguen la línea roja de 45 grados, lo que es una indicación de que no siguen una distribución normal.\n",
    "\n",
    "----\n",
    "\n",
    "### Notas sobre gráficos Q-Q\n",
    "\n",
    "Tenga en cuenta las siguientes notas sobre los gráficos Q-Q:\n",
    "\n",
    "  * Aunque un gráfico Q-Q no es una prueba estadística formal, ofrece una manera fácil de verificar visualmente si un conjunto de datos se distribuye normalmente o no.\n",
    "\n"
   ]
  },
  {
   "cell_type": "code",
   "execution_count": 46,
   "metadata": {},
   "outputs": [
    {
     "data": {
      "text/plain": [
       "[<matplotlib.lines.Line2D at 0x150b1f4ef88>]"
      ]
     },
     "execution_count": 46,
     "metadata": {},
     "output_type": "execute_result"
    },
    {
     "data": {
      "image/png": "[encoded data removed]",
      "text/plain": [
       "<Figure size 720x720 with 1 Axes>"
      ]
     },
     "metadata": {},
     "output_type": "display_data"
    }
   ],
   "source": [
    "import scipy.stats as stats\n",
    "import numpy as np\n",
    "import matplotlib.pyplot as plt\n",
    "\n",
    "plt.style.use('seaborn')\n",
    "\n",
    "fig, ax = plt.subplots(1, 1, figsize=(10, 10))\n",
    "stats.probplot(df['x1'], plot=plt, fit=False)\n",
    "stats.probplot(df['x2'], plot=plt, fit=False)\n",
    "stats.probplot(df['x3'], plot=plt, fit=False)\n",
    "stats.probplot(df['x4'], plot=plt, fit=False)\n",
    "stats.probplot(df['x5'], plot=plt, fit=False)\n",
    "stats.probplot(df['x6'], plot=plt, fit=False)\n",
    "stats.probplot(df['x7'], plot=plt, fit=False)\n",
    "\n",
    "# Remove the regression lines\n",
    "ax.get_lines()[1].remove()\n",
    "\n",
    "# Change colour of scatter\n",
    "ax.get_lines()[0].set_markerfacecolor('C0')\n",
    "ax.get_lines()[1].set_markerfacecolor('C1')\n",
    "ax.get_lines()[2].set_markerfacecolor('C2')\n",
    "ax.get_lines()[3].set_markerfacecolor('C3')\n",
    "ax.get_lines()[4].set_markerfacecolor('C4')\n",
    "ax.get_lines()[5].set_markerfacecolor('C5')\n",
    "\n",
    "# Add on y=x line\n",
    "ax.plot([-3, 3], [-3, 3], c='C3')"
   ]
  },
  {
   "cell_type": "markdown",
   "metadata": {},
   "source": [
    "------\n",
    "\n",
    "## ¿Qué son los Outliers?\n",
    "\n",
    "Es interesante ver las traducciones de “outlier” -según su contexto- en inglés:\n",
    "\n",
    "  *  Atípico\n",
    "  *  Destacado\n",
    "  *  Excepcional\n",
    "  *  Anormal\n",
    "  *  Valor Extremo, Valor anómalo, valor aberrante!!\n",
    "\n",
    "Eso nos da una idea, ¿no?\n",
    "\n",
    "----\n",
    "\n",
    "Es decir, que los outliers en nuestro dataset serán los valores que se *escapan al rango en donde se concentran la mayoría de muestras*.\n",
    "\n",
    "----\n",
    "#### Detección de Outliers\n",
    "\n",
    "¿Y por qué nos interesa detectar esos Outliers? Por que pueden afectar considerablemente a los resultados que pueda obtener un modelo de Machine Learning... Para mal… ó para bien! Por eso hay que detectarlos, y tenerlos en cuenta. \n",
    "\n",
    "----\n",
    "\n",
    "Por ejemplo en Regresión Lineal ó algoritmos de Ensamble puede tener un impacto negativo en sus predicciones.\n",
    "\n",
    "\n",
    "#### Outliers Buenos vs Outliers Malos\n",
    "\n",
    "Los Outliers pueden significar varias cosas:\n",
    "\n",
    "  *  ERROR: Si tenemos un grupo de *edades de personas* y tenemos una persona con 160 años, seguramente sea un error de carga de datos. En este caso, la detección de outliers nos ayuda a detectar errores.\n",
    "  *  LIMITES: En otros casos, podemos tener valores que se escapan del *grupo medio*, pero queremos mantener el dato modificado, para que no perjudique al aprendizaje del modelo de ML.\n",
    "  *  Punto de Interés: puede que sean los casos *anómalos* los que queremos detectar y que sean nuestro objetivo (y no nuestro enemigo!)"
   ]
  },
  {
   "cell_type": "markdown",
   "metadata": {},
   "source": [
    "-----------\n",
    "\n",
    "### Outliers en 1 dimensión\n",
    "\n",
    "Si analizáramos una sola variable, por ejemplo *edad*, veremos donde se concentran la mayoría de muestras y los posibles valores *extremos*. Pasemos a un ejemplo..."
   ]
  },
  {
   "cell_type": "code",
   "execution_count": 47,
   "metadata": {},
   "outputs": [
    {
     "data": {
      "image/png": "[encoded data removed]",
      "text/plain": [
       "<Figure size 576x396 with 1 Axes>"
      ]
     },
     "metadata": {},
     "output_type": "display_data"
    }
   ],
   "source": [
    "import matplotlib.pyplot as plt\n",
    "import numpy as np\n",
    " \n",
    "edades = np.array([22,22,23,23,23,23,26,27,27,28,30,30,30,30,31,32,33,34,80])\n",
    "edad_unique, counts = np.unique(edades, return_counts=True)\n",
    " \n",
    "sizes = counts*100\n",
    "colors = ['blue']*len(edad_unique)\n",
    "colors[-1] = 'red'\n",
    " \n",
    "plt.axhline(1, color='k', linestyle='--')\n",
    "plt.scatter(edad_unique, np.ones(len(edad_unique)), s=sizes, color=colors)\n",
    "plt.yticks([])\n",
    "plt.show()"
   ]
  },
  {
   "cell_type": "markdown",
   "metadata": {},
   "source": [
    "En azul los valores donde se concentra la mayoría de nuestras filas. En rojo un outlier, ó *valor extremo*.\n",
    "\n",
    "En el código, importamos librerías, creamos un array de edades con Numpy y luego contabilizamos las ocurrencias.\n",
    "\n",
    "Al graficar vemos donde se concentran la mayoría de edades, entre 20 y 35 años. Y una muestra aislada con valor 80."
   ]
  },
  {
   "cell_type": "markdown",
   "metadata": {},
   "source": [
    "-------\n",
    "\n",
    "### Outliers en 2 Dimensiones\n",
    "\n",
    "Ahora supongamos que tenemos 2 variables: edad e ingresos. Hagamos una gráfica en 2D. Además, usaremos una fórmula para trazar un círculo que delimitará los valores outliers: Los valores que superen el valor de la *media más 2 desvíos estándar* (el área del círculo) quedarán en rojo."
   ]
  },
  {
   "cell_type": "code",
   "execution_count": 48,
   "metadata": {},
   "outputs": [
    {
     "data": {
      "image/png": "[encoded data removed]",
      "text/plain": [
       "<Figure size 576x396 with 1 Axes>"
      ]
     },
     "metadata": {},
     "output_type": "display_data"
    }
   ],
   "source": [
    "from math import pi\n",
    " \n",
    "salario_anual_miles = np.array([16,20,15,21,19,17,33,22,31,32,56,30,22,31,30,16,2,22,23])\n",
    "media = (salario_anual_miles).mean()\n",
    "std_x = (salario_anual_miles).std()*2\n",
    "media_y = (edades).mean()\n",
    "std_y = (edades).std()*2\n",
    " \n",
    "colors = ['blue']*len(salario_anual_miles)\n",
    "for index, x in enumerate(salario_anual_miles):\n",
    "    if abs(x-media) > std_x:\n",
    "        colors[index] = 'red'\n",
    "        \n",
    "for index, x in enumerate(edades):\n",
    "    if abs(x-media_y) > std_y:\n",
    "        colors[index] = 'red'\n",
    "        \n",
    "        \n",
    "        \n",
    "        \n",
    "plt.scatter(edades, salario_anual_miles, s=100, color=colors)\n",
    "plt.axhline(media, color='k', linestyle='--')\n",
    "plt.axvline(media_y, color='k', linestyle='--')\n",
    " \n",
    "v=media     #y-position of the center\n",
    "u=media_y    #x-position of the center\n",
    "b=std_x     #radius on the y-axis\n",
    "a=std_y    #radius on the x-axis\n",
    " \n",
    "t = np.linspace(0, 2*pi, 100)\n",
    "plt.plot( u+a*np.cos(t) , v+b*np.sin(t) )\n",
    " \n",
    "plt.xlabel('Edad')\n",
    "plt.ylabel('Salario Anual (miles)')\n",
    "plt.show()"
   ]
  },
  {
   "cell_type": "markdown",
   "metadata": {},
   "source": [
    "Dentro del circulo azul, los valores que están en la media y en rojo los outliers: 3 valores que superan en más de 2 veces el desvío estándar.\n",
    "\n",
    "Veamos -con la ayuda de [seaborn](https://seaborn.pydata.org/)-, la línea de tendencia de la misma distribución con y sin outliers: "
   ]
  },
  {
   "cell_type": "code",
   "execution_count": 49,
   "metadata": {},
   "outputs": [
    {
     "data": {
      "text/plain": [
       "<AxesSubplot:>"
      ]
     },
     "execution_count": 49,
     "metadata": {},
     "output_type": "execute_result"
    },
    {
     "data": {
      "image/png": "[encoded data removed]",
      "text/plain": [
       "<Figure size 576x396 with 1 Axes>"
      ]
     },
     "metadata": {},
     "output_type": "display_data"
    }
   ],
   "source": [
    "import seaborn as sns\n",
    "\n",
    "#CON OUTLIERS\n",
    "\n",
    "sns.set(color_codes=True)\n",
    "sns.regplot(x=edades, y=salario_anual_miles)"
   ]
  },
  {
   "cell_type": "code",
   "execution_count": 50,
   "metadata": {},
   "outputs": [
    {
     "data": {
      "text/plain": [
       "<AxesSubplot:>"
      ]
     },
     "execution_count": 50,
     "metadata": {},
     "output_type": "execute_result"
    },
    {
     "data": {
      "image/png": "[encoded data removed]",
      "text/plain": [
       "<Figure size 576x396 with 1 Axes>"
      ]
     },
     "metadata": {},
     "output_type": "display_data"
    }
   ],
   "source": [
    "# SIN OUTLIERS\n",
    "\n",
    "edades_fix=[]\n",
    "salario_anual_miles_fix=[]\n",
    "\n",
    "for index, x in enumerate(salario_anual_miles):\n",
    "    y= edades[index]\n",
    "    if abs(x-media) > std_x or abs(y-media_y) > std_y:\n",
    "        pass\n",
    "    else:\n",
    "        edades_fix.append(y)\n",
    "        salario_anual_miles_fix.append(x)\n",
    "        \n",
    "sns.regplot(x=np.array(edades_fix), y=np.array(salario_anual_miles_fix))"
   ]
  },
  {
   "cell_type": "markdown",
   "metadata": {},
   "source": [
    "----\n",
    "### Outliers en 3 Dimensiones"
   ]
  },
  {
   "cell_type": "code",
   "execution_count": 51,
   "metadata": {},
   "outputs": [
    {
     "name": "stderr",
     "output_type": "stream",
     "text": [
      "C:\\Anaconda3\\lib\\site-packages\\ipykernel_launcher.py:3: MatplotlibDeprecationWarning: Calling gca() with keyword arguments was deprecated in Matplotlib 3.4. Starting two minor releases later, gca() will take no keyword arguments. The gca() function should only be used to get the current axes, or if no axes exist, create new axes with default keyword arguments. To create a new axes with non-default arguments, use plt.axes() or plt.subplot().\n",
      "  This is separate from the ipykernel package so we can avoid doing imports until\n"
     ]
    },
    {
     "data": {
      "image/png": "[encoded data removed]",
      "text/plain": [
       "<Figure size 504x504 with 1 Axes>"
      ]
     },
     "metadata": {},
     "output_type": "display_data"
    }
   ],
   "source": [
    "from mpl_toolkits.mplot3d import Axes3D\n",
    "fig = plt.figure(figsize=(7,7))\n",
    "ax = fig.gca(projection='3d')\n",
    "\n",
    "compras_mes = np.array([1,2,1,20,1,0,3,2,3,0,5,3,2,1,0,1,2,2,2])\n",
    "media_z = (compras_mes).mean()\n",
    "std_z = (compras_mes).std()*2\n",
    "\n",
    "for index, x in enumerate(compras_mes):\n",
    "    if abs(x-media_z) > std_z:\n",
    "        colors[index] = 'red'\n",
    "\n",
    "ax.scatter(edades, salario_anual_miles, compras_mes, s=20, c=colors)\n",
    "plt.xlabel('Edad')\n",
    "plt.ylabel('Salario Anual (miles)')\n",
    "ax.set_zlabel('Compras mensuales')\n",
    "\n",
    "plt.show()"
   ]
  },
  {
   "cell_type": "markdown",
   "metadata": {},
   "source": [
    "-----\n",
    "### ¿Por qué necesitamos detectar valores atípicos?\n",
    "\n",
    "Los valores atípicos pueden afectar los resultados de nuestro análisis y modelado estadístico de manera drástica. Consulte la imagen a continuación para visualizar lo que le sucede a un modelo cuando hay valores atípicos presentes en comparación con cuando se han tratado:\n",
    "\n",
    "---\n",
    "\n",
    "Nuestra tendencia es utilizar métodos sencillos como diagramas de caja, histogramas y diagramas de dispersión para detectar valores atípicos. \n",
    "\n",
    "Pero los algoritmos de detección de valores atípicos dedicados son extremadamente valiosos en campos que procesan grandes cantidades de datos y requieren un medio para realizar el reconocimiento de patrones en conjuntos de datos más grandes."
   ]
  },
  {
   "cell_type": "markdown",
   "metadata": {},
   "source": [
    "------\n",
    "\n",
    "### Algoritmos de detección de valores atípicos utilizados en PyOD\n",
    "\n",
    "Veamos los algoritmos de detección de valores atípicos que impulsan PyOD. Está bien implementar PyOD, pero creo que es igualmente importante entender cómo funciona. Esto le dará más flexibilidad cuando lo use en un conjunto de datos.\n",
    "\n",
    "<font color=\"red\">Nota: utilizaremos un término puntuación periférica en esta sección. Significa que cada modelo, de alguna manera, puntúa un punto de datos que usa el valor de umbral para determinar si el punto es un valor atípico o no.</font>\n",
    "\n"
   ]
  },
  {
   "cell_type": "markdown",
   "metadata": {},
   "source": [
    "---\n",
    "---\n",
    "---\n",
    "<a id=\"f\"></a>\n",
    "<h1><center>Referencias y links de interés</center></h1>\n",
    "\n",
    "[Regreso a contenido](#contenido)\n",
    "\n",
    "---\n",
    "\n",
    "* [Información de pruebas estadísticas](https://towardsdatascience.com/statistical-tests-when-to-use-which-704557554740)\n",
    "* Prueba [Shapiro en python](https://docs.scipy.org/doc/scipy/reference/generated/scipy.stats.shapiro.html)\n",
    "* Formula de [Shapiro](https://en.wikipedia.org/wiki/Shapiro%E2%80%93Wilk_test)\n",
    "* Pruebas de [normalidad](https://towardsdatascience.com/normality-tests-in-python-31e04aa4f411)\n",
    "* Pruebas de [multinormalidad](https://www.statology.org/multivariate-normality-test-python/)\n",
    "---\n",
    "\n",
    "* M. Zhoua and Y. Shaob (2014) [A Powerful Test for Multivariate Normality](https://www.ncbi.nlm.nih.gov/pmc/articles/PMC3927875/)\n",
    "* Algunos links de interés para [pruebas de normalidad](https://www.statology.org/python-guides/)"
   ]
  },
  {
   "cell_type": "markdown",
   "metadata": {},
   "source": [
    "* Valores críticos [Shapiro-Wilk test](https://scistatcalc.blogspot.com/2013/09/critical-value-of-w-statistic.html?m=0)\n",
    "* Entendimiento de pruebas de hipótesis: [p-value y alpha](https://blog.minitab.com/en/adventures-in-statistics-2/understanding-hypothesis-tests-significance-levels-alpha-and-p-values-in-statistics)\n",
    "\n",
    "-----------\n",
    "\n",
    "* Artículo de [pruebas paramétricas robustas](https://onlinelibrary.wiley.com/doi/pdf/10.1002/art.24669)\n",
    "* S.P. Verma and A. Quiroz-Ruiz (2006) [Critical values for six Dixon tests for outliers in normal samples up to sizes 100, and applications in science and engineering](https://www.researchgate.net/publication/28113620_Critical_values_for_six_Dixon_tests_for_outliers_in_normal_samples_up_to_sizes_100_and_applications_in_science_and_engineering)\n",
    "* [Dixon Test N7 (Q)](http://www.statistics4u.com/fundstat_eng/cc_outlier_tests_dixon.html)\n",
    "\n",
    "---\n",
    "\n",
    "* Librería para detección de outliers - [PyOD](https://github.com/yzhao062/pyod)\n",
    "* Ejemplos usando [PyOD](https://www.analyticsvidhya.com/blog/2019/02/outlier-detection-python-pyod/)"
   ]
  }
 ],
 "metadata": {
  "kernelspec": {
   "display_name": "Python 3",
   "language": "python",
   "name": "python3"
  },
  "language_info": {
   "codemirror_mode": {
    "name": "ipython",
    "version": 3
   },
   "file_extension": ".py",
   "mimetype": "text/x-python",
   "name": "python",
   "nbconvert_exporter": "python",
   "pygments_lexer": "ipython3",
   "version": "3.7.6"
  }
 },
 "nbformat": 4,
 "nbformat_minor": 4
}
