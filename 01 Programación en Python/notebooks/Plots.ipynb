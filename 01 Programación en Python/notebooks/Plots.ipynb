{
 "cells": [
  {
   "cell_type": "markdown",
   "metadata": {
    "colab_type": "text",
    "id": "view-in-github"
   },
   "source": [
    "<a href=\"https://colab.research.google.com/github/DCDPUAEM/DCDP_2022/blob/main/01%20Programaci%C3%B3n%20en%20Python/notebooks/Plots.ipynb\" target=\"_parent\"><img src=\"https://colab.research.google.com/assets/colab-badge.svg\" alt=\"Open In Colab\"/></a>"
   ]
  },
  {
   "cell_type": "markdown",
   "metadata": {
    "id": "V7DFPWkNvBOY"
   },
   "source": [
    "# Matplotlib\n",
    "\n",
    "[Matplotlib](https://matplotlib.org/) es una librería para la creación de gráficas en Python, ésta contiene múltiples opciones para la creación de gráficas personalizadas.\n",
    "\n",
    "El módulo pyplot es utilizado y normalmente se utiliza el alias plt:"
   ]
  },
  {
   "cell_type": "code",
   "execution_count": null,
   "metadata": {
    "id": "g-bcYL5D6qBL"
   },
   "outputs": [],
   "source": [
    "import matplotlib.pyplot as plt"
   ]
  },
  {
   "cell_type": "markdown",
   "metadata": {
    "id": "tYjhSKye6fJI"
   },
   "source": [
    "Los principales pasos para la creación de gráficas en matplotlib son:\n",
    "\n",
    "1. Preparar los datos (Usando Python, Numpy o Pandas).\n",
    "2. Personalizar y crear la gráfica.\n",
    "3. Guardar y/o mostrar la gráfica.\n"
   ]
  },
  {
   "cell_type": "markdown",
   "metadata": {
    "id": "ibCIbZd6Lbqt"
   },
   "source": [
    "Preparar los datos:"
   ]
  },
  {
   "cell_type": "code",
   "execution_count": null,
   "metadata": {
    "id": "e0D2r9Dcu-DK"
   },
   "outputs": [],
   "source": [
    "x = [1, 2, 3, 4]\n",
    "y = [12, 15, 18, 21]"
   ]
  },
  {
   "cell_type": "markdown",
   "metadata": {
    "id": "qTDBm9AyLtZB"
   },
   "source": [
    "Crear y personalizar:"
   ]
  },
  {
   "cell_type": "code",
   "execution_count": null,
   "metadata": {
    "id": "OrT0p2hJLtdS"
   },
   "outputs": [],
   "source": [
    "plt.plot(x, y, color = 'green', linewidth = 3)"
   ]
  },
  {
   "cell_type": "markdown",
   "metadata": {
    "id": "ZHl8HvLWyzXj"
   },
   "source": [
    "Mostrar la gráfica:"
   ]
  },
  {
   "cell_type": "code",
   "execution_count": null,
   "metadata": {
    "id": "e8c4sBj3yzXj"
   },
   "outputs": [],
   "source": [
    "plt.show()"
   ]
  },
  {
   "cell_type": "markdown",
   "metadata": {
    "id": "IEPGI_ITM35c"
   },
   "source": [
    "## Principales tipos de gráficas:"
   ]
  },
  {
   "cell_type": "markdown",
   "metadata": {
    "id": "yfTLzJ66NsNm"
   },
   "source": [
    "[Línea](https://matplotlib.org/api/_as_gen/matplotlib.pyplot.plot.html#matplotlib.pyplot.plot)"
   ]
  },
  {
   "cell_type": "code",
   "execution_count": null,
   "metadata": {
    "id": "nVVK4oGnsKuR"
   },
   "outputs": [],
   "source": [
    "x  = [1, 2, 3, 4, 5, 6, 7, 8, 9]\n",
    "y1 = [1, 3, 5, 3, 1, 3, 5, 3, 1]\n",
    "y2 = [2, 4, 6, 4, 2, 4, 6, 4, 2]\n",
    "plt.plot(x, y1, label=\"A\")\n",
    "plt.plot(x, y2, label=\"B\", linestyle = '--')\n",
    "\n",
    "plt.xlabel(\"x\")\n",
    "plt.ylabel(\"y\")\n",
    "plt.title(\"Grafica de linea\")\n",
    "plt.legend()\n",
    "plt.show()"
   ]
  },
  {
   "cell_type": "markdown",
   "metadata": {
    "id": "LZdzk3AtN1bH"
   },
   "source": [
    "[Dispersión](https://matplotlib.org/api/_as_gen/matplotlib.pyplot.scatter.html#matplotlib.pyplot.scatter)"
   ]
  },
  {
   "cell_type": "code",
   "execution_count": null,
   "metadata": {
    "id": "2j37WXI2sOG6"
   },
   "outputs": [],
   "source": [
    "x1 = [2, 3, 4]\n",
    "y1 = [5, 5, 5]\n",
    "\n",
    "x2 = [1, 2, 3, 4, 5]\n",
    "y2 = [2, 3, 2, 3, 4]\n",
    "y3 = [6, 8, 7, 8, 7]\n",
    "\n",
    "plt.scatter(x1, y1)\n",
    "plt.scatter(x2, y2, marker='*', color='g')\n",
    "plt.scatter(x2, y3, marker='^', color='r')\n",
    "plt.title('Grafica de dispersion')\n",
    "plt.show()"
   ]
  },
  {
   "cell_type": "markdown",
   "metadata": {
    "id": "pvIrTfDFNyoa"
   },
   "source": [
    "[Histogramas](https://matplotlib.org/api/_as_gen/matplotlib.pyplot.hist.html#matplotlib.pyplot.hist)"
   ]
  },
  {
   "cell_type": "code",
   "execution_count": null,
   "metadata": {
    "id": "Zfo6A2_YsRv-"
   },
   "outputs": [],
   "source": [
    "import numpy as np\n",
    "\n",
    "# Use numpy to generate a bunch of random data in a bell curve around 5.\n",
    "n = np.random.randn(1000)\n",
    "\n",
    "plt.hist(n, bins=20)\n",
    "plt.title(\"Histograma\")\n",
    "plt.show()"
   ]
  },
  {
   "cell_type": "markdown",
   "metadata": {
    "id": "eP9bjPvqNubk"
   },
   "source": [
    "[Barras](https://matplotlib.org/api/_as_gen/matplotlib.pyplot.bar.html#matplotlib.pyplot.bar)"
   ]
  },
  {
   "cell_type": "code",
   "execution_count": null,
   "metadata": {
    "id": "uo0BfTEXsNlg"
   },
   "outputs": [],
   "source": [
    "# Look at index 4 and 6, which demonstrate overlapping cases.\n",
    "x1 = [1, 3, 4, 5, 6, 7, 9]\n",
    "y1 = [4, 7, 2, 4, 7, 8, 3]\n",
    "\n",
    "x2 = [2, 4, 6, 8, 10]\n",
    "y2 = [5, 6, 2, 6, 2]\n",
    "\n",
    "plt.bar(x1, y1, label=\"Azul\", color='b')\n",
    "plt.bar(x2, y2, label=\"Rojo\", color='r')\n",
    "plt.plot()\n",
    "\n",
    "plt.xlabel(\"numero\")\n",
    "plt.ylabel(\"altura\")\n",
    "plt.title(\"Grafica de barra\")\n",
    "plt.legend()\n",
    "plt.show()"
   ]
  },
  {
   "cell_type": "markdown",
   "metadata": {
    "id": "uO3ZrMAyN5PG"
   },
   "source": [
    "[Pastel](https://matplotlib.org/api/_as_gen/matplotlib.pyplot.pie.html#matplotlib.pyplot.pie)"
   ]
  },
  {
   "cell_type": "code",
   "execution_count": null,
   "metadata": {
    "id": "xnqerwkDsUeL"
   },
   "outputs": [],
   "source": [
    "labels = 'A', 'B', 'C'\n",
    "sections = [56, 66, 24]\n",
    "colors = ['c', 'g', 'y']\n",
    "\n",
    "plt.pie(sections, labels=labels, colors=colors,\n",
    "        startangle=90,\n",
    "        explode = (0, 0.1, 0),\n",
    "        autopct = '%1.2f%%')\n",
    "\n",
    "plt.axis('equal') \n",
    "plt.title('Grafica de pastel')\n",
    "plt.show()"
   ]
  },
  {
   "cell_type": "markdown",
   "metadata": {
    "id": "OyfrpXqUvOC4"
   },
   "source": [
    "[boxplot](https://matplotlib.org/api/_as_gen/matplotlib.pyplot.boxplot.html#matplotlib.pyplot.boxplot)\n",
    "\n",
    "<img src=https://miro.medium.com/max/18000/1*2c21SkzJMf3frPXPAR_gZA.png width=600>\n",
    "\n",
    "_Fuente:[understanding Boxplots](https://towardsdatascience.com/understanding-boxplots-5e2df7bcbd51)_"
   ]
  },
  {
   "cell_type": "code",
   "execution_count": null,
   "metadata": {
    "id": "2jWHARvDvOHp"
   },
   "outputs": [],
   "source": [
    "import numpy as np\n",
    "\n",
    "# una semilla fija\n",
    "np.random.seed(2)\n",
    "\n",
    "# datos aleatorios\n",
    "all_data = [np.random.normal(0, std, 100) for std in range(6, 10)]\n",
    "\n",
    "# grafica box plot\n",
    "plt.boxplot(all_data)\n",
    "plt.title('Box plot')\n",
    "\n",
    "plt.xticks([y + 1 for y in range(len(all_data))], labels=['x1', 'x2', 'x3', 'x4'])\n",
    "\n",
    "plt.show()"
   ]
  },
  {
   "cell_type": "markdown",
   "metadata": {
    "id": "Imp42HcivrXc"
   },
   "source": [
    "Muchos otros tipos de gráficas pueden ser generadas con matplotlib, visita la [página de ejemplos](https://matplotlib.org/gallery/index.html) para darte una idea."
   ]
  },
  {
   "cell_type": "markdown",
   "metadata": {
    "id": "2sL8udQYvFrG"
   },
   "source": [
    "# Seaborn\n",
    "\n",
    "[Seaborn](http://seaborn.pydata.org/) es una librería de visualización en Python que trabaja sobre matplotlib, proveyendo una interfaz de alto nivel para la creación de gráficas estilizadas."
   ]
  },
  {
   "cell_type": "markdown",
   "metadata": {
    "id": "2UPTM5kpunsP"
   },
   "source": [
    "El módulo seaborn utiliza comúnmente el alias sns:"
   ]
  },
  {
   "cell_type": "code",
   "execution_count": null,
   "metadata": {
    "id": "Yfkk_YEGvGbu"
   },
   "outputs": [],
   "source": [
    "import seaborn as sns"
   ]
  },
  {
   "cell_type": "markdown",
   "metadata": {
    "id": "-UChm_4lPkPw"
   },
   "source": [
    "Tipos de gráficas que pueden ser generadas con seaborn:\n",
    "\n",
    "* Relación, gráficas para visualizar la relación estadística de los datos.\n",
    "* Categóricas, gráficas para visualizar variables categóricas.\n",
    "* Distribución, gráficas útiles para mostrar la estructura del conjunto de datos.\n",
    "* Regresión, gráficas que son generadas usando un modelo de regresión automáticamente.\n",
    "* Matrices, gráficas para mostrar relaciones en datos en forma de matriz.\n",
    "\n",
    "Puedes visitar la [página de introducción de seaborn](http://seaborn.pydata.org/introduction.html) o la [página de la API](http://seaborn.pydata.org/api.html) para ver todos los métodos que seaborn provee."
   ]
  },
  {
   "cell_type": "markdown",
   "metadata": {
    "id": "TwxiBSCKSHq-"
   },
   "source": [
    "[Relación](http://seaborn.pydata.org/generated/seaborn.relplot.html#seaborn.relplot)"
   ]
  },
  {
   "cell_type": "code",
   "execution_count": null,
   "metadata": {
    "id": "wo3GRcGRTVrZ"
   },
   "outputs": [],
   "source": [
    "#cargar un dataset de ejemplo\n",
    "tips = sns.load_dataset(\"tips\")\n",
    "tips.head(5)"
   ]
  },
  {
   "cell_type": "code",
   "execution_count": null,
   "metadata": {
    "id": "ycDtTXLaSHv9"
   },
   "outputs": [],
   "source": [
    "sns.relplot(x=\"total_bill\", y=\"tip\", hue=\"day\", data=tips)"
   ]
  },
  {
   "cell_type": "code",
   "execution_count": null,
   "metadata": {
    "id": "GkTpkKOFT3ye"
   },
   "outputs": [],
   "source": [
    "#cargar otro dataset de ejemplo\n",
    "fmri = sns.load_dataset(\"fmri\")\n",
    "fmri.head(5)"
   ]
  },
  {
   "cell_type": "code",
   "execution_count": null,
   "metadata": {
    "id": "hvx5H-wXTvz4"
   },
   "outputs": [],
   "source": [
    "#una grafica de linea\n",
    "sns.relplot(x=\"timepoint\", y=\"signal\", hue=\"event\", style=\"event\", col=\"region\", kind=\"line\", data=fmri)"
   ]
  },
  {
   "cell_type": "markdown",
   "metadata": {
    "id": "kpjLFa2IUvyh"
   },
   "source": [
    "[Categóricas](http://seaborn.pydata.org/api.html#categorical-plots)"
   ]
  },
  {
   "cell_type": "code",
   "execution_count": null,
   "metadata": {
    "id": "0SYgDIWHYksL"
   },
   "outputs": [],
   "source": [
    "#cargar un dataset de ejemplo\n",
    "tips = sns.load_dataset(\"tips\")"
   ]
  },
  {
   "cell_type": "code",
   "execution_count": null,
   "metadata": {
    "id": "8KX6U74ZUwEA"
   },
   "outputs": [],
   "source": [
    "#dispersion por categoria\n",
    "sns.stripplot(x=\"day\", y=\"total_bill\", data=tips)"
   ]
  },
  {
   "cell_type": "code",
   "execution_count": null,
   "metadata": {
    "id": "JyGyfN5FYpwm"
   },
   "outputs": [],
   "source": [
    "#de barras\n",
    "sns.barplot(x=\"day\", y=\"total_bill\", hue=\"sex\", data=tips)"
   ]
  },
  {
   "cell_type": "code",
   "execution_count": null,
   "metadata": {
    "id": "6NCFXBVRYwE4"
   },
   "outputs": [],
   "source": [
    "#box\n",
    "sns.boxplot(x=\"day\", y=\"total_bill\", data=tips)"
   ]
  },
  {
   "cell_type": "markdown",
   "metadata": {
    "id": "FQzUSD6_Y-2h"
   },
   "source": [
    "[Distribución](http://seaborn.pydata.org/api.html#distribution-plots)"
   ]
  },
  {
   "cell_type": "code",
   "execution_count": null,
   "metadata": {
    "id": "FGJsJj2gY-8q"
   },
   "outputs": [],
   "source": [
    "import numpy as np\n",
    "\n",
    "#histograma con estimacion de la densidad\n",
    "x = np.random.randn(100)\n",
    "sns.distplot(x)"
   ]
  },
  {
   "cell_type": "markdown",
   "metadata": {
    "id": "Mx4yozp9UO37"
   },
   "source": [
    "[Regresión](http://seaborn.pydata.org/api.html#regression-plots)"
   ]
  },
  {
   "cell_type": "code",
   "execution_count": null,
   "metadata": {
    "id": "CE-9onncuwEU"
   },
   "outputs": [],
   "source": [
    "import numpy as np\n",
    "# generar datos\n",
    "num_points = 20\n",
    "\n",
    "# x es 5, 6, 7... mas un movimiento aleatorio pequeño\n",
    "x = 5 + np.arange(num_points) + np.random.randn(num_points)\n",
    "\n",
    "# y es 10, 11, 12... mas un movimiento aleatorio alto\n",
    "y = 10 + np.arange(num_points) + 6 * np.random.randn(num_points)\n",
    "\n",
    "#genera la grafica con una linea de regresion calculada automaticamente por seaborn\n",
    "sns.regplot(x, y)"
   ]
  },
  {
   "cell_type": "markdown",
   "metadata": {
    "id": "R9_Z1rpGOc6_"
   },
   "source": [
    "[Matrices](http://seaborn.pydata.org/api.html#matrix-plots)"
   ]
  },
  {
   "cell_type": "code",
   "execution_count": null,
   "metadata": {
    "id": "LJ2zD3ANOc_p"
   },
   "outputs": [],
   "source": [
    "# Cargar un set de datos de ejemplo\n",
    "flights_long = sns.load_dataset(\"flights\")\n",
    "flights = flights_long.pivot(\"month\", \"year\", \"passengers\")\n",
    "flights"
   ]
  },
  {
   "cell_type": "code",
   "execution_count": null,
   "metadata": {
    "id": "Cvl1sUmlRbWh"
   },
   "outputs": [],
   "source": [
    "# Crear un mapa de calor con seaborn\n",
    "f, ax = plt.subplots(figsize=(9, 6))\n",
    "sns.heatmap(flights, annot=True, fmt=\"d\", linewidths=.5, ax=ax)"
   ]
  },
  {
   "cell_type": "markdown",
   "metadata": {
    "id": "UTCR4H6EyOVt"
   },
   "source": [
    "Visita la [página de ejemplos](http://seaborn.pydata.org/examples/index.html) para ver una galería de gráficas que pueden ser generadas con seaborn."
   ]
  },
  {
   "cell_type": "markdown",
   "metadata": {
    "id": "RYk_szAnvEOp"
   },
   "source": [
    "# Pandas\n",
    "\n",
    "Pandas también provee algunos [métodos para la visualización](https://pandas.pydata.org/pandas-docs/stable/user_guide/visualization.html) directamente usando objetos DataFrames o Series."
   ]
  },
  {
   "cell_type": "code",
   "execution_count": null,
   "metadata": {
    "id": "HV_d0lLRSC1H"
   },
   "outputs": [],
   "source": [
    "import pandas as pd"
   ]
  },
  {
   "cell_type": "markdown",
   "metadata": {
    "id": "Bz4hq9qaR63t"
   },
   "source": [
    "Por ejemplo, una gráfica de línea usando una serie de tiempo:"
   ]
  },
  {
   "cell_type": "code",
   "execution_count": null,
   "metadata": {
    "id": "SnIB-A8wvFXY"
   },
   "outputs": [],
   "source": [
    "ts = pd.Series(np.random.randn(1000), index=pd.date_range('1/1/2000', periods=1000))\n",
    "ts = ts.cumsum()\n",
    "\n",
    "ts.plot()"
   ]
  },
  {
   "cell_type": "markdown",
   "metadata": {
    "id": "IoAEpiuiSMjW"
   },
   "source": [
    "De manera similar usando las columnas de un DataFrame:"
   ]
  },
  {
   "cell_type": "code",
   "execution_count": null,
   "metadata": {
    "id": "v64yHDHZSB54"
   },
   "outputs": [],
   "source": [
    "df = pd.DataFrame(np.random.randn(1000, 4), index=ts.index, columns=['A', 'B', 'C', 'D'])\n",
    "df = df.cumsum()\n",
    "\n",
    "plt.figure()\n",
    "\n",
    "df.plot()\n",
    "\n",
    "plt.legend(loc='best')"
   ]
  },
  {
   "cell_type": "markdown",
   "metadata": {
    "id": "fJ-jtjQ6SuiF"
   },
   "source": [
    "[Dispersión:](https://pandas.pydata.org/pandas-docs/stable/reference/api/pandas.DataFrame.plot.scatter.html#pandas.DataFrame.plot.scatter)\n"
   ]
  },
  {
   "cell_type": "code",
   "execution_count": null,
   "metadata": {
    "id": "Ud_Sf0xJSWz0"
   },
   "outputs": [],
   "source": [
    "df = pd.DataFrame([[5.1, 3.5, 0], [4.9, 3.0, 0], [7.0, 3.2, 1], [6.4, 3.2, 1], [5.9, 3.0, 2]], columns=['length', 'width', 'species'])\n",
    "df.plot.scatter(x='length', y='width', c='species', colormap='viridis')"
   ]
  },
  {
   "cell_type": "markdown",
   "metadata": {
    "id": "lwGu2UWrTK6O"
   },
   "source": [
    "[Histogramas:](https://pandas.pydata.org/pandas-docs/stable/reference/api/pandas.DataFrame.plot.hist.html#pandas.DataFrame.plot.hist)"
   ]
  },
  {
   "cell_type": "code",
   "execution_count": null,
   "metadata": {
    "id": "dS-aRUklTK-s"
   },
   "outputs": [],
   "source": [
    "df = pd.DataFrame(np.random.randn(6000), columns = ['u_0_1'])\n",
    "df['u_3_2'] = (df['u_0_1'] + 3)*2\n",
    "df.plot.hist(bins=20, alpha=0.5)"
   ]
  },
  {
   "cell_type": "markdown",
   "metadata": {
    "id": "G7r_mqi7SvFx"
   },
   "source": [
    "[Barras:](https://pandas.pydata.org/pandas-docs/stable/reference/api/pandas.DataFrame.plot.bar.html#pandas.DataFrame.plot.bar)"
   ]
  },
  {
   "cell_type": "code",
   "execution_count": null,
   "metadata": {
    "id": "5wZFrUW8SvKN"
   },
   "outputs": [],
   "source": [
    "df = pd.DataFrame({'lab':['A', 'B', 'C'], 'val':[10, 30, 20]})\n",
    "df.plot.bar(x='lab', y='val', rot=0)"
   ]
  },
  {
   "cell_type": "markdown",
   "metadata": {
    "id": "cpVZHKJoTGfT"
   },
   "source": [
    "[Pastel:](https://pandas.pydata.org/pandas-docs/stable/reference/api/pandas.DataFrame.plot.pie.html#pandas.DataFrame.plot.pie)"
   ]
  },
  {
   "cell_type": "code",
   "execution_count": null,
   "metadata": {
    "id": "eLLyZ5_JTGpP"
   },
   "outputs": [],
   "source": [
    "df = pd.DataFrame({'mass': [0.330, 4.87 , 5.97], 'radius': [2439.7, 6051.8, 6378.1]}, index=['Mercury', 'Venus', 'Earth'])\n",
    "df.plot.pie(y='mass', figsize = (7, 7))"
   ]
  },
  {
   "cell_type": "markdown",
   "metadata": {
    "id": "bDWeHFKXUo-9"
   },
   "source": [
    "[Box:](https://pandas.pydata.org/pandas-docs/stable/reference/api/pandas.DataFrame.plot.box.html#pandas.DataFrame.plot.box)"
   ]
  },
  {
   "cell_type": "code",
   "execution_count": null,
   "metadata": {
    "id": "7X0EM-tVTFsU"
   },
   "outputs": [],
   "source": [
    "df = pd.DataFrame(np.random.randn(25, 4), columns=list('ABCD'))\n",
    "df.plot.box()"
   ]
  }
 ],
 "metadata": {
  "colab": {
   "collapsed_sections": [],
   "include_colab_link": true,
   "name": "Plots.ipynb",
   "provenance": []
  },
  "kernelspec": {
   "display_name": "Python 3 (ipykernel)",
   "language": "python",
   "name": "python3"
  },
  "language_info": {
   "codemirror_mode": {
    "name": "ipython",
    "version": 3
   },
   "file_extension": ".py",
   "mimetype": "text/x-python",
   "name": "python",
   "nbconvert_exporter": "python",
   "pygments_lexer": "ipython3",
   "version": "3.7.11"
  }
 },
 "nbformat": 4,
 "nbformat_minor": 4
}
